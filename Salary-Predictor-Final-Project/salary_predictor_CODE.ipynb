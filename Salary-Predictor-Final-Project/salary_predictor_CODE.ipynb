{
 "cells": [
  {
   "cell_type": "code",
   "metadata": {
    "tags": [],
    "cell_id": "00000-4b16e6c1-d470-495a-95f2-f5e2872619ad",
    "deepnote_to_be_reexecuted": false,
    "source_hash": "587ae672",
    "execution_start": 1641856561441,
    "execution_millis": 3520,
    "deepnote_output_heights": [
     21.1875
    ],
    "deepnote_cell_type": "code"
   },
   "source": "import pandas as pd, csv\nimport seaborn as sns\nimport matplotlib.pyplot as plt\nimport numpy as np\nfrom sklearn.linear_model import LinearRegression\nfrom sklearn.metrics import r2_score\nfrom sklearn.metrics import mean_squared_error\nimport pybaseball\nfrom pybaseball import batting_stats_range\nfrom pybaseball import batting_stats\nfrom scipy import stats\nfrom sklearn.metrics import plot_confusion_matrix\nimport matplotlib.pyplot as plt",
   "execution_count": null,
   "outputs": []
  },
  {
   "cell_type": "markdown",
   "source": "# Introduction\n\nOur research question is as follows: are baseball players paid based primarily on their overall ability?\nFurthermore, can we identify which predictors beyond a player’s overall ability will increase the\ncontract they receive and how much will they get paid? The last question we had was could a\ngeneral manager use the information we gathered for the benefit of their team, potentially finding\nplayers who the market will undervalue given their overall ability? In this analysis, we will be\nfocusing on position players due to the lack of compatibility between statistics for pitchers and\nposition players.\n\n(Have also attached a pdf of the final report submitted for this class)",
   "metadata": {
    "tags": [],
    "cell_id": "00001-b7c5f23f-d9de-4697-99f6-b9e59d8fcde8",
    "deepnote_cell_type": "markdown"
   }
  },
  {
   "cell_type": "markdown",
   "source": "# Data Cleaning\n\nOur data were sourced from two primary locations. The first was Sportrac.com,\nwhich provided us with year-by-year lists of the MLB free agents and the resulting contracts they\nsigned. The second was the pybaseball package from github that gave us the statistic for every player we wanted to analyze. Combining these two sources, we were able to get data for every MLB free agent since 2012.",
   "metadata": {
    "tags": [],
    "cell_id": "00001-f30c0844-4a0d-4f06-9e89-3192be867bf8",
    "deepnote_cell_type": "markdown"
   }
  },
  {
   "cell_type": "markdown",
   "source": "### Combining free agent salaries from all years into a single dataframe",
   "metadata": {
    "tags": [],
    "cell_id": "00003-1c783e4a-15cd-40e6-badc-47b65dabcae5",
    "deepnote_cell_type": "markdown"
   }
  },
  {
   "cell_type": "code",
   "metadata": {
    "tags": [],
    "cell_id": "00003-e84eaf8c-7536-425c-a18e-7c64c806392d",
    "deepnote_to_be_reexecuted": false,
    "source_hash": "bda00ee8",
    "execution_start": 1641856564968,
    "execution_millis": 426,
    "deepnote_output_heights": [
     192
    ],
    "deepnote_cell_type": "code"
   },
   "source": "\nimport os\n\ndirectory = 'AllFAs'\n\nframes = []\n\nfor filename in os.listdir(directory):\n    free_agents = []\n\n    new_file = open(\"AllFAs/\" + filename,encoding=\"utf8\")\n\n    read_file = csv.reader(new_file)\n    for line in [x for x in read_file]:\n        if \"(minor)\" not in line[0] and \" 0 -\" not in line and \"0 -\" not in line and \"-\" not in line and \"P\" not in \\\n                line[1]:\n            name = line[0]\n            aav = line[9]\n            free_agents += [[name] + line[1:9] + [aav] + [int(filename[-8:-4])]]\n    frames += free_agents\n\ntotal_sal = pd.DataFrame(frames, columns = [\"Name\", \"Pos\", \"Age\", \"Bats\",\n                                          \"Throws\", \"Prev_Team\", \"New_Team\",\n                                          \"Length\", \"Total\", \"AAV\", \"Contract Year\"])\n\ntotal_sal[\"Season\"] = total_sal[\"Contract Year\"] - 1\n\ntotal_sal",
   "execution_count": null,
   "outputs": [
    {
     "output_type": "execute_result",
     "execution_count": 2,
     "data": {
      "application/vnd.deepnote.dataframe.v3+json": {
       "column_count": 12,
       "row_count": 511,
       "columns": [
        {
         "name": "Name",
         "dtype": "object",
         "stats": {
          "unique_count": 343,
          "nan_count": 0,
          "categories": [
           {
            "name": "Stephen Drew",
            "count": 5
           },
           {
            "name": "Mike Napoli",
            "count": 4
           },
           {
            "name": "341 others",
            "count": 502
           }
          ]
         }
        },
        {
         "name": "Pos",
         "dtype": "object",
         "stats": {
          "unique_count": 11,
          "nan_count": 0,
          "categories": [
           {
            "name": "C",
            "count": 91
           },
           {
            "name": "LF",
            "count": 78
           },
           {
            "name": "9 others",
            "count": 342
           }
          ]
         }
        },
        {
         "name": "Age",
         "dtype": "object",
         "stats": {
          "unique_count": 129,
          "nan_count": 0,
          "categories": [
           {
            "name": "32.2",
            "count": 13
           },
           {
            "name": "31.1",
            "count": 12
           },
           {
            "name": "127 others",
            "count": 486
           }
          ]
         }
        },
        {
         "name": "Bats",
         "dtype": "object",
         "stats": {
          "unique_count": 5,
          "nan_count": 0,
          "categories": [
           {
            "name": "R",
            "count": 219
           },
           {
            "name": "L",
            "count": 141
           },
           {
            "name": "3 others",
            "count": 151
           }
          ]
         }
        },
        {
         "name": "Throws",
         "dtype": "object",
         "stats": {
          "unique_count": 4,
          "nan_count": 0,
          "categories": [
           {
            "name": "R",
            "count": 367
           },
           {
            "name": "",
            "count": 85
           },
           {
            "name": "2 others",
            "count": 59
           }
          ]
         }
        },
        {
         "name": "Prev_Team",
         "dtype": "object",
         "stats": {
          "unique_count": 31,
          "nan_count": 0,
          "categories": [
           {
            "name": "NYY",
            "count": 25
           },
           {
            "name": "ATL",
            "count": 24
           },
           {
            "name": "29 others",
            "count": 462
           }
          ]
         }
        },
        {
         "name": "New_Team",
         "dtype": "object",
         "stats": {
          "unique_count": 31,
          "nan_count": 0,
          "categories": [
           {
            "name": "ATL",
            "count": 26
           },
           {
            "name": "BOS",
            "count": 23
           },
           {
            "name": "29 others",
            "count": 462
           }
          ]
         }
        },
        {
         "name": "Length",
         "dtype": "object",
         "stats": {
          "unique_count": 12,
          "nan_count": 0,
          "categories": [
           {
            "name": "1",
            "count": 349
           },
           {
            "name": "2",
            "count": 92
           },
           {
            "name": "10 others",
            "count": 70
           }
          ]
         }
        },
        {
         "name": "Total",
         "dtype": "object",
         "stats": {
          "unique_count": 193,
          "nan_count": 0,
          "categories": [
           {
            "name": "$2,000,000",
            "count": 27
           },
           {
            "name": "$1,000,000",
            "count": 26
           },
           {
            "name": "191 others",
            "count": 458
           }
          ]
         }
        },
        {
         "name": "AAV",
         "dtype": "object",
         "stats": {
          "unique_count": 171,
          "nan_count": 0,
          "categories": [
           {
            "name": "$2,000,000",
            "count": 29
           },
           {
            "name": "$1,000,000",
            "count": 27
           },
           {
            "name": "169 others",
            "count": 455
           }
          ]
         }
        },
        {
         "name": "Contract Year",
         "dtype": "int64",
         "stats": {
          "unique_count": 9,
          "nan_count": 0,
          "min": "2012",
          "max": "2020",
          "histogram": [
           {
            "bin_start": 2012,
            "bin_end": 2012.8,
            "count": 66
           },
           {
            "bin_start": 2012.8,
            "bin_end": 2013.6,
            "count": 69
           },
           {
            "bin_start": 2013.6,
            "bin_end": 2014.4,
            "count": 69
           },
           {
            "bin_start": 2014.4,
            "bin_end": 2015.2,
            "count": 57
           },
           {
            "bin_start": 2015.2,
            "bin_end": 2016,
            "count": 0
           },
           {
            "bin_start": 2016,
            "bin_end": 2016.8,
            "count": 66
           },
           {
            "bin_start": 2016.8,
            "bin_end": 2017.6,
            "count": 47
           },
           {
            "bin_start": 2017.6,
            "bin_end": 2018.4,
            "count": 40
           },
           {
            "bin_start": 2018.4,
            "bin_end": 2019.2,
            "count": 43
           },
           {
            "bin_start": 2019.2,
            "bin_end": 2020,
            "count": 54
           }
          ]
         }
        },
        {
         "name": "Season",
         "dtype": "int64",
         "stats": {
          "unique_count": 9,
          "nan_count": 0,
          "min": "2011",
          "max": "2019",
          "histogram": [
           {
            "bin_start": 2011,
            "bin_end": 2011.8,
            "count": 66
           },
           {
            "bin_start": 2011.8,
            "bin_end": 2012.6,
            "count": 69
           },
           {
            "bin_start": 2012.6,
            "bin_end": 2013.4,
            "count": 69
           },
           {
            "bin_start": 2013.4,
            "bin_end": 2014.2,
            "count": 57
           },
           {
            "bin_start": 2014.2,
            "bin_end": 2015,
            "count": 0
           },
           {
            "bin_start": 2015,
            "bin_end": 2015.8,
            "count": 66
           },
           {
            "bin_start": 2015.8,
            "bin_end": 2016.6,
            "count": 47
           },
           {
            "bin_start": 2016.6,
            "bin_end": 2017.4,
            "count": 40
           },
           {
            "bin_start": 2017.4,
            "bin_end": 2018.2,
            "count": 43
           },
           {
            "bin_start": 2018.2,
            "bin_end": 2019,
            "count": 54
           }
          ]
         }
        },
        {
         "name": "_deepnote_index_column",
         "dtype": "int64"
        }
       ],
       "rows": [
        {
         "Name": "Robinson Cano",
         "Pos": "2B",
         "Age": "31.1",
         "Bats": "L",
         "Throws": "R",
         "Prev_Team": "NYY",
         "New_Team": "SEA",
         "Length": "10",
         "Total": "$240,000,000",
         "AAV": "$24,000,000",
         "Contract Year": 2014,
         "Season": 2013,
         "_deepnote_index_column": 0
        },
        {
         "Name": "Jacoby Ellsbury",
         "Pos": "CF",
         "Age": "30.2",
         "Bats": "L",
         "Throws": "L",
         "Prev_Team": "BOS",
         "New_Team": "NYY",
         "Length": "7",
         "Total": "$153,000,000",
         "AAV": "$21,857,143",
         "Contract Year": 2014,
         "Season": 2013,
         "_deepnote_index_column": 1
        },
        {
         "Name": "Shin-Soo Choo",
         "Pos": "DH",
         "Age": "31.4",
         "Bats": "L",
         "Throws": "L",
         "Prev_Team": "CIN",
         "New_Team": "TEX",
         "Length": "7",
         "Total": "$130,000,000",
         "AAV": "$18,571,429",
         "Contract Year": 2014,
         "Season": 2013,
         "_deepnote_index_column": 2
        },
        {
         "Name": "Brian McCann",
         "Pos": "C",
         "Age": "29.8",
         "Bats": "L",
         "Throws": "R",
         "Prev_Team": "ATL",
         "New_Team": "NYY",
         "Length": "5",
         "Total": "$85,000,000",
         "AAV": "$17,000,000",
         "Contract Year": 2014,
         "Season": 2013,
         "_deepnote_index_column": 3
        },
        {
         "Name": "Curtis Granderson",
         "Pos": "LF",
         "Age": "32.7",
         "Bats": "L",
         "Throws": "R",
         "Prev_Team": "NYY",
         "New_Team": "NYM",
         "Length": "4",
         "Total": "$60,000,000",
         "AAV": "$15,000,000",
         "Contract Year": 2014,
         "Season": 2013,
         "_deepnote_index_column": 4
        },
        {
         "Name": "Jhonny Peralta",
         "Pos": "3B",
         "Age": "31.4",
         "Bats": "R",
         "Throws": "R",
         "Prev_Team": "DET",
         "New_Team": "STL",
         "Length": "4",
         "Total": "$53,000,000",
         "AAV": "$13,250,000",
         "Contract Year": 2014,
         "Season": 2013,
         "_deepnote_index_column": 5
        },
        {
         "Name": "Carlos Beltran",
         "Pos": "DH",
         "Age": "36.6",
         "Bats": "S",
         "Throws": "R",
         "Prev_Team": "STL",
         "New_Team": "NYY",
         "Length": "3",
         "Total": "$45,000,000",
         "AAV": "$15,000,000",
         "Contract Year": 2014,
         "Season": 2013,
         "_deepnote_index_column": 6
        },
        {
         "Name": "Mike Napoli",
         "Pos": "1B",
         "Age": "32.1",
         "Bats": "R",
         "Throws": "R",
         "Prev_Team": "BOS",
         "New_Team": "BOS",
         "Length": "2",
         "Total": "$32,000,000",
         "AAV": "$16,000,000",
         "Contract Year": 2014,
         "Season": 2013,
         "_deepnote_index_column": 7
        },
        {
         "Name": "Omar Infante",
         "Pos": "2B",
         "Age": "31.9",
         "Bats": "R",
         "Throws": "R",
         "Prev_Team": "DET",
         "New_Team": "KC",
         "Length": "4",
         "Total": "$30,250,000",
         "AAV": "$7,562,500",
         "Contract Year": 2014,
         "Season": 2013,
         "_deepnote_index_column": 8
        },
        {
         "Name": "Carlos Ruiz",
         "Pos": "C",
         "Age": "34.8",
         "Bats": "R",
         "Throws": "R",
         "Prev_Team": "PHI",
         "New_Team": "PHI",
         "Length": "3",
         "Total": "$26,000,000",
         "AAV": "$8,666,667",
         "Contract Year": 2014,
         "Season": 2013,
         "_deepnote_index_column": 9
        }
       ]
      },
      "text/plain": "                  Name Pos   Age Bats Throws Prev_Team New_Team Length  \\\n0        Robinson Cano  2B  31.1    L      R       NYY      SEA     10   \n1      Jacoby Ellsbury  CF  30.2    L      L       BOS      NYY      7   \n2        Shin-Soo Choo  DH  31.4    L      L       CIN      TEX      7   \n3         Brian McCann   C  29.8    L      R       ATL      NYY      5   \n4    Curtis Granderson  LF  32.7    L      R       NYY      NYM      4   \n..                 ...  ..   ...  ...    ...       ...      ...    ...   \n506       Chris Heisey  LF  31.8    R      R       WSH      WSH      1   \n507       Adam Rosales  2B  33.7    R      R        SD      OAK      1   \n508     Alexi Amarista  SS  27.7    L      R        SD      COL      1   \n509       Derek Norris   C  28.1    R      R       WSH       TB      1   \n510     Danny Espinosa  SS  30.2    S      R       LAA      SEA      1   \n\n            Total          AAV  Contract Year  Season  \n0    $240,000,000  $24,000,000           2014    2013  \n1    $153,000,000  $21,857,143           2014    2013  \n2    $130,000,000  $18,571,429           2014    2013  \n3     $85,000,000  $17,000,000           2014    2013  \n4     $60,000,000  $15,000,000           2014    2013  \n..            ...          ...            ...     ...  \n506    $1,400,000   $1,400,000           2017    2016  \n507    $1,250,000   $1,250,000           2017    2016  \n508    $1,250,000   $1,250,000           2017    2016  \n509    $1,200,000   $1,200,000           2017    2016  \n510      $535,000     $535,000           2017    2016  \n\n[511 rows x 12 columns]",
      "text/html": "<div>\n<style scoped>\n    .dataframe tbody tr th:only-of-type {\n        vertical-align: middle;\n    }\n\n    .dataframe tbody tr th {\n        vertical-align: top;\n    }\n\n    .dataframe thead th {\n        text-align: right;\n    }\n</style>\n<table border=\"1\" class=\"dataframe\">\n  <thead>\n    <tr style=\"text-align: right;\">\n      <th></th>\n      <th>Name</th>\n      <th>Pos</th>\n      <th>Age</th>\n      <th>Bats</th>\n      <th>Throws</th>\n      <th>Prev_Team</th>\n      <th>New_Team</th>\n      <th>Length</th>\n      <th>Total</th>\n      <th>AAV</th>\n      <th>Contract Year</th>\n      <th>Season</th>\n    </tr>\n  </thead>\n  <tbody>\n    <tr>\n      <th>0</th>\n      <td>Robinson Cano</td>\n      <td>2B</td>\n      <td>31.1</td>\n      <td>L</td>\n      <td>R</td>\n      <td>NYY</td>\n      <td>SEA</td>\n      <td>10</td>\n      <td>$240,000,000</td>\n      <td>$24,000,000</td>\n      <td>2014</td>\n      <td>2013</td>\n    </tr>\n    <tr>\n      <th>1</th>\n      <td>Jacoby Ellsbury</td>\n      <td>CF</td>\n      <td>30.2</td>\n      <td>L</td>\n      <td>L</td>\n      <td>BOS</td>\n      <td>NYY</td>\n      <td>7</td>\n      <td>$153,000,000</td>\n      <td>$21,857,143</td>\n      <td>2014</td>\n      <td>2013</td>\n    </tr>\n    <tr>\n      <th>2</th>\n      <td>Shin-Soo Choo</td>\n      <td>DH</td>\n      <td>31.4</td>\n      <td>L</td>\n      <td>L</td>\n      <td>CIN</td>\n      <td>TEX</td>\n      <td>7</td>\n      <td>$130,000,000</td>\n      <td>$18,571,429</td>\n      <td>2014</td>\n      <td>2013</td>\n    </tr>\n    <tr>\n      <th>3</th>\n      <td>Brian McCann</td>\n      <td>C</td>\n      <td>29.8</td>\n      <td>L</td>\n      <td>R</td>\n      <td>ATL</td>\n      <td>NYY</td>\n      <td>5</td>\n      <td>$85,000,000</td>\n      <td>$17,000,000</td>\n      <td>2014</td>\n      <td>2013</td>\n    </tr>\n    <tr>\n      <th>4</th>\n      <td>Curtis Granderson</td>\n      <td>LF</td>\n      <td>32.7</td>\n      <td>L</td>\n      <td>R</td>\n      <td>NYY</td>\n      <td>NYM</td>\n      <td>4</td>\n      <td>$60,000,000</td>\n      <td>$15,000,000</td>\n      <td>2014</td>\n      <td>2013</td>\n    </tr>\n    <tr>\n      <th>...</th>\n      <td>...</td>\n      <td>...</td>\n      <td>...</td>\n      <td>...</td>\n      <td>...</td>\n      <td>...</td>\n      <td>...</td>\n      <td>...</td>\n      <td>...</td>\n      <td>...</td>\n      <td>...</td>\n      <td>...</td>\n    </tr>\n    <tr>\n      <th>506</th>\n      <td>Chris Heisey</td>\n      <td>LF</td>\n      <td>31.8</td>\n      <td>R</td>\n      <td>R</td>\n      <td>WSH</td>\n      <td>WSH</td>\n      <td>1</td>\n      <td>$1,400,000</td>\n      <td>$1,400,000</td>\n      <td>2017</td>\n      <td>2016</td>\n    </tr>\n    <tr>\n      <th>507</th>\n      <td>Adam Rosales</td>\n      <td>2B</td>\n      <td>33.7</td>\n      <td>R</td>\n      <td>R</td>\n      <td>SD</td>\n      <td>OAK</td>\n      <td>1</td>\n      <td>$1,250,000</td>\n      <td>$1,250,000</td>\n      <td>2017</td>\n      <td>2016</td>\n    </tr>\n    <tr>\n      <th>508</th>\n      <td>Alexi Amarista</td>\n      <td>SS</td>\n      <td>27.7</td>\n      <td>L</td>\n      <td>R</td>\n      <td>SD</td>\n      <td>COL</td>\n      <td>1</td>\n      <td>$1,250,000</td>\n      <td>$1,250,000</td>\n      <td>2017</td>\n      <td>2016</td>\n    </tr>\n    <tr>\n      <th>509</th>\n      <td>Derek Norris</td>\n      <td>C</td>\n      <td>28.1</td>\n      <td>R</td>\n      <td>R</td>\n      <td>WSH</td>\n      <td>TB</td>\n      <td>1</td>\n      <td>$1,200,000</td>\n      <td>$1,200,000</td>\n      <td>2017</td>\n      <td>2016</td>\n    </tr>\n    <tr>\n      <th>510</th>\n      <td>Danny Espinosa</td>\n      <td>SS</td>\n      <td>30.2</td>\n      <td>S</td>\n      <td>R</td>\n      <td>LAA</td>\n      <td>SEA</td>\n      <td>1</td>\n      <td>$535,000</td>\n      <td>$535,000</td>\n      <td>2017</td>\n      <td>2016</td>\n    </tr>\n  </tbody>\n</table>\n<p>511 rows × 12 columns</p>\n</div>"
     },
     "metadata": {}
    }
   ]
  },
  {
   "cell_type": "code",
   "metadata": {
    "tags": [],
    "cell_id": "00003-21c22ec9-9a2b-4660-9245-f26096f54321",
    "deepnote_to_be_reexecuted": false,
    "source_hash": "118b0451",
    "execution_start": 1641856565205,
    "execution_millis": 121476,
    "deepnote_cell_type": "code"
   },
   "source": "# Retrieving batting statistics\ntotal_stats = pybaseball.batting_stats(2011, 2019, qual= 0)",
   "execution_count": null,
   "outputs": []
  },
  {
   "cell_type": "markdown",
   "source": "### Combing batting statistics with salaries for free agents to have our final dataframe",
   "metadata": {
    "tags": [],
    "cell_id": "00006-3317991f-657f-42f0-baed-c708ecfd2012",
    "deepnote_cell_type": "markdown"
   }
  },
  {
   "cell_type": "code",
   "metadata": {
    "tags": [],
    "cell_id": "00004-d8c09703-31ab-4abe-9a40-e8697b33896d",
    "deepnote_to_be_reexecuted": false,
    "source_hash": "562a74dd",
    "execution_start": 1641856686722,
    "execution_millis": 1475,
    "deepnote_cell_type": "code"
   },
   "source": "total_fa = pd.merge(total_sal, total_stats, on= [\"Name\", \"Season\"])\ntotal_fa",
   "execution_count": null,
   "outputs": [
    {
     "output_type": "execute_result",
     "execution_count": 4,
     "data": {
      "application/vnd.deepnote.dataframe.v3+json": {
       "column_count": 329,
       "row_count": 486,
       "columns": [
        {
         "name": "Name",
         "dtype": "object",
         "stats": {
          "unique_count": 323,
          "nan_count": 0,
          "categories": [
           {
            "name": "Stephen Drew",
            "count": 5
           },
           {
            "name": "Chris Young",
            "count": 5
           },
           {
            "name": "321 others",
            "count": 476
           }
          ]
         }
        },
        {
         "name": "Pos_x",
         "dtype": "object",
         "stats": {
          "unique_count": 10,
          "nan_count": 0,
          "categories": [
           {
            "name": "C",
            "count": 90
           },
           {
            "name": "LF",
            "count": 70
           },
           {
            "name": "8 others",
            "count": 326
           }
          ]
         }
        },
        {
         "name": "Age_x",
         "dtype": "object",
         "stats": {
          "unique_count": 125,
          "nan_count": 0,
          "categories": [
           {
            "name": "32.2",
            "count": 14
           },
           {
            "name": "31.1",
            "count": 12
           },
           {
            "name": "123 others",
            "count": 460
           }
          ]
         }
        },
        {
         "name": "Bats",
         "dtype": "object",
         "stats": {
          "unique_count": 5,
          "nan_count": 0,
          "categories": [
           {
            "name": "R",
            "count": 209
           },
           {
            "name": "L",
            "count": 138
           },
           {
            "name": "3 others",
            "count": 139
           }
          ]
         }
        },
        {
         "name": "Throws",
         "dtype": "object",
         "stats": {
          "unique_count": 3,
          "nan_count": 0,
          "categories": [
           {
            "name": "R",
            "count": 355
           },
           {
            "name": "",
            "count": 75
           },
           {
            "name": "L",
            "count": 56
           }
          ]
         }
        },
        {
         "name": "Prev_Team",
         "dtype": "object",
         "stats": {
          "unique_count": 30,
          "nan_count": 0,
          "categories": [
           {
            "name": "NYY",
            "count": 26
           },
           {
            "name": "ATL",
            "count": 24
           },
           {
            "name": "28 others",
            "count": 436
           }
          ]
         }
        },
        {
         "name": "New_Team",
         "dtype": "object",
         "stats": {
          "unique_count": 30,
          "nan_count": 0,
          "categories": [
           {
            "name": "ATL",
            "count": 25
           },
           {
            "name": "BOS",
            "count": 23
           },
           {
            "name": "28 others",
            "count": 438
           }
          ]
         }
        },
        {
         "name": "Length",
         "dtype": "object",
         "stats": {
          "unique_count": 11,
          "nan_count": 0,
          "categories": [
           {
            "name": "1",
            "count": 331
           },
           {
            "name": "2",
            "count": 89
           },
           {
            "name": "9 others",
            "count": 66
           }
          ]
         }
        },
        {
         "name": "Total",
         "dtype": "object",
         "stats": {
          "unique_count": 185,
          "nan_count": 0,
          "categories": [
           {
            "name": "$2,000,000",
            "count": 28
           },
           {
            "name": "$1,000,000",
            "count": 25
           },
           {
            "name": "183 others",
            "count": 433
           }
          ]
         }
        },
        {
         "name": "AAV",
         "dtype": "object",
         "stats": {
          "unique_count": 165,
          "nan_count": 0,
          "categories": [
           {
            "name": "$2,000,000",
            "count": 30
           },
           {
            "name": "$1,000,000",
            "count": 26
           },
           {
            "name": "163 others",
            "count": 430
           }
          ]
         }
        },
        {
         "name": "Contract Year",
         "dtype": "int64",
         "stats": {
          "unique_count": 9,
          "nan_count": 0,
          "min": "2012",
          "max": "2020",
          "histogram": [
           {
            "bin_start": 2012,
            "bin_end": 2012.8,
            "count": 64
           },
           {
            "bin_start": 2012.8,
            "bin_end": 2013.6,
            "count": 66
           },
           {
            "bin_start": 2013.6,
            "bin_end": 2014.4,
            "count": 61
           },
           {
            "bin_start": 2014.4,
            "bin_end": 2015.2,
            "count": 51
           },
           {
            "bin_start": 2015.2,
            "bin_end": 2016,
            "count": 0
           },
           {
            "bin_start": 2016,
            "bin_end": 2016.8,
            "count": 63
           },
           {
            "bin_start": 2016.8,
            "bin_end": 2017.6,
            "count": 46
           },
           {
            "bin_start": 2017.6,
            "bin_end": 2018.4,
            "count": 41
           },
           {
            "bin_start": 2018.4,
            "bin_end": 2019.2,
            "count": 41
           },
           {
            "bin_start": 2019.2,
            "bin_end": 2020,
            "count": 53
           }
          ]
         }
        },
        {
         "name": "Season",
         "dtype": "int64",
         "stats": {
          "unique_count": 9,
          "nan_count": 0,
          "min": "2011",
          "max": "2019",
          "histogram": [
           {
            "bin_start": 2011,
            "bin_end": 2011.8,
            "count": 64
           },
           {
            "bin_start": 2011.8,
            "bin_end": 2012.6,
            "count": 66
           },
           {
            "bin_start": 2012.6,
            "bin_end": 2013.4,
            "count": 61
           },
           {
            "bin_start": 2013.4,
            "bin_end": 2014.2,
            "count": 51
           },
           {
            "bin_start": 2014.2,
            "bin_end": 2015,
            "count": 0
           },
           {
            "bin_start": 2015,
            "bin_end": 2015.8,
            "count": 63
           },
           {
            "bin_start": 2015.8,
            "bin_end": 2016.6,
            "count": 46
           },
           {
            "bin_start": 2016.6,
            "bin_end": 2017.4,
            "count": 41
           },
           {
            "bin_start": 2017.4,
            "bin_end": 2018.2,
            "count": 41
           },
           {
            "bin_start": 2018.2,
            "bin_end": 2019,
            "count": 53
           }
          ]
         }
        },
        {
         "name": "IDfg",
         "dtype": "int64",
         "stats": {
          "unique_count": 324,
          "nan_count": 0,
          "min": "19",
          "max": "18721",
          "histogram": [
           {
            "bin_start": 19,
            "bin_end": 1889.2,
            "count": 136
           },
           {
            "bin_start": 1889.2,
            "bin_end": 3759.4,
            "count": 106
           },
           {
            "bin_start": 3759.4,
            "bin_end": 5629.6,
            "count": 96
           },
           {
            "bin_start": 5629.6,
            "bin_end": 7499.8,
            "count": 49
           },
           {
            "bin_start": 7499.8,
            "bin_end": 9370,
            "count": 48
           },
           {
            "bin_start": 9370,
            "bin_end": 11240.2,
            "count": 31
           },
           {
            "bin_start": 11240.2,
            "bin_end": 13110.4,
            "count": 14
           },
           {
            "bin_start": 13110.4,
            "bin_end": 14980.6,
            "count": 4
           },
           {
            "bin_start": 14980.6,
            "bin_end": 16850.8,
            "count": 1
           },
           {
            "bin_start": 16850.8,
            "bin_end": 18721,
            "count": 1
           }
          ]
         }
        },
        {
         "name": "Team",
         "dtype": "object",
         "stats": {
          "unique_count": 32,
          "nan_count": 0,
          "categories": [
           {
            "name": "- - -",
            "count": 122
           },
           {
            "name": "NYY",
            "count": 18
           },
           {
            "name": "30 others",
            "count": 346
           }
          ]
         }
        },
        {
         "name": "Age_y",
         "dtype": "int64",
         "stats": {
          "unique_count": 18,
          "nan_count": 0,
          "min": "25",
          "max": "43",
          "histogram": [
           {
            "bin_start": 25,
            "bin_end": 26.8,
            "count": 17
           },
           {
            "bin_start": 26.8,
            "bin_end": 28.6,
            "count": 59
           },
           {
            "bin_start": 28.6,
            "bin_end": 30.4,
            "count": 118
           },
           {
            "bin_start": 30.4,
            "bin_end": 32.2,
            "count": 124
           },
           {
            "bin_start": 32.2,
            "bin_end": 34,
            "count": 46
           },
           {
            "bin_start": 34,
            "bin_end": 35.8,
            "count": 69
           },
           {
            "bin_start": 35.8,
            "bin_end": 37.6,
            "count": 37
           },
           {
            "bin_start": 37.6,
            "bin_end": 39.4,
            "count": 10
           },
           {
            "bin_start": 39.4,
            "bin_end": 41.2,
            "count": 5
           },
           {
            "bin_start": 41.2,
            "bin_end": 43,
            "count": 1
           }
          ]
         }
        },
        {
         "name": "G",
         "dtype": "int64",
         "stats": {
          "unique_count": 135,
          "nan_count": 0,
          "min": "2",
          "max": "162",
          "histogram": [
           {
            "bin_start": 2,
            "bin_end": 18,
            "count": 6
           },
           {
            "bin_start": 18,
            "bin_end": 34,
            "count": 18
           },
           {
            "bin_start": 34,
            "bin_end": 50,
            "count": 21
           },
           {
            "bin_start": 50,
            "bin_end": 66,
            "count": 37
           },
           {
            "bin_start": 66,
            "bin_end": 82,
            "count": 44
           },
           {
            "bin_start": 82,
            "bin_end": 98,
            "count": 59
           },
           {
            "bin_start": 98,
            "bin_end": 114,
            "count": 68
           },
           {
            "bin_start": 114,
            "bin_end": 130,
            "count": 71
           },
           {
            "bin_start": 130,
            "bin_end": 146,
            "count": 80
           },
           {
            "bin_start": 146,
            "bin_end": 162,
            "count": 82
           }
          ]
         }
        },
        {
         "name": "AB",
         "dtype": "int64",
         "stats": {
          "unique_count": 339,
          "nan_count": 0,
          "min": "0",
          "max": "642",
          "histogram": [
           {
            "bin_start": 0,
            "bin_end": 64.2,
            "count": 18
           },
           {
            "bin_start": 64.2,
            "bin_end": 128.4,
            "count": 31
           },
           {
            "bin_start": 128.4,
            "bin_end": 192.60000000000002,
            "count": 57
           },
           {
            "bin_start": 192.60000000000002,
            "bin_end": 256.8,
            "count": 60
           },
           {
            "bin_start": 256.8,
            "bin_end": 321,
            "count": 53
           },
           {
            "bin_start": 321,
            "bin_end": 385.20000000000005,
            "count": 68
           },
           {
            "bin_start": 385.20000000000005,
            "bin_end": 449.40000000000003,
            "count": 58
           },
           {
            "bin_start": 449.40000000000003,
            "bin_end": 513.6,
            "count": 55
           },
           {
            "bin_start": 513.6,
            "bin_end": 577.8000000000001,
            "count": 53
           },
           {
            "bin_start": 577.8000000000001,
            "bin_end": 642,
            "count": 33
           }
          ]
         }
        },
        {
         "name": "PA",
         "dtype": "int64",
         "stats": {
          "unique_count": 342,
          "nan_count": 0,
          "min": "0",
          "max": "712",
          "histogram": [
           {
            "bin_start": 0,
            "bin_end": 71.2,
            "count": 17
           },
           {
            "bin_start": 71.2,
            "bin_end": 142.4,
            "count": 32
           },
           {
            "bin_start": 142.4,
            "bin_end": 213.60000000000002,
            "count": 52
           },
           {
            "bin_start": 213.60000000000002,
            "bin_end": 284.8,
            "count": 65
           },
           {
            "bin_start": 284.8,
            "bin_end": 356,
            "count": 50
           },
           {
            "bin_start": 356,
            "bin_end": 427.20000000000005,
            "count": 66
           },
           {
            "bin_start": 427.20000000000005,
            "bin_end": 498.40000000000003,
            "count": 56
           },
           {
            "bin_start": 498.40000000000003,
            "bin_end": 569.6,
            "count": 53
           },
           {
            "bin_start": 569.6,
            "bin_end": 640.8000000000001,
            "count": 57
           },
           {
            "bin_start": 640.8000000000001,
            "bin_end": 712,
            "count": 38
           }
          ]
         }
        },
        {
         "name": "H",
         "dtype": "int64",
         "stats": {
          "unique_count": 163,
          "nan_count": 0,
          "min": "0",
          "max": "192",
          "histogram": [
           {
            "bin_start": 0,
            "bin_end": 19.2,
            "count": 27
           },
           {
            "bin_start": 19.2,
            "bin_end": 38.4,
            "count": 51
           },
           {
            "bin_start": 38.4,
            "bin_end": 57.599999999999994,
            "count": 73
           },
           {
            "bin_start": 57.599999999999994,
            "bin_end": 76.8,
            "count": 62
           },
           {
            "bin_start": 76.8,
            "bin_end": 96,
            "count": 76
           },
           {
            "bin_start": 96,
            "bin_end": 115.19999999999999,
            "count": 58
           },
           {
            "bin_start": 115.19999999999999,
            "bin_end": 134.4,
            "count": 55
           },
           {
            "bin_start": 134.4,
            "bin_end": 153.6,
            "count": 40
           },
           {
            "bin_start": 153.6,
            "bin_end": 172.79999999999998,
            "count": 28
           },
           {
            "bin_start": 172.79999999999998,
            "bin_end": 192,
            "count": 16
           }
          ]
         }
        },
        {
         "name": "1B",
         "dtype": "int64",
         "stats": {
          "unique_count": 123,
          "nan_count": 0,
          "min": "0",
          "max": "155",
          "histogram": [
           {
            "bin_start": 0,
            "bin_end": 15.5,
            "count": 37
           },
           {
            "bin_start": 15.5,
            "bin_end": 31,
            "count": 77
           },
           {
            "bin_start": 31,
            "bin_end": 46.5,
            "count": 92
           },
           {
            "bin_start": 46.5,
            "bin_end": 62,
            "count": 87
           },
           {
            "bin_start": 62,
            "bin_end": 77.5,
            "count": 78
           },
           {
            "bin_start": 77.5,
            "bin_end": 93,
            "count": 51
           },
           {
            "bin_start": 93,
            "bin_end": 108.5,
            "count": 33
           },
           {
            "bin_start": 108.5,
            "bin_end": 124,
            "count": 19
           },
           {
            "bin_start": 124,
            "bin_end": 139.5,
            "count": 10
           },
           {
            "bin_start": 139.5,
            "bin_end": 155,
            "count": 2
           }
          ]
         }
        },
        {
         "name": "2B",
         "dtype": "int64",
         "stats": {
          "unique_count": 44,
          "nan_count": 0,
          "min": "0",
          "max": "58",
          "histogram": [
           {
            "bin_start": 0,
            "bin_end": 5.8,
            "count": 56
           },
           {
            "bin_start": 5.8,
            "bin_end": 11.6,
            "count": 100
           },
           {
            "bin_start": 11.6,
            "bin_end": 17.4,
            "count": 109
           },
           {
            "bin_start": 17.4,
            "bin_end": 23.2,
            "count": 76
           },
           {
            "bin_start": 23.2,
            "bin_end": 29,
            "count": 70
           },
           {
            "bin_start": 29,
            "bin_end": 34.8,
            "count": 49
           },
           {
            "bin_start": 34.8,
            "bin_end": 40.6,
            "count": 23
           },
           {
            "bin_start": 40.6,
            "bin_end": 46.4,
            "count": 2
           },
           {
            "bin_start": 46.4,
            "bin_end": 52.199999999999996,
            "count": 0
           },
           {
            "bin_start": 52.199999999999996,
            "bin_end": 58,
            "count": 1
           }
          ]
         }
        },
        {
         "name": "3B",
         "dtype": "int64",
         "stats": {
          "unique_count": 14,
          "nan_count": 0,
          "min": "0",
          "max": "16",
          "histogram": [
           {
            "bin_start": 0,
            "bin_end": 1.6,
            "count": 328
           },
           {
            "bin_start": 1.6,
            "bin_end": 3.2,
            "count": 109
           },
           {
            "bin_start": 3.2,
            "bin_end": 4.800000000000001,
            "count": 13
           },
           {
            "bin_start": 4.800000000000001,
            "bin_end": 6.4,
            "count": 15
           },
           {
            "bin_start": 6.4,
            "bin_end": 8,
            "count": 10
           },
           {
            "bin_start": 8,
            "bin_end": 9.600000000000001,
            "count": 6
           },
           {
            "bin_start": 9.600000000000001,
            "bin_end": 11.200000000000001,
            "count": 3
           },
           {
            "bin_start": 11.200000000000001,
            "bin_end": 12.8,
            "count": 0
           },
           {
            "bin_start": 12.8,
            "bin_end": 14.4,
            "count": 0
           },
           {
            "bin_start": 14.4,
            "bin_end": 16,
            "count": 2
           }
          ]
         }
        },
        {
         "name": "HR",
         "dtype": "int64",
         "stats": {
          "unique_count": 44,
          "nan_count": 0,
          "min": "0",
          "max": "47",
          "histogram": [
           {
            "bin_start": 0,
            "bin_end": 4.7,
            "count": 131
           },
           {
            "bin_start": 4.7,
            "bin_end": 9.4,
            "count": 113
           },
           {
            "bin_start": 9.4,
            "bin_end": 14.100000000000001,
            "count": 95
           },
           {
            "bin_start": 14.100000000000001,
            "bin_end": 18.8,
            "count": 42
           },
           {
            "bin_start": 18.8,
            "bin_end": 23.5,
            "count": 48
           },
           {
            "bin_start": 23.5,
            "bin_end": 28.200000000000003,
            "count": 29
           },
           {
            "bin_start": 28.200000000000003,
            "bin_end": 32.9,
            "count": 7
           },
           {
            "bin_start": 32.9,
            "bin_end": 37.6,
            "count": 11
           },
           {
            "bin_start": 37.6,
            "bin_end": 42.300000000000004,
            "count": 6
           },
           {
            "bin_start": 42.300000000000004,
            "bin_end": 47,
            "count": 4
           }
          ]
         }
        },
        {
         "name": "R",
         "dtype": "int64",
         "stats": {
          "unique_count": 102,
          "nan_count": 0,
          "min": "0",
          "max": "107",
          "histogram": [
           {
            "bin_start": 0,
            "bin_end": 10.7,
            "count": 40
           },
           {
            "bin_start": 10.7,
            "bin_end": 21.4,
            "count": 72
           },
           {
            "bin_start": 21.4,
            "bin_end": 32.099999999999994,
            "count": 75
           },
           {
            "bin_start": 32.099999999999994,
            "bin_end": 42.8,
            "count": 59
           },
           {
            "bin_start": 42.8,
            "bin_end": 53.5,
            "count": 77
           },
           {
            "bin_start": 53.5,
            "bin_end": 64.19999999999999,
            "count": 52
           },
           {
            "bin_start": 64.19999999999999,
            "bin_end": 74.89999999999999,
            "count": 43
           },
           {
            "bin_start": 74.89999999999999,
            "bin_end": 85.6,
            "count": 42
           },
           {
            "bin_start": 85.6,
            "bin_end": 96.3,
            "count": 15
           },
           {
            "bin_start": 96.3,
            "bin_end": 107,
            "count": 11
           }
          ]
         }
        },
        {
         "name": "RBI",
         "dtype": "int64",
         "stats": {
          "unique_count": 106,
          "nan_count": 0,
          "min": "0",
          "max": "128",
          "histogram": [
           {
            "bin_start": 0,
            "bin_end": 12.8,
            "count": 62
           },
           {
            "bin_start": 12.8,
            "bin_end": 25.6,
            "count": 92
           },
           {
            "bin_start": 25.6,
            "bin_end": 38.400000000000006,
            "count": 72
           },
           {
            "bin_start": 38.400000000000006,
            "bin_end": 51.2,
            "count": 82
           },
           {
            "bin_start": 51.2,
            "bin_end": 64,
            "count": 68
           },
           {
            "bin_start": 64,
            "bin_end": 76.80000000000001,
            "count": 52
           },
           {
            "bin_start": 76.80000000000001,
            "bin_end": 89.60000000000001,
            "count": 27
           },
           {
            "bin_start": 89.60000000000001,
            "bin_end": 102.4,
            "count": 22
           },
           {
            "bin_start": 102.4,
            "bin_end": 115.2,
            "count": 5
           },
           {
            "bin_start": 115.2,
            "bin_end": 128,
            "count": 4
           }
          ]
         }
        },
        {
         "name": "BB",
         "dtype": "int64",
         "stats": {
          "unique_count": 89,
          "nan_count": 0,
          "min": "0",
          "max": "130",
          "histogram": [
           {
            "bin_start": 0,
            "bin_end": 13,
            "count": 81
           },
           {
            "bin_start": 13,
            "bin_end": 26,
            "count": 133
           },
           {
            "bin_start": 26,
            "bin_end": 39,
            "count": 118
           },
           {
            "bin_start": 39,
            "bin_end": 52,
            "count": 74
           },
           {
            "bin_start": 52,
            "bin_end": 65,
            "count": 41
           },
           {
            "bin_start": 65,
            "bin_end": 78,
            "count": 17
           },
           {
            "bin_start": 78,
            "bin_end": 91,
            "count": 15
           },
           {
            "bin_start": 91,
            "bin_end": 104,
            "count": 3
           },
           {
            "bin_start": 104,
            "bin_end": 117,
            "count": 3
           },
           {
            "bin_start": 117,
            "bin_end": 130,
            "count": 1
           }
          ]
         }
        },
        {
         "name": "IBB",
         "dtype": "int64",
         "stats": {
          "unique_count": 18,
          "nan_count": 0,
          "min": "0",
          "max": "32",
          "histogram": [
           {
            "bin_start": 0,
            "bin_end": 3.2,
            "count": 398
           },
           {
            "bin_start": 3.2,
            "bin_end": 6.4,
            "count": 59
           },
           {
            "bin_start": 6.4,
            "bin_end": 9.600000000000001,
            "count": 18
           },
           {
            "bin_start": 9.600000000000001,
            "bin_end": 12.8,
            "count": 3
           },
           {
            "bin_start": 12.8,
            "bin_end": 16,
            "count": 3
           },
           {
            "bin_start": 16,
            "bin_end": 19.200000000000003,
            "count": 4
           },
           {
            "bin_start": 19.200000000000003,
            "bin_end": 22.400000000000002,
            "count": 0
           },
           {
            "bin_start": 22.400000000000002,
            "bin_end": 25.6,
            "count": 0
           },
           {
            "bin_start": 25.6,
            "bin_end": 28.8,
            "count": 0
           },
           {
            "bin_start": 28.8,
            "bin_end": 32,
            "count": 1
           }
          ]
         }
        },
        {
         "name": "SO",
         "dtype": "int64",
         "stats": {
          "unique_count": 155,
          "nan_count": 0,
          "min": "0",
          "max": "208",
          "histogram": [
           {
            "bin_start": 0,
            "bin_end": 20.8,
            "count": 31
           },
           {
            "bin_start": 20.8,
            "bin_end": 41.6,
            "count": 85
           },
           {
            "bin_start": 41.6,
            "bin_end": 62.400000000000006,
            "count": 80
           },
           {
            "bin_start": 62.400000000000006,
            "bin_end": 83.2,
            "count": 95
           },
           {
            "bin_start": 83.2,
            "bin_end": 104,
            "count": 80
           },
           {
            "bin_start": 104,
            "bin_end": 124.80000000000001,
            "count": 55
           },
           {
            "bin_start": 124.80000000000001,
            "bin_end": 145.6,
            "count": 34
           },
           {
            "bin_start": 145.6,
            "bin_end": 166.4,
            "count": 16
           },
           {
            "bin_start": 166.4,
            "bin_end": 187.20000000000002,
            "count": 7
           },
           {
            "bin_start": 187.20000000000002,
            "bin_end": 208,
            "count": 3
           }
          ]
         }
        },
        {
         "name": "HBP",
         "dtype": "int64",
         "stats": {
          "unique_count": 21,
          "nan_count": 0,
          "min": "0",
          "max": "26",
          "histogram": [
           {
            "bin_start": 0,
            "bin_end": 2.6,
            "count": 241
           },
           {
            "bin_start": 2.6,
            "bin_end": 5.2,
            "count": 139
           },
           {
            "bin_start": 5.2,
            "bin_end": 7.800000000000001,
            "count": 51
           },
           {
            "bin_start": 7.800000000000001,
            "bin_end": 10.4,
            "count": 30
           },
           {
            "bin_start": 10.4,
            "bin_end": 13,
            "count": 11
           },
           {
            "bin_start": 13,
            "bin_end": 15.600000000000001,
            "count": 7
           },
           {
            "bin_start": 15.600000000000001,
            "bin_end": 18.2,
            "count": 2
           },
           {
            "bin_start": 18.2,
            "bin_end": 20.8,
            "count": 4
           },
           {
            "bin_start": 20.8,
            "bin_end": 23.400000000000002,
            "count": 0
           },
           {
            "bin_start": 23.400000000000002,
            "bin_end": 26,
            "count": 1
           }
          ]
         }
        },
        {
         "name": "SF",
         "dtype": "int64",
         "stats": {
          "unique_count": 11,
          "nan_count": 0,
          "min": "0",
          "max": "10",
          "histogram": [
           {
            "bin_start": 0,
            "bin_end": 1,
            "count": 79
           },
           {
            "bin_start": 1,
            "bin_end": 2,
            "count": 96
           },
           {
            "bin_start": 2,
            "bin_end": 3,
            "count": 92
           },
           {
            "bin_start": 3,
            "bin_end": 4,
            "count": 66
           },
           {
            "bin_start": 4,
            "bin_end": 5,
            "count": 58
           },
           {
            "bin_start": 5,
            "bin_end": 6,
            "count": 39
           },
           {
            "bin_start": 6,
            "bin_end": 7,
            "count": 24
           },
           {
            "bin_start": 7,
            "bin_end": 8,
            "count": 14
           },
           {
            "bin_start": 8,
            "bin_end": 9,
            "count": 8
           },
           {
            "bin_start": 9,
            "bin_end": 10,
            "count": 10
           }
          ]
         }
        },
        {
         "name": "SH",
         "dtype": "int64",
         "stats": {
          "unique_count": 14,
          "nan_count": 0,
          "min": "0",
          "max": "19",
          "histogram": [
           {
            "bin_start": 0,
            "bin_end": 1.9,
            "count": 370
           },
           {
            "bin_start": 1.9,
            "bin_end": 3.8,
            "count": 69
           },
           {
            "bin_start": 3.8,
            "bin_end": 5.699999999999999,
            "count": 25
           },
           {
            "bin_start": 5.699999999999999,
            "bin_end": 7.6,
            "count": 13
           },
           {
            "bin_start": 7.6,
            "bin_end": 9.5,
            "count": 5
           },
           {
            "bin_start": 9.5,
            "bin_end": 11.399999999999999,
            "count": 2
           },
           {
            "bin_start": 11.399999999999999,
            "bin_end": 13.299999999999999,
            "count": 0
           },
           {
            "bin_start": 13.299999999999999,
            "bin_end": 15.2,
            "count": 0
           },
           {
            "bin_start": 15.2,
            "bin_end": 17.099999999999998,
            "count": 1
           },
           {
            "bin_start": 17.099999999999998,
            "bin_end": 19,
            "count": 1
           }
          ]
         }
        },
        {
         "name": "GDP",
         "dtype": "int64",
         "stats": {
          "unique_count": 26,
          "nan_count": 0,
          "min": "0",
          "max": "29",
          "histogram": [
           {
            "bin_start": 0,
            "bin_end": 2.9,
            "count": 82
           },
           {
            "bin_start": 2.9,
            "bin_end": 5.8,
            "count": 109
           },
           {
            "bin_start": 5.8,
            "bin_end": 8.7,
            "count": 94
           },
           {
            "bin_start": 8.7,
            "bin_end": 11.6,
            "count": 86
           },
           {
            "bin_start": 11.6,
            "bin_end": 14.5,
            "count": 54
           },
           {
            "bin_start": 14.5,
            "bin_end": 17.4,
            "count": 29
           },
           {
            "bin_start": 17.4,
            "bin_end": 20.3,
            "count": 20
           },
           {
            "bin_start": 20.3,
            "bin_end": 23.2,
            "count": 9
           },
           {
            "bin_start": 23.2,
            "bin_end": 26.099999999999998,
            "count": 2
           },
           {
            "bin_start": 26.099999999999998,
            "bin_end": 29,
            "count": 1
           }
          ]
         }
        },
        {
         "name": "SB",
         "dtype": "int64",
         "stats": {
          "unique_count": 38,
          "nan_count": 0,
          "min": "0",
          "max": "52",
          "histogram": [
           {
            "bin_start": 0,
            "bin_end": 5.2,
            "count": 375
           },
           {
            "bin_start": 5.2,
            "bin_end": 10.4,
            "count": 48
           },
           {
            "bin_start": 10.4,
            "bin_end": 15.600000000000001,
            "count": 25
           },
           {
            "bin_start": 15.600000000000001,
            "bin_end": 20.8,
            "count": 12
           },
           {
            "bin_start": 20.8,
            "bin_end": 26,
            "count": 8
           },
           {
            "bin_start": 26,
            "bin_end": 31.200000000000003,
            "count": 9
           },
           {
            "bin_start": 31.200000000000003,
            "bin_end": 36.4,
            "count": 2
           },
           {
            "bin_start": 36.4,
            "bin_end": 41.6,
            "count": 2
           },
           {
            "bin_start": 41.6,
            "bin_end": 46.800000000000004,
            "count": 3
           },
           {
            "bin_start": 46.800000000000004,
            "bin_end": 52,
            "count": 2
           }
          ]
         }
        },
        {
         "name": "CS",
         "dtype": "int64",
         "stats": {
          "unique_count": 14,
          "nan_count": 0,
          "min": "0",
          "max": "17",
          "histogram": [
           {
            "bin_start": 0,
            "bin_end": 1.7,
            "count": 303
           },
           {
            "bin_start": 1.7,
            "bin_end": 3.4,
            "count": 108
           },
           {
            "bin_start": 3.4,
            "bin_end": 5.1,
            "count": 38
           },
           {
            "bin_start": 5.1,
            "bin_end": 6.8,
            "count": 13
           },
           {
            "bin_start": 6.8,
            "bin_end": 8.5,
            "count": 15
           },
           {
            "bin_start": 8.5,
            "bin_end": 10.2,
            "count": 6
           },
           {
            "bin_start": 10.2,
            "bin_end": 11.9,
            "count": 1
           },
           {
            "bin_start": 11.9,
            "bin_end": 13.6,
            "count": 1
           },
           {
            "bin_start": 13.6,
            "bin_end": 15.299999999999999,
            "count": 0
           },
           {
            "bin_start": 15.299999999999999,
            "bin_end": 17,
            "count": 1
           }
          ]
         }
        },
        {
         "name": "AVG",
         "dtype": "float64",
         "stats": {
          "unique_count": 147,
          "nan_count": 0,
          "min": "0.0",
          "max": "0.5",
          "histogram": [
           {
            "bin_start": 0,
            "bin_end": 0.05,
            "count": 1
           },
           {
            "bin_start": 0.05,
            "bin_end": 0.1,
            "count": 0
           },
           {
            "bin_start": 0.1,
            "bin_end": 0.15000000000000002,
            "count": 8
           },
           {
            "bin_start": 0.15000000000000002,
            "bin_end": 0.2,
            "count": 31
           },
           {
            "bin_start": 0.2,
            "bin_end": 0.25,
            "count": 205
           },
           {
            "bin_start": 0.25,
            "bin_end": 0.30000000000000004,
            "count": 207
           },
           {
            "bin_start": 0.30000000000000004,
            "bin_end": 0.35000000000000003,
            "count": 33
           },
           {
            "bin_start": 0.35000000000000003,
            "bin_end": 0.4,
            "count": 0
           },
           {
            "bin_start": 0.4,
            "bin_end": 0.45,
            "count": 0
           },
           {
            "bin_start": 0.45,
            "bin_end": 0.5,
            "count": 1
           }
          ]
         }
        },
        {
         "name": "GB",
         "dtype": "int64",
         "stats": {
          "unique_count": 210,
          "nan_count": 0,
          "min": "0",
          "max": "296",
          "histogram": [
           {
            "bin_start": 0,
            "bin_end": 29.6,
            "count": 33
           },
           {
            "bin_start": 29.6,
            "bin_end": 59.2,
            "count": 74
           },
           {
            "bin_start": 59.2,
            "bin_end": 88.80000000000001,
            "count": 82
           },
           {
            "bin_start": 88.80000000000001,
            "bin_end": 118.4,
            "count": 86
           },
           {
            "bin_start": 118.4,
            "bin_end": 148,
            "count": 69
           },
           {
            "bin_start": 148,
            "bin_end": 177.60000000000002,
            "count": 69
           },
           {
            "bin_start": 177.60000000000002,
            "bin_end": 207.20000000000002,
            "count": 32
           },
           {
            "bin_start": 207.20000000000002,
            "bin_end": 236.8,
            "count": 23
           },
           {
            "bin_start": 236.8,
            "bin_end": 266.40000000000003,
            "count": 15
           },
           {
            "bin_start": 266.40000000000003,
            "bin_end": 296,
            "count": 3
           }
          ]
         }
        },
        {
         "name": "FB",
         "dtype": "int64",
         "stats": {
          "unique_count": 184,
          "nan_count": 0,
          "min": "0",
          "max": "225",
          "histogram": [
           {
            "bin_start": 0,
            "bin_end": 22.5,
            "count": 31
           },
           {
            "bin_start": 22.5,
            "bin_end": 45,
            "count": 54
           },
           {
            "bin_start": 45,
            "bin_end": 67.5,
            "count": 81
           },
           {
            "bin_start": 67.5,
            "bin_end": 90,
            "count": 63
           },
           {
            "bin_start": 90,
            "bin_end": 112.5,
            "count": 68
           },
           {
            "bin_start": 112.5,
            "bin_end": 135,
            "count": 68
           },
           {
            "bin_start": 135,
            "bin_end": 157.5,
            "count": 54
           },
           {
            "bin_start": 157.5,
            "bin_end": 180,
            "count": 35
           },
           {
            "bin_start": 180,
            "bin_end": 202.5,
            "count": 27
           },
           {
            "bin_start": 202.5,
            "bin_end": 225,
            "count": 5
           }
          ]
         }
        },
        {
         "name": "LD",
         "dtype": "int64",
         "stats": {
          "unique_count": 119,
          "nan_count": 0,
          "min": "0",
          "max": "149",
          "histogram": [
           {
            "bin_start": 0,
            "bin_end": 14.9,
            "count": 37
           },
           {
            "bin_start": 14.9,
            "bin_end": 29.8,
            "count": 67
           },
           {
            "bin_start": 29.8,
            "bin_end": 44.7,
            "count": 89
           },
           {
            "bin_start": 44.7,
            "bin_end": 59.6,
            "count": 84
           },
           {
            "bin_start": 59.6,
            "bin_end": 74.5,
            "count": 71
           },
           {
            "bin_start": 74.5,
            "bin_end": 89.4,
            "count": 65
           },
           {
            "bin_start": 89.4,
            "bin_end": 104.3,
            "count": 46
           },
           {
            "bin_start": 104.3,
            "bin_end": 119.2,
            "count": 21
           },
           {
            "bin_start": 119.2,
            "bin_end": 134.1,
            "count": 1
           },
           {
            "bin_start": 134.1,
            "bin_end": 149,
            "count": 5
           }
          ]
         }
        },
        {
         "name": "IFFB",
         "dtype": "int64",
         "stats": {
          "unique_count": 34,
          "nan_count": 0,
          "min": "0",
          "max": "42",
          "histogram": [
           {
            "bin_start": 0,
            "bin_end": 4.2,
            "count": 122
           },
           {
            "bin_start": 4.2,
            "bin_end": 8.4,
            "count": 115
           },
           {
            "bin_start": 8.4,
            "bin_end": 12.600000000000001,
            "count": 92
           },
           {
            "bin_start": 12.600000000000001,
            "bin_end": 16.8,
            "count": 73
           },
           {
            "bin_start": 16.8,
            "bin_end": 21,
            "count": 36
           },
           {
            "bin_start": 21,
            "bin_end": 25.200000000000003,
            "count": 27
           },
           {
            "bin_start": 25.200000000000003,
            "bin_end": 29.400000000000002,
            "count": 10
           },
           {
            "bin_start": 29.400000000000002,
            "bin_end": 33.6,
            "count": 9
           },
           {
            "bin_start": 33.6,
            "bin_end": 37.800000000000004,
            "count": 1
           },
           {
            "bin_start": 37.800000000000004,
            "bin_end": 42,
            "count": 1
           }
          ]
         }
        },
        {
         "name": "Pitches",
         "dtype": "int64",
         "stats": {
          "unique_count": 450,
          "nan_count": 0,
          "min": "0",
          "max": "3010",
          "histogram": [
           {
            "bin_start": 0,
            "bin_end": 301,
            "count": 21
           },
           {
            "bin_start": 301,
            "bin_end": 602,
            "count": 38
           },
           {
            "bin_start": 602,
            "bin_end": 903,
            "count": 64
           },
           {
            "bin_start": 903,
            "bin_end": 1204,
            "count": 58
           },
           {
            "bin_start": 1204,
            "bin_end": 1505,
            "count": 73
           },
           {
            "bin_start": 1505,
            "bin_end": 1806,
            "count": 60
           },
           {
            "bin_start": 1806,
            "bin_end": 2107,
            "count": 61
           },
           {
            "bin_start": 2107,
            "bin_end": 2408,
            "count": 62
           },
           {
            "bin_start": 2408,
            "bin_end": 2709,
            "count": 34
           },
           {
            "bin_start": 2709,
            "bin_end": 3010,
            "count": 15
           }
          ]
         }
        },
        {
         "name": "Balls",
         "dtype": "int64",
         "stats": {
          "unique_count": 401,
          "nan_count": 0,
          "min": "0",
          "max": "1283",
          "histogram": [
           {
            "bin_start": 0,
            "bin_end": 128.3,
            "count": 28
           },
           {
            "bin_start": 128.3,
            "bin_end": 256.6,
            "count": 46
           },
           {
            "bin_start": 256.6,
            "bin_end": 384.90000000000003,
            "count": 79
           },
           {
            "bin_start": 384.90000000000003,
            "bin_end": 513.2,
            "count": 76
           },
           {
            "bin_start": 513.2,
            "bin_end": 641.5,
            "count": 75
           },
           {
            "bin_start": 641.5,
            "bin_end": 769.8000000000001,
            "count": 71
           },
           {
            "bin_start": 769.8000000000001,
            "bin_end": 898.1000000000001,
            "count": 60
           },
           {
            "bin_start": 898.1000000000001,
            "bin_end": 1026.4,
            "count": 25
           },
           {
            "bin_start": 1026.4,
            "bin_end": 1154.7,
            "count": 18
           },
           {
            "bin_start": 1154.7,
            "bin_end": 1283,
            "count": 8
           }
          ]
         }
        },
        {
         "name": "Strikes",
         "dtype": "int64",
         "stats": {
          "unique_count": 415,
          "nan_count": 0,
          "min": "0",
          "max": "1793",
          "histogram": [
           {
            "bin_start": 0,
            "bin_end": 179.3,
            "count": 20
           },
           {
            "bin_start": 179.3,
            "bin_end": 358.6,
            "count": 31
           },
           {
            "bin_start": 358.6,
            "bin_end": 537.9000000000001,
            "count": 57
           },
           {
            "bin_start": 537.9000000000001,
            "bin_end": 717.2,
            "count": 58
           },
           {
            "bin_start": 717.2,
            "bin_end": 896.5,
            "count": 62
           },
           {
            "bin_start": 896.5,
            "bin_end": 1075.8000000000002,
            "count": 62
           },
           {
            "bin_start": 1075.8000000000002,
            "bin_end": 1255.1000000000001,
            "count": 63
           },
           {
            "bin_start": 1255.1000000000001,
            "bin_end": 1434.4,
            "count": 62
           },
           {
            "bin_start": 1434.4,
            "bin_end": 1613.7,
            "count": 48
           },
           {
            "bin_start": 1613.7,
            "bin_end": 1793,
            "count": 23
           }
          ]
         }
        },
        {
         "name": "IFH",
         "dtype": "int64",
         "stats": {
          "unique_count": 28,
          "nan_count": 0,
          "min": "0",
          "max": "29",
          "histogram": [
           {
            "bin_start": 0,
            "bin_end": 2.9,
            "count": 98
           },
           {
            "bin_start": 2.9,
            "bin_end": 5.8,
            "count": 115
           },
           {
            "bin_start": 5.8,
            "bin_end": 8.7,
            "count": 125
           },
           {
            "bin_start": 8.7,
            "bin_end": 11.6,
            "count": 66
           },
           {
            "bin_start": 11.6,
            "bin_end": 14.5,
            "count": 49
           },
           {
            "bin_start": 14.5,
            "bin_end": 17.4,
            "count": 14
           },
           {
            "bin_start": 17.4,
            "bin_end": 20.3,
            "count": 8
           },
           {
            "bin_start": 20.3,
            "bin_end": 23.2,
            "count": 7
           },
           {
            "bin_start": 23.2,
            "bin_end": 26.099999999999998,
            "count": 2
           },
           {
            "bin_start": 26.099999999999998,
            "bin_end": 29,
            "count": 2
           }
          ]
         }
        },
        {
         "name": "BU",
         "dtype": "int64",
         "stats": {
          "unique_count": 24,
          "nan_count": 0,
          "min": "0",
          "max": "62",
          "histogram": [
           {
            "bin_start": 0,
            "bin_end": 6.2,
            "count": 421
           },
           {
            "bin_start": 6.2,
            "bin_end": 12.4,
            "count": 37
           },
           {
            "bin_start": 12.4,
            "bin_end": 18.6,
            "count": 21
           },
           {
            "bin_start": 18.6,
            "bin_end": 24.8,
            "count": 5
           },
           {
            "bin_start": 24.8,
            "bin_end": 31,
            "count": 1
           },
           {
            "bin_start": 31,
            "bin_end": 37.2,
            "count": 0
           },
           {
            "bin_start": 37.2,
            "bin_end": 43.4,
            "count": 0
           },
           {
            "bin_start": 43.4,
            "bin_end": 49.6,
            "count": 0
           },
           {
            "bin_start": 49.6,
            "bin_end": 55.800000000000004,
            "count": 0
           },
           {
            "bin_start": 55.800000000000004,
            "bin_end": 62,
            "count": 1
           }
          ]
         }
        },
        {
         "name": "BUH",
         "dtype": "int64",
         "stats": {
          "unique_count": 11,
          "nan_count": 0,
          "min": "0",
          "max": "23",
          "histogram": [
           {
            "bin_start": 0,
            "bin_end": 2.3,
            "count": 432
           },
           {
            "bin_start": 2.3,
            "bin_end": 4.6,
            "count": 28
           },
           {
            "bin_start": 4.6,
            "bin_end": 6.8999999999999995,
            "count": 17
           },
           {
            "bin_start": 6.8999999999999995,
            "bin_end": 9.2,
            "count": 8
           },
           {
            "bin_start": 9.2,
            "bin_end": 11.5,
            "count": 0
           },
           {
            "bin_start": 11.5,
            "bin_end": 13.799999999999999,
            "count": 0
           },
           {
            "bin_start": 13.799999999999999,
            "bin_end": 16.099999999999998,
            "count": 0
           },
           {
            "bin_start": 16.099999999999998,
            "bin_end": 18.4,
            "count": 0
           },
           {
            "bin_start": 18.4,
            "bin_end": 20.7,
            "count": 0
           },
           {
            "bin_start": 20.7,
            "bin_end": 23,
            "count": 1
           }
          ]
         }
        },
        {
         "name": "BB%",
         "dtype": "float64",
         "stats": {
          "unique_count": 140,
          "nan_count": 0,
          "min": "0.0",
          "max": "0.35700000000000004",
          "histogram": [
           {
            "bin_start": 0,
            "bin_end": 0.0357,
            "count": 24
           },
           {
            "bin_start": 0.0357,
            "bin_end": 0.0714,
            "count": 166
           },
           {
            "bin_start": 0.0714,
            "bin_end": 0.1071,
            "count": 187
           },
           {
            "bin_start": 0.1071,
            "bin_end": 0.1428,
            "count": 83
           },
           {
            "bin_start": 0.1428,
            "bin_end": 0.17850000000000002,
            "count": 18
           },
           {
            "bin_start": 0.17850000000000002,
            "bin_end": 0.2142,
            "count": 7
           },
           {
            "bin_start": 0.2142,
            "bin_end": 0.2499,
            "count": 0
           },
           {
            "bin_start": 0.2499,
            "bin_end": 0.2856,
            "count": 0
           },
           {
            "bin_start": 0.2856,
            "bin_end": 0.32130000000000003,
            "count": 0
           },
           {
            "bin_start": 0.32130000000000003,
            "bin_end": 0.35700000000000004,
            "count": 1
           }
          ]
         }
        },
        {
         "name": "K%",
         "dtype": "float64",
         "stats": {
          "unique_count": 208,
          "nan_count": 0,
          "min": "0.0",
          "max": "0.5",
          "histogram": [
           {
            "bin_start": 0,
            "bin_end": 0.05,
            "count": 2
           },
           {
            "bin_start": 0.05,
            "bin_end": 0.1,
            "count": 20
           },
           {
            "bin_start": 0.1,
            "bin_end": 0.15000000000000002,
            "count": 77
           },
           {
            "bin_start": 0.15000000000000002,
            "bin_end": 0.2,
            "count": 124
           },
           {
            "bin_start": 0.2,
            "bin_end": 0.25,
            "count": 151
           },
           {
            "bin_start": 0.25,
            "bin_end": 0.30000000000000004,
            "count": 79
           },
           {
            "bin_start": 0.30000000000000004,
            "bin_end": 0.35000000000000003,
            "count": 27
           },
           {
            "bin_start": 0.35000000000000003,
            "bin_end": 0.4,
            "count": 4
           },
           {
            "bin_start": 0.4,
            "bin_end": 0.45,
            "count": 1
           },
           {
            "bin_start": 0.45,
            "bin_end": 0.5,
            "count": 1
           }
          ]
         }
        },
        {
         "name": "BB/K",
         "dtype": "float64",
         "stats": {
          "unique_count": 89,
          "nan_count": 0,
          "min": "0.0",
          "max": "1.11",
          "histogram": [
           {
            "bin_start": 0,
            "bin_end": 0.11100000000000002,
            "count": 12
           },
           {
            "bin_start": 0.11100000000000002,
            "bin_end": 0.22200000000000003,
            "count": 34
           },
           {
            "bin_start": 0.22200000000000003,
            "bin_end": 0.3330000000000001,
            "count": 121
           },
           {
            "bin_start": 0.3330000000000001,
            "bin_end": 0.44400000000000006,
            "count": 106
           },
           {
            "bin_start": 0.44400000000000006,
            "bin_end": 0.555,
            "count": 103
           },
           {
            "bin_start": 0.555,
            "bin_end": 0.6660000000000001,
            "count": 56
           },
           {
            "bin_start": 0.6660000000000001,
            "bin_end": 0.7770000000000001,
            "count": 28
           },
           {
            "bin_start": 0.7770000000000001,
            "bin_end": 0.8880000000000001,
            "count": 15
           },
           {
            "bin_start": 0.8880000000000001,
            "bin_end": 0.9990000000000001,
            "count": 4
           },
           {
            "bin_start": 0.9990000000000001,
            "bin_end": 1.11,
            "count": 7
           }
          ]
         }
        },
        {
         "name": "OBP",
         "dtype": "float64",
         "stats": {
          "unique_count": 155,
          "nan_count": 0,
          "min": "0.0",
          "max": "0.5",
          "histogram": [
           {
            "bin_start": 0,
            "bin_end": 0.05,
            "count": 1
           },
           {
            "bin_start": 0.05,
            "bin_end": 0.1,
            "count": 0
           },
           {
            "bin_start": 0.1,
            "bin_end": 0.15000000000000002,
            "count": 1
           },
           {
            "bin_start": 0.15000000000000002,
            "bin_end": 0.2,
            "count": 5
           },
           {
            "bin_start": 0.2,
            "bin_end": 0.25,
            "count": 19
           },
           {
            "bin_start": 0.25,
            "bin_end": 0.30000000000000004,
            "count": 118
           },
           {
            "bin_start": 0.30000000000000004,
            "bin_end": 0.35000000000000003,
            "count": 253
           },
           {
            "bin_start": 0.35000000000000003,
            "bin_end": 0.4,
            "count": 79
           },
           {
            "bin_start": 0.4,
            "bin_end": 0.45,
            "count": 8
           },
           {
            "bin_start": 0.45,
            "bin_end": 0.5,
            "count": 2
           }
          ]
         }
        },
        {
         "name": "SLG",
         "dtype": "float64",
         "stats": {
          "unique_count": 233,
          "nan_count": 0,
          "min": "0.0",
          "max": "0.69",
          "histogram": [
           {
            "bin_start": 0,
            "bin_end": 0.06899999999999999,
            "count": 1
           },
           {
            "bin_start": 0.06899999999999999,
            "bin_end": 0.13799999999999998,
            "count": 0
           },
           {
            "bin_start": 0.13799999999999998,
            "bin_end": 0.20699999999999996,
            "count": 7
           },
           {
            "bin_start": 0.20699999999999996,
            "bin_end": 0.27599999999999997,
            "count": 19
           },
           {
            "bin_start": 0.27599999999999997,
            "bin_end": 0.345,
            "count": 88
           },
           {
            "bin_start": 0.345,
            "bin_end": 0.4139999999999999,
            "count": 149
           },
           {
            "bin_start": 0.4139999999999999,
            "bin_end": 0.48299999999999993,
            "count": 150
           },
           {
            "bin_start": 0.48299999999999993,
            "bin_end": 0.5519999999999999,
            "count": 62
           },
           {
            "bin_start": 0.5519999999999999,
            "bin_end": 0.6209999999999999,
            "count": 9
           },
           {
            "bin_start": 0.6209999999999999,
            "bin_end": 0.69,
            "count": 1
           }
          ]
         }
        },
        {
         "name": "OPS",
         "dtype": "float64",
         "stats": {
          "unique_count": 275,
          "nan_count": 0,
          "min": "0.0",
          "max": "1.066",
          "histogram": [
           {
            "bin_start": 0,
            "bin_end": 0.1066,
            "count": 1
           },
           {
            "bin_start": 0.1066,
            "bin_end": 0.2132,
            "count": 0
           },
           {
            "bin_start": 0.2132,
            "bin_end": 0.3198,
            "count": 1
           },
           {
            "bin_start": 0.3198,
            "bin_end": 0.4264,
            "count": 6
           },
           {
            "bin_start": 0.4264,
            "bin_end": 0.533,
            "count": 15
           },
           {
            "bin_start": 0.533,
            "bin_end": 0.6396,
            "count": 83
           },
           {
            "bin_start": 0.6396,
            "bin_end": 0.7462,
            "count": 190
           },
           {
            "bin_start": 0.7462,
            "bin_end": 0.8528,
            "count": 146
           },
           {
            "bin_start": 0.8528,
            "bin_end": 0.9594,
            "count": 37
           },
           {
            "bin_start": 0.9594,
            "bin_end": 1.066,
            "count": 7
           }
          ]
         }
        },
        {
         "name": "ISO",
         "dtype": "float64",
         "stats": {
          "unique_count": 216,
          "nan_count": 0,
          "min": "0.0",
          "max": "0.387",
          "histogram": [
           {
            "bin_start": 0,
            "bin_end": 0.0387,
            "count": 11
           },
           {
            "bin_start": 0.0387,
            "bin_end": 0.0774,
            "count": 36
           },
           {
            "bin_start": 0.0774,
            "bin_end": 0.1161,
            "count": 100
           },
           {
            "bin_start": 0.1161,
            "bin_end": 0.1548,
            "count": 108
           },
           {
            "bin_start": 0.1548,
            "bin_end": 0.1935,
            "count": 105
           },
           {
            "bin_start": 0.1935,
            "bin_end": 0.2322,
            "count": 71
           },
           {
            "bin_start": 0.2322,
            "bin_end": 0.2709,
            "count": 44
           },
           {
            "bin_start": 0.2709,
            "bin_end": 0.3096,
            "count": 8
           },
           {
            "bin_start": 0.3096,
            "bin_end": 0.3483,
            "count": 2
           },
           {
            "bin_start": 0.3483,
            "bin_end": 0.387,
            "count": 1
           }
          ]
         }
        },
        {
         "name": "BABIP",
         "dtype": "float64",
         "stats": {
          "unique_count": 165,
          "nan_count": 0,
          "min": "0.0",
          "max": "1.0",
          "histogram": [
           {
            "bin_start": 0,
            "bin_end": 0.1,
            "count": 1
           },
           {
            "bin_start": 0.1,
            "bin_end": 0.2,
            "count": 12
           },
           {
            "bin_start": 0.2,
            "bin_end": 0.30000000000000004,
            "count": 276
           },
           {
            "bin_start": 0.30000000000000004,
            "bin_end": 0.4,
            "count": 195
           },
           {
            "bin_start": 0.4,
            "bin_end": 0.5,
            "count": 0
           },
           {
            "bin_start": 0.5,
            "bin_end": 0.6000000000000001,
            "count": 0
           },
           {
            "bin_start": 0.6000000000000001,
            "bin_end": 0.7000000000000001,
            "count": 1
           },
           {
            "bin_start": 0.7000000000000001,
            "bin_end": 0.8,
            "count": 0
           },
           {
            "bin_start": 0.8,
            "bin_end": 0.9,
            "count": 0
           },
           {
            "bin_start": 0.9,
            "bin_end": 1,
            "count": 1
           }
          ]
         }
        },
        {
         "name": "GB/FB",
         "dtype": "float64",
         "stats": {
          "unique_count": 168,
          "nan_count": 0,
          "min": "0.0",
          "max": "0.0629",
          "histogram": [
           {
            "bin_start": 0,
            "bin_end": 0.00629,
            "count": 20
           },
           {
            "bin_start": 0.00629,
            "bin_end": 0.01258,
            "count": 275
           },
           {
            "bin_start": 0.01258,
            "bin_end": 0.018869999999999998,
            "count": 128
           },
           {
            "bin_start": 0.018869999999999998,
            "bin_end": 0.02516,
            "count": 51
           },
           {
            "bin_start": 0.02516,
            "bin_end": 0.03145,
            "count": 8
           },
           {
            "bin_start": 0.03145,
            "bin_end": 0.037739999999999996,
            "count": 3
           },
           {
            "bin_start": 0.037739999999999996,
            "bin_end": 0.04403,
            "count": 0
           },
           {
            "bin_start": 0.04403,
            "bin_end": 0.05032,
            "count": 0
           },
           {
            "bin_start": 0.05032,
            "bin_end": 0.056609999999999994,
            "count": 0
           },
           {
            "bin_start": 0.056609999999999994,
            "bin_end": 0.0629,
            "count": 1
           }
          ]
         }
        },
        {
         "name": "LD%",
         "dtype": "float64",
         "stats": {
          "unique_count": 137,
          "nan_count": 0,
          "min": "0.0",
          "max": "0.75",
          "histogram": [
           {
            "bin_start": 0,
            "bin_end": 0.075,
            "count": 2
           },
           {
            "bin_start": 0.075,
            "bin_end": 0.15,
            "count": 24
           },
           {
            "bin_start": 0.15,
            "bin_end": 0.22499999999999998,
            "count": 319
           },
           {
            "bin_start": 0.22499999999999998,
            "bin_end": 0.3,
            "count": 134
           },
           {
            "bin_start": 0.3,
            "bin_end": 0.375,
            "count": 3
           },
           {
            "bin_start": 0.375,
            "bin_end": 0.44999999999999996,
            "count": 1
           },
           {
            "bin_start": 0.44999999999999996,
            "bin_end": 0.525,
            "count": 2
           },
           {
            "bin_start": 0.525,
            "bin_end": 0.6,
            "count": 0
           },
           {
            "bin_start": 0.6,
            "bin_end": 0.6749999999999999,
            "count": 0
           },
           {
            "bin_start": 0.6749999999999999,
            "bin_end": 0.75,
            "count": 1
           }
          ]
         }
        },
        {
         "name": "GB%",
         "dtype": "float64",
         "stats": {
          "unique_count": 227,
          "nan_count": 0,
          "min": "0.0",
          "max": "0.657",
          "histogram": [
           {
            "bin_start": 0,
            "bin_end": 0.06570000000000001,
            "count": 4
           },
           {
            "bin_start": 0.06570000000000001,
            "bin_end": 0.13140000000000002,
            "count": 0
           },
           {
            "bin_start": 0.13140000000000002,
            "bin_end": 0.19710000000000003,
            "count": 0
           },
           {
            "bin_start": 0.19710000000000003,
            "bin_end": 0.26280000000000003,
            "count": 4
           },
           {
            "bin_start": 0.26280000000000003,
            "bin_end": 0.3285,
            "count": 31
           },
           {
            "bin_start": 0.3285,
            "bin_end": 0.39420000000000005,
            "count": 119
           },
           {
            "bin_start": 0.39420000000000005,
            "bin_end": 0.4599000000000001,
            "count": 177
           },
           {
            "bin_start": 0.4599000000000001,
            "bin_end": 0.5256000000000001,
            "count": 103
           },
           {
            "bin_start": 0.5256000000000001,
            "bin_end": 0.5913,
            "count": 41
           },
           {
            "bin_start": 0.5913,
            "bin_end": 0.657,
            "count": 7
           }
          ]
         }
        },
        {
         "name": "FB%",
         "dtype": "float64",
         "stats": {
          "unique_count": 236,
          "nan_count": 0,
          "min": "0.0",
          "max": "0.667",
          "histogram": [
           {
            "bin_start": 0,
            "bin_end": 0.06670000000000001,
            "count": 2
           },
           {
            "bin_start": 0.06670000000000001,
            "bin_end": 0.13340000000000002,
            "count": 1
           },
           {
            "bin_start": 0.13340000000000002,
            "bin_end": 0.20010000000000003,
            "count": 7
           },
           {
            "bin_start": 0.20010000000000003,
            "bin_end": 0.26680000000000004,
            "count": 46
           },
           {
            "bin_start": 0.26680000000000004,
            "bin_end": 0.3335,
            "count": 95
           },
           {
            "bin_start": 0.3335,
            "bin_end": 0.40020000000000006,
            "count": 189
           },
           {
            "bin_start": 0.40020000000000006,
            "bin_end": 0.4669000000000001,
            "count": 109
           },
           {
            "bin_start": 0.4669000000000001,
            "bin_end": 0.5336000000000001,
            "count": 32
           },
           {
            "bin_start": 0.5336000000000001,
            "bin_end": 0.6003000000000001,
            "count": 3
           },
           {
            "bin_start": 0.6003000000000001,
            "bin_end": 0.667,
            "count": 2
           }
          ]
         }
        },
        {
         "name": "IFFB%",
         "dtype": "float64",
         "stats": {
          "unique_count": 174,
          "nan_count": 0,
          "min": "0.0",
          "max": "0.3",
          "histogram": [
           {
            "bin_start": 0,
            "bin_end": 0.03,
            "count": 36
           },
           {
            "bin_start": 0.03,
            "bin_end": 0.06,
            "count": 65
           },
           {
            "bin_start": 0.06,
            "bin_end": 0.09,
            "count": 87
           },
           {
            "bin_start": 0.09,
            "bin_end": 0.12,
            "count": 129
           },
           {
            "bin_start": 0.12,
            "bin_end": 0.15,
            "count": 84
           },
           {
            "bin_start": 0.15,
            "bin_end": 0.18,
            "count": 56
           },
           {
            "bin_start": 0.18,
            "bin_end": 0.21,
            "count": 17
           },
           {
            "bin_start": 0.21,
            "bin_end": 0.24,
            "count": 9
           },
           {
            "bin_start": 0.24,
            "bin_end": 0.27,
            "count": 2
           },
           {
            "bin_start": 0.27,
            "bin_end": 0.3,
            "count": 1
           }
          ]
         }
        },
        {
         "name": "HR/FB",
         "dtype": "float64",
         "stats": {
          "unique_count": 201,
          "nan_count": 0,
          "min": "0.0",
          "max": "1.0",
          "histogram": [
           {
            "bin_start": 0,
            "bin_end": 0.1,
            "count": 226
           },
           {
            "bin_start": 0.1,
            "bin_end": 0.2,
            "count": 206
           },
           {
            "bin_start": 0.2,
            "bin_end": 0.30000000000000004,
            "count": 47
           },
           {
            "bin_start": 0.30000000000000004,
            "bin_end": 0.4,
            "count": 6
           },
           {
            "bin_start": 0.4,
            "bin_end": 0.5,
            "count": 0
           },
           {
            "bin_start": 0.5,
            "bin_end": 0.6000000000000001,
            "count": 0
           },
           {
            "bin_start": 0.6000000000000001,
            "bin_end": 0.7000000000000001,
            "count": 0
           },
           {
            "bin_start": 0.7000000000000001,
            "bin_end": 0.8,
            "count": 0
           },
           {
            "bin_start": 0.8,
            "bin_end": 0.9,
            "count": 0
           },
           {
            "bin_start": 0.9,
            "bin_end": 1,
            "count": 1
           }
          ]
         }
        },
        {
         "name": "IFH%",
         "dtype": "float64",
         "stats": {
          "unique_count": 124,
          "nan_count": 0,
          "min": "0.0",
          "max": "0.19",
          "histogram": [
           {
            "bin_start": 0,
            "bin_end": 0.019,
            "count": 38
           },
           {
            "bin_start": 0.019,
            "bin_end": 0.038,
            "count": 72
           },
           {
            "bin_start": 0.038,
            "bin_end": 0.056999999999999995,
            "count": 126
           },
           {
            "bin_start": 0.056999999999999995,
            "bin_end": 0.076,
            "count": 119
           },
           {
            "bin_start": 0.076,
            "bin_end": 0.095,
            "count": 65
           },
           {
            "bin_start": 0.095,
            "bin_end": 0.11399999999999999,
            "count": 40
           },
           {
            "bin_start": 0.11399999999999999,
            "bin_end": 0.133,
            "count": 17
           },
           {
            "bin_start": 0.133,
            "bin_end": 0.152,
            "count": 5
           },
           {
            "bin_start": 0.152,
            "bin_end": 0.17099999999999999,
            "count": 2
           },
           {
            "bin_start": 0.17099999999999999,
            "bin_end": 0.19,
            "count": 2
           }
          ]
         }
        },
        {
         "name": "BUH%",
         "dtype": "float64",
         "stats": {
          "unique_count": 43,
          "nan_count": 0,
          "min": "0.0",
          "max": "1.0",
          "histogram": [
           {
            "bin_start": 0,
            "bin_end": 0.1,
            "count": 294
           },
           {
            "bin_start": 0.1,
            "bin_end": 0.2,
            "count": 23
           },
           {
            "bin_start": 0.2,
            "bin_end": 0.30000000000000004,
            "count": 23
           },
           {
            "bin_start": 0.30000000000000004,
            "bin_end": 0.4,
            "count": 37
           },
           {
            "bin_start": 0.4,
            "bin_end": 0.5,
            "count": 14
           },
           {
            "bin_start": 0.5,
            "bin_end": 0.6000000000000001,
            "count": 38
           },
           {
            "bin_start": 0.6000000000000001,
            "bin_end": 0.7000000000000001,
            "count": 13
           },
           {
            "bin_start": 0.7000000000000001,
            "bin_end": 0.8,
            "count": 5
           },
           {
            "bin_start": 0.8,
            "bin_end": 0.9,
            "count": 2
           },
           {
            "bin_start": 0.9,
            "bin_end": 1,
            "count": 37
           }
          ]
         }
        },
        {
         "name": "wOBA",
         "dtype": "float64",
         "stats": {
          "unique_count": 162,
          "nan_count": 0,
          "min": "0.0",
          "max": "0.44",
          "histogram": [
           {
            "bin_start": 0,
            "bin_end": 0.044,
            "count": 1
           },
           {
            "bin_start": 0.044,
            "bin_end": 0.088,
            "count": 0
           },
           {
            "bin_start": 0.088,
            "bin_end": 0.132,
            "count": 0
           },
           {
            "bin_start": 0.132,
            "bin_end": 0.176,
            "count": 2
           },
           {
            "bin_start": 0.176,
            "bin_end": 0.21999999999999997,
            "count": 13
           },
           {
            "bin_start": 0.21999999999999997,
            "bin_end": 0.264,
            "count": 38
           },
           {
            "bin_start": 0.264,
            "bin_end": 0.308,
            "count": 158
           },
           {
            "bin_start": 0.308,
            "bin_end": 0.352,
            "count": 191
           },
           {
            "bin_start": 0.352,
            "bin_end": 0.39599999999999996,
            "count": 75
           },
           {
            "bin_start": 0.39599999999999996,
            "bin_end": 0.44,
            "count": 8
           }
          ]
         }
        },
        {
         "name": "wRAA",
         "dtype": "float64",
         "stats": {
          "unique_count": 293,
          "nan_count": 0,
          "min": "-27.7",
          "max": "51.4",
          "histogram": [
           {
            "bin_start": -27.7,
            "bin_end": -19.79,
            "count": 5
           },
           {
            "bin_start": -19.79,
            "bin_end": -11.88,
            "count": 40
           },
           {
            "bin_start": -11.88,
            "bin_end": -3.9700000000000024,
            "count": 127
           },
           {
            "bin_start": -3.9700000000000024,
            "bin_end": 3.9399999999999977,
            "count": 148
           },
           {
            "bin_start": 3.9399999999999977,
            "bin_end": 11.849999999999998,
            "count": 80
           },
           {
            "bin_start": 11.849999999999998,
            "bin_end": 19.759999999999994,
            "count": 48
           },
           {
            "bin_start": 19.759999999999994,
            "bin_end": 27.669999999999998,
            "count": 19
           },
           {
            "bin_start": 27.669999999999998,
            "bin_end": 35.58,
            "count": 12
           },
           {
            "bin_start": 35.58,
            "bin_end": 43.489999999999995,
            "count": 4
           },
           {
            "bin_start": 43.489999999999995,
            "bin_end": 51.4,
            "count": 3
           }
          ]
         }
        },
        {
         "name": "wRC",
         "dtype": "int64",
         "stats": {
          "unique_count": 115,
          "nan_count": 0,
          "min": "-1",
          "max": "129",
          "histogram": [
           {
            "bin_start": -1,
            "bin_end": 12,
            "count": 48
           },
           {
            "bin_start": 12,
            "bin_end": 25,
            "count": 88
           },
           {
            "bin_start": 25,
            "bin_end": 38,
            "count": 84
           },
           {
            "bin_start": 38,
            "bin_end": 51,
            "count": 67
           },
           {
            "bin_start": 51,
            "bin_end": 64,
            "count": 67
           },
           {
            "bin_start": 64,
            "bin_end": 77,
            "count": 56
           },
           {
            "bin_start": 77,
            "bin_end": 90,
            "count": 41
           },
           {
            "bin_start": 90,
            "bin_end": 103,
            "count": 20
           },
           {
            "bin_start": 103,
            "bin_end": 116,
            "count": 9
           },
           {
            "bin_start": 116,
            "bin_end": 129,
            "count": 6
           }
          ]
         }
        },
        {
         "name": "Bat",
         "dtype": "float64",
         "stats": {
          "unique_count": 284,
          "nan_count": 0,
          "min": "-30.1",
          "max": "48.1",
          "histogram": [
           {
            "bin_start": -30.1,
            "bin_end": -22.28,
            "count": 5
           },
           {
            "bin_start": -22.28,
            "bin_end": -14.46,
            "count": 27
           },
           {
            "bin_start": -14.46,
            "bin_end": -6.640000000000001,
            "count": 105
           },
           {
            "bin_start": -6.640000000000001,
            "bin_end": 1.1799999999999997,
            "count": 158
           },
           {
            "bin_start": 1.1799999999999997,
            "bin_end": 9,
            "count": 99
           },
           {
            "bin_start": 9,
            "bin_end": 16.82,
            "count": 47
           },
           {
            "bin_start": 16.82,
            "bin_end": 24.64,
            "count": 27
           },
           {
            "bin_start": 24.64,
            "bin_end": 32.46,
            "count": 10
           },
           {
            "bin_start": 32.46,
            "bin_end": 40.279999999999994,
            "count": 6
           },
           {
            "bin_start": 40.279999999999994,
            "bin_end": 48.1,
            "count": 2
           }
          ]
         }
        },
        {
         "name": "Fld",
         "dtype": "float64",
         "stats": {
          "unique_count": 183,
          "nan_count": 5,
          "min": "-26.7",
          "max": "18.6",
          "histogram": [
           {
            "bin_start": -26.7,
            "bin_end": -22.17,
            "count": 1
           },
           {
            "bin_start": -22.17,
            "bin_end": -17.64,
            "count": 2
           },
           {
            "bin_start": -17.64,
            "bin_end": -13.110000000000001,
            "count": 7
           },
           {
            "bin_start": -13.110000000000001,
            "bin_end": -8.580000000000002,
            "count": 20
           },
           {
            "bin_start": -8.580000000000002,
            "bin_end": -4.050000000000001,
            "count": 65
           },
           {
            "bin_start": -4.050000000000001,
            "bin_end": 0.4799999999999969,
            "count": 212
           },
           {
            "bin_start": 0.4799999999999969,
            "bin_end": 5.0099999999999945,
            "count": 121
           },
           {
            "bin_start": 5.0099999999999945,
            "bin_end": 9.539999999999996,
            "count": 37
           },
           {
            "bin_start": 9.539999999999996,
            "bin_end": 14.069999999999997,
            "count": 10
           },
           {
            "bin_start": 14.069999999999997,
            "bin_end": 18.6,
            "count": 6
           }
          ]
         }
        },
        {
         "name": "Rep",
         "dtype": "float64",
         "stats": {
          "unique_count": 184,
          "nan_count": 0,
          "min": "0.0",
          "max": "21.3",
          "histogram": [
           {
            "bin_start": 0,
            "bin_end": 2.13,
            "count": 18
           },
           {
            "bin_start": 2.13,
            "bin_end": 4.26,
            "count": 31
           },
           {
            "bin_start": 4.26,
            "bin_end": 6.39,
            "count": 56
           },
           {
            "bin_start": 6.39,
            "bin_end": 8.52,
            "count": 63
           },
           {
            "bin_start": 8.52,
            "bin_end": 10.649999999999999,
            "count": 57
           },
           {
            "bin_start": 10.649999999999999,
            "bin_end": 12.78,
            "count": 61
           },
           {
            "bin_start": 12.78,
            "bin_end": 14.91,
            "count": 57
           },
           {
            "bin_start": 14.91,
            "bin_end": 17.04,
            "count": 58
           },
           {
            "bin_start": 17.04,
            "bin_end": 19.169999999999998,
            "count": 48
           },
           {
            "bin_start": 19.169999999999998,
            "bin_end": 21.3,
            "count": 37
           }
          ]
         }
        },
        {
         "name": "Pos_y",
         "dtype": "float64",
         "stats": {
          "unique_count": 180,
          "nan_count": 0,
          "min": "-15.6",
          "max": "9.4",
          "histogram": [
           {
            "bin_start": -15.6,
            "bin_end": -13.1,
            "count": 8
           },
           {
            "bin_start": -13.1,
            "bin_end": -10.6,
            "count": 19
           },
           {
            "bin_start": -10.6,
            "bin_end": -8.1,
            "count": 24
           },
           {
            "bin_start": -8.1,
            "bin_end": -5.6,
            "count": 47
           },
           {
            "bin_start": -5.6,
            "bin_end": -3.0999999999999996,
            "count": 55
           },
           {
            "bin_start": -3.0999999999999996,
            "bin_end": -0.5999999999999996,
            "count": 71
           },
           {
            "bin_start": -0.5999999999999996,
            "bin_end": 1.9000000000000004,
            "count": 132
           },
           {
            "bin_start": 1.9000000000000004,
            "bin_end": 4.4,
            "count": 62
           },
           {
            "bin_start": 4.4,
            "bin_end": 6.9,
            "count": 43
           },
           {
            "bin_start": 6.9,
            "bin_end": 9.4,
            "count": 25
           }
          ]
         }
        },
        {
         "name": "RAR",
         "dtype": "float64",
         "stats": {
          "unique_count": 317,
          "nan_count": 0,
          "min": "-23.1",
          "max": "60.9",
          "histogram": [
           {
            "bin_start": -23.1,
            "bin_end": -14.700000000000001,
            "count": 5
           },
           {
            "bin_start": -14.700000000000001,
            "bin_end": -6.300000000000001,
            "count": 41
           },
           {
            "bin_start": -6.300000000000001,
            "bin_end": 2.1000000000000014,
            "count": 117
           },
           {
            "bin_start": 2.1000000000000014,
            "bin_end": 10.5,
            "count": 128
           },
           {
            "bin_start": 10.5,
            "bin_end": 18.9,
            "count": 74
           },
           {
            "bin_start": 18.9,
            "bin_end": 27.300000000000004,
            "count": 59
           },
           {
            "bin_start": 27.300000000000004,
            "bin_end": 35.7,
            "count": 31
           },
           {
            "bin_start": 35.7,
            "bin_end": 44.1,
            "count": 13
           },
           {
            "bin_start": 44.1,
            "bin_end": 52.50000000000001,
            "count": 12
           },
           {
            "bin_start": 52.50000000000001,
            "bin_end": 60.9,
            "count": 6
           }
          ]
         }
        },
        {
         "name": "WAR",
         "dtype": "float64",
         "stats": {
          "unique_count": 78,
          "nan_count": 0,
          "min": "-2.4",
          "max": "6.4",
          "histogram": [
           {
            "bin_start": -2.4,
            "bin_end": -1.5199999999999998,
            "count": 5
           },
           {
            "bin_start": -1.5199999999999998,
            "bin_end": -0.6399999999999997,
            "count": 41
           },
           {
            "bin_start": -0.6399999999999997,
            "bin_end": 0.24000000000000066,
            "count": 121
           },
           {
            "bin_start": 0.24000000000000066,
            "bin_end": 1.1200000000000006,
            "count": 128
           },
           {
            "bin_start": 1.1200000000000006,
            "bin_end": 2.0000000000000004,
            "count": 77
           },
           {
            "bin_start": 2.0000000000000004,
            "bin_end": 2.8800000000000012,
            "count": 54
           },
           {
            "bin_start": 2.8800000000000012,
            "bin_end": 3.760000000000001,
            "count": 29
           },
           {
            "bin_start": 3.760000000000001,
            "bin_end": 4.640000000000001,
            "count": 14
           },
           {
            "bin_start": 4.640000000000001,
            "bin_end": 5.520000000000001,
            "count": 11
           },
           {
            "bin_start": 5.520000000000001,
            "bin_end": 6.4,
            "count": 6
           }
          ]
         }
        },
        {
         "name": "Dol",
         "dtype": "object",
         "stats": {
          "unique_count": 286,
          "nan_count": 0,
          "categories": [
           {
            "name": "$0.0",
            "count": 7
           },
           {
            "name": "$1.9",
            "count": 6
           },
           {
            "name": "284 others",
            "count": 473
           }
          ]
         }
        },
        {
         "name": "Spd",
         "dtype": "float64",
         "stats": {
          "unique_count": 79,
          "nan_count": 0,
          "min": "0.1",
          "max": "9.5",
          "histogram": [
           {
            "bin_start": 0.1,
            "bin_end": 1.04,
            "count": 40
           },
           {
            "bin_start": 1.04,
            "bin_end": 1.9800000000000002,
            "count": 84
           },
           {
            "bin_start": 1.9800000000000002,
            "bin_end": 2.9200000000000004,
            "count": 103
           },
           {
            "bin_start": 2.9200000000000004,
            "bin_end": 3.8600000000000003,
            "count": 89
           },
           {
            "bin_start": 3.8600000000000003,
            "bin_end": 4.8,
            "count": 76
           },
           {
            "bin_start": 4.8,
            "bin_end": 5.74,
            "count": 40
           },
           {
            "bin_start": 5.74,
            "bin_end": 6.68,
            "count": 25
           },
           {
            "bin_start": 6.68,
            "bin_end": 7.62,
            "count": 17
           },
           {
            "bin_start": 7.62,
            "bin_end": 8.56,
            "count": 10
           },
           {
            "bin_start": 8.56,
            "bin_end": 9.5,
            "count": 2
           }
          ]
         }
        },
        {
         "name": "wRC+",
         "dtype": "float64",
         "stats": {
          "unique_count": 124,
          "nan_count": 1,
          "min": "-26.0",
          "max": "183.0",
          "histogram": [
           {
            "bin_start": -26,
            "bin_end": -5.100000000000001,
            "count": 2
           },
           {
            "bin_start": -5.100000000000001,
            "bin_end": 15.799999999999997,
            "count": 5
           },
           {
            "bin_start": 15.799999999999997,
            "bin_end": 36.699999999999996,
            "count": 13
           },
           {
            "bin_start": 36.699999999999996,
            "bin_end": 57.599999999999994,
            "count": 27
           },
           {
            "bin_start": 57.599999999999994,
            "bin_end": 78.5,
            "count": 78
           },
           {
            "bin_start": 78.5,
            "bin_end": 99.39999999999999,
            "count": 145
           },
           {
            "bin_start": 99.39999999999999,
            "bin_end": 120.29999999999998,
            "count": 127
           },
           {
            "bin_start": 120.29999999999998,
            "bin_end": 141.2,
            "count": 70
           },
           {
            "bin_start": 141.2,
            "bin_end": 162.1,
            "count": 13
           },
           {
            "bin_start": 162.1,
            "bin_end": 183,
            "count": 5
           }
          ]
         }
        },
        {
         "name": "WPA",
         "dtype": "float64",
         "stats": {
          "unique_count": 309,
          "nan_count": 1,
          "min": "-3.73",
          "max": "7.63",
          "histogram": [
           {
            "bin_start": -3.73,
            "bin_end": -2.5940000000000003,
            "count": 6
           },
           {
            "bin_start": -2.5940000000000003,
            "bin_end": -1.4580000000000002,
            "count": 51
           },
           {
            "bin_start": -1.4580000000000002,
            "bin_end": -0.3220000000000005,
            "count": 148
           },
           {
            "bin_start": -0.3220000000000005,
            "bin_end": 0.8139999999999996,
            "count": 162
           },
           {
            "bin_start": 0.8139999999999996,
            "bin_end": 1.9499999999999997,
            "count": 67
           },
           {
            "bin_start": 1.9499999999999997,
            "bin_end": 3.085999999999999,
            "count": 37
           },
           {
            "bin_start": 3.085999999999999,
            "bin_end": 4.2219999999999995,
            "count": 10
           },
           {
            "bin_start": 4.2219999999999995,
            "bin_end": 5.357999999999999,
            "count": 3
           },
           {
            "bin_start": 5.357999999999999,
            "bin_end": 6.493999999999998,
            "count": 0
           },
           {
            "bin_start": 6.493999999999998,
            "bin_end": 7.63,
            "count": 1
           }
          ]
         }
        },
        {
         "name": "-WPA",
         "dtype": "float64",
         "stats": {
          "unique_count": 396,
          "nan_count": 1,
          "min": "-13.16",
          "max": "-0.04",
          "histogram": [
           {
            "bin_start": -13.16,
            "bin_end": -11.848,
            "count": 17
           },
           {
            "bin_start": -11.848,
            "bin_end": -10.536,
            "count": 43
           },
           {
            "bin_start": -10.536,
            "bin_end": -9.224,
            "count": 63
           },
           {
            "bin_start": -9.224,
            "bin_end": -7.912,
            "count": 61
           },
           {
            "bin_start": -7.912,
            "bin_end": -6.6,
            "count": 64
           },
           {
            "bin_start": -6.6,
            "bin_end": -5.288,
            "count": 62
           },
           {
            "bin_start": -5.288,
            "bin_end": -3.975999999999999,
            "count": 62
           },
           {
            "bin_start": -3.975999999999999,
            "bin_end": -2.6639999999999997,
            "count": 62
           },
           {
            "bin_start": -2.6639999999999997,
            "bin_end": -1.3520000000000003,
            "count": 34
           },
           {
            "bin_start": -1.3520000000000003,
            "bin_end": -0.04,
            "count": 17
           }
          ]
         }
        },
        {
         "name": "+WPA",
         "dtype": "float64",
         "stats": {
          "unique_count": 425,
          "nan_count": 1,
          "min": "0.02",
          "max": "17.76",
          "histogram": [
           {
            "bin_start": 0.02,
            "bin_end": 1.7940000000000003,
            "count": 40
           },
           {
            "bin_start": 1.7940000000000003,
            "bin_end": 3.5680000000000005,
            "count": 69
           },
           {
            "bin_start": 3.5680000000000005,
            "bin_end": 5.3420000000000005,
            "count": 84
           },
           {
            "bin_start": 5.3420000000000005,
            "bin_end": 7.1160000000000005,
            "count": 73
           },
           {
            "bin_start": 7.1160000000000005,
            "bin_end": 8.89,
            "count": 68
           },
           {
            "bin_start": 8.89,
            "bin_end": 10.664000000000001,
            "count": 67
           },
           {
            "bin_start": 10.664000000000001,
            "bin_end": 12.438,
            "count": 53
           },
           {
            "bin_start": 12.438,
            "bin_end": 14.212000000000002,
            "count": 23
           },
           {
            "bin_start": 14.212000000000002,
            "bin_end": 15.986000000000002,
            "count": 7
           },
           {
            "bin_start": 15.986000000000002,
            "bin_end": 17.76,
            "count": 1
           }
          ]
         }
        },
        {
         "name": "RE24",
         "dtype": "float64",
         "stats": {
          "unique_count": 460,
          "nan_count": 1,
          "min": "-29.64",
          "max": "61.19",
          "histogram": [
           {
            "bin_start": -29.64,
            "bin_end": -20.557000000000002,
            "count": 15
           },
           {
            "bin_start": -20.557000000000002,
            "bin_end": -11.474,
            "count": 44
           },
           {
            "bin_start": -11.474,
            "bin_end": -2.3909999999999982,
            "count": 158
           },
           {
            "bin_start": -2.3909999999999982,
            "bin_end": 6.692,
            "count": 127
           },
           {
            "bin_start": 6.692,
            "bin_end": 15.774999999999999,
            "count": 74
           },
           {
            "bin_start": 15.774999999999999,
            "bin_end": 24.858000000000004,
            "count": 39
           },
           {
            "bin_start": 24.858000000000004,
            "bin_end": 33.941,
            "count": 16
           },
           {
            "bin_start": 33.941,
            "bin_end": 43.024,
            "count": 6
           },
           {
            "bin_start": 43.024,
            "bin_end": 52.107,
            "count": 5
           },
           {
            "bin_start": 52.107,
            "bin_end": 61.19,
            "count": 1
           }
          ]
         }
        },
        {
         "name": "REW",
         "dtype": "float64",
         "stats": {
          "unique_count": 303,
          "nan_count": 1,
          "min": "-2.97",
          "max": "6.58",
          "histogram": [
           {
            "bin_start": -2.97,
            "bin_end": -2.015,
            "count": 19
           },
           {
            "bin_start": -2.015,
            "bin_end": -1.06,
            "count": 57
           },
           {
            "bin_start": -1.06,
            "bin_end": -0.10499999999999998,
            "count": 159
           },
           {
            "bin_start": -0.10499999999999998,
            "bin_end": 0.8500000000000001,
            "count": 127
           },
           {
            "bin_start": 0.8500000000000001,
            "bin_end": 1.8050000000000002,
            "count": 63
           },
           {
            "bin_start": 1.8050000000000002,
            "bin_end": 2.7600000000000002,
            "count": 34
           },
           {
            "bin_start": 2.7600000000000002,
            "bin_end": 3.7150000000000003,
            "count": 16
           },
           {
            "bin_start": 3.7150000000000003,
            "bin_end": 4.67,
            "count": 5
           },
           {
            "bin_start": 4.67,
            "bin_end": 5.625,
            "count": 4
           },
           {
            "bin_start": 5.625,
            "bin_end": 6.58,
            "count": 1
           }
          ]
         }
        },
        {
         "name": "pLI",
         "dtype": "float64",
         "stats": {
          "unique_count": 49,
          "nan_count": 1,
          "min": "0.77",
          "max": "1.42",
          "histogram": [
           {
            "bin_start": 0.77,
            "bin_end": 0.835,
            "count": 10
           },
           {
            "bin_start": 0.835,
            "bin_end": 0.9,
            "count": 29
           },
           {
            "bin_start": 0.9,
            "bin_end": 0.965,
            "count": 104
           },
           {
            "bin_start": 0.965,
            "bin_end": 1.03,
            "count": 160
           },
           {
            "bin_start": 1.03,
            "bin_end": 1.095,
            "count": 126
           },
           {
            "bin_start": 1.095,
            "bin_end": 1.16,
            "count": 38
           },
           {
            "bin_start": 1.16,
            "bin_end": 1.2249999999999999,
            "count": 13
           },
           {
            "bin_start": 1.2249999999999999,
            "bin_end": 1.29,
            "count": 3
           },
           {
            "bin_start": 1.29,
            "bin_end": 1.355,
            "count": 1
           },
           {
            "bin_start": 1.355,
            "bin_end": 1.42,
            "count": 1
           }
          ]
         }
        },
        {
         "name": "phLI",
         "dtype": "float64",
         "stats": {
          "unique_count": 218,
          "nan_count": 38,
          "min": "0.0",
          "max": "4.93",
          "histogram": [
           {
            "bin_start": 0,
            "bin_end": 0.493,
            "count": 19
           },
           {
            "bin_start": 0.493,
            "bin_end": 0.986,
            "count": 64
           },
           {
            "bin_start": 0.986,
            "bin_end": 1.479,
            "count": 147
           },
           {
            "bin_start": 1.479,
            "bin_end": 1.972,
            "count": 112
           },
           {
            "bin_start": 1.972,
            "bin_end": 2.465,
            "count": 57
           },
           {
            "bin_start": 2.465,
            "bin_end": 2.958,
            "count": 29
           },
           {
            "bin_start": 2.958,
            "bin_end": 3.451,
            "count": 9
           },
           {
            "bin_start": 3.451,
            "bin_end": 3.944,
            "count": 5
           },
           {
            "bin_start": 3.944,
            "bin_end": 4.437,
            "count": 3
           },
           {
            "bin_start": 4.437,
            "bin_end": 4.93,
            "count": 3
           }
          ]
         }
        },
        {
         "name": "PH",
         "dtype": "int64",
         "stats": {
          "unique_count": 53,
          "nan_count": 0,
          "min": "0",
          "max": "109",
          "histogram": [
           {
            "bin_start": 0,
            "bin_end": 10.9,
            "count": 291
           },
           {
            "bin_start": 10.9,
            "bin_end": 21.8,
            "count": 113
           },
           {
            "bin_start": 21.8,
            "bin_end": 32.7,
            "count": 42
           },
           {
            "bin_start": 32.7,
            "bin_end": 43.6,
            "count": 24
           },
           {
            "bin_start": 43.6,
            "bin_end": 54.5,
            "count": 9
           },
           {
            "bin_start": 54.5,
            "bin_end": 65.4,
            "count": 2
           },
           {
            "bin_start": 65.4,
            "bin_end": 76.3,
            "count": 1
           },
           {
            "bin_start": 76.3,
            "bin_end": 87.2,
            "count": 3
           },
           {
            "bin_start": 87.2,
            "bin_end": 98.10000000000001,
            "count": 0
           },
           {
            "bin_start": 98.10000000000001,
            "bin_end": 109,
            "count": 1
           }
          ]
         }
        },
        {
         "name": "WPA/LI",
         "dtype": "float64",
         "stats": {
          "unique_count": 295,
          "nan_count": 1,
          "min": "-2.73",
          "max": "6.15",
          "histogram": [
           {
            "bin_start": -2.73,
            "bin_end": -1.8419999999999999,
            "count": 17
           },
           {
            "bin_start": -1.8419999999999999,
            "bin_end": -0.9539999999999997,
            "count": 68
           },
           {
            "bin_start": -0.9539999999999997,
            "bin_end": -0.06599999999999939,
            "count": 160
           },
           {
            "bin_start": -0.06599999999999939,
            "bin_end": 0.8220000000000005,
            "count": 114
           },
           {
            "bin_start": 0.8220000000000005,
            "bin_end": 1.7100000000000004,
            "count": 73
           },
           {
            "bin_start": 1.7100000000000004,
            "bin_end": 2.598000000000001,
            "count": 24
           },
           {
            "bin_start": 2.598000000000001,
            "bin_end": 3.486000000000001,
            "count": 18
           },
           {
            "bin_start": 3.486000000000001,
            "bin_end": 4.3740000000000006,
            "count": 8
           },
           {
            "bin_start": 4.3740000000000006,
            "bin_end": 5.2620000000000005,
            "count": 2
           },
           {
            "bin_start": 5.2620000000000005,
            "bin_end": 6.15,
            "count": 1
           }
          ]
         }
        },
        {
         "name": "Clutch",
         "dtype": "float64",
         "stats": {
          "unique_count": 235,
          "nan_count": 1,
          "min": "-2.58",
          "max": "2.61",
          "histogram": [
           {
            "bin_start": -2.58,
            "bin_end": -2.061,
            "count": 4
           },
           {
            "bin_start": -2.061,
            "bin_end": -1.5420000000000003,
            "count": 14
           },
           {
            "bin_start": -1.5420000000000003,
            "bin_end": -1.0230000000000004,
            "count": 31
           },
           {
            "bin_start": -1.0230000000000004,
            "bin_end": -0.5040000000000004,
            "count": 91
           },
           {
            "bin_start": -0.5040000000000004,
            "bin_end": 0.01499999999999968,
            "count": 139
           },
           {
            "bin_start": 0.01499999999999968,
            "bin_end": 0.5339999999999994,
            "count": 123
           },
           {
            "bin_start": 0.5339999999999994,
            "bin_end": 1.052999999999999,
            "count": 55
           },
           {
            "bin_start": 1.052999999999999,
            "bin_end": 1.5719999999999992,
            "count": 23
           },
           {
            "bin_start": 1.5719999999999992,
            "bin_end": 2.0909999999999993,
            "count": 4
           },
           {
            "bin_start": 2.0909999999999993,
            "bin_end": 2.61,
            "count": 1
           }
          ]
         }
        },
        {
         "name": "FB% (Pitch)",
         "dtype": "float64",
         "stats": {
          "unique_count": 177,
          "nan_count": 1,
          "min": "0.44299999999999995",
          "max": "0.833",
          "histogram": [
           {
            "bin_start": 0.44299999999999995,
            "bin_end": 0.48199999999999993,
            "count": 16
           },
           {
            "bin_start": 0.48199999999999993,
            "bin_end": 0.5209999999999999,
            "count": 68
           },
           {
            "bin_start": 0.5209999999999999,
            "bin_end": 0.5599999999999999,
            "count": 156
           },
           {
            "bin_start": 0.5599999999999999,
            "bin_end": 0.599,
            "count": 140
           },
           {
            "bin_start": 0.599,
            "bin_end": 0.6379999999999999,
            "count": 68
           },
           {
            "bin_start": 0.6379999999999999,
            "bin_end": 0.6769999999999999,
            "count": 25
           },
           {
            "bin_start": 0.6769999999999999,
            "bin_end": 0.716,
            "count": 8
           },
           {
            "bin_start": 0.716,
            "bin_end": 0.7549999999999999,
            "count": 2
           },
           {
            "bin_start": 0.7549999999999999,
            "bin_end": 0.7939999999999999,
            "count": 1
           },
           {
            "bin_start": 0.7939999999999999,
            "bin_end": 0.833,
            "count": 1
           }
          ]
         }
        },
        {
         "name": "FBv",
         "dtype": "float64",
         "stats": {
          "unique_count": 37,
          "nan_count": 1,
          "min": "90.2",
          "max": "94.4",
          "histogram": [
           {
            "bin_start": 90.2,
            "bin_end": 90.62,
            "count": 4
           },
           {
            "bin_start": 90.62,
            "bin_end": 91.04,
            "count": 22
           },
           {
            "bin_start": 91.04,
            "bin_end": 91.46000000000001,
            "count": 68
           },
           {
            "bin_start": 91.46000000000001,
            "bin_end": 91.88000000000001,
            "count": 86
           },
           {
            "bin_start": 91.88000000000001,
            "bin_end": 92.30000000000001,
            "count": 139
           },
           {
            "bin_start": 92.30000000000001,
            "bin_end": 92.72,
            "count": 61
           },
           {
            "bin_start": 92.72,
            "bin_end": 93.14,
            "count": 65
           },
           {
            "bin_start": 93.14,
            "bin_end": 93.56,
            "count": 32
           },
           {
            "bin_start": 93.56,
            "bin_end": 93.98,
            "count": 6
           },
           {
            "bin_start": 93.98,
            "bin_end": 94.4,
            "count": 2
           }
          ]
         }
        },
        {
         "name": "SL%",
         "dtype": "float64",
         "stats": {
          "unique_count": 158,
          "nan_count": 2,
          "min": "0.037000000000000005",
          "max": "0.285",
          "histogram": [
           {
            "bin_start": 0.037000000000000005,
            "bin_end": 0.0618,
            "count": 4
           },
           {
            "bin_start": 0.0618,
            "bin_end": 0.0866,
            "count": 21
           },
           {
            "bin_start": 0.0866,
            "bin_end": 0.1114,
            "count": 71
           },
           {
            "bin_start": 0.1114,
            "bin_end": 0.1362,
            "count": 94
           },
           {
            "bin_start": 0.1362,
            "bin_end": 0.16099999999999998,
            "count": 96
           },
           {
            "bin_start": 0.16099999999999998,
            "bin_end": 0.1858,
            "count": 96
           },
           {
            "bin_start": 0.1858,
            "bin_end": 0.21059999999999998,
            "count": 64
           },
           {
            "bin_start": 0.21059999999999998,
            "bin_end": 0.23539999999999997,
            "count": 27
           },
           {
            "bin_start": 0.23539999999999997,
            "bin_end": 0.2602,
            "count": 9
           },
           {
            "bin_start": 0.2602,
            "bin_end": 0.285,
            "count": 2
           }
          ]
         }
        },
        {
         "name": "SLv",
         "dtype": "float64",
         "stats": {
          "unique_count": 45,
          "nan_count": 2,
          "min": "79.0",
          "max": "85.8",
          "histogram": [
           {
            "bin_start": 79,
            "bin_end": 79.68,
            "count": 1
           },
           {
            "bin_start": 79.68,
            "bin_end": 80.36,
            "count": 0
           },
           {
            "bin_start": 80.36,
            "bin_end": 81.03999999999999,
            "count": 1
           },
           {
            "bin_start": 81.03999999999999,
            "bin_end": 81.72,
            "count": 3
           },
           {
            "bin_start": 81.72,
            "bin_end": 82.4,
            "count": 14
           },
           {
            "bin_start": 82.4,
            "bin_end": 83.08,
            "count": 76
           },
           {
            "bin_start": 83.08,
            "bin_end": 83.75999999999999,
            "count": 144
           },
           {
            "bin_start": 83.75999999999999,
            "bin_end": 84.44,
            "count": 152
           },
           {
            "bin_start": 84.44,
            "bin_end": 85.12,
            "count": 78
           },
           {
            "bin_start": 85.12,
            "bin_end": 85.8,
            "count": 15
           }
          ]
         }
        },
        {
         "name": "CT%",
         "dtype": "float64",
         "stats": {
          "unique_count": 74,
          "nan_count": 2,
          "min": "0.013000000000000001",
          "max": "0.16",
          "histogram": [
           {
            "bin_start": 0.013000000000000001,
            "bin_end": 0.027700000000000002,
            "count": 8
           },
           {
            "bin_start": 0.027700000000000002,
            "bin_end": 0.0424,
            "count": 51
           },
           {
            "bin_start": 0.0424,
            "bin_end": 0.0571,
            "count": 177
           },
           {
            "bin_start": 0.0571,
            "bin_end": 0.0718,
            "count": 179
           },
           {
            "bin_start": 0.0718,
            "bin_end": 0.0865,
            "count": 60
           },
           {
            "bin_start": 0.0865,
            "bin_end": 0.1012,
            "count": 7
           },
           {
            "bin_start": 0.1012,
            "bin_end": 0.11589999999999999,
            "count": 0
           },
           {
            "bin_start": 0.11589999999999999,
            "bin_end": 0.1306,
            "count": 1
           },
           {
            "bin_start": 0.1306,
            "bin_end": 0.1453,
            "count": 0
           },
           {
            "bin_start": 0.1453,
            "bin_end": 0.16,
            "count": 1
           }
          ]
         }
        },
        {
         "name": "CTv",
         "dtype": "float64",
         "stats": {
          "unique_count": 50,
          "nan_count": 2,
          "min": "81.2",
          "max": "92.0",
          "histogram": [
           {
            "bin_start": 81.2,
            "bin_end": 82.28,
            "count": 1
           },
           {
            "bin_start": 82.28,
            "bin_end": 83.36,
            "count": 0
           },
           {
            "bin_start": 83.36,
            "bin_end": 84.44,
            "count": 1
           },
           {
            "bin_start": 84.44,
            "bin_end": 85.52,
            "count": 2
           },
           {
            "bin_start": 85.52,
            "bin_end": 86.6,
            "count": 24
           },
           {
            "bin_start": 86.6,
            "bin_end": 87.68,
            "count": 150
           },
           {
            "bin_start": 87.68,
            "bin_end": 88.76,
            "count": 244
           },
           {
            "bin_start": 88.76,
            "bin_end": 89.84,
            "count": 55
           },
           {
            "bin_start": 89.84,
            "bin_end": 90.92,
            "count": 6
           },
           {
            "bin_start": 90.92,
            "bin_end": 92,
            "count": 1
           }
          ]
         }
        },
        {
         "name": "CB%",
         "dtype": "float64",
         "stats": {
          "unique_count": 94,
          "nan_count": 1,
          "min": "0.026000000000000002",
          "max": "0.161",
          "histogram": [
           {
            "bin_start": 0.026000000000000002,
            "bin_end": 0.03950000000000001,
            "count": 2
           },
           {
            "bin_start": 0.03950000000000001,
            "bin_end": 0.053000000000000005,
            "count": 3
           },
           {
            "bin_start": 0.053000000000000005,
            "bin_end": 0.0665,
            "count": 19
           },
           {
            "bin_start": 0.0665,
            "bin_end": 0.08000000000000002,
            "count": 66
           },
           {
            "bin_start": 0.08000000000000002,
            "bin_end": 0.0935,
            "count": 98
           },
           {
            "bin_start": 0.0935,
            "bin_end": 0.10700000000000001,
            "count": 149
           },
           {
            "bin_start": 0.10700000000000001,
            "bin_end": 0.12050000000000002,
            "count": 88
           },
           {
            "bin_start": 0.12050000000000002,
            "bin_end": 0.134,
            "count": 38
           },
           {
            "bin_start": 0.134,
            "bin_end": 0.14750000000000002,
            "count": 18
           },
           {
            "bin_start": 0.14750000000000002,
            "bin_end": 0.161,
            "count": 4
           }
          ]
         }
        },
        {
         "name": "CBv",
         "dtype": "float64",
         "stats": {
          "unique_count": 55,
          "nan_count": 1,
          "min": "71.0",
          "max": "80.3",
          "histogram": [
           {
            "bin_start": 71,
            "bin_end": 71.93,
            "count": 1
           },
           {
            "bin_start": 71.93,
            "bin_end": 72.86,
            "count": 0
           },
           {
            "bin_start": 72.86,
            "bin_end": 73.78999999999999,
            "count": 0
           },
           {
            "bin_start": 73.78999999999999,
            "bin_end": 74.72,
            "count": 3
           },
           {
            "bin_start": 74.72,
            "bin_end": 75.65,
            "count": 8
           },
           {
            "bin_start": 75.65,
            "bin_end": 76.58,
            "count": 52
           },
           {
            "bin_start": 76.58,
            "bin_end": 77.50999999999999,
            "count": 155
           },
           {
            "bin_start": 77.50999999999999,
            "bin_end": 78.44,
            "count": 130
           },
           {
            "bin_start": 78.44,
            "bin_end": 79.37,
            "count": 85
           },
           {
            "bin_start": 79.37,
            "bin_end": 80.3,
            "count": 51
           }
          ]
         }
        },
        {
         "name": "CH%",
         "dtype": "float64",
         "stats": {
          "unique_count": 116,
          "nan_count": 3,
          "min": "0.04",
          "max": "0.247",
          "histogram": [
           {
            "bin_start": 0.04,
            "bin_end": 0.060700000000000004,
            "count": 8
           },
           {
            "bin_start": 0.060700000000000004,
            "bin_end": 0.0814,
            "count": 56
           },
           {
            "bin_start": 0.0814,
            "bin_end": 0.1021,
            "count": 150
           },
           {
            "bin_start": 0.1021,
            "bin_end": 0.12279999999999999,
            "count": 118
           },
           {
            "bin_start": 0.12279999999999999,
            "bin_end": 0.1435,
            "count": 102
           },
           {
            "bin_start": 0.1435,
            "bin_end": 0.1642,
            "count": 30
           },
           {
            "bin_start": 0.1642,
            "bin_end": 0.1849,
            "count": 16
           },
           {
            "bin_start": 0.1849,
            "bin_end": 0.2056,
            "count": 2
           },
           {
            "bin_start": 0.2056,
            "bin_end": 0.2263,
            "count": 0
           },
           {
            "bin_start": 0.2263,
            "bin_end": 0.247,
            "count": 1
           }
          ]
         }
        },
        {
         "name": "CHv",
         "dtype": "float64",
         "stats": {
          "unique_count": 56,
          "nan_count": 3,
          "min": "78.6",
          "max": "86.4",
          "histogram": [
           {
            "bin_start": 78.6,
            "bin_end": 79.38,
            "count": 1
           },
           {
            "bin_start": 79.38,
            "bin_end": 80.16,
            "count": 3
           },
           {
            "bin_start": 80.16,
            "bin_end": 80.94,
            "count": 4
           },
           {
            "bin_start": 80.94,
            "bin_end": 81.72,
            "count": 24
           },
           {
            "bin_start": 81.72,
            "bin_end": 82.5,
            "count": 60
           },
           {
            "bin_start": 82.5,
            "bin_end": 83.28,
            "count": 124
           },
           {
            "bin_start": 83.28,
            "bin_end": 84.06,
            "count": 144
           },
           {
            "bin_start": 84.06,
            "bin_end": 84.84,
            "count": 90
           },
           {
            "bin_start": 84.84,
            "bin_end": 85.62,
            "count": 26
           },
           {
            "bin_start": 85.62,
            "bin_end": 86.4,
            "count": 7
           }
          ]
         }
        },
        {
         "name": "SF%",
         "dtype": "float64",
         "stats": {
          "unique_count": 43,
          "nan_count": 16,
          "min": "0.001",
          "max": "0.085",
          "histogram": [
           {
            "bin_start": 0.001,
            "bin_end": 0.009400000000000002,
            "count": 148
           },
           {
            "bin_start": 0.009400000000000002,
            "bin_end": 0.017800000000000003,
            "count": 153
           },
           {
            "bin_start": 0.017800000000000003,
            "bin_end": 0.026200000000000005,
            "count": 109
           },
           {
            "bin_start": 0.026200000000000005,
            "bin_end": 0.034600000000000006,
            "count": 40
           },
           {
            "bin_start": 0.034600000000000006,
            "bin_end": 0.04300000000000001,
            "count": 17
           },
           {
            "bin_start": 0.04300000000000001,
            "bin_end": 0.05140000000000001,
            "count": 2
           },
           {
            "bin_start": 0.05140000000000001,
            "bin_end": 0.059800000000000006,
            "count": 0
           },
           {
            "bin_start": 0.059800000000000006,
            "bin_end": 0.06820000000000001,
            "count": 0
           },
           {
            "bin_start": 0.06820000000000001,
            "bin_end": 0.07660000000000002,
            "count": 0
           },
           {
            "bin_start": 0.07660000000000002,
            "bin_end": 0.085,
            "count": 1
           }
          ]
         }
        },
        {
         "name": "SFv",
         "dtype": "float64",
         "stats": {
          "unique_count": 63,
          "nan_count": 16,
          "min": "80.3",
          "max": "91.0",
          "histogram": [
           {
            "bin_start": 80.3,
            "bin_end": 81.37,
            "count": 7
           },
           {
            "bin_start": 81.37,
            "bin_end": 82.44,
            "count": 16
           },
           {
            "bin_start": 82.44,
            "bin_end": 83.50999999999999,
            "count": 72
           },
           {
            "bin_start": 83.50999999999999,
            "bin_end": 84.58,
            "count": 162
           },
           {
            "bin_start": 84.58,
            "bin_end": 85.65,
            "count": 142
           },
           {
            "bin_start": 85.65,
            "bin_end": 86.72,
            "count": 59
           },
           {
            "bin_start": 86.72,
            "bin_end": 87.78999999999999,
            "count": 8
           },
           {
            "bin_start": 87.78999999999999,
            "bin_end": 88.86,
            "count": 2
           },
           {
            "bin_start": 88.86,
            "bin_end": 89.93,
            "count": 1
           },
           {
            "bin_start": 89.93,
            "bin_end": 91,
            "count": 1
           }
          ]
         }
        },
        {
         "name": "KN%",
         "dtype": "float64",
         "stats": {
          "unique_count": 34,
          "nan_count": 289,
          "min": "0.0",
          "max": "0.045",
          "histogram": [
           {
            "bin_start": 0,
            "bin_end": 0.0045,
            "count": 38
           },
           {
            "bin_start": 0.0045,
            "bin_end": 0.009,
            "count": 55
           },
           {
            "bin_start": 0.009,
            "bin_end": 0.013499999999999998,
            "count": 50
           },
           {
            "bin_start": 0.013499999999999998,
            "bin_end": 0.018,
            "count": 27
           },
           {
            "bin_start": 0.018,
            "bin_end": 0.0225,
            "count": 11
           },
           {
            "bin_start": 0.0225,
            "bin_end": 0.026999999999999996,
            "count": 7
           },
           {
            "bin_start": 0.026999999999999996,
            "bin_end": 0.0315,
            "count": 2
           },
           {
            "bin_start": 0.0315,
            "bin_end": 0.036,
            "count": 1
           },
           {
            "bin_start": 0.036,
            "bin_end": 0.040499999999999994,
            "count": 1
           },
           {
            "bin_start": 0.040499999999999994,
            "bin_end": 0.045,
            "count": 5
           }
          ]
         }
        },
        {
         "name": "KNv",
         "dtype": "float64",
         "stats": {
          "unique_count": 78,
          "nan_count": 289,
          "min": "62.0",
          "max": "79.2",
          "histogram": [
           {
            "bin_start": 62,
            "bin_end": 63.72,
            "count": 1
           },
           {
            "bin_start": 63.72,
            "bin_end": 65.44,
            "count": 5
           },
           {
            "bin_start": 65.44,
            "bin_end": 67.16,
            "count": 15
           },
           {
            "bin_start": 67.16,
            "bin_end": 68.88,
            "count": 2
           },
           {
            "bin_start": 68.88,
            "bin_end": 70.6,
            "count": 1
           },
           {
            "bin_start": 70.6,
            "bin_end": 72.32,
            "count": 9
           },
           {
            "bin_start": 72.32,
            "bin_end": 74.04,
            "count": 17
           },
           {
            "bin_start": 74.04,
            "bin_end": 75.76,
            "count": 60
           },
           {
            "bin_start": 75.76,
            "bin_end": 77.48,
            "count": 67
           },
           {
            "bin_start": 77.48,
            "bin_end": 79.2,
            "count": 20
           }
          ]
         }
        },
        {
         "name": "XX%",
         "dtype": "float64",
         "stats": {
          "unique_count": 29,
          "nan_count": 110,
          "min": "0.0",
          "max": "0.047",
          "histogram": [
           {
            "bin_start": 0,
            "bin_end": 0.0047,
            "count": 173
           },
           {
            "bin_start": 0.0047,
            "bin_end": 0.0094,
            "count": 123
           },
           {
            "bin_start": 0.0094,
            "bin_end": 0.014100000000000001,
            "count": 50
           },
           {
            "bin_start": 0.014100000000000001,
            "bin_end": 0.0188,
            "count": 13
           },
           {
            "bin_start": 0.0188,
            "bin_end": 0.0235,
            "count": 11
           },
           {
            "bin_start": 0.0235,
            "bin_end": 0.028200000000000003,
            "count": 3
           },
           {
            "bin_start": 0.028200000000000003,
            "bin_end": 0.0329,
            "count": 1
           },
           {
            "bin_start": 0.0329,
            "bin_end": 0.0376,
            "count": 0
           },
           {
            "bin_start": 0.0376,
            "bin_end": 0.042300000000000004,
            "count": 0
           },
           {
            "bin_start": 0.042300000000000004,
            "bin_end": 0.047,
            "count": 2
           }
          ]
         }
        },
        {
         "name": "PO%",
         "dtype": "float64",
         "stats": {
          "unique_count": 0,
          "nan_count": 486,
          "min": null,
          "max": null,
          "histogram": [
           {
            "bin_start": 0,
            "bin_end": 0.1,
            "count": 0
           },
           {
            "bin_start": 0.1,
            "bin_end": 0.2,
            "count": 0
           },
           {
            "bin_start": 0.2,
            "bin_end": 0.30000000000000004,
            "count": 0
           },
           {
            "bin_start": 0.30000000000000004,
            "bin_end": 0.4,
            "count": 0
           },
           {
            "bin_start": 0.4,
            "bin_end": 0.5,
            "count": 0
           },
           {
            "bin_start": 0.5,
            "bin_end": 0.6000000000000001,
            "count": 0
           },
           {
            "bin_start": 0.6000000000000001,
            "bin_end": 0.7000000000000001,
            "count": 0
           },
           {
            "bin_start": 0.7000000000000001,
            "bin_end": 0.8,
            "count": 0
           },
           {
            "bin_start": 0.8,
            "bin_end": 0.9,
            "count": 0
           },
           {
            "bin_start": 0.9,
            "bin_end": 1,
            "count": 0
           }
          ]
         }
        },
        {
         "name": "wFB",
         "dtype": "float64",
         "stats": {
          "unique_count": 254,
          "nan_count": 1,
          "min": "-27.3",
          "max": "52.7",
          "histogram": [
           {
            "bin_start": -27.3,
            "bin_end": -19.3,
            "count": 1
           },
           {
            "bin_start": -19.3,
            "bin_end": -11.3,
            "count": 17
           },
           {
            "bin_start": -11.3,
            "bin_end": -3.3000000000000007,
            "count": 128
           },
           {
            "bin_start": -3.3000000000000007,
            "bin_end": 4.699999999999999,
            "count": 188
           },
           {
            "bin_start": 4.699999999999999,
            "bin_end": 12.7,
            "count": 89
           },
           {
            "bin_start": 12.7,
            "bin_end": 20.7,
            "count": 42
           },
           {
            "bin_start": 20.7,
            "bin_end": 28.7,
            "count": 14
           },
           {
            "bin_start": 28.7,
            "bin_end": 36.7,
            "count": 5
           },
           {
            "bin_start": 36.7,
            "bin_end": 44.7,
            "count": 0
           },
           {
            "bin_start": 44.7,
            "bin_end": 52.7,
            "count": 1
           }
          ]
         }
        },
        {
         "name": "wSL",
         "dtype": "float64",
         "stats": {
          "unique_count": 143,
          "nan_count": 2,
          "min": "-13.8",
          "max": "11.0",
          "histogram": [
           {
            "bin_start": -13.8,
            "bin_end": -11.32,
            "count": 2
           },
           {
            "bin_start": -11.32,
            "bin_end": -8.84,
            "count": 5
           },
           {
            "bin_start": -8.84,
            "bin_end": -6.360000000000001,
            "count": 21
           },
           {
            "bin_start": -6.360000000000001,
            "bin_end": -3.880000000000001,
            "count": 58
           },
           {
            "bin_start": -3.880000000000001,
            "bin_end": -1.4000000000000004,
            "count": 116
           },
           {
            "bin_start": -1.4000000000000004,
            "bin_end": 1.0799999999999983,
            "count": 168
           },
           {
            "bin_start": 1.0799999999999983,
            "bin_end": 3.5599999999999987,
            "count": 74
           },
           {
            "bin_start": 3.5599999999999987,
            "bin_end": 6.039999999999999,
            "count": 29
           },
           {
            "bin_start": 6.039999999999999,
            "bin_end": 8.52,
            "count": 8
           },
           {
            "bin_start": 8.52,
            "bin_end": 11,
            "count": 3
           }
          ]
         }
        },
        {
         "name": "wCT",
         "dtype": "float64",
         "stats": {
          "unique_count": 99,
          "nan_count": 2,
          "min": "-7.8",
          "max": "9.9",
          "histogram": [
           {
            "bin_start": -7.8,
            "bin_end": -6.029999999999999,
            "count": 1
           },
           {
            "bin_start": -6.029999999999999,
            "bin_end": -4.26,
            "count": 13
           },
           {
            "bin_start": -4.26,
            "bin_end": -2.4899999999999993,
            "count": 39
           },
           {
            "bin_start": -2.4899999999999993,
            "bin_end": -0.7199999999999998,
            "count": 108
           },
           {
            "bin_start": -0.7199999999999998,
            "bin_end": 1.0499999999999998,
            "count": 192
           },
           {
            "bin_start": 1.0499999999999998,
            "bin_end": 2.820000000000001,
            "count": 83
           },
           {
            "bin_start": 2.820000000000001,
            "bin_end": 4.590000000000001,
            "count": 40
           },
           {
            "bin_start": 4.590000000000001,
            "bin_end": 6.36,
            "count": 3
           },
           {
            "bin_start": 6.36,
            "bin_end": 8.129999999999999,
            "count": 3
           },
           {
            "bin_start": 8.129999999999999,
            "bin_end": 9.9,
            "count": 2
           }
          ]
         }
        },
        {
         "name": "wCB",
         "dtype": "float64",
         "stats": {
          "unique_count": 111,
          "nan_count": 1,
          "min": "-7.7",
          "max": "9.4",
          "histogram": [
           {
            "bin_start": -7.7,
            "bin_end": -5.99,
            "count": 3
           },
           {
            "bin_start": -5.99,
            "bin_end": -4.279999999999999,
            "count": 9
           },
           {
            "bin_start": -4.279999999999999,
            "bin_end": -2.5699999999999994,
            "count": 41
           },
           {
            "bin_start": -2.5699999999999994,
            "bin_end": -0.8599999999999994,
            "count": 107
           },
           {
            "bin_start": -0.8599999999999994,
            "bin_end": 0.8500000000000005,
            "count": 164
           },
           {
            "bin_start": 0.8500000000000005,
            "bin_end": 2.5600000000000014,
            "count": 88
           },
           {
            "bin_start": 2.5600000000000014,
            "bin_end": 4.2700000000000005,
            "count": 45
           },
           {
            "bin_start": 4.2700000000000005,
            "bin_end": 5.980000000000001,
            "count": 12
           },
           {
            "bin_start": 5.980000000000001,
            "bin_end": 7.690000000000002,
            "count": 10
           },
           {
            "bin_start": 7.690000000000002,
            "bin_end": 9.4,
            "count": 6
           }
          ]
         }
        },
        {
         "name": "wCH",
         "dtype": "float64",
         "stats": {
          "unique_count": 129,
          "nan_count": 3,
          "min": "-8.8",
          "max": "11.9",
          "histogram": [
           {
            "bin_start": -8.8,
            "bin_end": -6.73,
            "count": 4
           },
           {
            "bin_start": -6.73,
            "bin_end": -4.66,
            "count": 16
           },
           {
            "bin_start": -4.66,
            "bin_end": -2.59,
            "count": 69
           },
           {
            "bin_start": -2.59,
            "bin_end": -0.5199999999999996,
            "count": 126
           },
           {
            "bin_start": -0.5199999999999996,
            "bin_end": 1.5500000000000007,
            "count": 147
           },
           {
            "bin_start": 1.5500000000000007,
            "bin_end": 3.620000000000001,
            "count": 74
           },
           {
            "bin_start": 3.620000000000001,
            "bin_end": 5.690000000000001,
            "count": 26
           },
           {
            "bin_start": 5.690000000000001,
            "bin_end": 7.760000000000002,
            "count": 11
           },
           {
            "bin_start": 7.760000000000002,
            "bin_end": 9.830000000000002,
            "count": 7
           },
           {
            "bin_start": 9.830000000000002,
            "bin_end": 11.9,
            "count": 3
           }
          ]
         }
        },
        {
         "name": "wSF",
         "dtype": "float64",
         "stats": {
          "unique_count": 57,
          "nan_count": 16,
          "min": "-3.1",
          "max": "3.9",
          "histogram": [
           {
            "bin_start": -3.1,
            "bin_end": -2.4000000000000004,
            "count": 4
           },
           {
            "bin_start": -2.4000000000000004,
            "bin_end": -1.7000000000000002,
            "count": 8
           },
           {
            "bin_start": -1.7000000000000002,
            "bin_end": -1.0000000000000004,
            "count": 42
           },
           {
            "bin_start": -1.0000000000000004,
            "bin_end": -0.30000000000000027,
            "count": 104
           },
           {
            "bin_start": -0.30000000000000027,
            "bin_end": 0.3999999999999999,
            "count": 181
           },
           {
            "bin_start": 0.3999999999999999,
            "bin_end": 1.0999999999999992,
            "count": 63
           },
           {
            "bin_start": 1.0999999999999992,
            "bin_end": 1.7999999999999994,
            "count": 47
           },
           {
            "bin_start": 1.7999999999999994,
            "bin_end": 2.4999999999999996,
            "count": 12
           },
           {
            "bin_start": 2.4999999999999996,
            "bin_end": 3.1999999999999997,
            "count": 6
           },
           {
            "bin_start": 3.1999999999999997,
            "bin_end": 3.9,
            "count": 3
           }
          ]
         }
        },
        {
         "name": "wKN",
         "dtype": "float64",
         "stats": {
          "unique_count": 42,
          "nan_count": 289,
          "min": "-2.7",
          "max": "3.1",
          "histogram": [
           {
            "bin_start": -2.7,
            "bin_end": -2.12,
            "count": 2
           },
           {
            "bin_start": -2.12,
            "bin_end": -1.54,
            "count": 3
           },
           {
            "bin_start": -1.54,
            "bin_end": -0.96,
            "count": 16
           },
           {
            "bin_start": -0.96,
            "bin_end": -0.3799999999999999,
            "count": 48
           },
           {
            "bin_start": -0.3799999999999999,
            "bin_end": 0.20000000000000018,
            "count": 54
           },
           {
            "bin_start": 0.20000000000000018,
            "bin_end": 0.7800000000000002,
            "count": 32
           },
           {
            "bin_start": 0.7800000000000002,
            "bin_end": 1.3600000000000003,
            "count": 24
           },
           {
            "bin_start": 1.3600000000000003,
            "bin_end": 1.9400000000000004,
            "count": 12
           },
           {
            "bin_start": 1.9400000000000004,
            "bin_end": 2.5200000000000005,
            "count": 4
           },
           {
            "bin_start": 2.5200000000000005,
            "bin_end": 3.1,
            "count": 2
           }
          ]
         }
        },
        {
         "name": "wFB/C",
         "dtype": "float64",
         "stats": {
          "unique_count": 292,
          "nan_count": 1,
          "min": "-8.28",
          "max": "4.25",
          "histogram": [
           {
            "bin_start": -8.28,
            "bin_end": -7.026999999999999,
            "count": 1
           },
           {
            "bin_start": -7.026999999999999,
            "bin_end": -5.773999999999999,
            "count": 0
           },
           {
            "bin_start": -5.773999999999999,
            "bin_end": -4.521,
            "count": 0
           },
           {
            "bin_start": -4.521,
            "bin_end": -3.268,
            "count": 5
           },
           {
            "bin_start": -3.268,
            "bin_end": -2.0149999999999997,
            "count": 16
           },
           {
            "bin_start": -2.0149999999999997,
            "bin_end": -0.7620000000000005,
            "count": 83
           },
           {
            "bin_start": -0.7620000000000005,
            "bin_end": 0.49099999999999966,
            "count": 205
           },
           {
            "bin_start": 0.49099999999999966,
            "bin_end": 1.7439999999999998,
            "count": 133
           },
           {
            "bin_start": 1.7439999999999998,
            "bin_end": 2.997,
            "count": 37
           },
           {
            "bin_start": 2.997,
            "bin_end": 4.25,
            "count": 5
           }
          ]
         }
        },
        {
         "name": "wSL/C",
         "dtype": "float64",
         "stats": {
          "unique_count": 336,
          "nan_count": 2,
          "min": "-23.74",
          "max": "5.33",
          "histogram": [
           {
            "bin_start": -23.74,
            "bin_end": -20.833,
            "count": 1
           },
           {
            "bin_start": -20.833,
            "bin_end": -17.926,
            "count": 0
           },
           {
            "bin_start": -17.926,
            "bin_end": -15.018999999999998,
            "count": 0
           },
           {
            "bin_start": -15.018999999999998,
            "bin_end": -12.111999999999998,
            "count": 0
           },
           {
            "bin_start": -12.111999999999998,
            "bin_end": -9.204999999999998,
            "count": 0
           },
           {
            "bin_start": -9.204999999999998,
            "bin_end": -6.297999999999998,
            "count": 2
           },
           {
            "bin_start": -6.297999999999998,
            "bin_end": -3.3909999999999982,
            "count": 29
           },
           {
            "bin_start": -3.3909999999999982,
            "bin_end": -0.4839999999999982,
            "count": 213
           },
           {
            "bin_start": -0.4839999999999982,
            "bin_end": 2.423000000000002,
            "count": 221
           },
           {
            "bin_start": 2.423000000000002,
            "bin_end": 5.33,
            "count": 18
           }
          ]
         }
        },
        {
         "name": "wCT/C",
         "dtype": "float64",
         "stats": {
          "unique_count": 381,
          "nan_count": 2,
          "min": "-19.61",
          "max": "16.92",
          "histogram": [
           {
            "bin_start": -19.61,
            "bin_end": -15.956999999999999,
            "count": 1
           },
           {
            "bin_start": -15.956999999999999,
            "bin_end": -12.303999999999998,
            "count": 0
           },
           {
            "bin_start": -12.303999999999998,
            "bin_end": -8.651,
            "count": 1
           },
           {
            "bin_start": -8.651,
            "bin_end": -4.997999999999999,
            "count": 15
           },
           {
            "bin_start": -4.997999999999999,
            "bin_end": -1.3449999999999989,
            "count": 133
           },
           {
            "bin_start": -1.3449999999999989,
            "bin_end": 2.308,
            "count": 241
           },
           {
            "bin_start": 2.308,
            "bin_end": 5.961000000000002,
            "count": 78
           },
           {
            "bin_start": 5.961000000000002,
            "bin_end": 9.614,
            "count": 12
           },
           {
            "bin_start": 9.614,
            "bin_end": 13.267000000000003,
            "count": 2
           },
           {
            "bin_start": 13.267000000000003,
            "bin_end": 16.92,
            "count": 1
           }
          ]
         }
        },
        {
         "name": "wCB/C",
         "dtype": "float64",
         "stats": {
          "unique_count": 347,
          "nan_count": 1,
          "min": "-7.87",
          "max": "53.9",
          "histogram": [
           {
            "bin_start": -7.87,
            "bin_end": -1.6930000000000005,
            "count": 84
           },
           {
            "bin_start": -1.6930000000000005,
            "bin_end": 4.483999999999999,
            "count": 389
           },
           {
            "bin_start": 4.483999999999999,
            "bin_end": 10.660999999999998,
            "count": 11
           },
           {
            "bin_start": 10.660999999999998,
            "bin_end": 16.837999999999997,
            "count": 0
           },
           {
            "bin_start": 16.837999999999997,
            "bin_end": 23.014999999999997,
            "count": 0
           },
           {
            "bin_start": 23.014999999999997,
            "bin_end": 29.191999999999997,
            "count": 0
           },
           {
            "bin_start": 29.191999999999997,
            "bin_end": 35.369,
            "count": 0
           },
           {
            "bin_start": 35.369,
            "bin_end": 41.546,
            "count": 0
           },
           {
            "bin_start": 41.546,
            "bin_end": 47.723,
            "count": 0
           },
           {
            "bin_start": 47.723,
            "bin_end": 53.9,
            "count": 1
           }
          ]
         }
        },
        {
         "name": "wCH/C",
         "dtype": "float64",
         "stats": {
          "unique_count": 364,
          "nan_count": 3,
          "min": "-19.21",
          "max": "13.55",
          "histogram": [
           {
            "bin_start": -19.21,
            "bin_end": -15.934000000000001,
            "count": 1
           },
           {
            "bin_start": -15.934000000000001,
            "bin_end": -12.658,
            "count": 0
           },
           {
            "bin_start": -12.658,
            "bin_end": -9.381999999999998,
            "count": 1
           },
           {
            "bin_start": -9.381999999999998,
            "bin_end": -6.105999999999998,
            "count": 7
           },
           {
            "bin_start": -6.105999999999998,
            "bin_end": -2.8299999999999983,
            "count": 36
           },
           {
            "bin_start": -2.8299999999999983,
            "bin_end": 0.44600000000000506,
            "count": 259
           },
           {
            "bin_start": 0.44600000000000506,
            "bin_end": 3.722000000000005,
            "count": 161
           },
           {
            "bin_start": 3.722000000000005,
            "bin_end": 6.998000000000005,
            "count": 16
           },
           {
            "bin_start": 6.998000000000005,
            "bin_end": 10.274000000000004,
            "count": 1
           },
           {
            "bin_start": 10.274000000000004,
            "bin_end": 13.55,
            "count": 1
           }
          ]
         }
        },
        {
         "name": "wSF/C",
         "dtype": "float64",
         "stats": {
          "unique_count": 409,
          "nan_count": 16,
          "min": "-35.56",
          "max": "42.4",
          "histogram": [
           {
            "bin_start": -35.56,
            "bin_end": -27.764000000000003,
            "count": 2
           },
           {
            "bin_start": -27.764000000000003,
            "bin_end": -19.968,
            "count": 2
           },
           {
            "bin_start": -19.968,
            "bin_end": -12.171999999999997,
            "count": 10
           },
           {
            "bin_start": -12.171999999999997,
            "bin_end": -4.375999999999998,
            "count": 80
           },
           {
            "bin_start": -4.375999999999998,
            "bin_end": 3.4200000000000017,
            "count": 285
           },
           {
            "bin_start": 3.4200000000000017,
            "bin_end": 11.216000000000008,
            "count": 71
           },
           {
            "bin_start": 11.216000000000008,
            "bin_end": 19.012000000000008,
            "count": 12
           },
           {
            "bin_start": 19.012000000000008,
            "bin_end": 26.808000000000007,
            "count": 6
           },
           {
            "bin_start": 26.808000000000007,
            "bin_end": 34.60400000000001,
            "count": 1
           },
           {
            "bin_start": 34.60400000000001,
            "bin_end": 42.4,
            "count": 1
           }
          ]
         }
        },
        {
         "name": "wKN/C",
         "dtype": "float64",
         "stats": {
          "unique_count": 186,
          "nan_count": 289,
          "min": "-41.11",
          "max": "54.05",
          "histogram": [
           {
            "bin_start": -41.11,
            "bin_end": -31.594,
            "count": 1
           },
           {
            "bin_start": -31.594,
            "bin_end": -22.078,
            "count": 0
           },
           {
            "bin_start": -22.078,
            "bin_end": -12.561999999999998,
            "count": 3
           },
           {
            "bin_start": -12.561999999999998,
            "bin_end": -3.0459999999999994,
            "count": 69
           },
           {
            "bin_start": -3.0459999999999994,
            "bin_end": 6.469999999999999,
            "count": 89
           },
           {
            "bin_start": 6.469999999999999,
            "bin_end": 15.986000000000004,
            "count": 28
           },
           {
            "bin_start": 15.986000000000004,
            "bin_end": 25.501999999999995,
            "count": 4
           },
           {
            "bin_start": 25.501999999999995,
            "bin_end": 35.018,
            "count": 0
           },
           {
            "bin_start": 35.018,
            "bin_end": 44.534000000000006,
            "count": 1
           },
           {
            "bin_start": 44.534000000000006,
            "bin_end": 54.05,
            "count": 2
           }
          ]
         }
        },
        {
         "name": "O-Swing%",
         "dtype": "float64",
         "stats": {
          "unique_count": 207,
          "nan_count": 1,
          "min": "0.14300000000000002",
          "max": "0.667",
          "histogram": [
           {
            "bin_start": 0.14300000000000002,
            "bin_end": 0.19540000000000002,
            "count": 14
           },
           {
            "bin_start": 0.19540000000000002,
            "bin_end": 0.24780000000000002,
            "count": 71
           },
           {
            "bin_start": 0.24780000000000002,
            "bin_end": 0.3002,
            "count": 164
           },
           {
            "bin_start": 0.3002,
            "bin_end": 0.3526,
            "count": 150
           },
           {
            "bin_start": 0.3526,
            "bin_end": 0.405,
            "count": 54
           },
           {
            "bin_start": 0.405,
            "bin_end": 0.45740000000000003,
            "count": 24
           },
           {
            "bin_start": 0.45740000000000003,
            "bin_end": 0.5098,
            "count": 7
           },
           {
            "bin_start": 0.5098,
            "bin_end": 0.5622,
            "count": 0
           },
           {
            "bin_start": 0.5622,
            "bin_end": 0.6146,
            "count": 0
           },
           {
            "bin_start": 0.6146,
            "bin_end": 0.667,
            "count": 1
           }
          ]
         }
        },
        {
         "name": "Z-Swing%",
         "dtype": "float64",
         "stats": {
          "unique_count": 211,
          "nan_count": 1,
          "min": "0.33299999999999996",
          "max": "0.8490000000000001",
          "histogram": [
           {
            "bin_start": 0.33299999999999996,
            "bin_end": 0.3846,
            "count": 1
           },
           {
            "bin_start": 0.3846,
            "bin_end": 0.4362,
            "count": 0
           },
           {
            "bin_start": 0.4362,
            "bin_end": 0.4878,
            "count": 0
           },
           {
            "bin_start": 0.4878,
            "bin_end": 0.5394,
            "count": 13
           },
           {
            "bin_start": 0.5394,
            "bin_end": 0.591,
            "count": 37
           },
           {
            "bin_start": 0.591,
            "bin_end": 0.6426000000000001,
            "count": 117
           },
           {
            "bin_start": 0.6426000000000001,
            "bin_end": 0.6942,
            "count": 159
           },
           {
            "bin_start": 0.6942,
            "bin_end": 0.7458,
            "count": 115
           },
           {
            "bin_start": 0.7458,
            "bin_end": 0.7974000000000001,
            "count": 35
           },
           {
            "bin_start": 0.7974000000000001,
            "bin_end": 0.8490000000000001,
            "count": 8
           }
          ]
         }
        },
        {
         "name": "Swing%",
         "dtype": "float64",
         "stats": {
          "unique_count": 189,
          "nan_count": 1,
          "min": "0.341",
          "max": "0.667",
          "histogram": [
           {
            "bin_start": 0.341,
            "bin_end": 0.37360000000000004,
            "count": 15
           },
           {
            "bin_start": 0.37360000000000004,
            "bin_end": 0.4062,
            "count": 54
           },
           {
            "bin_start": 0.4062,
            "bin_end": 0.4388,
            "count": 90
           },
           {
            "bin_start": 0.4388,
            "bin_end": 0.47140000000000004,
            "count": 124
           },
           {
            "bin_start": 0.47140000000000004,
            "bin_end": 0.504,
            "count": 103
           },
           {
            "bin_start": 0.504,
            "bin_end": 0.5366000000000001,
            "count": 56
           },
           {
            "bin_start": 0.5366000000000001,
            "bin_end": 0.5692,
            "count": 26
           },
           {
            "bin_start": 0.5692,
            "bin_end": 0.6018000000000001,
            "count": 14
           },
           {
            "bin_start": 0.6018000000000001,
            "bin_end": 0.6344000000000001,
            "count": 2
           },
           {
            "bin_start": 0.6344000000000001,
            "bin_end": 0.667,
            "count": 1
           }
          ]
         }
        },
        {
         "name": "O-Contact%",
         "dtype": "float64",
         "stats": {
          "unique_count": 277,
          "nan_count": 1,
          "min": "0.303",
          "max": "1.0",
          "histogram": [
           {
            "bin_start": 0.303,
            "bin_end": 0.37270000000000003,
            "count": 2
           },
           {
            "bin_start": 0.37270000000000003,
            "bin_end": 0.4424,
            "count": 6
           },
           {
            "bin_start": 0.4424,
            "bin_end": 0.5121,
            "count": 41
           },
           {
            "bin_start": 0.5121,
            "bin_end": 0.5818000000000001,
            "count": 68
           },
           {
            "bin_start": 0.5818000000000001,
            "bin_end": 0.6515,
            "count": 141
           },
           {
            "bin_start": 0.6515,
            "bin_end": 0.7212000000000001,
            "count": 112
           },
           {
            "bin_start": 0.7212000000000001,
            "bin_end": 0.7909000000000002,
            "count": 77
           },
           {
            "bin_start": 0.7909000000000002,
            "bin_end": 0.8606,
            "count": 33
           },
           {
            "bin_start": 0.8606,
            "bin_end": 0.9303000000000001,
            "count": 4
           },
           {
            "bin_start": 0.9303000000000001,
            "bin_end": 1,
            "count": 1
           }
          ]
         }
        },
        {
         "name": "Z-Contact%",
         "dtype": "float64",
         "stats": {
          "unique_count": 189,
          "nan_count": 1,
          "min": "0.695",
          "max": "1.0",
          "histogram": [
           {
            "bin_start": 0.695,
            "bin_end": 0.7254999999999999,
            "count": 4
           },
           {
            "bin_start": 0.7254999999999999,
            "bin_end": 0.756,
            "count": 12
           },
           {
            "bin_start": 0.756,
            "bin_end": 0.7865,
            "count": 22
           },
           {
            "bin_start": 0.7865,
            "bin_end": 0.817,
            "count": 46
           },
           {
            "bin_start": 0.817,
            "bin_end": 0.8474999999999999,
            "count": 75
           },
           {
            "bin_start": 0.8474999999999999,
            "bin_end": 0.878,
            "count": 104
           },
           {
            "bin_start": 0.878,
            "bin_end": 0.9085,
            "count": 105
           },
           {
            "bin_start": 0.9085,
            "bin_end": 0.9390000000000001,
            "count": 87
           },
           {
            "bin_start": 0.9390000000000001,
            "bin_end": 0.9695,
            "count": 23
           },
           {
            "bin_start": 0.9695,
            "bin_end": 1,
            "count": 7
           }
          ]
         }
        },
        {
         "name": "Contact%",
         "dtype": "float64",
         "stats": {
          "unique_count": 219,
          "nan_count": 1,
          "min": "0.622",
          "max": "0.953",
          "histogram": [
           {
            "bin_start": 0.622,
            "bin_end": 0.6551,
            "count": 13
           },
           {
            "bin_start": 0.6551,
            "bin_end": 0.6882,
            "count": 19
           },
           {
            "bin_start": 0.6882,
            "bin_end": 0.7213,
            "count": 46
           },
           {
            "bin_start": 0.7213,
            "bin_end": 0.7544,
            "count": 66
           },
           {
            "bin_start": 0.7544,
            "bin_end": 0.7875,
            "count": 94
           },
           {
            "bin_start": 0.7875,
            "bin_end": 0.8206,
            "count": 96
           },
           {
            "bin_start": 0.8206,
            "bin_end": 0.8537,
            "count": 68
           },
           {
            "bin_start": 0.8537,
            "bin_end": 0.8868,
            "count": 52
           },
           {
            "bin_start": 0.8868,
            "bin_end": 0.9198999999999999,
            "count": 25
           },
           {
            "bin_start": 0.9198999999999999,
            "bin_end": 0.953,
            "count": 6
           }
          ]
         }
        },
        {
         "name": "Zone%",
         "dtype": "float64",
         "stats": {
          "unique_count": 132,
          "nan_count": 1,
          "min": "0.337",
          "max": "0.75",
          "histogram": [
           {
            "bin_start": 0.337,
            "bin_end": 0.3783,
            "count": 10
           },
           {
            "bin_start": 0.3783,
            "bin_end": 0.41960000000000003,
            "count": 112
           },
           {
            "bin_start": 0.41960000000000003,
            "bin_end": 0.4609,
            "count": 231
           },
           {
            "bin_start": 0.4609,
            "bin_end": 0.5022,
            "count": 120
           },
           {
            "bin_start": 0.5022,
            "bin_end": 0.5435,
            "count": 10
           },
           {
            "bin_start": 0.5435,
            "bin_end": 0.5848,
            "count": 0
           },
           {
            "bin_start": 0.5848,
            "bin_end": 0.6261,
            "count": 0
           },
           {
            "bin_start": 0.6261,
            "bin_end": 0.6674,
            "count": 1
           },
           {
            "bin_start": 0.6674,
            "bin_end": 0.7087,
            "count": 0
           },
           {
            "bin_start": 0.7087,
            "bin_end": 0.75,
            "count": 1
           }
          ]
         }
        },
        {
         "name": "F-Strike%",
         "dtype": "float64",
         "stats": {
          "unique_count": 165,
          "nan_count": 1,
          "min": "0.4",
          "max": "0.833",
          "histogram": [
           {
            "bin_start": 0.4,
            "bin_end": 0.4433,
            "count": 1
           },
           {
            "bin_start": 0.4433,
            "bin_end": 0.48660000000000003,
            "count": 1
           },
           {
            "bin_start": 0.48660000000000003,
            "bin_end": 0.5299,
            "count": 21
           },
           {
            "bin_start": 0.5299,
            "bin_end": 0.5731999999999999,
            "count": 117
           },
           {
            "bin_start": 0.5731999999999999,
            "bin_end": 0.6165,
            "count": 179
           },
           {
            "bin_start": 0.6165,
            "bin_end": 0.6597999999999999,
            "count": 133
           },
           {
            "bin_start": 0.6597999999999999,
            "bin_end": 0.7031,
            "count": 23
           },
           {
            "bin_start": 0.7031,
            "bin_end": 0.7464,
            "count": 6
           },
           {
            "bin_start": 0.7464,
            "bin_end": 0.7897,
            "count": 2
           },
           {
            "bin_start": 0.7897,
            "bin_end": 0.833,
            "count": 2
           }
          ]
         }
        },
        {
         "name": "SwStr%",
         "dtype": "float64",
         "stats": {
          "unique_count": 137,
          "nan_count": 1,
          "min": "0.019",
          "max": "0.203",
          "histogram": [
           {
            "bin_start": 0.019,
            "bin_end": 0.0374,
            "count": 8
           },
           {
            "bin_start": 0.0374,
            "bin_end": 0.0558,
            "count": 36
           },
           {
            "bin_start": 0.0558,
            "bin_end": 0.07420000000000002,
            "count": 78
           },
           {
            "bin_start": 0.07420000000000002,
            "bin_end": 0.09260000000000002,
            "count": 93
           },
           {
            "bin_start": 0.09260000000000002,
            "bin_end": 0.11100000000000002,
            "count": 104
           },
           {
            "bin_start": 0.11100000000000002,
            "bin_end": 0.12940000000000002,
            "count": 75
           },
           {
            "bin_start": 0.12940000000000002,
            "bin_end": 0.14780000000000001,
            "count": 49
           },
           {
            "bin_start": 0.14780000000000001,
            "bin_end": 0.16620000000000001,
            "count": 30
           },
           {
            "bin_start": 0.16620000000000001,
            "bin_end": 0.18460000000000001,
            "count": 8
           },
           {
            "bin_start": 0.18460000000000001,
            "bin_end": 0.203,
            "count": 4
           }
          ]
         }
        },
        {
         "name": "BsR",
         "dtype": "float64",
         "stats": {
          "unique_count": 123,
          "nan_count": 0,
          "min": "-11.1",
          "max": "10.7",
          "histogram": [
           {
            "bin_start": -11.1,
            "bin_end": -8.92,
            "count": 2
           },
           {
            "bin_start": -8.92,
            "bin_end": -6.74,
            "count": 4
           },
           {
            "bin_start": -6.74,
            "bin_end": -4.5600000000000005,
            "count": 27
           },
           {
            "bin_start": -4.5600000000000005,
            "bin_end": -2.380000000000001,
            "count": 75
           },
           {
            "bin_start": -2.380000000000001,
            "bin_end": -0.20000000000000107,
            "count": 167
           },
           {
            "bin_start": -0.20000000000000107,
            "bin_end": 1.9799999999999986,
            "count": 144
           },
           {
            "bin_start": 1.9799999999999986,
            "bin_end": 4.159999999999998,
            "count": 39
           },
           {
            "bin_start": 4.159999999999998,
            "bin_end": 6.339999999999998,
            "count": 17
           },
           {
            "bin_start": 6.339999999999998,
            "bin_end": 8.519999999999998,
            "count": 5
           },
           {
            "bin_start": 8.519999999999998,
            "bin_end": 10.7,
            "count": 6
           }
          ]
         }
        },
        {
         "name": "FA% (sc)",
         "dtype": "float64",
         "stats": {
          "unique_count": 155,
          "nan_count": 1,
          "min": "0.23399999999999999",
          "max": "0.833",
          "histogram": [
           {
            "bin_start": 0.23399999999999999,
            "bin_end": 0.2939,
            "count": 38
           },
           {
            "bin_start": 0.2939,
            "bin_end": 0.3538,
            "count": 249
           },
           {
            "bin_start": 0.3538,
            "bin_end": 0.41369999999999996,
            "count": 168
           },
           {
            "bin_start": 0.41369999999999996,
            "bin_end": 0.47359999999999997,
            "count": 26
           },
           {
            "bin_start": 0.47359999999999997,
            "bin_end": 0.5335,
            "count": 2
           },
           {
            "bin_start": 0.5335,
            "bin_end": 0.5933999999999999,
            "count": 0
           },
           {
            "bin_start": 0.5933999999999999,
            "bin_end": 0.6533,
            "count": 0
           },
           {
            "bin_start": 0.6533,
            "bin_end": 0.7132,
            "count": 1
           },
           {
            "bin_start": 0.7132,
            "bin_end": 0.7730999999999999,
            "count": 0
           },
           {
            "bin_start": 0.7730999999999999,
            "bin_end": 0.833,
            "count": 1
           }
          ]
         }
        },
        {
         "name": "FT% (sc)",
         "dtype": "float64",
         "stats": {
          "unique_count": 113,
          "nan_count": 2,
          "min": "0.032",
          "max": "0.25",
          "histogram": [
           {
            "bin_start": 0.032,
            "bin_end": 0.0538,
            "count": 2
           },
           {
            "bin_start": 0.0538,
            "bin_end": 0.0756,
            "count": 25
           },
           {
            "bin_start": 0.0756,
            "bin_end": 0.0974,
            "count": 86
           },
           {
            "bin_start": 0.0974,
            "bin_end": 0.1192,
            "count": 169
           },
           {
            "bin_start": 0.1192,
            "bin_end": 0.14100000000000001,
            "count": 127
           },
           {
            "bin_start": 0.14100000000000001,
            "bin_end": 0.1628,
            "count": 51
           },
           {
            "bin_start": 0.1628,
            "bin_end": 0.18460000000000001,
            "count": 16
           },
           {
            "bin_start": 0.18460000000000001,
            "bin_end": 0.2064,
            "count": 5
           },
           {
            "bin_start": 0.2064,
            "bin_end": 0.2282,
            "count": 2
           },
           {
            "bin_start": 0.2282,
            "bin_end": 0.25,
            "count": 1
           }
          ]
         }
        },
        {
         "name": "FC% (sc)",
         "dtype": "float64",
         "stats": {
          "unique_count": 71,
          "nan_count": 3,
          "min": "0.011000000000000001",
          "max": "0.13",
          "histogram": [
           {
            "bin_start": 0.011000000000000001,
            "bin_end": 0.022900000000000004,
            "count": 4
           },
           {
            "bin_start": 0.022900000000000004,
            "bin_end": 0.034800000000000005,
            "count": 21
           },
           {
            "bin_start": 0.034800000000000005,
            "bin_end": 0.046700000000000005,
            "count": 106
           },
           {
            "bin_start": 0.046700000000000005,
            "bin_end": 0.058600000000000006,
            "count": 160
           },
           {
            "bin_start": 0.058600000000000006,
            "bin_end": 0.07050000000000001,
            "count": 119
           },
           {
            "bin_start": 0.07050000000000001,
            "bin_end": 0.0824,
            "count": 54
           },
           {
            "bin_start": 0.0824,
            "bin_end": 0.09430000000000001,
            "count": 14
           },
           {
            "bin_start": 0.09430000000000001,
            "bin_end": 0.1062,
            "count": 4
           },
           {
            "bin_start": 0.1062,
            "bin_end": 0.1181,
            "count": 0
           },
           {
            "bin_start": 0.1181,
            "bin_end": 0.13,
            "count": 1
           }
          ]
         }
        },
        {
         "name": "FS% (sc)",
         "dtype": "float64",
         "stats": {
          "unique_count": 41,
          "nan_count": 14,
          "min": "0.001",
          "max": "0.053",
          "histogram": [
           {
            "bin_start": 0.001,
            "bin_end": 0.0062,
            "count": 73
           },
           {
            "bin_start": 0.0062,
            "bin_end": 0.0114,
            "count": 111
           },
           {
            "bin_start": 0.0114,
            "bin_end": 0.0166,
            "count": 88
           },
           {
            "bin_start": 0.0166,
            "bin_end": 0.0218,
            "count": 79
           },
           {
            "bin_start": 0.0218,
            "bin_end": 0.027,
            "count": 50
           },
           {
            "bin_start": 0.027,
            "bin_end": 0.0322,
            "count": 40
           },
           {
            "bin_start": 0.0322,
            "bin_end": 0.0374,
            "count": 21
           },
           {
            "bin_start": 0.0374,
            "bin_end": 0.0426,
            "count": 7
           },
           {
            "bin_start": 0.0426,
            "bin_end": 0.047799999999999995,
            "count": 2
           },
           {
            "bin_start": 0.047799999999999995,
            "bin_end": 0.053,
            "count": 1
           }
          ]
         }
        },
        {
         "name": "FO% (sc)",
         "dtype": "float64",
         "stats": {
          "unique_count": 8,
          "nan_count": 383,
          "min": "0.0",
          "max": "0.011000000000000001",
          "histogram": [
           {
            "bin_start": 0,
            "bin_end": 0.0011,
            "count": 73
           },
           {
            "bin_start": 0.0011,
            "bin_end": 0.0022,
            "count": 17
           },
           {
            "bin_start": 0.0022,
            "bin_end": 0.0033,
            "count": 3
           },
           {
            "bin_start": 0.0033,
            "bin_end": 0.0044,
            "count": 6
           },
           {
            "bin_start": 0.0044,
            "bin_end": 0.0055000000000000005,
            "count": 1
           },
           {
            "bin_start": 0.0055000000000000005,
            "bin_end": 0.0066,
            "count": 2
           },
           {
            "bin_start": 0.0066,
            "bin_end": 0.0077,
            "count": 0
           },
           {
            "bin_start": 0.0077,
            "bin_end": 0.0088,
            "count": 0
           },
           {
            "bin_start": 0.0088,
            "bin_end": 0.0099,
            "count": 0
           },
           {
            "bin_start": 0.0099,
            "bin_end": 0.011000000000000001,
            "count": 1
           }
          ]
         }
        },
        {
         "name": "SI% (sc)",
         "dtype": "float64",
         "stats": {
          "unique_count": 119,
          "nan_count": 3,
          "min": "0.022000000000000002",
          "max": "0.20199999999999999",
          "histogram": [
           {
            "bin_start": 0.022000000000000002,
            "bin_end": 0.04,
            "count": 5
           },
           {
            "bin_start": 0.04,
            "bin_end": 0.057999999999999996,
            "count": 22
           },
           {
            "bin_start": 0.057999999999999996,
            "bin_end": 0.076,
            "count": 73
           },
           {
            "bin_start": 0.076,
            "bin_end": 0.094,
            "count": 124
           },
           {
            "bin_start": 0.094,
            "bin_end": 0.112,
            "count": 131
           },
           {
            "bin_start": 0.112,
            "bin_end": 0.12999999999999998,
            "count": 71
           },
           {
            "bin_start": 0.12999999999999998,
            "bin_end": 0.148,
            "count": 40
           },
           {
            "bin_start": 0.148,
            "bin_end": 0.16599999999999998,
            "count": 12
           },
           {
            "bin_start": 0.16599999999999998,
            "bin_end": 0.18399999999999997,
            "count": 4
           },
           {
            "bin_start": 0.18399999999999997,
            "bin_end": 0.20199999999999999,
            "count": 1
           }
          ]
         }
        },
        {
         "name": "SL% (sc)",
         "dtype": "float64",
         "stats": {
          "unique_count": 154,
          "nan_count": 2,
          "min": "0.025",
          "max": "0.304",
          "histogram": [
           {
            "bin_start": 0.025,
            "bin_end": 0.0529,
            "count": 1
           },
           {
            "bin_start": 0.0529,
            "bin_end": 0.0808,
            "count": 9
           },
           {
            "bin_start": 0.0808,
            "bin_end": 0.10869999999999999,
            "count": 54
           },
           {
            "bin_start": 0.10869999999999999,
            "bin_end": 0.1366,
            "count": 108
           },
           {
            "bin_start": 0.1366,
            "bin_end": 0.16449999999999998,
            "count": 130
           },
           {
            "bin_start": 0.16449999999999998,
            "bin_end": 0.1924,
            "count": 105
           },
           {
            "bin_start": 0.1924,
            "bin_end": 0.22029999999999997,
            "count": 54
           },
           {
            "bin_start": 0.22029999999999997,
            "bin_end": 0.24819999999999998,
            "count": 21
           },
           {
            "bin_start": 0.24819999999999998,
            "bin_end": 0.2761,
            "count": 1
           },
           {
            "bin_start": 0.2761,
            "bin_end": 0.304,
            "count": 1
           }
          ]
         }
        },
        {
         "name": "CU% (sc)",
         "dtype": "float64",
         "stats": {
          "unique_count": 84,
          "nan_count": 2,
          "min": "0.013999999999999999",
          "max": "0.142",
          "histogram": [
           {
            "bin_start": 0.013999999999999999,
            "bin_end": 0.026799999999999997,
            "count": 2
           },
           {
            "bin_start": 0.026799999999999997,
            "bin_end": 0.039599999999999996,
            "count": 2
           },
           {
            "bin_start": 0.039599999999999996,
            "bin_end": 0.0524,
            "count": 18
           },
           {
            "bin_start": 0.0524,
            "bin_end": 0.06520000000000001,
            "count": 72
           },
           {
            "bin_start": 0.06520000000000001,
            "bin_end": 0.078,
            "count": 121
           },
           {
            "bin_start": 0.078,
            "bin_end": 0.0908,
            "count": 141
           },
           {
            "bin_start": 0.0908,
            "bin_end": 0.1036,
            "count": 82
           },
           {
            "bin_start": 0.1036,
            "bin_end": 0.1164,
            "count": 37
           },
           {
            "bin_start": 0.1164,
            "bin_end": 0.1292,
            "count": 6
           },
           {
            "bin_start": 0.1292,
            "bin_end": 0.142,
            "count": 3
           }
          ]
         }
        },
        {
         "name": "KC% (sc)",
         "dtype": "float64",
         "stats": {
          "unique_count": 49,
          "nan_count": 7,
          "min": "0.001",
          "max": "0.083",
          "histogram": [
           {
            "bin_start": 0.001,
            "bin_end": 0.0092,
            "count": 38
           },
           {
            "bin_start": 0.0092,
            "bin_end": 0.017400000000000002,
            "count": 138
           },
           {
            "bin_start": 0.017400000000000002,
            "bin_end": 0.025600000000000005,
            "count": 167
           },
           {
            "bin_start": 0.025600000000000005,
            "bin_end": 0.033800000000000004,
            "count": 91
           },
           {
            "bin_start": 0.033800000000000004,
            "bin_end": 0.042,
            "count": 33
           },
           {
            "bin_start": 0.042,
            "bin_end": 0.05020000000000001,
            "count": 9
           },
           {
            "bin_start": 0.05020000000000001,
            "bin_end": 0.05840000000000001,
            "count": 2
           },
           {
            "bin_start": 0.05840000000000001,
            "bin_end": 0.0666,
            "count": 0
           },
           {
            "bin_start": 0.0666,
            "bin_end": 0.0748,
            "count": 0
           },
           {
            "bin_start": 0.0748,
            "bin_end": 0.083,
            "count": 1
           }
          ]
         }
        },
        {
         "name": "EP% (sc)",
         "dtype": "float64",
         "stats": {
          "unique_count": 4,
          "nan_count": 342,
          "min": "0.0",
          "max": "0.003",
          "histogram": [
           {
            "bin_start": 0,
            "bin_end": 0.00030000000000000003,
            "count": 37
           },
           {
            "bin_start": 0.00030000000000000003,
            "bin_end": 0.0006000000000000001,
            "count": 0
           },
           {
            "bin_start": 0.0006000000000000001,
            "bin_end": 0.0009000000000000001,
            "count": 0
           },
           {
            "bin_start": 0.0009000000000000001,
            "bin_end": 0.0012000000000000001,
            "count": 81
           },
           {
            "bin_start": 0.0012000000000000001,
            "bin_end": 0.0015,
            "count": 0
           },
           {
            "bin_start": 0.0015,
            "bin_end": 0.0018000000000000002,
            "count": 0
           },
           {
            "bin_start": 0.0018000000000000002,
            "bin_end": 0.0021000000000000003,
            "count": 21
           },
           {
            "bin_start": 0.0021000000000000003,
            "bin_end": 0.0024000000000000002,
            "count": 0
           },
           {
            "bin_start": 0.0024000000000000002,
            "bin_end": 0.0027,
            "count": 0
           },
           {
            "bin_start": 0.0027,
            "bin_end": 0.003,
            "count": 5
           }
          ]
         }
        },
        {
         "name": "CH% (sc)",
         "dtype": "float64",
         "stats": {
          "unique_count": 111,
          "nan_count": 4,
          "min": "0.051",
          "max": "0.259",
          "histogram": [
           {
            "bin_start": 0.051,
            "bin_end": 0.0718,
            "count": 23
           },
           {
            "bin_start": 0.0718,
            "bin_end": 0.0926,
            "count": 108
           },
           {
            "bin_start": 0.0926,
            "bin_end": 0.1134,
            "count": 160
           },
           {
            "bin_start": 0.1134,
            "bin_end": 0.1342,
            "count": 116
           },
           {
            "bin_start": 0.1342,
            "bin_end": 0.155,
            "count": 49
           },
           {
            "bin_start": 0.155,
            "bin_end": 0.1758,
            "count": 21
           },
           {
            "bin_start": 0.1758,
            "bin_end": 0.1966,
            "count": 3
           },
           {
            "bin_start": 0.1966,
            "bin_end": 0.2174,
            "count": 1
           },
           {
            "bin_start": 0.2174,
            "bin_end": 0.23820000000000002,
            "count": 0
           },
           {
            "bin_start": 0.23820000000000002,
            "bin_end": 0.259,
            "count": 1
           }
          ]
         }
        },
        {
         "name": "SC% (sc)",
         "dtype": "float64",
         "stats": {
          "unique_count": 3,
          "nan_count": 438,
          "min": "0.0",
          "max": "0.002",
          "histogram": [
           {
            "bin_start": 0,
            "bin_end": 0.0002,
            "count": 19
           },
           {
            "bin_start": 0.0002,
            "bin_end": 0.0004,
            "count": 0
           },
           {
            "bin_start": 0.0004,
            "bin_end": 0.0006000000000000001,
            "count": 0
           },
           {
            "bin_start": 0.0006000000000000001,
            "bin_end": 0.0008,
            "count": 0
           },
           {
            "bin_start": 0.0008,
            "bin_end": 0.001,
            "count": 0
           },
           {
            "bin_start": 0.001,
            "bin_end": 0.0012000000000000001,
            "count": 24
           },
           {
            "bin_start": 0.0012000000000000001,
            "bin_end": 0.0014,
            "count": 0
           },
           {
            "bin_start": 0.0014,
            "bin_end": 0.0016,
            "count": 0
           },
           {
            "bin_start": 0.0016,
            "bin_end": 0.0018000000000000002,
            "count": 0
           },
           {
            "bin_start": 0.0018000000000000002,
            "bin_end": 0.002,
            "count": 5
           }
          ]
         }
        },
        {
         "name": "KN% (sc)",
         "dtype": "float64",
         "stats": {
          "unique_count": 31,
          "nan_count": 291,
          "min": "0.0",
          "max": "0.043",
          "histogram": [
           {
            "bin_start": 0,
            "bin_end": 0.0043,
            "count": 36
           },
           {
            "bin_start": 0.0043,
            "bin_end": 0.0086,
            "count": 59
           },
           {
            "bin_start": 0.0086,
            "bin_end": 0.0129,
            "count": 43
           },
           {
            "bin_start": 0.0129,
            "bin_end": 0.0172,
            "count": 32
           },
           {
            "bin_start": 0.0172,
            "bin_end": 0.0215,
            "count": 8
           },
           {
            "bin_start": 0.0215,
            "bin_end": 0.0258,
            "count": 6
           },
           {
            "bin_start": 0.0258,
            "bin_end": 0.030100000000000002,
            "count": 4
           },
           {
            "bin_start": 0.030100000000000002,
            "bin_end": 0.0344,
            "count": 1
           },
           {
            "bin_start": 0.0344,
            "bin_end": 0.0387,
            "count": 1
           },
           {
            "bin_start": 0.0387,
            "bin_end": 0.043,
            "count": 5
           }
          ]
         }
        },
        {
         "name": "UN% (sc)",
         "dtype": "float64",
         "stats": {
          "unique_count": 0,
          "nan_count": 486,
          "min": null,
          "max": null,
          "histogram": [
           {
            "bin_start": 0,
            "bin_end": 0.1,
            "count": 0
           },
           {
            "bin_start": 0.1,
            "bin_end": 0.2,
            "count": 0
           },
           {
            "bin_start": 0.2,
            "bin_end": 0.30000000000000004,
            "count": 0
           },
           {
            "bin_start": 0.30000000000000004,
            "bin_end": 0.4,
            "count": 0
           },
           {
            "bin_start": 0.4,
            "bin_end": 0.5,
            "count": 0
           },
           {
            "bin_start": 0.5,
            "bin_end": 0.6000000000000001,
            "count": 0
           },
           {
            "bin_start": 0.6000000000000001,
            "bin_end": 0.7000000000000001,
            "count": 0
           },
           {
            "bin_start": 0.7000000000000001,
            "bin_end": 0.8,
            "count": 0
           },
           {
            "bin_start": 0.8,
            "bin_end": 0.9,
            "count": 0
           },
           {
            "bin_start": 0.9,
            "bin_end": 1,
            "count": 0
           }
          ]
         }
        },
        {
         "name": "vFA (sc)",
         "dtype": "float64",
         "stats": {
          "unique_count": 40,
          "nan_count": 1,
          "min": "89.5",
          "max": "94.2",
          "histogram": [
           {
            "bin_start": 89.5,
            "bin_end": 89.97,
            "count": 1
           },
           {
            "bin_start": 89.97,
            "bin_end": 90.44,
            "count": 2
           },
           {
            "bin_start": 90.44,
            "bin_end": 90.91,
            "count": 4
           },
           {
            "bin_start": 90.91,
            "bin_end": 91.38,
            "count": 25
           },
           {
            "bin_start": 91.38,
            "bin_end": 91.85,
            "count": 89
           },
           {
            "bin_start": 91.85,
            "bin_end": 92.32000000000001,
            "count": 131
           },
           {
            "bin_start": 92.32000000000001,
            "bin_end": 92.79,
            "count": 79
           },
           {
            "bin_start": 92.79,
            "bin_end": 93.26,
            "count": 73
           },
           {
            "bin_start": 93.26,
            "bin_end": 93.73,
            "count": 71
           },
           {
            "bin_start": 93.73,
            "bin_end": 94.2,
            "count": 10
           }
          ]
         }
        },
        {
         "name": "vFT (sc)",
         "dtype": "float64",
         "stats": {
          "unique_count": 43,
          "nan_count": 2,
          "min": "89.0",
          "max": "95.8",
          "histogram": [
           {
            "bin_start": 89,
            "bin_end": 89.68,
            "count": 2
           },
           {
            "bin_start": 89.68,
            "bin_end": 90.36,
            "count": 15
           },
           {
            "bin_start": 90.36,
            "bin_end": 91.03999999999999,
            "count": 75
           },
           {
            "bin_start": 91.03999999999999,
            "bin_end": 91.72,
            "count": 156
           },
           {
            "bin_start": 91.72,
            "bin_end": 92.4,
            "count": 131
           },
           {
            "bin_start": 92.4,
            "bin_end": 93.08,
            "count": 86
           },
           {
            "bin_start": 93.08,
            "bin_end": 93.75999999999999,
            "count": 14
           },
           {
            "bin_start": 93.75999999999999,
            "bin_end": 94.44,
            "count": 4
           },
           {
            "bin_start": 94.44,
            "bin_end": 95.12,
            "count": 0
           },
           {
            "bin_start": 95.12,
            "bin_end": 95.8,
            "count": 1
           }
          ]
         }
        },
        {
         "name": "vFC (sc)",
         "dtype": "float64",
         "stats": {
          "unique_count": 52,
          "nan_count": 3,
          "min": "82.4",
          "max": "90.6",
          "histogram": [
           {
            "bin_start": 82.4,
            "bin_end": 83.22,
            "count": 2
           },
           {
            "bin_start": 83.22,
            "bin_end": 84.04,
            "count": 1
           },
           {
            "bin_start": 84.04,
            "bin_end": 84.86,
            "count": 0
           },
           {
            "bin_start": 84.86,
            "bin_end": 85.68,
            "count": 5
           },
           {
            "bin_start": 85.68,
            "bin_end": 86.5,
            "count": 11
           },
           {
            "bin_start": 86.5,
            "bin_end": 87.32,
            "count": 70
           },
           {
            "bin_start": 87.32,
            "bin_end": 88.14,
            "count": 160
           },
           {
            "bin_start": 88.14,
            "bin_end": 88.96,
            "count": 155
           },
           {
            "bin_start": 88.96,
            "bin_end": 89.78,
            "count": 65
           },
           {
            "bin_start": 89.78,
            "bin_end": 90.6,
            "count": 14
           }
          ]
         }
        },
        {
         "name": "vFS (sc)",
         "dtype": "float64",
         "stats": {
          "unique_count": 68,
          "nan_count": 14,
          "min": "79.2",
          "max": "89.0",
          "histogram": [
           {
            "bin_start": 79.2,
            "bin_end": 80.18,
            "count": 1
           },
           {
            "bin_start": 80.18,
            "bin_end": 81.16,
            "count": 3
           },
           {
            "bin_start": 81.16,
            "bin_end": 82.14,
            "count": 9
           },
           {
            "bin_start": 82.14,
            "bin_end": 83.12,
            "count": 55
           },
           {
            "bin_start": 83.12,
            "bin_end": 84.1,
            "count": 112
           },
           {
            "bin_start": 84.1,
            "bin_end": 85.08,
            "count": 152
           },
           {
            "bin_start": 85.08,
            "bin_end": 86.06,
            "count": 109
           },
           {
            "bin_start": 86.06,
            "bin_end": 87.04,
            "count": 22
           },
           {
            "bin_start": 87.04,
            "bin_end": 88.02,
            "count": 6
           },
           {
            "bin_start": 88.02,
            "bin_end": 89,
            "count": 3
           }
          ]
         }
        },
        {
         "name": "vFO (sc)",
         "dtype": "float64",
         "stats": {
          "unique_count": 59,
          "nan_count": 383,
          "min": "73.1",
          "max": "89.7",
          "histogram": [
           {
            "bin_start": 73.1,
            "bin_end": 74.75999999999999,
            "count": 3
           },
           {
            "bin_start": 74.75999999999999,
            "bin_end": 76.42,
            "count": 6
           },
           {
            "bin_start": 76.42,
            "bin_end": 78.08,
            "count": 3
           },
           {
            "bin_start": 78.08,
            "bin_end": 79.74,
            "count": 5
           },
           {
            "bin_start": 79.74,
            "bin_end": 81.4,
            "count": 5
           },
           {
            "bin_start": 81.4,
            "bin_end": 83.06,
            "count": 4
           },
           {
            "bin_start": 83.06,
            "bin_end": 84.72,
            "count": 8
           },
           {
            "bin_start": 84.72,
            "bin_end": 86.38,
            "count": 16
           },
           {
            "bin_start": 86.38,
            "bin_end": 88.04,
            "count": 39
           },
           {
            "bin_start": 88.04,
            "bin_end": 89.7,
            "count": 14
           }
          ]
         }
        },
        {
         "name": "vSI (sc)",
         "dtype": "float64",
         "stats": {
          "unique_count": 46,
          "nan_count": 3,
          "min": "88.3",
          "max": "93.9",
          "histogram": [
           {
            "bin_start": 88.3,
            "bin_end": 88.86,
            "count": 2
           },
           {
            "bin_start": 88.86,
            "bin_end": 89.42,
            "count": 5
           },
           {
            "bin_start": 89.42,
            "bin_end": 89.98,
            "count": 30
           },
           {
            "bin_start": 89.98,
            "bin_end": 90.54,
            "count": 83
           },
           {
            "bin_start": 90.54,
            "bin_end": 91.1,
            "count": 108
           },
           {
            "bin_start": 91.1,
            "bin_end": 91.66,
            "count": 122
           },
           {
            "bin_start": 91.66,
            "bin_end": 92.22,
            "count": 89
           },
           {
            "bin_start": 92.22,
            "bin_end": 92.78,
            "count": 29
           },
           {
            "bin_start": 92.78,
            "bin_end": 93.34,
            "count": 10
           },
           {
            "bin_start": 93.34,
            "bin_end": 93.9,
            "count": 5
           }
          ]
         }
        },
        {
         "name": "vSL (sc)",
         "dtype": "float64",
         "stats": {
          "unique_count": 44,
          "nan_count": 2,
          "min": "81.1",
          "max": "86.0",
          "histogram": [
           {
            "bin_start": 81.1,
            "bin_end": 81.58999999999999,
            "count": 3
           },
           {
            "bin_start": 81.58999999999999,
            "bin_end": 82.08,
            "count": 3
           },
           {
            "bin_start": 82.08,
            "bin_end": 82.57,
            "count": 14
           },
           {
            "bin_start": 82.57,
            "bin_end": 83.06,
            "count": 62
           },
           {
            "bin_start": 83.06,
            "bin_end": 83.55,
            "count": 88
           },
           {
            "bin_start": 83.55,
            "bin_end": 84.03999999999999,
            "count": 95
           },
           {
            "bin_start": 84.03999999999999,
            "bin_end": 84.53,
            "count": 111
           },
           {
            "bin_start": 84.53,
            "bin_end": 85.02,
            "count": 81
           },
           {
            "bin_start": 85.02,
            "bin_end": 85.51,
            "count": 20
           },
           {
            "bin_start": 85.51,
            "bin_end": 86,
            "count": 7
           }
          ]
         }
        },
        {
         "name": "vCU (sc)",
         "dtype": "float64",
         "stats": {
          "unique_count": 57,
          "nan_count": 2,
          "min": "71.3",
          "max": "80.3",
          "histogram": [
           {
            "bin_start": 71.3,
            "bin_end": 72.2,
            "count": 1
           },
           {
            "bin_start": 72.2,
            "bin_end": 73.1,
            "count": 0
           },
           {
            "bin_start": 73.1,
            "bin_end": 74,
            "count": 0
           },
           {
            "bin_start": 74,
            "bin_end": 74.89999999999999,
            "count": 9
           },
           {
            "bin_start": 74.89999999999999,
            "bin_end": 75.8,
            "count": 31
           },
           {
            "bin_start": 75.8,
            "bin_end": 76.7,
            "count": 100
           },
           {
            "bin_start": 76.7,
            "bin_end": 77.6,
            "count": 145
           },
           {
            "bin_start": 77.6,
            "bin_end": 78.5,
            "count": 120
           },
           {
            "bin_start": 78.5,
            "bin_end": 79.39999999999999,
            "count": 60
           },
           {
            "bin_start": 79.39999999999999,
            "bin_end": 80.3,
            "count": 18
           }
          ]
         }
        },
        {
         "name": "vKC (sc)",
         "dtype": "float64",
         "stats": {
          "unique_count": 67,
          "nan_count": 7,
          "min": "73.8",
          "max": "84.4",
          "histogram": [
           {
            "bin_start": 73.8,
            "bin_end": 74.86,
            "count": 1
           },
           {
            "bin_start": 74.86,
            "bin_end": 75.92,
            "count": 2
           },
           {
            "bin_start": 75.92,
            "bin_end": 76.98,
            "count": 5
           },
           {
            "bin_start": 76.98,
            "bin_end": 78.04,
            "count": 34
           },
           {
            "bin_start": 78.04,
            "bin_end": 79.1,
            "count": 87
           },
           {
            "bin_start": 79.1,
            "bin_end": 80.16,
            "count": 134
           },
           {
            "bin_start": 80.16,
            "bin_end": 81.22,
            "count": 147
           },
           {
            "bin_start": 81.22,
            "bin_end": 82.28,
            "count": 55
           },
           {
            "bin_start": 82.28,
            "bin_end": 83.34,
            "count": 13
           },
           {
            "bin_start": 83.34,
            "bin_end": 84.4,
            "count": 1
           }
          ]
         }
        },
        {
         "name": "vEP (sc)",
         "dtype": "float64",
         "stats": {
          "unique_count": 87,
          "nan_count": 342,
          "min": "53.1",
          "max": "71.7",
          "histogram": [
           {
            "bin_start": 53.1,
            "bin_end": 54.96,
            "count": 3
           },
           {
            "bin_start": 54.96,
            "bin_end": 56.82,
            "count": 2
           },
           {
            "bin_start": 56.82,
            "bin_end": 58.68,
            "count": 7
           },
           {
            "bin_start": 58.68,
            "bin_end": 60.54,
            "count": 10
           },
           {
            "bin_start": 60.54,
            "bin_end": 62.400000000000006,
            "count": 14
           },
           {
            "bin_start": 62.400000000000006,
            "bin_end": 64.26,
            "count": 10
           },
           {
            "bin_start": 64.26,
            "bin_end": 66.12,
            "count": 30
           },
           {
            "bin_start": 66.12,
            "bin_end": 67.98,
            "count": 27
           },
           {
            "bin_start": 67.98,
            "bin_end": 69.84,
            "count": 33
           },
           {
            "bin_start": 69.84,
            "bin_end": 71.7,
            "count": 8
           }
          ]
         }
        },
        {
         "name": "vCH (sc)",
         "dtype": "float64",
         "stats": {
          "unique_count": 55,
          "nan_count": 4,
          "min": "78.7",
          "max": "86.3",
          "histogram": [
           {
            "bin_start": 78.7,
            "bin_end": 79.46000000000001,
            "count": 2
           },
           {
            "bin_start": 79.46000000000001,
            "bin_end": 80.22,
            "count": 1
           },
           {
            "bin_start": 80.22,
            "bin_end": 80.98,
            "count": 4
           },
           {
            "bin_start": 80.98,
            "bin_end": 81.74,
            "count": 25
           },
           {
            "bin_start": 81.74,
            "bin_end": 82.5,
            "count": 60
           },
           {
            "bin_start": 82.5,
            "bin_end": 83.26,
            "count": 122
           },
           {
            "bin_start": 83.26,
            "bin_end": 84.02,
            "count": 152
           },
           {
            "bin_start": 84.02,
            "bin_end": 84.78,
            "count": 79
           },
           {
            "bin_start": 84.78,
            "bin_end": 85.53999999999999,
            "count": 27
           },
           {
            "bin_start": 85.53999999999999,
            "bin_end": 86.3,
            "count": 10
           }
          ]
         }
        },
        {
         "name": "vSC (sc)",
         "dtype": "float64",
         "stats": {
          "unique_count": 39,
          "nan_count": 438,
          "min": "65.0",
          "max": "80.1",
          "histogram": [
           {
            "bin_start": 65,
            "bin_end": 66.51,
            "count": 5
           },
           {
            "bin_start": 66.51,
            "bin_end": 68.02,
            "count": 2
           },
           {
            "bin_start": 68.02,
            "bin_end": 69.53,
            "count": 3
           },
           {
            "bin_start": 69.53,
            "bin_end": 71.03999999999999,
            "count": 3
           },
           {
            "bin_start": 71.03999999999999,
            "bin_end": 72.55,
            "count": 3
           },
           {
            "bin_start": 72.55,
            "bin_end": 74.06,
            "count": 4
           },
           {
            "bin_start": 74.06,
            "bin_end": 75.57,
            "count": 4
           },
           {
            "bin_start": 75.57,
            "bin_end": 77.08,
            "count": 14
           },
           {
            "bin_start": 77.08,
            "bin_end": 78.58999999999999,
            "count": 4
           },
           {
            "bin_start": 78.58999999999999,
            "bin_end": 80.1,
            "count": 6
           }
          ]
         }
        },
        {
         "name": "vKN (sc)",
         "dtype": "float64",
         "stats": {
          "unique_count": 77,
          "nan_count": 291,
          "min": "61.7",
          "max": "79.1",
          "histogram": [
           {
            "bin_start": 61.7,
            "bin_end": 63.440000000000005,
            "count": 1
           },
           {
            "bin_start": 63.440000000000005,
            "bin_end": 65.18,
            "count": 4
           },
           {
            "bin_start": 65.18,
            "bin_end": 66.92,
            "count": 16
           },
           {
            "bin_start": 66.92,
            "bin_end": 68.66,
            "count": 1
           },
           {
            "bin_start": 68.66,
            "bin_end": 70.4,
            "count": 2
           },
           {
            "bin_start": 70.4,
            "bin_end": 72.14,
            "count": 4
           },
           {
            "bin_start": 72.14,
            "bin_end": 73.88,
            "count": 12
           },
           {
            "bin_start": 73.88,
            "bin_end": 75.61999999999999,
            "count": 45
           },
           {
            "bin_start": 75.61999999999999,
            "bin_end": 77.36,
            "count": 77
           },
           {
            "bin_start": 77.36,
            "bin_end": 79.1,
            "count": 33
           }
          ]
         }
        },
        {
         "name": "FA-X (sc)",
         "dtype": "float64",
         "stats": {
          "unique_count": 65,
          "nan_count": 1,
          "min": "-4.6",
          "max": "6.2",
          "histogram": [
           {
            "bin_start": -4.6,
            "bin_end": -3.5199999999999996,
            "count": 23
           },
           {
            "bin_start": -3.5199999999999996,
            "bin_end": -2.4399999999999995,
            "count": 88
           },
           {
            "bin_start": -2.4399999999999995,
            "bin_end": -1.3599999999999994,
            "count": 210
           },
           {
            "bin_start": -1.3599999999999994,
            "bin_end": -0.27999999999999936,
            "count": 111
           },
           {
            "bin_start": -0.27999999999999936,
            "bin_end": 0.8000000000000007,
            "count": 34
           },
           {
            "bin_start": 0.8000000000000007,
            "bin_end": 1.8800000000000008,
            "count": 11
           },
           {
            "bin_start": 1.8800000000000008,
            "bin_end": 2.960000000000001,
            "count": 3
           },
           {
            "bin_start": 2.960000000000001,
            "bin_end": 4.040000000000001,
            "count": 2
           },
           {
            "bin_start": 4.040000000000001,
            "bin_end": 5.120000000000001,
            "count": 2
           },
           {
            "bin_start": 5.120000000000001,
            "bin_end": 6.2,
            "count": 1
           }
          ]
         }
        },
        {
         "name": "FT-X (sc)",
         "dtype": "float64",
         "stats": {
          "unique_count": 142,
          "nan_count": 2,
          "min": "-9.4",
          "max": "13.5",
          "histogram": [
           {
            "bin_start": -9.4,
            "bin_end": -7.11,
            "count": 24
           },
           {
            "bin_start": -7.11,
            "bin_end": -4.82,
            "count": 102
           },
           {
            "bin_start": -4.82,
            "bin_end": -2.5300000000000002,
            "count": 135
           },
           {
            "bin_start": -2.5300000000000002,
            "bin_end": -0.2400000000000002,
            "count": 115
           },
           {
            "bin_start": -0.2400000000000002,
            "bin_end": 2.049999999999999,
            "count": 59
           },
           {
            "bin_start": 2.049999999999999,
            "bin_end": 4.34,
            "count": 27
           },
           {
            "bin_start": 4.34,
            "bin_end": 6.630000000000001,
            "count": 15
           },
           {
            "bin_start": 6.630000000000001,
            "bin_end": 8.92,
            "count": 5
           },
           {
            "bin_start": 8.92,
            "bin_end": 11.209999999999999,
            "count": 1
           },
           {
            "bin_start": 11.209999999999999,
            "bin_end": 13.5,
            "count": 1
           }
          ]
         }
        },
        {
         "name": "FC-X (sc)",
         "dtype": "float64",
         "stats": {
          "unique_count": 46,
          "nan_count": 3,
          "min": "-2.7",
          "max": "4.6",
          "histogram": [
           {
            "bin_start": -2.7,
            "bin_end": -1.9700000000000002,
            "count": 1
           },
           {
            "bin_start": -1.9700000000000002,
            "bin_end": -1.2400000000000002,
            "count": 1
           },
           {
            "bin_start": -1.2400000000000002,
            "bin_end": -0.5100000000000002,
            "count": 9
           },
           {
            "bin_start": -0.5100000000000002,
            "bin_end": 0.21999999999999975,
            "count": 72
           },
           {
            "bin_start": 0.21999999999999975,
            "bin_end": 0.9499999999999997,
            "count": 173
           },
           {
            "bin_start": 0.9499999999999997,
            "bin_end": 1.6799999999999997,
            "count": 148
           },
           {
            "bin_start": 1.6799999999999997,
            "bin_end": 2.4099999999999993,
            "count": 67
           },
           {
            "bin_start": 2.4099999999999993,
            "bin_end": 3.1399999999999997,
            "count": 8
           },
           {
            "bin_start": 3.1399999999999997,
            "bin_end": 3.87,
            "count": 3
           },
           {
            "bin_start": 3.87,
            "bin_end": 4.6,
            "count": 1
           }
          ]
         }
        },
        {
         "name": "FS-X (sc)",
         "dtype": "float64",
         "stats": {
          "unique_count": 110,
          "nan_count": 14,
          "min": "-10.1",
          "max": "8.2",
          "histogram": [
           {
            "bin_start": -10.1,
            "bin_end": -8.27,
            "count": 11
           },
           {
            "bin_start": -8.27,
            "bin_end": -6.44,
            "count": 67
           },
           {
            "bin_start": -6.44,
            "bin_end": -4.610000000000001,
            "count": 216
           },
           {
            "bin_start": -4.610000000000001,
            "bin_end": -2.780000000000001,
            "count": 100
           },
           {
            "bin_start": -2.780000000000001,
            "bin_end": -0.9500000000000011,
            "count": 34
           },
           {
            "bin_start": -0.9500000000000011,
            "bin_end": 0.8799999999999972,
            "count": 16
           },
           {
            "bin_start": 0.8799999999999972,
            "bin_end": 2.7099999999999973,
            "count": 12
           },
           {
            "bin_start": 2.7099999999999973,
            "bin_end": 4.539999999999997,
            "count": 5
           },
           {
            "bin_start": 4.539999999999997,
            "bin_end": 6.369999999999996,
            "count": 7
           },
           {
            "bin_start": 6.369999999999996,
            "bin_end": 8.2,
            "count": 4
           }
          ]
         }
        },
        {
         "name": "FO-X (sc)",
         "dtype": "float64",
         "stats": {
          "unique_count": 48,
          "nan_count": 383,
          "min": "-10.0",
          "max": "5.7",
          "histogram": [
           {
            "bin_start": -10,
            "bin_end": -8.43,
            "count": 8
           },
           {
            "bin_start": -8.43,
            "bin_end": -6.86,
            "count": 23
           },
           {
            "bin_start": -6.86,
            "bin_end": -5.290000000000001,
            "count": 38
           },
           {
            "bin_start": -5.290000000000001,
            "bin_end": -3.7200000000000006,
            "count": 25
           },
           {
            "bin_start": -3.7200000000000006,
            "bin_end": -2.1500000000000004,
            "count": 5
           },
           {
            "bin_start": -2.1500000000000004,
            "bin_end": -0.5800000000000018,
            "count": 1
           },
           {
            "bin_start": -0.5800000000000018,
            "bin_end": 0.9899999999999984,
            "count": 0
           },
           {
            "bin_start": 0.9899999999999984,
            "bin_end": 2.5599999999999987,
            "count": 2
           },
           {
            "bin_start": 2.5599999999999987,
            "bin_end": 4.129999999999999,
            "count": 0
           },
           {
            "bin_start": 4.129999999999999,
            "bin_end": 5.7,
            "count": 1
           }
          ]
         }
        },
        {
         "name": "SI-X (sc)",
         "dtype": "float64",
         "stats": {
          "unique_count": 126,
          "nan_count": 3,
          "min": "-9.9",
          "max": "8.6",
          "histogram": [
           {
            "bin_start": -9.9,
            "bin_end": -8.05,
            "count": 5
           },
           {
            "bin_start": -8.05,
            "bin_end": -6.2,
            "count": 35
           },
           {
            "bin_start": -6.2,
            "bin_end": -4.35,
            "count": 114
           },
           {
            "bin_start": -4.35,
            "bin_end": -2.5,
            "count": 133
           },
           {
            "bin_start": -2.5,
            "bin_end": -0.6500000000000004,
            "count": 99
           },
           {
            "bin_start": -0.6500000000000004,
            "bin_end": 1.200000000000001,
            "count": 54
           },
           {
            "bin_start": 1.200000000000001,
            "bin_end": 3.0500000000000007,
            "count": 25
           },
           {
            "bin_start": 3.0500000000000007,
            "bin_end": 4.9,
            "count": 9
           },
           {
            "bin_start": 4.9,
            "bin_end": 6.750000000000002,
            "count": 6
           },
           {
            "bin_start": 6.750000000000002,
            "bin_end": 8.6,
            "count": 3
           }
          ]
         }
        },
        {
         "name": "SL-X (sc)",
         "dtype": "float64",
         "stats": {
          "unique_count": 50,
          "nan_count": 2,
          "min": "-2.8",
          "max": "6.5",
          "histogram": [
           {
            "bin_start": -2.8,
            "bin_end": -1.8699999999999997,
            "count": 1
           },
           {
            "bin_start": -1.8699999999999997,
            "bin_end": -0.9399999999999997,
            "count": 4
           },
           {
            "bin_start": -0.9399999999999997,
            "bin_end": -0.009999999999999787,
            "count": 20
           },
           {
            "bin_start": -0.009999999999999787,
            "bin_end": 0.9200000000000004,
            "count": 86
           },
           {
            "bin_start": 0.9200000000000004,
            "bin_end": 1.8500000000000005,
            "count": 199
           },
           {
            "bin_start": 1.8500000000000005,
            "bin_end": 2.7800000000000002,
            "count": 147
           },
           {
            "bin_start": 2.7800000000000002,
            "bin_end": 3.710000000000001,
            "count": 25
           },
           {
            "bin_start": 3.710000000000001,
            "bin_end": 4.640000000000001,
            "count": 1
           },
           {
            "bin_start": 4.640000000000001,
            "bin_end": 5.570000000000001,
            "count": 0
           },
           {
            "bin_start": 5.570000000000001,
            "bin_end": 6.5,
            "count": 1
           }
          ]
         }
        },
        {
         "name": "CU-X (sc)",
         "dtype": "float64",
         "stats": {
          "unique_count": 83,
          "nan_count": 2,
          "min": "-3.2",
          "max": "7.9",
          "histogram": [
           {
            "bin_start": -3.2,
            "bin_end": -2.09,
            "count": 3
           },
           {
            "bin_start": -2.09,
            "bin_end": -0.98,
            "count": 8
           },
           {
            "bin_start": -0.98,
            "bin_end": 0.1299999999999999,
            "count": 16
           },
           {
            "bin_start": 0.1299999999999999,
            "bin_end": 1.2400000000000002,
            "count": 53
           },
           {
            "bin_start": 1.2400000000000002,
            "bin_end": 2.3500000000000005,
            "count": 107
           },
           {
            "bin_start": 2.3500000000000005,
            "bin_end": 3.46,
            "count": 141
           },
           {
            "bin_start": 3.46,
            "bin_end": 4.57,
            "count": 99
           },
           {
            "bin_start": 4.57,
            "bin_end": 5.680000000000001,
            "count": 44
           },
           {
            "bin_start": 5.680000000000001,
            "bin_end": 6.79,
            "count": 12
           },
           {
            "bin_start": 6.79,
            "bin_end": 7.9,
            "count": 1
           }
          ]
         }
        },
        {
         "name": "KC-X (sc)",
         "dtype": "float64",
         "stats": {
          "unique_count": 90,
          "nan_count": 7,
          "min": "-6.3",
          "max": "9.8",
          "histogram": [
           {
            "bin_start": -6.3,
            "bin_end": -4.6899999999999995,
            "count": 2
           },
           {
            "bin_start": -4.6899999999999995,
            "bin_end": -3.0799999999999996,
            "count": 0
           },
           {
            "bin_start": -3.0799999999999996,
            "bin_end": -1.4699999999999998,
            "count": 6
           },
           {
            "bin_start": -1.4699999999999998,
            "bin_end": 0.14000000000000057,
            "count": 21
           },
           {
            "bin_start": 0.14000000000000057,
            "bin_end": 1.7500000000000009,
            "count": 52
           },
           {
            "bin_start": 1.7500000000000009,
            "bin_end": 3.3600000000000003,
            "count": 141
           },
           {
            "bin_start": 3.3600000000000003,
            "bin_end": 4.9700000000000015,
            "count": 175
           },
           {
            "bin_start": 4.9700000000000015,
            "bin_end": 6.580000000000001,
            "count": 65
           },
           {
            "bin_start": 6.580000000000001,
            "bin_end": 8.190000000000001,
            "count": 11
           },
           {
            "bin_start": 8.190000000000001,
            "bin_end": 9.8,
            "count": 6
           }
          ]
         }
        },
        {
         "name": "EP-X (sc)",
         "dtype": "float64",
         "stats": {
          "unique_count": 103,
          "nan_count": 342,
          "min": "-17.1",
          "max": "12.4",
          "histogram": [
           {
            "bin_start": -17.1,
            "bin_end": -14.150000000000002,
            "count": 1
           },
           {
            "bin_start": -14.150000000000002,
            "bin_end": -11.200000000000001,
            "count": 0
           },
           {
            "bin_start": -11.200000000000001,
            "bin_end": -8.25,
            "count": 11
           },
           {
            "bin_start": -8.25,
            "bin_end": -5.300000000000001,
            "count": 9
           },
           {
            "bin_start": -5.300000000000001,
            "bin_end": -2.3500000000000014,
            "count": 25
           },
           {
            "bin_start": -2.3500000000000014,
            "bin_end": 0.6000000000000014,
            "count": 10
           },
           {
            "bin_start": 0.6000000000000014,
            "bin_end": 3.5500000000000007,
            "count": 20
           },
           {
            "bin_start": 3.5500000000000007,
            "bin_end": 6.5,
            "count": 31
           },
           {
            "bin_start": 6.5,
            "bin_end": 9.45,
            "count": 30
           },
           {
            "bin_start": 9.45,
            "bin_end": 12.4,
            "count": 7
           }
          ]
         }
        },
        {
         "name": "CH-X (sc)",
         "dtype": "float64",
         "stats": {
          "unique_count": 154,
          "nan_count": 4,
          "min": "-8.9",
          "max": "10.4",
          "histogram": [
           {
            "bin_start": -8.9,
            "bin_end": -6.970000000000001,
            "count": 42
           },
           {
            "bin_start": -6.970000000000001,
            "bin_end": -5.04,
            "count": 84
           },
           {
            "bin_start": -5.04,
            "bin_end": -3.1099999999999994,
            "count": 61
           },
           {
            "bin_start": -3.1099999999999994,
            "bin_end": -1.1799999999999997,
            "count": 51
           },
           {
            "bin_start": -1.1799999999999997,
            "bin_end": 0.75,
            "count": 57
           },
           {
            "bin_start": 0.75,
            "bin_end": 2.6800000000000015,
            "count": 77
           },
           {
            "bin_start": 2.6800000000000015,
            "bin_end": 4.610000000000001,
            "count": 61
           },
           {
            "bin_start": 4.610000000000001,
            "bin_end": 6.540000000000001,
            "count": 26
           },
           {
            "bin_start": 6.540000000000001,
            "bin_end": 8.47,
            "count": 19
           },
           {
            "bin_start": 8.47,
            "bin_end": 10.4,
            "count": 4
           }
          ]
         }
        },
        {
         "name": "SC-X (sc)",
         "dtype": "float64",
         "stats": {
          "unique_count": 40,
          "nan_count": 438,
          "min": "-8.7",
          "max": "15.7",
          "histogram": [
           {
            "bin_start": -8.7,
            "bin_end": -6.26,
            "count": 4
           },
           {
            "bin_start": -6.26,
            "bin_end": -3.8199999999999994,
            "count": 3
           },
           {
            "bin_start": -3.8199999999999994,
            "bin_end": -1.379999999999999,
            "count": 1
           },
           {
            "bin_start": -1.379999999999999,
            "bin_end": 1.0600000000000005,
            "count": 2
           },
           {
            "bin_start": 1.0600000000000005,
            "bin_end": 3.5,
            "count": 2
           },
           {
            "bin_start": 3.5,
            "bin_end": 5.940000000000001,
            "count": 2
           },
           {
            "bin_start": 5.940000000000001,
            "bin_end": 8.379999999999999,
            "count": 3
           },
           {
            "bin_start": 8.379999999999999,
            "bin_end": 10.82,
            "count": 14
           },
           {
            "bin_start": 10.82,
            "bin_end": 13.260000000000002,
            "count": 13
           },
           {
            "bin_start": 13.260000000000002,
            "bin_end": 15.7,
            "count": 4
           }
          ]
         }
        },
        {
         "name": "KN-X (sc)",
         "dtype": "float64",
         "stats": {
          "unique_count": 71,
          "nan_count": 291,
          "min": "-4.9",
          "max": "5.4",
          "histogram": [
           {
            "bin_start": -4.9,
            "bin_end": -3.87,
            "count": 4
           },
           {
            "bin_start": -3.87,
            "bin_end": -2.8400000000000003,
            "count": 5
           },
           {
            "bin_start": -2.8400000000000003,
            "bin_end": -1.8100000000000005,
            "count": 22
           },
           {
            "bin_start": -1.8100000000000005,
            "bin_end": -0.7800000000000002,
            "count": 43
           },
           {
            "bin_start": -0.7800000000000002,
            "bin_end": 0.25,
            "count": 51
           },
           {
            "bin_start": 0.25,
            "bin_end": 1.2799999999999994,
            "count": 32
           },
           {
            "bin_start": 1.2799999999999994,
            "bin_end": 2.3099999999999996,
            "count": 27
           },
           {
            "bin_start": 2.3099999999999996,
            "bin_end": 3.34,
            "count": 6
           },
           {
            "bin_start": 3.34,
            "bin_end": 4.369999999999999,
            "count": 2
           },
           {
            "bin_start": 4.369999999999999,
            "bin_end": 5.4,
            "count": 3
           }
          ]
         }
        },
        {
         "name": "FA-Z (sc)",
         "dtype": "float64",
         "stats": {
          "unique_count": 41,
          "nan_count": 1,
          "min": "6.1",
          "max": "11.1",
          "histogram": [
           {
            "bin_start": 6.1,
            "bin_end": 6.6,
            "count": 1
           },
           {
            "bin_start": 6.6,
            "bin_end": 7.1,
            "count": 5
           },
           {
            "bin_start": 7.1,
            "bin_end": 7.6,
            "count": 9
           },
           {
            "bin_start": 7.6,
            "bin_end": 8.1,
            "count": 21
           },
           {
            "bin_start": 8.1,
            "bin_end": 8.6,
            "count": 57
           },
           {
            "bin_start": 8.6,
            "bin_end": 9.1,
            "count": 160
           },
           {
            "bin_start": 9.1,
            "bin_end": 9.6,
            "count": 148
           },
           {
            "bin_start": 9.6,
            "bin_end": 10.1,
            "count": 58
           },
           {
            "bin_start": 10.1,
            "bin_end": 10.6,
            "count": 24
           },
           {
            "bin_start": 10.6,
            "bin_end": 11.1,
            "count": 2
           }
          ]
         }
        },
        {
         "name": "FT-Z (sc)",
         "dtype": "float64",
         "stats": {
          "unique_count": 38,
          "nan_count": 2,
          "min": "2.7",
          "max": "9.1",
          "histogram": [
           {
            "bin_start": 2.7,
            "bin_end": 3.34,
            "count": 2
           },
           {
            "bin_start": 3.34,
            "bin_end": 3.98,
            "count": 0
           },
           {
            "bin_start": 3.98,
            "bin_end": 4.62,
            "count": 5
           },
           {
            "bin_start": 4.62,
            "bin_end": 5.26,
            "count": 24
           },
           {
            "bin_start": 5.26,
            "bin_end": 5.8999999999999995,
            "count": 84
           },
           {
            "bin_start": 5.8999999999999995,
            "bin_end": 6.539999999999999,
            "count": 220
           },
           {
            "bin_start": 6.539999999999999,
            "bin_end": 7.18,
            "count": 121
           },
           {
            "bin_start": 7.18,
            "bin_end": 7.819999999999999,
            "count": 24
           },
           {
            "bin_start": 7.819999999999999,
            "bin_end": 8.459999999999999,
            "count": 3
           },
           {
            "bin_start": 8.459999999999999,
            "bin_end": 9.1,
            "count": 1
           }
          ]
         }
        },
        {
         "name": "FC-Z (sc)",
         "dtype": "float64",
         "stats": {
          "unique_count": 52,
          "nan_count": 3,
          "min": "-0.7",
          "max": "9.3",
          "histogram": [
           {
            "bin_start": -0.7,
            "bin_end": 0.30000000000000004,
            "count": 1
           },
           {
            "bin_start": 0.30000000000000004,
            "bin_end": 1.3,
            "count": 0
           },
           {
            "bin_start": 1.3,
            "bin_end": 2.3,
            "count": 1
           },
           {
            "bin_start": 2.3,
            "bin_end": 3.3,
            "count": 5
           },
           {
            "bin_start": 3.3,
            "bin_end": 4.3,
            "count": 52
           },
           {
            "bin_start": 4.3,
            "bin_end": 5.3,
            "count": 183
           },
           {
            "bin_start": 5.3,
            "bin_end": 6.3,
            "count": 172
           },
           {
            "bin_start": 6.3,
            "bin_end": 7.3,
            "count": 59
           },
           {
            "bin_start": 7.3,
            "bin_end": 8.3,
            "count": 8
           },
           {
            "bin_start": 8.3,
            "bin_end": 9.3,
            "count": 2
           }
          ]
         }
        },
        {
         "name": "FS-Z (sc)",
         "dtype": "float64",
         "stats": {
          "unique_count": 77,
          "nan_count": 14,
          "min": "-2.6",
          "max": "8.6",
          "histogram": [
           {
            "bin_start": -2.6,
            "bin_end": -1.4800000000000002,
            "count": 3
           },
           {
            "bin_start": -1.4800000000000002,
            "bin_end": -0.3600000000000003,
            "count": 6
           },
           {
            "bin_start": -0.3600000000000003,
            "bin_end": 0.7599999999999993,
            "count": 21
           },
           {
            "bin_start": 0.7599999999999993,
            "bin_end": 1.8799999999999994,
            "count": 61
           },
           {
            "bin_start": 1.8799999999999994,
            "bin_end": 2.9999999999999996,
            "count": 156
           },
           {
            "bin_start": 2.9999999999999996,
            "bin_end": 4.119999999999999,
            "count": 149
           },
           {
            "bin_start": 4.119999999999999,
            "bin_end": 5.239999999999998,
            "count": 48
           },
           {
            "bin_start": 5.239999999999998,
            "bin_end": 6.359999999999999,
            "count": 22
           },
           {
            "bin_start": 6.359999999999999,
            "bin_end": 7.479999999999999,
            "count": 5
           },
           {
            "bin_start": 7.479999999999999,
            "bin_end": 8.6,
            "count": 1
           }
          ]
         }
        },
        {
         "name": "FO-Z (sc)",
         "dtype": "float64",
         "stats": {
          "unique_count": 71,
          "nan_count": 383,
          "min": "-2.6",
          "max": "10.3",
          "histogram": [
           {
            "bin_start": -2.6,
            "bin_end": -1.31,
            "count": 4
           },
           {
            "bin_start": -1.31,
            "bin_end": -0.020000000000000018,
            "count": 4
           },
           {
            "bin_start": -0.020000000000000018,
            "bin_end": 1.27,
            "count": 9
           },
           {
            "bin_start": 1.27,
            "bin_end": 2.56,
            "count": 10
           },
           {
            "bin_start": 2.56,
            "bin_end": 3.85,
            "count": 16
           },
           {
            "bin_start": 3.85,
            "bin_end": 5.140000000000001,
            "count": 22
           },
           {
            "bin_start": 5.140000000000001,
            "bin_end": 6.4300000000000015,
            "count": 12
           },
           {
            "bin_start": 6.4300000000000015,
            "bin_end": 7.720000000000001,
            "count": 18
           },
           {
            "bin_start": 7.720000000000001,
            "bin_end": 9.01,
            "count": 4
           },
           {
            "bin_start": 9.01,
            "bin_end": 10.3,
            "count": 4
           }
          ]
         }
        },
        {
         "name": "SI-Z (sc)",
         "dtype": "float64",
         "stats": {
          "unique_count": 49,
          "nan_count": 3,
          "min": "0.6",
          "max": "9.9",
          "histogram": [
           {
            "bin_start": 0.6,
            "bin_end": 1.53,
            "count": 2
           },
           {
            "bin_start": 1.53,
            "bin_end": 2.46,
            "count": 0
           },
           {
            "bin_start": 2.46,
            "bin_end": 3.39,
            "count": 16
           },
           {
            "bin_start": 3.39,
            "bin_end": 4.32,
            "count": 94
           },
           {
            "bin_start": 4.32,
            "bin_end": 5.25,
            "count": 218
           },
           {
            "bin_start": 5.25,
            "bin_end": 6.18,
            "count": 129
           },
           {
            "bin_start": 6.18,
            "bin_end": 7.11,
            "count": 21
           },
           {
            "bin_start": 7.11,
            "bin_end": 8.040000000000001,
            "count": 2
           },
           {
            "bin_start": 8.040000000000001,
            "bin_end": 8.97,
            "count": 0
           },
           {
            "bin_start": 8.97,
            "bin_end": 9.9,
            "count": 1
           }
          ]
         }
        },
        {
         "name": "SL-Z (sc)",
         "dtype": "float64",
         "stats": {
          "unique_count": 47,
          "nan_count": 2,
          "min": "-2.8",
          "max": "4.4",
          "histogram": [
           {
            "bin_start": -2.8,
            "bin_end": -2.08,
            "count": 1
           },
           {
            "bin_start": -2.08,
            "bin_end": -1.3599999999999999,
            "count": 2
           },
           {
            "bin_start": -1.3599999999999999,
            "bin_end": -0.6399999999999997,
            "count": 7
           },
           {
            "bin_start": -0.6399999999999997,
            "bin_end": 0.08000000000000007,
            "count": 33
           },
           {
            "bin_start": 0.08000000000000007,
            "bin_end": 0.7999999999999998,
            "count": 94
           },
           {
            "bin_start": 0.7999999999999998,
            "bin_end": 1.5200000000000005,
            "count": 221
           },
           {
            "bin_start": 1.5200000000000005,
            "bin_end": 2.24,
            "count": 107
           },
           {
            "bin_start": 2.24,
            "bin_end": 2.96,
            "count": 14
           },
           {
            "bin_start": 2.96,
            "bin_end": 3.6799999999999997,
            "count": 3
           },
           {
            "bin_start": 3.6799999999999997,
            "bin_end": 4.4,
            "count": 2
           }
          ]
         }
        },
        {
         "name": "CU-Z (sc)",
         "dtype": "float64",
         "stats": {
          "unique_count": 55,
          "nan_count": 2,
          "min": "-9.2",
          "max": "2.9",
          "histogram": [
           {
            "bin_start": -9.2,
            "bin_end": -7.989999999999999,
            "count": 5
           },
           {
            "bin_start": -7.989999999999999,
            "bin_end": -6.779999999999999,
            "count": 25
           },
           {
            "bin_start": -6.779999999999999,
            "bin_end": -5.569999999999999,
            "count": 174
           },
           {
            "bin_start": -5.569999999999999,
            "bin_end": -4.359999999999999,
            "count": 216
           },
           {
            "bin_start": -4.359999999999999,
            "bin_end": -3.1499999999999995,
            "count": 57
           },
           {
            "bin_start": -3.1499999999999995,
            "bin_end": -1.9399999999999995,
            "count": 5
           },
           {
            "bin_start": -1.9399999999999995,
            "bin_end": -0.7300000000000004,
            "count": 1
           },
           {
            "bin_start": -0.7300000000000004,
            "bin_end": 0.4800000000000004,
            "count": 0
           },
           {
            "bin_start": 0.4800000000000004,
            "bin_end": 1.6900000000000013,
            "count": 0
           },
           {
            "bin_start": 1.6900000000000013,
            "bin_end": 2.9,
            "count": 1
           }
          ]
         }
        },
        {
         "name": "KC-Z (sc)",
         "dtype": "float64",
         "stats": {
          "unique_count": 73,
          "nan_count": 7,
          "min": "-11.7",
          "max": "2.3",
          "histogram": [
           {
            "bin_start": -11.7,
            "bin_end": -10.299999999999999,
            "count": 3
           },
           {
            "bin_start": -10.299999999999999,
            "bin_end": -8.899999999999999,
            "count": 8
           },
           {
            "bin_start": -8.899999999999999,
            "bin_end": -7.5,
            "count": 34
           },
           {
            "bin_start": -7.5,
            "bin_end": -6.1,
            "count": 161
           },
           {
            "bin_start": -6.1,
            "bin_end": -4.699999999999999,
            "count": 200
           },
           {
            "bin_start": -4.699999999999999,
            "bin_end": -3.3000000000000007,
            "count": 60
           },
           {
            "bin_start": -3.3000000000000007,
            "bin_end": -1.9000000000000004,
            "count": 10
           },
           {
            "bin_start": -1.9000000000000004,
            "bin_end": -0.5,
            "count": 2
           },
           {
            "bin_start": -0.5,
            "bin_end": 0.9000000000000004,
            "count": 0
           },
           {
            "bin_start": 0.9000000000000004,
            "bin_end": 2.3,
            "count": 1
           }
          ]
         }
        },
        {
         "name": "EP-Z (sc)",
         "dtype": "float64",
         "stats": {
          "unique_count": 107,
          "nan_count": 342,
          "min": "-15.3",
          "max": "8.8",
          "histogram": [
           {
            "bin_start": -15.3,
            "bin_end": -12.89,
            "count": 4
           },
           {
            "bin_start": -12.89,
            "bin_end": -10.48,
            "count": 12
           },
           {
            "bin_start": -10.48,
            "bin_end": -8.07,
            "count": 23
           },
           {
            "bin_start": -8.07,
            "bin_end": -5.66,
            "count": 30
           },
           {
            "bin_start": -5.66,
            "bin_end": -3.25,
            "count": 25
           },
           {
            "bin_start": -3.25,
            "bin_end": -0.8399999999999999,
            "count": 15
           },
           {
            "bin_start": -0.8399999999999999,
            "bin_end": 1.5700000000000003,
            "count": 11
           },
           {
            "bin_start": 1.5700000000000003,
            "bin_end": 3.9800000000000004,
            "count": 11
           },
           {
            "bin_start": 3.9800000000000004,
            "bin_end": 6.390000000000001,
            "count": 7
           },
           {
            "bin_start": 6.390000000000001,
            "bin_end": 8.8,
            "count": 6
           }
          ]
         }
        },
        {
         "name": "CH-Z (sc)",
         "dtype": "float64",
         "stats": {
          "unique_count": 43,
          "nan_count": 4,
          "min": "1.6",
          "max": "8.1",
          "histogram": [
           {
            "bin_start": 1.6,
            "bin_end": 2.25,
            "count": 3
           },
           {
            "bin_start": 2.25,
            "bin_end": 2.9000000000000004,
            "count": 8
           },
           {
            "bin_start": 2.9000000000000004,
            "bin_end": 3.5500000000000003,
            "count": 42
           },
           {
            "bin_start": 3.5500000000000003,
            "bin_end": 4.2,
            "count": 133
           },
           {
            "bin_start": 4.2,
            "bin_end": 4.85,
            "count": 177
           },
           {
            "bin_start": 4.85,
            "bin_end": 5.5,
            "count": 84
           },
           {
            "bin_start": 5.5,
            "bin_end": 6.15,
            "count": 28
           },
           {
            "bin_start": 6.15,
            "bin_end": 6.800000000000001,
            "count": 6
           },
           {
            "bin_start": 6.800000000000001,
            "bin_end": 7.450000000000001,
            "count": 0
           },
           {
            "bin_start": 7.450000000000001,
            "bin_end": 8.1,
            "count": 1
           }
          ]
         }
        },
        {
         "name": "SC-Z (sc)",
         "dtype": "float64",
         "stats": {
          "unique_count": 40,
          "nan_count": 438,
          "min": "-11.1",
          "max": "8.8",
          "histogram": [
           {
            "bin_start": -11.1,
            "bin_end": -9.11,
            "count": 1
           },
           {
            "bin_start": -9.11,
            "bin_end": -7.12,
            "count": 2
           },
           {
            "bin_start": -7.12,
            "bin_end": -5.130000000000001,
            "count": 3
           },
           {
            "bin_start": -5.130000000000001,
            "bin_end": -3.1400000000000006,
            "count": 5
           },
           {
            "bin_start": -3.1400000000000006,
            "bin_end": -1.1500000000000004,
            "count": 9
           },
           {
            "bin_start": -1.1500000000000004,
            "bin_end": 0.8399999999999981,
            "count": 8
           },
           {
            "bin_start": 0.8399999999999981,
            "bin_end": 2.8299999999999983,
            "count": 9
           },
           {
            "bin_start": 2.8299999999999983,
            "bin_end": 4.8199999999999985,
            "count": 5
           },
           {
            "bin_start": 4.8199999999999985,
            "bin_end": 6.809999999999997,
            "count": 2
           },
           {
            "bin_start": 6.809999999999997,
            "bin_end": 8.8,
            "count": 4
           }
          ]
         }
        },
        {
         "name": "KN-Z (sc)",
         "dtype": "float64",
         "stats": {
          "unique_count": 67,
          "nan_count": 291,
          "min": "-13.3",
          "max": "10.5",
          "histogram": [
           {
            "bin_start": -13.3,
            "bin_end": -10.920000000000002,
            "count": 1
           },
           {
            "bin_start": -10.920000000000002,
            "bin_end": -8.540000000000001,
            "count": 1
           },
           {
            "bin_start": -8.540000000000001,
            "bin_end": -6.160000000000001,
            "count": 1
           },
           {
            "bin_start": -6.160000000000001,
            "bin_end": -3.780000000000001,
            "count": 0
           },
           {
            "bin_start": -3.780000000000001,
            "bin_end": -1.4000000000000021,
            "count": 9
           },
           {
            "bin_start": -1.4000000000000021,
            "bin_end": 0.9799999999999986,
            "count": 88
           },
           {
            "bin_start": 0.9799999999999986,
            "bin_end": 3.3599999999999994,
            "count": 78
           },
           {
            "bin_start": 3.3599999999999994,
            "bin_end": 5.739999999999998,
            "count": 14
           },
           {
            "bin_start": 5.739999999999998,
            "bin_end": 8.119999999999997,
            "count": 2
           },
           {
            "bin_start": 8.119999999999997,
            "bin_end": 10.5,
            "count": 1
           }
          ]
         }
        },
        {
         "name": "wFA (sc)",
         "dtype": "float64",
         "stats": {
          "unique_count": 208,
          "nan_count": 1,
          "min": "-21.3",
          "max": "33.1",
          "histogram": [
           {
            "bin_start": -21.3,
            "bin_end": -15.86,
            "count": 1
           },
           {
            "bin_start": -15.86,
            "bin_end": -10.42,
            "count": 8
           },
           {
            "bin_start": -10.42,
            "bin_end": -4.98,
            "count": 60
           },
           {
            "bin_start": -4.98,
            "bin_end": 0.46000000000000085,
            "count": 199
           },
           {
            "bin_start": 0.46000000000000085,
            "bin_end": 5.900000000000002,
            "count": 131
           },
           {
            "bin_start": 5.900000000000002,
            "bin_end": 11.34,
            "count": 57
           },
           {
            "bin_start": 11.34,
            "bin_end": 16.780000000000005,
            "count": 17
           },
           {
            "bin_start": 16.780000000000005,
            "bin_end": 22.220000000000002,
            "count": 10
           },
           {
            "bin_start": 22.220000000000002,
            "bin_end": 27.66,
            "count": 1
           },
           {
            "bin_start": 27.66,
            "bin_end": 33.1,
            "count": 1
           }
          ]
         }
        },
        {
         "name": "wFT (sc)",
         "dtype": "float64",
         "stats": {
          "unique_count": 133,
          "nan_count": 2,
          "min": "-8.5",
          "max": "14.3",
          "histogram": [
           {
            "bin_start": -8.5,
            "bin_end": -6.22,
            "count": 5
           },
           {
            "bin_start": -6.22,
            "bin_end": -3.9399999999999995,
            "count": 23
           },
           {
            "bin_start": -3.9399999999999995,
            "bin_end": -1.6599999999999993,
            "count": 85
           },
           {
            "bin_start": -1.6599999999999993,
            "bin_end": 0.620000000000001,
            "count": 150
           },
           {
            "bin_start": 0.620000000000001,
            "bin_end": 2.900000000000002,
            "count": 113
           },
           {
            "bin_start": 2.900000000000002,
            "bin_end": 5.1800000000000015,
            "count": 77
           },
           {
            "bin_start": 5.1800000000000015,
            "bin_end": 7.460000000000001,
            "count": 16
           },
           {
            "bin_start": 7.460000000000001,
            "bin_end": 9.740000000000002,
            "count": 10
           },
           {
            "bin_start": 9.740000000000002,
            "bin_end": 12.020000000000003,
            "count": 3
           },
           {
            "bin_start": 12.020000000000003,
            "bin_end": 14.3,
            "count": 2
           }
          ]
         }
        },
        {
         "name": "wFC (sc)",
         "dtype": "float64",
         "stats": {
          "unique_count": 96,
          "nan_count": 3,
          "min": "-5.5",
          "max": "8.7",
          "histogram": [
           {
            "bin_start": -5.5,
            "bin_end": -4.08,
            "count": 9
           },
           {
            "bin_start": -4.08,
            "bin_end": -2.66,
            "count": 45
           },
           {
            "bin_start": -2.66,
            "bin_end": -1.2400000000000002,
            "count": 81
           },
           {
            "bin_start": -1.2400000000000002,
            "bin_end": 0.17999999999999972,
            "count": 154
           },
           {
            "bin_start": 0.17999999999999972,
            "bin_end": 1.5999999999999996,
            "count": 111
           },
           {
            "bin_start": 1.5999999999999996,
            "bin_end": 3.0199999999999996,
            "count": 55
           },
           {
            "bin_start": 3.0199999999999996,
            "bin_end": 4.4399999999999995,
            "count": 18
           },
           {
            "bin_start": 4.4399999999999995,
            "bin_end": 5.859999999999999,
            "count": 5
           },
           {
            "bin_start": 5.859999999999999,
            "bin_end": 7.279999999999999,
            "count": 3
           },
           {
            "bin_start": 7.279999999999999,
            "bin_end": 8.7,
            "count": 2
           }
          ]
         }
        },
        {
         "name": "wFS (sc)",
         "dtype": "float64",
         "stats": {
          "unique_count": 59,
          "nan_count": 14,
          "min": "-3.3",
          "max": "4.6",
          "histogram": [
           {
            "bin_start": -3.3,
            "bin_end": -2.51,
            "count": 3
           },
           {
            "bin_start": -2.51,
            "bin_end": -1.72,
            "count": 11
           },
           {
            "bin_start": -1.72,
            "bin_end": -0.9300000000000002,
            "count": 47
           },
           {
            "bin_start": -0.9300000000000002,
            "bin_end": -0.14000000000000012,
            "count": 158
           },
           {
            "bin_start": -0.14000000000000012,
            "bin_end": 0.6499999999999999,
            "count": 149
           },
           {
            "bin_start": 0.6499999999999999,
            "bin_end": 1.4399999999999995,
            "count": 56
           },
           {
            "bin_start": 1.4399999999999995,
            "bin_end": 2.2299999999999995,
            "count": 24
           },
           {
            "bin_start": 2.2299999999999995,
            "bin_end": 3.0199999999999996,
            "count": 21
           },
           {
            "bin_start": 3.0199999999999996,
            "bin_end": 3.8099999999999996,
            "count": 1
           },
           {
            "bin_start": 3.8099999999999996,
            "bin_end": 4.6,
            "count": 2
           }
          ]
         }
        },
        {
         "name": "wFO (sc)",
         "dtype": "float64",
         "stats": {
          "unique_count": 18,
          "nan_count": 383,
          "min": "-0.7",
          "max": "1.3",
          "histogram": [
           {
            "bin_start": -0.7,
            "bin_end": -0.49999999999999994,
            "count": 4
           },
           {
            "bin_start": -0.49999999999999994,
            "bin_end": -0.29999999999999993,
            "count": 11
           },
           {
            "bin_start": -0.29999999999999993,
            "bin_end": -0.09999999999999987,
            "count": 30
           },
           {
            "bin_start": -0.09999999999999987,
            "bin_end": 0.10000000000000009,
            "count": 42
           },
           {
            "bin_start": 0.10000000000000009,
            "bin_end": 0.30000000000000004,
            "count": 5
           },
           {
            "bin_start": 0.30000000000000004,
            "bin_end": 0.5000000000000002,
            "count": 6
           },
           {
            "bin_start": 0.5000000000000002,
            "bin_end": 0.7000000000000002,
            "count": 2
           },
           {
            "bin_start": 0.7000000000000002,
            "bin_end": 0.9000000000000001,
            "count": 1
           },
           {
            "bin_start": 0.9000000000000001,
            "bin_end": 1.1,
            "count": 0
           },
           {
            "bin_start": 1.1,
            "bin_end": 1.3,
            "count": 2
           }
          ]
         }
        },
        {
         "name": "wSI (sc)",
         "dtype": "float64",
         "stats": {
          "unique_count": 131,
          "nan_count": 3,
          "min": "-8.6",
          "max": "14.1",
          "histogram": [
           {
            "bin_start": -8.6,
            "bin_end": -6.33,
            "count": 6
           },
           {
            "bin_start": -6.33,
            "bin_end": -4.06,
            "count": 23
           },
           {
            "bin_start": -4.06,
            "bin_end": -1.7899999999999991,
            "count": 95
           },
           {
            "bin_start": -1.7899999999999991,
            "bin_end": 0.4800000000000004,
            "count": 167
           },
           {
            "bin_start": 0.4800000000000004,
            "bin_end": 2.75,
            "count": 108
           },
           {
            "bin_start": 2.75,
            "bin_end": 5.020000000000001,
            "count": 53
           },
           {
            "bin_start": 5.020000000000001,
            "bin_end": 7.290000000000001,
            "count": 16
           },
           {
            "bin_start": 7.290000000000001,
            "bin_end": 9.56,
            "count": 9
           },
           {
            "bin_start": 9.56,
            "bin_end": 11.83,
            "count": 4
           },
           {
            "bin_start": 11.83,
            "bin_end": 14.1,
            "count": 2
           }
          ]
         }
        },
        {
         "name": "wSL (sc)",
         "dtype": "float64",
         "stats": {
          "unique_count": 145,
          "nan_count": 2,
          "min": "-12.8",
          "max": "13.5",
          "histogram": [
           {
            "bin_start": -12.8,
            "bin_end": -10.170000000000002,
            "count": 4
           },
           {
            "bin_start": -10.170000000000002,
            "bin_end": -7.540000000000001,
            "count": 14
           },
           {
            "bin_start": -7.540000000000001,
            "bin_end": -4.910000000000001,
            "count": 36
           },
           {
            "bin_start": -4.910000000000001,
            "bin_end": -2.280000000000001,
            "count": 104
           },
           {
            "bin_start": -2.280000000000001,
            "bin_end": 0.34999999999999787,
            "count": 177
           },
           {
            "bin_start": 0.34999999999999787,
            "bin_end": 2.9799999999999986,
            "count": 98
           },
           {
            "bin_start": 2.9799999999999986,
            "bin_end": 5.609999999999999,
            "count": 32
           },
           {
            "bin_start": 5.609999999999999,
            "bin_end": 8.239999999999998,
            "count": 14
           },
           {
            "bin_start": 8.239999999999998,
            "bin_end": 10.869999999999997,
            "count": 3
           },
           {
            "bin_start": 10.869999999999997,
            "bin_end": 13.5,
            "count": 2
           }
          ]
         }
        },
        {
         "name": "wCU (sc)",
         "dtype": "float64",
         "stats": {
          "unique_count": 100,
          "nan_count": 2,
          "min": "-5.4",
          "max": "10.4",
          "histogram": [
           {
            "bin_start": -5.4,
            "bin_end": -3.8200000000000003,
            "count": 8
           },
           {
            "bin_start": -3.8200000000000003,
            "bin_end": -2.24,
            "count": 50
           },
           {
            "bin_start": -2.24,
            "bin_end": -0.6600000000000001,
            "count": 123
           },
           {
            "bin_start": -0.6600000000000001,
            "bin_end": 0.9199999999999999,
            "count": 160
           },
           {
            "bin_start": 0.9199999999999999,
            "bin_end": 2.5,
            "count": 86
           },
           {
            "bin_start": 2.5,
            "bin_end": 4.08,
            "count": 35
           },
           {
            "bin_start": 4.08,
            "bin_end": 5.66,
            "count": 14
           },
           {
            "bin_start": 5.66,
            "bin_end": 7.24,
            "count": 6
           },
           {
            "bin_start": 7.24,
            "bin_end": 8.82,
            "count": 1
           },
           {
            "bin_start": 8.82,
            "bin_end": 10.4,
            "count": 1
           }
          ]
         }
        },
        {
         "name": "wKC (sc)",
         "dtype": "float64",
         "stats": {
          "unique_count": 65,
          "nan_count": 7,
          "min": "-4.6",
          "max": "5.8",
          "histogram": [
           {
            "bin_start": -4.6,
            "bin_end": -3.5599999999999996,
            "count": 1
           },
           {
            "bin_start": -3.5599999999999996,
            "bin_end": -2.52,
            "count": 2
           },
           {
            "bin_start": -2.52,
            "bin_end": -1.4800000000000004,
            "count": 28
           },
           {
            "bin_start": -1.4800000000000004,
            "bin_end": -0.4400000000000004,
            "count": 119
           },
           {
            "bin_start": -0.4400000000000004,
            "bin_end": 0.5999999999999996,
            "count": 220
           },
           {
            "bin_start": 0.5999999999999996,
            "bin_end": 1.6399999999999988,
            "count": 75
           },
           {
            "bin_start": 1.6399999999999988,
            "bin_end": 2.679999999999999,
            "count": 21
           },
           {
            "bin_start": 2.679999999999999,
            "bin_end": 3.719999999999999,
            "count": 8
           },
           {
            "bin_start": 3.719999999999999,
            "bin_end": 4.759999999999998,
            "count": 4
           },
           {
            "bin_start": 4.759999999999998,
            "bin_end": 5.8,
            "count": 1
           }
          ]
         }
        },
        {
         "name": "wEP (sc)",
         "dtype": "float64",
         "stats": {
          "unique_count": 15,
          "nan_count": 342,
          "min": "-0.9",
          "max": "1.4",
          "histogram": [
           {
            "bin_start": -0.9,
            "bin_end": -0.67,
            "count": 1
           },
           {
            "bin_start": -0.67,
            "bin_end": -0.44000000000000006,
            "count": 3
           },
           {
            "bin_start": -0.44000000000000006,
            "bin_end": -0.21000000000000008,
            "count": 3
           },
           {
            "bin_start": -0.21000000000000008,
            "bin_end": 0.019999999999999907,
            "count": 102
           },
           {
            "bin_start": 0.019999999999999907,
            "bin_end": 0.2499999999999999,
            "count": 16
           },
           {
            "bin_start": 0.2499999999999999,
            "bin_end": 0.47999999999999987,
            "count": 5
           },
           {
            "bin_start": 0.47999999999999987,
            "bin_end": 0.7099999999999999,
            "count": 11
           },
           {
            "bin_start": 0.7099999999999999,
            "bin_end": 0.9399999999999998,
            "count": 2
           },
           {
            "bin_start": 0.9399999999999998,
            "bin_end": 1.17,
            "count": 0
           },
           {
            "bin_start": 1.17,
            "bin_end": 1.4,
            "count": 1
           }
          ]
         }
        },
        {
         "name": "wCH (sc)",
         "dtype": "float64",
         "stats": {
          "unique_count": 129,
          "nan_count": 4,
          "min": "-10.8",
          "max": "9.5",
          "histogram": [
           {
            "bin_start": -10.8,
            "bin_end": -8.77,
            "count": 1
           },
           {
            "bin_start": -8.77,
            "bin_end": -6.74,
            "count": 2
           },
           {
            "bin_start": -6.74,
            "bin_end": -4.71,
            "count": 15
           },
           {
            "bin_start": -4.71,
            "bin_end": -2.6799999999999997,
            "count": 76
           },
           {
            "bin_start": -2.6799999999999997,
            "bin_end": -0.6499999999999986,
            "count": 127
           },
           {
            "bin_start": -0.6499999999999986,
            "bin_end": 1.3800000000000008,
            "count": 137
           },
           {
            "bin_start": 1.3800000000000008,
            "bin_end": 3.41,
            "count": 73
           },
           {
            "bin_start": 3.41,
            "bin_end": 5.440000000000001,
            "count": 26
           },
           {
            "bin_start": 5.440000000000001,
            "bin_end": 7.470000000000002,
            "count": 14
           },
           {
            "bin_start": 7.470000000000002,
            "bin_end": 9.5,
            "count": 11
           }
          ]
         }
        },
        {
         "name": "wSC (sc)",
         "dtype": "float64",
         "stats": {
          "unique_count": 10,
          "nan_count": 438,
          "min": "-0.7",
          "max": "0.8",
          "histogram": [
           {
            "bin_start": -0.7,
            "bin_end": -0.5499999999999999,
            "count": 1
           },
           {
            "bin_start": -0.5499999999999999,
            "bin_end": -0.39999999999999997,
            "count": 1
           },
           {
            "bin_start": -0.39999999999999997,
            "bin_end": -0.25,
            "count": 2
           },
           {
            "bin_start": -0.25,
            "bin_end": -0.09999999999999998,
            "count": 12
           },
           {
            "bin_start": -0.09999999999999998,
            "bin_end": 0.050000000000000044,
            "count": 20
           },
           {
            "bin_start": 0.050000000000000044,
            "bin_end": 0.19999999999999996,
            "count": 9
           },
           {
            "bin_start": 0.19999999999999996,
            "bin_end": 0.3500000000000001,
            "count": 1
           },
           {
            "bin_start": 0.3500000000000001,
            "bin_end": 0.5,
            "count": 0
           },
           {
            "bin_start": 0.5,
            "bin_end": 0.6499999999999999,
            "count": 1
           },
           {
            "bin_start": 0.6499999999999999,
            "bin_end": 0.8,
            "count": 1
           }
          ]
         }
        },
        {
         "name": "wKN (sc)",
         "dtype": "float64",
         "stats": {
          "unique_count": 38,
          "nan_count": 291,
          "min": "-2.6",
          "max": "2.6",
          "histogram": [
           {
            "bin_start": -2.6,
            "bin_end": -2.08,
            "count": 2
           },
           {
            "bin_start": -2.08,
            "bin_end": -1.56,
            "count": 1
           },
           {
            "bin_start": -1.56,
            "bin_end": -1.04,
            "count": 10
           },
           {
            "bin_start": -1.04,
            "bin_end": -0.52,
            "count": 33
           },
           {
            "bin_start": -0.52,
            "bin_end": 0,
            "count": 50
           },
           {
            "bin_start": 0,
            "bin_end": 0.52,
            "count": 53
           },
           {
            "bin_start": 0.52,
            "bin_end": 1.04,
            "count": 27
           },
           {
            "bin_start": 1.04,
            "bin_end": 1.56,
            "count": 13
           },
           {
            "bin_start": 1.56,
            "bin_end": 2.0799999999999996,
            "count": 2
           },
           {
            "bin_start": 2.0799999999999996,
            "bin_end": 2.6,
            "count": 4
           }
          ]
         }
        },
        {
         "name": "wFA/C (sc)",
         "dtype": "float64",
         "stats": {
          "unique_count": 316,
          "nan_count": 1,
          "min": "-9.42",
          "max": "6.74",
          "histogram": [
           {
            "bin_start": -9.42,
            "bin_end": -7.804,
            "count": 1
           },
           {
            "bin_start": -7.804,
            "bin_end": -6.188,
            "count": 1
           },
           {
            "bin_start": -6.188,
            "bin_end": -4.571999999999999,
            "count": 1
           },
           {
            "bin_start": -4.571999999999999,
            "bin_end": -2.9559999999999995,
            "count": 14
           },
           {
            "bin_start": -2.9559999999999995,
            "bin_end": -1.3399999999999999,
            "count": 58
           },
           {
            "bin_start": -1.3399999999999999,
            "bin_end": 0.2760000000000016,
            "count": 215
           },
           {
            "bin_start": 0.2760000000000016,
            "bin_end": 1.8920000000000012,
            "count": 157
           },
           {
            "bin_start": 1.8920000000000012,
            "bin_end": 3.508000000000001,
            "count": 35
           },
           {
            "bin_start": 3.508000000000001,
            "bin_end": 5.1240000000000006,
            "count": 1
           },
           {
            "bin_start": 5.1240000000000006,
            "bin_end": 6.74,
            "count": 2
           }
          ]
         }
        },
        {
         "name": "wFT/C (sc)",
         "dtype": "float64",
         "stats": {
          "unique_count": 355,
          "nan_count": 2,
          "min": "-16.17",
          "max": "48.36",
          "histogram": [
           {
            "bin_start": -16.17,
            "bin_end": -9.717000000000002,
            "count": 1
           },
           {
            "bin_start": -9.717000000000002,
            "bin_end": -3.264000000000001,
            "count": 28
           },
           {
            "bin_start": -3.264000000000001,
            "bin_end": 3.189,
            "count": 418
           },
           {
            "bin_start": 3.189,
            "bin_end": 9.642,
            "count": 35
           },
           {
            "bin_start": 9.642,
            "bin_end": 16.095,
            "count": 1
           },
           {
            "bin_start": 16.095,
            "bin_end": 22.548000000000002,
            "count": 0
           },
           {
            "bin_start": 22.548000000000002,
            "bin_end": 29.000999999999998,
            "count": 0
           },
           {
            "bin_start": 29.000999999999998,
            "bin_end": 35.454,
            "count": 0
           },
           {
            "bin_start": 35.454,
            "bin_end": 41.907000000000004,
            "count": 0
           },
           {
            "bin_start": 41.907000000000004,
            "bin_end": 48.36,
            "count": 1
           }
          ]
         }
        },
        {
         "name": "wFC/C (sc)",
         "dtype": "float64",
         "stats": {
          "unique_count": 389,
          "nan_count": 3,
          "min": "-12.88",
          "max": "41.54",
          "histogram": [
           {
            "bin_start": -12.88,
            "bin_end": -7.438000000000001,
            "count": 2
           },
           {
            "bin_start": -7.438000000000001,
            "bin_end": -1.9960000000000004,
            "count": 134
           },
           {
            "bin_start": -1.9960000000000004,
            "bin_end": 3.4459999999999997,
            "count": 305
           },
           {
            "bin_start": 3.4459999999999997,
            "bin_end": 8.888,
            "count": 38
           },
           {
            "bin_start": 8.888,
            "bin_end": 14.33,
            "count": 2
           },
           {
            "bin_start": 14.33,
            "bin_end": 19.772,
            "count": 1
           },
           {
            "bin_start": 19.772,
            "bin_end": 25.214,
            "count": 0
           },
           {
            "bin_start": 25.214,
            "bin_end": 30.656,
            "count": 0
           },
           {
            "bin_start": 30.656,
            "bin_end": 36.098,
            "count": 0
           },
           {
            "bin_start": 36.098,
            "bin_end": 41.54,
            "count": 1
           }
          ]
         }
        },
        {
         "name": "wFS/C (sc)",
         "dtype": "float64",
         "stats": {
          "unique_count": 407,
          "nan_count": 14,
          "min": "-30.68",
          "max": "72.0",
          "histogram": [
           {
            "bin_start": -30.68,
            "bin_end": -20.412,
            "count": 2
           },
           {
            "bin_start": -20.412,
            "bin_end": -10.143999999999998,
            "count": 15
           },
           {
            "bin_start": -10.143999999999998,
            "bin_end": 0.12400000000000233,
            "count": 253
           },
           {
            "bin_start": 0.12400000000000233,
            "bin_end": 10.392000000000003,
            "count": 172
           },
           {
            "bin_start": 10.392000000000003,
            "bin_end": 20.660000000000004,
            "count": 21
           },
           {
            "bin_start": 20.660000000000004,
            "bin_end": 30.928000000000004,
            "count": 8
           },
           {
            "bin_start": 30.928000000000004,
            "bin_end": 41.196000000000005,
            "count": 0
           },
           {
            "bin_start": 41.196000000000005,
            "bin_end": 51.464000000000006,
            "count": 0
           },
           {
            "bin_start": 51.464000000000006,
            "bin_end": 61.732000000000006,
            "count": 0
           },
           {
            "bin_start": 61.732000000000006,
            "bin_end": 72,
            "count": 1
           }
          ]
         }
        },
        {
         "name": "wFO/C (sc)",
         "dtype": "float64",
         "stats": {
          "unique_count": 90,
          "nan_count": 383,
          "min": "-28.84",
          "max": "55.55",
          "histogram": [
           {
            "bin_start": -28.84,
            "bin_end": -20.401,
            "count": 7
           },
           {
            "bin_start": -20.401,
            "bin_end": -11.962,
            "count": 8
           },
           {
            "bin_start": -11.962,
            "bin_end": -3.5229999999999997,
            "count": 28
           },
           {
            "bin_start": -3.5229999999999997,
            "bin_end": 4.916,
            "count": 35
           },
           {
            "bin_start": 4.916,
            "bin_end": 13.355,
            "count": 15
           },
           {
            "bin_start": 13.355,
            "bin_end": 21.794,
            "count": 4
           },
           {
            "bin_start": 21.794,
            "bin_end": 30.233,
            "count": 2
           },
           {
            "bin_start": 30.233,
            "bin_end": 38.672,
            "count": 2
           },
           {
            "bin_start": 38.672,
            "bin_end": 47.11099999999999,
            "count": 1
           },
           {
            "bin_start": 47.11099999999999,
            "bin_end": 55.55,
            "count": 1
           }
          ]
         }
        },
        {
         "name": "wSI/C (sc)",
         "dtype": "float64",
         "stats": {
          "unique_count": 372,
          "nan_count": 3,
          "min": "-12.16",
          "max": "18.66",
          "histogram": [
           {
            "bin_start": -12.16,
            "bin_end": -9.078,
            "count": 1
           },
           {
            "bin_start": -9.078,
            "bin_end": -5.996,
            "count": 4
           },
           {
            "bin_start": -5.996,
            "bin_end": -2.9140000000000015,
            "count": 49
           },
           {
            "bin_start": -2.9140000000000015,
            "bin_end": 0.16799999999999926,
            "count": 221
           },
           {
            "bin_start": 0.16799999999999926,
            "bin_end": 3.25,
            "count": 164
           },
           {
            "bin_start": 3.25,
            "bin_end": 6.331999999999997,
            "count": 36
           },
           {
            "bin_start": 6.331999999999997,
            "bin_end": 9.413999999999998,
            "count": 5
           },
           {
            "bin_start": 9.413999999999998,
            "bin_end": 12.495999999999999,
            "count": 2
           },
           {
            "bin_start": 12.495999999999999,
            "bin_end": 15.578,
            "count": 0
           },
           {
            "bin_start": 15.578,
            "bin_end": 18.66,
            "count": 1
           }
          ]
         }
        },
        {
         "name": "wSL/C (sc)",
         "dtype": "float64",
         "stats": {
          "unique_count": 350,
          "nan_count": 2,
          "min": "-20.17",
          "max": "5.97",
          "histogram": [
           {
            "bin_start": -20.17,
            "bin_end": -17.556,
            "count": 1
           },
           {
            "bin_start": -17.556,
            "bin_end": -14.942000000000002,
            "count": 1
           },
           {
            "bin_start": -14.942000000000002,
            "bin_end": -12.328000000000003,
            "count": 0
           },
           {
            "bin_start": -12.328000000000003,
            "bin_end": -9.714000000000002,
            "count": 0
           },
           {
            "bin_start": -9.714000000000002,
            "bin_end": -7.100000000000001,
            "count": 1
           },
           {
            "bin_start": -7.100000000000001,
            "bin_end": -4.486000000000002,
            "count": 7
           },
           {
            "bin_start": -4.486000000000002,
            "bin_end": -1.8720000000000034,
            "count": 86
           },
           {
            "bin_start": -1.8720000000000034,
            "bin_end": 0.7419999999999973,
            "count": 289
           },
           {
            "bin_start": 0.7419999999999973,
            "bin_end": 3.355999999999998,
            "count": 88
           },
           {
            "bin_start": 3.355999999999998,
            "bin_end": 5.97,
            "count": 11
           }
          ]
         }
        },
        {
         "name": "wCU/C (sc)",
         "dtype": "float64",
         "stats": {
          "unique_count": 355,
          "nan_count": 2,
          "min": "-7.99",
          "max": "7.59",
          "histogram": [
           {
            "bin_start": -7.99,
            "bin_end": -6.432,
            "count": 2
           },
           {
            "bin_start": -6.432,
            "bin_end": -4.8740000000000006,
            "count": 3
           },
           {
            "bin_start": -4.8740000000000006,
            "bin_end": -3.316,
            "count": 20
           },
           {
            "bin_start": -3.316,
            "bin_end": -1.758,
            "count": 67
           },
           {
            "bin_start": -1.758,
            "bin_end": -0.20000000000000018,
            "count": 148
           },
           {
            "bin_start": -0.20000000000000018,
            "bin_end": 1.3580000000000005,
            "count": 146
           },
           {
            "bin_start": 1.3580000000000005,
            "bin_end": 2.9160000000000004,
            "count": 61
           },
           {
            "bin_start": 2.9160000000000004,
            "bin_end": 4.474,
            "count": 23
           },
           {
            "bin_start": 4.474,
            "bin_end": 6.032,
            "count": 9
           },
           {
            "bin_start": 6.032,
            "bin_end": 7.59,
            "count": 5
           }
          ]
         }
        },
        {
         "name": "wKC/C (sc)",
         "dtype": "float64",
         "stats": {
          "unique_count": 394,
          "nan_count": 7,
          "min": "-17.71",
          "max": "53.9",
          "histogram": [
           {
            "bin_start": -17.71,
            "bin_end": -10.549000000000001,
            "count": 7
           },
           {
            "bin_start": -10.549000000000001,
            "bin_end": -3.3880000000000017,
            "count": 80
           },
           {
            "bin_start": -3.3880000000000017,
            "bin_end": 3.772999999999996,
            "count": 324
           },
           {
            "bin_start": 3.772999999999996,
            "bin_end": 10.933999999999997,
            "count": 56
           },
           {
            "bin_start": 10.933999999999997,
            "bin_end": 18.095,
            "count": 8
           },
           {
            "bin_start": 18.095,
            "bin_end": 25.255999999999993,
            "count": 2
           },
           {
            "bin_start": 25.255999999999993,
            "bin_end": 32.416999999999994,
            "count": 1
           },
           {
            "bin_start": 32.416999999999994,
            "bin_end": 39.577999999999996,
            "count": 0
           },
           {
            "bin_start": 39.577999999999996,
            "bin_end": 46.739,
            "count": 0
           },
           {
            "bin_start": 46.739,
            "bin_end": 53.9,
            "count": 1
           }
          ]
         }
        },
        {
         "name": "wEP/C (sc)",
         "dtype": "float64",
         "stats": {
          "unique_count": 111,
          "nan_count": 342,
          "min": "-28.3",
          "max": "139.51",
          "histogram": [
           {
            "bin_start": -28.3,
            "bin_end": -11.519000000000002,
            "count": 22
           },
           {
            "bin_start": -11.519000000000002,
            "bin_end": 5.261999999999997,
            "count": 98
           },
           {
            "bin_start": 5.261999999999997,
            "bin_end": 22.042999999999996,
            "count": 11
           },
           {
            "bin_start": 22.042999999999996,
            "bin_end": 38.824,
            "count": 6
           },
           {
            "bin_start": 38.824,
            "bin_end": 55.605000000000004,
            "count": 5
           },
           {
            "bin_start": 55.605000000000004,
            "bin_end": 72.386,
            "count": 0
           },
           {
            "bin_start": 72.386,
            "bin_end": 89.16699999999999,
            "count": 1
           },
           {
            "bin_start": 89.16699999999999,
            "bin_end": 105.948,
            "count": 0
           },
           {
            "bin_start": 105.948,
            "bin_end": 122.729,
            "count": 0
           },
           {
            "bin_start": 122.729,
            "bin_end": 139.51,
            "count": 1
           }
          ]
         }
        },
        {
         "name": "wCH/C (sc)",
         "dtype": "float64",
         "stats": {
          "unique_count": 341,
          "nan_count": 4,
          "min": "-10.81",
          "max": "14.58",
          "histogram": [
           {
            "bin_start": -10.81,
            "bin_end": -8.271,
            "count": 3
           },
           {
            "bin_start": -8.271,
            "bin_end": -5.732,
            "count": 7
           },
           {
            "bin_start": -5.732,
            "bin_end": -3.1929999999999996,
            "count": 25
           },
           {
            "bin_start": -3.1929999999999996,
            "bin_end": -0.6539999999999999,
            "count": 168
           },
           {
            "bin_start": -0.6539999999999999,
            "bin_end": 1.8849999999999998,
            "count": 211
           },
           {
            "bin_start": 1.8849999999999998,
            "bin_end": 4.424000000000001,
            "count": 54
           },
           {
            "bin_start": 4.424000000000001,
            "bin_end": 6.962999999999999,
            "count": 11
           },
           {
            "bin_start": 6.962999999999999,
            "bin_end": 9.502,
            "count": 2
           },
           {
            "bin_start": 9.502,
            "bin_end": 12.041000000000002,
            "count": 0
           },
           {
            "bin_start": 12.041000000000002,
            "bin_end": 14.58,
            "count": 1
           }
          ]
         }
        },
        {
         "name": "wSC/C (sc)",
         "dtype": "float64",
         "stats": {
          "unique_count": 41,
          "nan_count": 438,
          "min": "-71.94",
          "max": "78.67",
          "histogram": [
           {
            "bin_start": -71.94,
            "bin_end": -56.879,
            "count": 1
           },
           {
            "bin_start": -56.879,
            "bin_end": -41.818,
            "count": 0
           },
           {
            "bin_start": -41.818,
            "bin_end": -26.75699999999999,
            "count": 0
           },
           {
            "bin_start": -26.75699999999999,
            "bin_end": -11.69599999999999,
            "count": 9
           },
           {
            "bin_start": -11.69599999999999,
            "bin_end": 3.365000000000009,
            "count": 19
           },
           {
            "bin_start": 3.365000000000009,
            "bin_end": 18.426000000000016,
            "count": 17
           },
           {
            "bin_start": 18.426000000000016,
            "bin_end": 33.48700000000001,
            "count": 1
           },
           {
            "bin_start": 33.48700000000001,
            "bin_end": 48.548000000000016,
            "count": 0
           },
           {
            "bin_start": 48.548000000000016,
            "bin_end": 63.60900000000001,
            "count": 0
           },
           {
            "bin_start": 63.60900000000001,
            "bin_end": 78.67,
            "count": 1
           }
          ]
         }
        },
        {
         "name": "wKN/C (sc)",
         "dtype": "float64",
         "stats": {
          "unique_count": 186,
          "nan_count": 291,
          "min": "-20.77",
          "max": "54.05",
          "histogram": [
           {
            "bin_start": -20.77,
            "bin_end": -13.288,
            "count": 3
           },
           {
            "bin_start": -13.288,
            "bin_end": -5.806000000000001,
            "count": 29
           },
           {
            "bin_start": -5.806000000000001,
            "bin_end": 1.6759999999999984,
            "count": 99
           },
           {
            "bin_start": 1.6759999999999984,
            "bin_end": 9.157999999999998,
            "count": 40
           },
           {
            "bin_start": 9.157999999999998,
            "bin_end": 16.639999999999997,
            "count": 19
           },
           {
            "bin_start": 16.639999999999997,
            "bin_end": 24.121999999999996,
            "count": 2
           },
           {
            "bin_start": 24.121999999999996,
            "bin_end": 31.603999999999996,
            "count": 1
           },
           {
            "bin_start": 31.603999999999996,
            "bin_end": 39.086,
            "count": 0
           },
           {
            "bin_start": 39.086,
            "bin_end": 46.568,
            "count": 1
           },
           {
            "bin_start": 46.568,
            "bin_end": 54.05,
            "count": 1
           }
          ]
         }
        },
        {
         "name": "O-Swing% (sc)",
         "dtype": "float64",
         "stats": {
          "unique_count": 212,
          "nan_count": 1,
          "min": "0.0",
          "max": "0.667",
          "histogram": [
           {
            "bin_start": 0,
            "bin_end": 0.06670000000000001,
            "count": 1
           },
           {
            "bin_start": 0.06670000000000001,
            "bin_end": 0.13340000000000002,
            "count": 5
           },
           {
            "bin_start": 0.13340000000000002,
            "bin_end": 0.20010000000000003,
            "count": 40
           },
           {
            "bin_start": 0.20010000000000003,
            "bin_end": 0.26680000000000004,
            "count": 191
           },
           {
            "bin_start": 0.26680000000000004,
            "bin_end": 0.3335,
            "count": 174
           },
           {
            "bin_start": 0.3335,
            "bin_end": 0.40020000000000006,
            "count": 56
           },
           {
            "bin_start": 0.40020000000000006,
            "bin_end": 0.4669000000000001,
            "count": 17
           },
           {
            "bin_start": 0.4669000000000001,
            "bin_end": 0.5336000000000001,
            "count": 0
           },
           {
            "bin_start": 0.5336000000000001,
            "bin_end": 0.6003000000000001,
            "count": 0
           },
           {
            "bin_start": 0.6003000000000001,
            "bin_end": 0.667,
            "count": 1
           }
          ]
         }
        },
        {
         "name": "Z-Swing% (sc)",
         "dtype": "float64",
         "stats": {
          "unique_count": 210,
          "nan_count": 1,
          "min": "0.33299999999999996",
          "max": "0.889",
          "histogram": [
           {
            "bin_start": 0.33299999999999996,
            "bin_end": 0.38859999999999995,
            "count": 1
           },
           {
            "bin_start": 0.38859999999999995,
            "bin_end": 0.4442,
            "count": 0
           },
           {
            "bin_start": 0.4442,
            "bin_end": 0.49979999999999997,
            "count": 7
           },
           {
            "bin_start": 0.49979999999999997,
            "bin_end": 0.5554,
            "count": 24
           },
           {
            "bin_start": 0.5554,
            "bin_end": 0.611,
            "count": 113
           },
           {
            "bin_start": 0.611,
            "bin_end": 0.6666,
            "count": 171
           },
           {
            "bin_start": 0.6666,
            "bin_end": 0.7222,
            "count": 124
           },
           {
            "bin_start": 0.7222,
            "bin_end": 0.7778,
            "count": 37
           },
           {
            "bin_start": 0.7778,
            "bin_end": 0.8334,
            "count": 7
           },
           {
            "bin_start": 0.8334,
            "bin_end": 0.889,
            "count": 1
           }
          ]
         }
        },
        {
         "name": "Swing% (sc)",
         "dtype": "float64",
         "stats": {
          "unique_count": 191,
          "nan_count": 1,
          "min": "0.34",
          "max": "0.667",
          "histogram": [
           {
            "bin_start": 0.34,
            "bin_end": 0.37270000000000003,
            "count": 14
           },
           {
            "bin_start": 0.37270000000000003,
            "bin_end": 0.40540000000000004,
            "count": 52
           },
           {
            "bin_start": 0.40540000000000004,
            "bin_end": 0.43810000000000004,
            "count": 91
           },
           {
            "bin_start": 0.43810000000000004,
            "bin_end": 0.4708,
            "count": 122
           },
           {
            "bin_start": 0.4708,
            "bin_end": 0.5035000000000001,
            "count": 106
           },
           {
            "bin_start": 0.5035000000000001,
            "bin_end": 0.5362,
            "count": 57
           },
           {
            "bin_start": 0.5362,
            "bin_end": 0.5689,
            "count": 24
           },
           {
            "bin_start": 0.5689,
            "bin_end": 0.6016,
            "count": 16
           },
           {
            "bin_start": 0.6016,
            "bin_end": 0.6343000000000001,
            "count": 2
           },
           {
            "bin_start": 0.6343000000000001,
            "bin_end": 0.667,
            "count": 1
           }
          ]
         }
        },
        {
         "name": "O-Contact% (sc)",
         "dtype": "float64"
        },
        {
         "name": "Z-Contact% (sc)",
         "dtype": "float64"
        },
        {
         "name": "Contact% (sc)",
         "dtype": "float64"
        },
        {
         "name": "Zone% (sc)",
         "dtype": "float64"
        },
        {
         "name": "Pace",
         "dtype": "float64"
        },
        {
         "name": "Def",
         "dtype": "float64"
        },
        {
         "name": "wSB",
         "dtype": "float64"
        },
        {
         "name": "UBR",
         "dtype": "float64"
        },
        {
         "name": "Age Rng",
         "dtype": "object"
        },
        {
         "name": "Off",
         "dtype": "float64"
        },
        {
         "name": "Lg",
         "dtype": "float64"
        },
        {
         "name": "wGDP",
         "dtype": "float64"
        },
        {
         "name": "Pull%",
         "dtype": "float64"
        },
        {
         "name": "Cent%",
         "dtype": "float64"
        },
        {
         "name": "Oppo%",
         "dtype": "float64"
        },
        {
         "name": "Soft%",
         "dtype": "float64"
        },
        {
         "name": "Med%",
         "dtype": "float64"
        },
        {
         "name": "Hard%",
         "dtype": "float64"
        },
        {
         "name": "TTO%",
         "dtype": "float64"
        },
        {
         "name": "CH% (pi)",
         "dtype": "float64"
        },
        {
         "name": "CS% (pi)",
         "dtype": "float64"
        },
        {
         "name": "CU% (pi)",
         "dtype": "float64"
        },
        {
         "name": "FA% (pi)",
         "dtype": "float64"
        },
        {
         "name": "FC% (pi)",
         "dtype": "float64"
        },
        {
         "name": "FS% (pi)",
         "dtype": "float64"
        },
        {
         "name": "KN% (pi)",
         "dtype": "float64"
        },
        {
         "name": "SB% (pi)",
         "dtype": "float64"
        },
        {
         "name": "SI% (pi)",
         "dtype": "float64"
        },
        {
         "name": "SL% (pi)",
         "dtype": "float64"
        },
        {
         "name": "XX% (pi)",
         "dtype": "float64"
        },
        {
         "name": "vCH (pi)",
         "dtype": "float64"
        },
        {
         "name": "vCS (pi)",
         "dtype": "float64"
        },
        {
         "name": "vCU (pi)",
         "dtype": "float64"
        },
        {
         "name": "vFA (pi)",
         "dtype": "float64"
        },
        {
         "name": "vFC (pi)",
         "dtype": "float64"
        },
        {
         "name": "vFS (pi)",
         "dtype": "float64"
        },
        {
         "name": "vKN (pi)",
         "dtype": "float64"
        },
        {
         "name": "vSB (pi)",
         "dtype": "float64"
        },
        {
         "name": "vSI (pi)",
         "dtype": "float64"
        },
        {
         "name": "vSL (pi)",
         "dtype": "float64"
        },
        {
         "name": "vXX (pi)",
         "dtype": "float64"
        },
        {
         "name": "CH-X (pi)",
         "dtype": "float64"
        },
        {
         "name": "CS-X (pi)",
         "dtype": "float64"
        },
        {
         "name": "CU-X (pi)",
         "dtype": "float64"
        },
        {
         "name": "FA-X (pi)",
         "dtype": "float64"
        },
        {
         "name": "FC-X (pi)",
         "dtype": "float64"
        },
        {
         "name": "FS-X (pi)",
         "dtype": "float64"
        },
        {
         "name": "KN-X (pi)",
         "dtype": "float64"
        },
        {
         "name": "SB-X (pi)",
         "dtype": "float64"
        },
        {
         "name": "SI-X (pi)",
         "dtype": "float64"
        },
        {
         "name": "SL-X (pi)",
         "dtype": "float64"
        },
        {
         "name": "XX-X (pi)",
         "dtype": "float64"
        },
        {
         "name": "CH-Z (pi)",
         "dtype": "float64"
        },
        {
         "name": "CS-Z (pi)",
         "dtype": "float64"
        },
        {
         "name": "CU-Z (pi)",
         "dtype": "float64"
        },
        {
         "name": "FA-Z (pi)",
         "dtype": "float64"
        },
        {
         "name": "FC-Z (pi)",
         "dtype": "float64"
        },
        {
         "name": "FS-Z (pi)",
         "dtype": "float64"
        },
        {
         "name": "KN-Z (pi)",
         "dtype": "float64"
        },
        {
         "name": "SB-Z (pi)",
         "dtype": "float64"
        },
        {
         "name": "SI-Z (pi)",
         "dtype": "float64"
        },
        {
         "name": "SL-Z (pi)",
         "dtype": "float64"
        },
        {
         "name": "XX-Z (pi)",
         "dtype": "float64"
        },
        {
         "name": "wCH (pi)",
         "dtype": "float64"
        },
        {
         "name": "wCS (pi)",
         "dtype": "float64"
        },
        {
         "name": "wCU (pi)",
         "dtype": "float64"
        },
        {
         "name": "wFA (pi)",
         "dtype": "float64"
        },
        {
         "name": "wFC (pi)",
         "dtype": "float64"
        },
        {
         "name": "wFS (pi)",
         "dtype": "float64"
        },
        {
         "name": "wKN (pi)",
         "dtype": "float64"
        },
        {
         "name": "wSB (pi)",
         "dtype": "float64"
        },
        {
         "name": "wSI (pi)",
         "dtype": "float64"
        },
        {
         "name": "wSL (pi)",
         "dtype": "float64"
        },
        {
         "name": "wXX (pi)",
         "dtype": "float64"
        },
        {
         "name": "wCH/C (pi)",
         "dtype": "float64"
        },
        {
         "name": "wCS/C (pi)",
         "dtype": "float64"
        },
        {
         "name": "wCU/C (pi)",
         "dtype": "float64"
        },
        {
         "name": "wFA/C (pi)",
         "dtype": "float64"
        },
        {
         "name": "wFC/C (pi)",
         "dtype": "float64"
        },
        {
         "name": "wFS/C (pi)",
         "dtype": "float64"
        },
        {
         "name": "wKN/C (pi)",
         "dtype": "float64"
        },
        {
         "name": "wSB/C (pi)",
         "dtype": "float64"
        },
        {
         "name": "wSI/C (pi)",
         "dtype": "float64"
        },
        {
         "name": "wSL/C (pi)",
         "dtype": "float64"
        },
        {
         "name": "wXX/C (pi)",
         "dtype": "float64"
        },
        {
         "name": "O-Swing% (pi)",
         "dtype": "float64"
        },
        {
         "name": "Z-Swing% (pi)",
         "dtype": "float64"
        },
        {
         "name": "Swing% (pi)",
         "dtype": "float64"
        },
        {
         "name": "O-Contact% (pi)",
         "dtype": "float64"
        },
        {
         "name": "Z-Contact% (pi)",
         "dtype": "float64"
        },
        {
         "name": "Contact% (pi)",
         "dtype": "float64"
        },
        {
         "name": "Zone% (pi)",
         "dtype": "float64"
        },
        {
         "name": "Pace (pi)",
         "dtype": "float64"
        },
        {
         "name": "FRM",
         "dtype": "float64"
        },
        {
         "name": "AVG+",
         "dtype": "float64"
        },
        {
         "name": "BB%+",
         "dtype": "float64"
        },
        {
         "name": "K%+",
         "dtype": "float64"
        },
        {
         "name": "OBP+",
         "dtype": "float64"
        },
        {
         "name": "SLG+",
         "dtype": "float64"
        },
        {
         "name": "ISO+",
         "dtype": "float64"
        },
        {
         "name": "BABIP+",
         "dtype": "float64"
        },
        {
         "name": "LD+%",
         "dtype": "float64"
        },
        {
         "name": "GB%+",
         "dtype": "float64"
        },
        {
         "name": "FB%+",
         "dtype": "float64"
        },
        {
         "name": "HR/FB%+",
         "dtype": "float64"
        },
        {
         "name": "Pull%+",
         "dtype": "float64"
        },
        {
         "name": "Cent%+",
         "dtype": "float64"
        },
        {
         "name": "Oppo%+",
         "dtype": "float64"
        },
        {
         "name": "Soft%+",
         "dtype": "float64"
        },
        {
         "name": "Med%+",
         "dtype": "float64"
        },
        {
         "name": "Hard%+",
         "dtype": "float64"
        },
        {
         "name": "EV",
         "dtype": "float64"
        },
        {
         "name": "LA",
         "dtype": "float64"
        },
        {
         "name": "Barrels",
         "dtype": "float64"
        },
        {
         "name": "Barrel%",
         "dtype": "float64"
        },
        {
         "name": "maxEV",
         "dtype": "float64"
        },
        {
         "name": "HardHit",
         "dtype": "float64"
        },
        {
         "name": "HardHit%",
         "dtype": "float64"
        },
        {
         "name": "Events",
         "dtype": "int64"
        },
        {
         "name": "CStr%",
         "dtype": "float64"
        },
        {
         "name": "CSW%",
         "dtype": "float64"
        },
        {
         "name": "xBA",
         "dtype": "float64"
        },
        {
         "name": "xSLG",
         "dtype": "float64"
        },
        {
         "name": "xwOBA",
         "dtype": "float64"
        },
        {
         "name": "_deepnote_index_column",
         "dtype": "int64"
        }
       ],
       "rows": [
        {
         "Name": "Robinson Cano",
         "Pos_x": "2B",
         "Age_x": "31.1",
         "Bats": "L",
         "Throws": "R",
         "Prev_Team": "NYY",
         "New_Team": "SEA",
         "Length": "10",
         "Total": "$240,000,000",
         "AAV": "$24,000,000",
         "Contract Year": 2014,
         "Season": 2013,
         "IDfg": 3269,
         "Team": "NYY",
         "Age_y": 30,
         "G": 160,
         "AB": 605,
         "PA": 681,
         "H": 190,
         "1B": 122,
         "2B": 41,
         "3B": 0,
         "HR": 27,
         "R": 81,
         "RBI": 107,
         "BB": 65,
         "IBB": 16,
         "SO": 85,
         "HBP": 6,
         "SF": 5,
         "SH": 0,
         "GDP": 18,
         "SB": 7,
         "CS": 1,
         "AVG": 0.314,
         "GB": 232,
         "FB": 156,
         "LD": 136,
         "IFFB": 7,
         "Pitches": 2476,
         "Balls": 928,
         "Strikes": 1548,
         "IFH": 9,
         "BU": 1,
         "BUH": 1,
         "BB%": 0.095,
         "K%": 0.125,
         "BB/K": 0.76,
         "OBP": 0.383,
         "SLG": 0.516,
         "OPS": 0.899,
         "ISO": 0.202,
         "BABIP": 0.327,
         "GB/FB": 0.0149,
         "LD%": 0.26,
         "GB%": 0.44299999999999995,
         "FB%": 0.298,
         "IFFB%": 0.045,
         "HR/FB": 0.17300000000000001,
         "IFH%": 0.039,
         "BUH%": 1,
         "wOBA": 0.384,
         "wRAA": 37.4,
         "wRC": 112,
         "Bat": 33.6,
         "Fld": 1.9,
         "Rep": 19.5,
         "Pos_y": 1.7,
         "RAR": 54.7,
         "WAR": 5.9,
         "Dol": "$43.7",
         "Spd": 2.9,
         "wRC+": 143,
         "WPA": 4.86,
         "-WPA": -10.26,
         "+WPA": 15.12,
         "RE24": 49.52,
         "REW": 5.17,
         "pLI": 0.99,
         "phLI": "nan",
         "PH": 0,
         "WPA/LI": 4.23,
         "Clutch": 0.68,
         "FB% (Pitch)": 0.578,
         "FBv": 91.9,
         "SL%": 0.13,
         "SLv": 83.4,
         "CT%": 0.055999999999999994,
         "CTv": 87.7,
         "CB%": 0.10099999999999999,
         "CBv": 78.3,
         "CH%": 0.096,
         "CHv": 84.2,
         "SF%": 0.024,
         "SFv": 83.4,
         "KN%": 0.013999999999999999,
         "KNv": 77.7,
         "XX%": 0.022000000000000002,
         "PO%": "nan",
         "wFB": 11.6,
         "wSL": 10.2,
         "wCT": -2.9,
         "wCB": 8.3,
         "wCH": 11.9,
         "wSF": 0.5,
         "wKN": -1.6,
         "wFB/C": 0.83,
         "wSL/C": 3.24,
         "wCT/C": -2.14,
         "wCB/C": 3.4,
         "wCH/C": 5.11,
         "wSF/C": 0.89,
         "wKN/C": -4.66,
         "O-Swing%": 0.33899999999999997,
         "Z-Swing%": 0.716,
         "Swing%": 0.49200000000000005,
         "O-Contact%": 0.77,
         "Z-Contact%": 0.9329999999999999,
         "Contact%": 0.867,
         "Zone%": 0.406,
         "F-Strike%": 0.606,
         "SwStr%": 0.064,
         "BsR": -4.5,
         "FA% (sc)": 0.38,
         "FT% (sc)": 0.122,
         "FC% (sc)": 0.05,
         "FS% (sc)": 0.02,
         "FO% (sc)": "nan",
         "SI% (sc)": 0.083,
         "SL% (sc)": 0.133,
         "CU% (sc)": 0.069,
         "KC% (sc)": 0.033,
         "EP% (sc)": 0,
         "CH% (sc)": 0.095,
         "SC% (sc)": "nan",
         "KN% (sc)": 0.013000000000000001,
         "UN% (sc)": "nan",
         "vFA (sc)": 91.8,
         "vFT (sc)": 91.6,
         "vFC (sc)": 88.1,
         "vFS (sc)": 83.6,
         "vFO (sc)": "nan",
         "vSI (sc)": 91.4,
         "vSL (sc)": 83.3,
         "vCU (sc)": 77.6,
         "vKC (sc)": 79.9,
         "vEP (sc)": 65.8,
         "vCH (sc)": 84.1,
         "vSC (sc)": "nan",
         "vKN (sc)": 77.8,
         "FA-X (sc)": -0.6,
         "FT-X (sc)": 0.3,
         "FC-X (sc)": 0.9,
         "FS-X (sc)": -4.8,
         "FO-X (sc)": "nan",
         "SI-X (sc)": 1.4,
         "SL-X (sc)": 0.3,
         "CU-X (sc)": 3.1,
         "KC-X (sc)": 2.1,
         "EP-X (sc)": 1.6,
         "CH-X (sc)": -3.4,
         "SC-X (sc)": "nan",
         "KN-X (sc)": -1.4,
         "FA-Z (sc)": 8.4,
         "FT-Z (sc)": 6,
         "FC-Z (sc)": 4.5,
         "FS-Z (sc)": 5.7,
         "FO-Z (sc)": "nan",
         "SI-Z (sc)": 5.8,
         "SL-Z (sc)": -0.2,
         "CU-Z (sc)": -5.3,
         "KC-Z (sc)": -6.7,
         "EP-Z (sc)": 4.1,
         "CH-Z (sc)": 3.2,
         "SC-Z (sc)": "nan",
         "KN-Z (sc)": 1.5,
         "wFA (sc)": 1.1,
         "wFT (sc)": 9.1,
         "wFC (sc)": -5,
         "wFS (sc)": 3.3,
         "wFO (sc)": "nan",
         "wSI (sc)": -0.6,
         "wSL (sc)": 13.3,
         "wCU (sc)": 3.6,
         "wKC (sc)": 3.3,
         "wEP (sc)": 0,
         "wCH (sc)": 9.2,
         "wSC (sc)": "nan",
         "wKN (sc)": -1.1,
         "wFA/C (sc)": 0.12,
         "wFT/C (sc)": 3.08,
         "wFC/C (sc)": -4.13,
         "wFS/C (sc)": 6.73,
         "wFO/C (sc)": "nan",
         "wSI/C (sc)": -0.29,
         "wSL/C (sc)": 4.12,
         "wCU/C (sc)": 2.15,
         "wKC/C (sc)": 4.12,
         "wEP/C (sc)": -3.81,
         "wCH/C (sc)": 3.98,
         "wSC/C (sc)": "nan",
         "wKN/C (sc)": -3.42,
         "O-Swing% (sc)": 0.292,
         "Z-Swing% (sc)": 0.706,
         "Swing% (sc)": 0.493,
         "O-Contact% (sc)": 0.711,
         "Z-Contact% (sc)": 0.9309999999999999,
         "Contact% (sc)": 0.8640000000000001,
         "Zone% (sc)": 0.486,
         "Pace": 27.4,
         "Def": 3.6,
         "wSB": 0.4,
         "UBR": -3.9,
         "Age Rng": "30 - 30",
         "Off": 29.1,
         "Lg": 2.6,
         "wGDP": -1,
         "Pull%": 0.368,
         "Cent%": 0.377,
         "Oppo%": 0.255,
         "Soft%": 0.122,
         "Med%": 0.493,
         "Hard%": 0.385,
         "TTO%": 0.26,
         "CH% (pi)": 0.08199999999999999,
         "CS% (pi)": 0,
         "CU% (pi)": 0.107,
         "FA% (pi)": 0.38299999999999995,
         "FC% (pi)": 0.057,
         "FS% (pi)": 0.034,
         "KN% (pi)": 0.013999999999999999,
         "SB% (pi)": "nan",
         "SI% (pi)": 0.19399999999999998,
         "SL% (pi)": 0.11900000000000001,
         "XX% (pi)": 0,
         "vCH (pi)": 84.9,
         "vCS (pi)": 69.6,
         "vCU (pi)": 79,
         "vFA (pi)": 92.8,
         "vFC (pi)": 88.3,
         "vFS (pi)": 84.5,
         "vKN (pi)": 78,
         "vSB (pi)": "nan",
         "vSI (pi)": 92.2,
         "vSL (pi)": 84.4,
         "vXX (pi)": 0,
         "CH-X (pi)": -3.9,
         "CS-X (pi)": 8,
         "CU-X (pi)": 2.2,
         "FA-X (pi)": -0.2,
         "FC-X (pi)": 0.6,
         "FS-X (pi)": -4.8,
         "KN-X (pi)": -0.5,
         "SB-X (pi)": "nan",
         "SI-X (pi)": -1.2,
         "SL-X (pi)": 0,
         "XX-X (pi)": 0,
         "CH-Z (pi)": 3.1,
         "CS-Z (pi)": -12.8,
         "CU-Z (pi)": -7.3,
         "FA-Z (pi)": 8.4,
         "FC-Z (pi)": 4,
         "FS-Z (pi)": 2,
         "KN-Z (pi)": 0.2,
         "SB-Z (pi)": "nan",
         "SI-Z (pi)": 5,
         "SL-Z (pi)": -0.7,
         "XX-Z (pi)": 0,
         "wCH (pi)": 2,
         "wCS (pi)": 0,
         "wCU (pi)": 0.7,
         "wFA (pi)": -2,
         "wFC (pi)": 0.7,
         "wFS (pi)": 0.4,
         "wKN (pi)": -0.4,
         "wSB (pi)": "nan",
         "wSI (pi)": -0.6,
         "wSL (pi)": -0.2,
         "wXX (pi)": 0,
         "wCH/C (pi)": 0.98,
         "wCS/C (pi)": 4.57,
         "wCU/C (pi)": 0.25,
         "wFA/C (pi)": -0.22,
         "wFC/C (pi)": 0.49,
         "wFS/C (pi)": 0.55,
         "wKN/C (pi)": -1.12,
         "wSB/C (pi)": "nan",
         "wSI/C (pi)": -0.12,
         "wSL/C (pi)": -0.06,
         "wXX/C (pi)": 0,
         "O-Swing% (pi)": 0.28800000000000003,
         "Z-Swing% (pi)": 0.6920000000000001,
         "Swing% (pi)": 0.49200000000000005,
         "O-Contact% (pi)": 0.698,
         "Z-Contact% (pi)": 0.932,
         "Contact% (pi)": 0.8640000000000001,
         "Zone% (pi)": 0.506,
         "Pace (pi)": "nan",
         "FRM": "nan",
         "AVG+": 122,
         "BB%+": 117,
         "K%+": 63,
         "OBP+": 119,
         "SLG+": 127,
         "ISO+": 135,
         "BABIP+": 110,
         "LD+%": 1.22,
         "GB%+": 102,
         "FB%+": 84,
         "HR/FB%+": 159,
         "Pull%+": 92,
         "Cent%+": 106,
         "Oppo%+": 104,
         "Soft%+": 76,
         "Med%+": 92,
         "Hard%+": 128,
         "EV": "nan",
         "LA": "nan",
         "Barrels": 0,
         "Barrel%": "nan",
         "maxEV": "nan",
         "HardHit": 0,
         "HardHit%": "nan",
         "Events": 0,
         "CStr%": 0.142,
         "CSW%": 0.20600000000000002,
         "xBA": "nan",
         "xSLG": "nan",
         "xwOBA": "nan",
         "_deepnote_index_column": 0
        },
        {
         "Name": "Jacoby Ellsbury",
         "Pos_x": "CF",
         "Age_x": "30.2",
         "Bats": "L",
         "Throws": "L",
         "Prev_Team": "BOS",
         "New_Team": "NYY",
         "Length": "7",
         "Total": "$153,000,000",
         "AAV": "$21,857,143",
         "Contract Year": 2014,
         "Season": 2013,
         "IDfg": 4727,
         "Team": "BOS",
         "Age_y": 29,
         "G": 134,
         "AB": 577,
         "PA": 636,
         "H": 172,
         "1B": 124,
         "2B": 31,
         "3B": 8,
         "HR": 9,
         "R": 92,
         "RBI": 53,
         "BB": 47,
         "IBB": 3,
         "SO": 92,
         "HBP": 5,
         "SF": 2,
         "SH": 1,
         "GDP": 12,
         "SB": 52,
         "CS": 4,
         "AVG": 0.298,
         "GB": 247,
         "FB": 137,
         "LD": 102,
         "IFFB": 14,
         "Pitches": 2454,
         "Balls": 898,
         "Strikes": 1556,
         "IFH": 12,
         "BU": 2,
         "BUH": 1,
         "BB%": 0.07400000000000001,
         "K%": 0.145,
         "BB/K": 0.51,
         "OBP": 0.355,
         "SLG": 0.426,
         "OPS": 0.781,
         "ISO": 0.128,
         "BABIP": 0.341,
         "GB/FB": 0.018000000000000002,
         "LD%": 0.21,
         "GB%": 0.508,
         "FB%": 0.282,
         "IFFB%": 0.102,
         "HR/FB": 0.066,
         "IFH%": 0.049,
         "BUH%": 0.5,
         "wOBA": 0.343,
         "wRAA": 14.5,
         "wRC": 84,
         "Bat": 8.5,
         "Fld": 0.9,
         "Rep": 18.2,
         "Pos_y": 2,
         "RAR": 42.6,
         "WAR": 4.6,
         "Dol": "$34.1",
         "Spd": 8.2,
         "wRC+": 112,
         "WPA": 2.23,
         "-WPA": -10.5,
         "+WPA": 12.73,
         "RE24": 17.16,
         "REW": 1.8,
         "pLI": 1.05,
         "phLI": "nan",
         "PH": 0,
         "WPA/LI": 1.01,
         "Clutch": 1.13,
         "FB% (Pitch)": 0.606,
         "FBv": 91.4,
         "SL%": 0.141,
         "SLv": 82.9,
         "CT%": 0.059000000000000004,
         "CTv": 86.4,
         "CB%": 0.08900000000000001,
         "CBv": 77.3,
         "CH%": 0.095,
         "CHv": 83.2,
         "SF%": 0.006999999999999999,
         "SFv": 83.8,
         "KN%": 0.004,
         "KNv": 76.1,
         "XX%": 0.005,
         "PO%": "nan",
         "wFB": 20.3,
         "wSL": -3.3,
         "wCT": -5.3,
         "wCB": 3.1,
         "wCH": -0.8,
         "wSF": -0.1,
         "wKN": 1.1,
         "wFB/C": 1.37,
         "wSL/C": -0.97,
         "wCT/C": -3.73,
         "wCB/C": 1.4,
         "wCH/C": -0.33,
         "wSF/C": -0.39,
         "wKN/C": 12.5,
         "O-Swing%": 0.278,
         "Z-Swing%": 0.6509999999999999,
         "Swing%": 0.452,
         "O-Contact%": 0.773,
         "Z-Contact%": 0.934,
         "Contact%": 0.8809999999999999,
         "Zone%": 0.467,
         "F-Strike%": 0.574,
         "SwStr%": 0.053,
         "BsR": 10.7,
         "FA% (sc)": 0.376,
         "FT% (sc)": 0.11599999999999999,
         "FC% (sc)": 0.062,
         "FS% (sc)": 0.009000000000000001,
         "FO% (sc)": 0,
         "SI% (sc)": 0.095,
         "SL% (sc)": 0.157,
         "CU% (sc)": 0.068,
         "KC% (sc)": 0.019,
         "EP% (sc)": 0,
         "CH% (sc)": 0.094,
         "SC% (sc)": "nan",
         "KN% (sc)": 0.004,
         "UN% (sc)": "nan",
         "vFA (sc)": 91.6,
         "vFT (sc)": 91.1,
         "vFC (sc)": 88.3,
         "vFS (sc)": 84.3,
         "vFO (sc)": 77.9,
         "vSI (sc)": 90.4,
         "vSL (sc)": 82.9,
         "vCU (sc)": 76.5,
         "vKC (sc)": 79.3,
         "vEP (sc)": 70.7,
         "vCH (sc)": 83.2,
         "vSC (sc)": "nan",
         "vKN (sc)": 76.1,
         "FA-X (sc)": -0.5,
         "FT-X (sc)": 1.6,
         "FC-X (sc)": 1.6,
         "FS-X (sc)": -5.9,
         "FO-X (sc)": -9.9,
         "SI-X (sc)": 2.5,
         "SL-X (sc)": 1.5,
         "CU-X (sc)": 3.4,
         "KC-X (sc)": 4,
         "EP-X (sc)": -9.4,
         "CH-X (sc)": -3.7,
         "SC-X (sc)": "nan",
         "KN-X (sc)": -0.3,
         "FA-Z (sc)": 9,
         "FT-Z (sc)": 7.1,
         "FC-Z (sc)": 6.3,
         "FS-Z (sc)": 3,
         "FO-Z (sc)": 1.7,
         "SI-Z (sc)": 5.8,
         "SL-Z (sc)": 1.1,
         "CU-Z (sc)": -5,
         "KC-Z (sc)": -6.7,
         "EP-Z (sc)": -7.2,
         "CH-Z (sc)": 5.2,
         "SC-Z (sc)": "nan",
         "KN-Z (sc)": -0.6,
         "wFA (sc)": 13.6,
         "wFT (sc)": 4.6,
         "wFC (sc)": -2.1,
         "wFS (sc)": 0.4,
         "wFO (sc)": 0,
         "wSI (sc)": -0.8,
         "wSL (sc)": -7.3,
         "wCU (sc)": 4.5,
         "wKC (sc)": -1.4,
         "wEP (sc)": 0,
         "wCH (sc)": 0.1,
         "wSC (sc)": "nan",
         "wKN (sc)": 1.1,
         "wFA/C (sc)": 1.49,
         "wFT/C (sc)": 1.64,
         "wFC/C (sc)": -1.38,
         "wFS/C (sc)": 1.53,
         "wFO/C (sc)": 3.62,
         "wSI/C (sc)": -0.33,
         "wSL/C (sc)": -1.92,
         "wCU/C (sc)": 2.75,
         "wKC/C (sc)": -2.95,
         "wEP/C (sc)": 2.2,
         "wCH/C (sc)": 0.05,
         "wSC/C (sc)": "nan",
         "wKN/C (sc)": 12.5,
         "O-Swing% (sc)": 0.23600000000000002,
         "Z-Swing% (sc)": 0.6409999999999999,
         "Swing% (sc)": 0.455,
         "O-Contact% (sc)": 0.731,
         "Z-Contact% (sc)": 0.93,
         "Contact% (sc)": 0.883,
         "Zone% (sc)": 0.541,
         "Pace": 23.3,
         "Def": 2.9,
         "wSB": 8.3,
         "UBR": 3.5,
         "Age Rng": "29 - 29",
         "Off": 19.1,
         "Lg": 2.4,
         "wGDP": -1.1,
         "Pull%": 0.365,
         "Cent%": 0.35700000000000004,
         "Oppo%": 0.27899999999999997,
         "Soft%": 0.172,
         "Med%": 0.525,
         "Hard%": 0.303,
         "TTO%": 0.233,
         "CH% (pi)": 0.08,
         "CS% (pi)": 0,
         "CU% (pi)": 0.094,
         "FA% (pi)": 0.37799999999999995,
         "FC% (pi)": 0.076,
         "FS% (pi)": 0.023,
         "KN% (pi)": 0.004,
         "SB% (pi)": "nan",
         "SI% (pi)": 0.213,
         "SL% (pi)": 0.132,
         "XX% (pi)": "nan",
         "vCH (pi)": 83.9,
         "vCS (pi)": 75,
         "vCU (pi)": 77.9,
         "vFA (pi)": 92.5,
         "vFC (pi)": 87.6,
         "vFS (pi)": 84.3,
         "vKN (pi)": 76.6,
         "vSB (pi)": "nan",
         "vSI (pi)": 91.5,
         "vSL (pi)": 83.7,
         "vXX (pi)": "nan",
         "CH-X (pi)": -4.7,
         "CS-X (pi)": 10,
         "CU-X (pi)": 1.7,
         "FA-X (pi)": -0.2,
         "FC-X (pi)": 0.6,
         "FS-X (pi)": -6,
         "KN-X (pi)": -0.7,
         "SB-X (pi)": "nan",
         "SI-X (pi)": -1.5,
         "SL-X (pi)": 0.5,
         "XX-X (pi)": "nan",
         "CH-Z (pi)": 4.1,
         "CS-Z (pi)": -8.1,
         "CU-Z (pi)": -6.9,
         "FA-Z (pi)": 8.3,
         "FC-Z (pi)": 4,
         "FS-Z (pi)": 0.9,
         "KN-Z (pi)": -1.2,
         "SB-Z (pi)": "nan",
         "SI-Z (pi)": 5,
         "SL-Z (pi)": -0.4,
         "XX-Z (pi)": "nan",
         "wCH (pi)": 0.2,
         "wCS (pi)": 0,
         "wCU (pi)": 0.6,
         "wFA (pi)": -2,
         "wFC (pi)": -1.2,
         "wFS (pi)": 0.5,
         "wKN (pi)": -0.1,
         "wSB (pi)": "nan",
         "wSI (pi)": 0.3,
         "wSL (pi)": -0.3,
         "wXX (pi)": "nan",
         "wCH/C (pi)": 0.1,
         "wCS/C (pi)": -4.5,
         "wCU/C (pi)": 0.26,
         "wFA/C (pi)": -0.21,
         "wFC/C (pi)": -0.67,
         "wFS/C (pi)": 0.82,
         "wKN/C (pi)": -0.79,
         "wSB/C (pi)": "nan",
         "wSI/C (pi)": 0.06,
         "wSL/C (pi)": -0.11,
         "wXX/C (pi)": "nan",
         "O-Swing% (pi)": 0.237,
         "Z-Swing% (pi)": 0.638,
         "Swing% (pi)": 0.455,
         "O-Contact% (pi)": 0.723,
         "Z-Contact% (pi)": 0.9329999999999999,
         "Contact% (pi)": 0.883,
         "Zone% (pi)": 0.5429999999999999,
         "Pace (pi)": "nan",
         "FRM": "nan",
         "AVG+": 116,
         "BB%+": 91,
         "K%+": 73,
         "OBP+": 111,
         "SLG+": 105,
         "ISO+": 86,
         "BABIP+": 114,
         "LD+%": 0.99,
         "GB%+": 117,
         "FB%+": 80,
         "HR/FB%+": 60,
         "Pull%+": 92,
         "Cent%+": 100,
         "Oppo%+": 114,
         "Soft%+": 107,
         "Med%+": 98,
         "Hard%+": 101,
         "EV": "nan",
         "LA": "nan",
         "Barrels": 0,
         "Barrel%": "nan",
         "maxEV": "nan",
         "HardHit": 0,
         "HardHit%": "nan",
         "Events": 0,
         "CStr%": 0.18,
         "CSW%": 0.233,
         "xBA": "nan",
         "xSLG": "nan",
         "xwOBA": "nan",
         "_deepnote_index_column": 1
        },
        {
         "Name": "Shin-Soo Choo",
         "Pos_x": "DH",
         "Age_x": "31.4",
         "Bats": "L",
         "Throws": "L",
         "Prev_Team": "CIN",
         "New_Team": "TEX",
         "Length": "7",
         "Total": "$130,000,000",
         "AAV": "$18,571,429",
         "Contract Year": 2014,
         "Season": 2013,
         "IDfg": 3174,
         "Team": "CIN",
         "Age_y": 30,
         "G": 154,
         "AB": 569,
         "PA": 712,
         "H": 162,
         "1B": 105,
         "2B": 34,
         "3B": 2,
         "HR": 21,
         "R": 107,
         "RBI": 54,
         "BB": 112,
         "IBB": 5,
         "SO": 133,
         "HBP": 26,
         "SF": 2,
         "SH": 3,
         "GDP": 3,
         "SB": 20,
         "CS": 11,
         "AVG": 0.285,
         "GB": 215,
         "FB": 128,
         "LD": 92,
         "IFFB": 1,
         "Pitches": 3010,
         "Balls": 1283,
         "Strikes": 1727,
         "IFH": 12,
         "BU": 6,
         "BUH": 2,
         "BB%": 0.157,
         "K%": 0.187,
         "BB/K": 0.84,
         "OBP": 0.423,
         "SLG": 0.462,
         "OPS": 0.885,
         "ISO": 0.178,
         "BABIP": 0.338,
         "GB/FB": 0.0168,
         "LD%": 0.21100000000000002,
         "GB%": 0.494,
         "FB%": 0.294,
         "IFFB%": 0.008,
         "HR/FB": 0.16399999999999998,
         "IFH%": 0.055999999999999994,
         "BUH%": 0.33299999999999996,
         "wOBA": 0.393,
         "wRAA": 44,
         "wRC": 122,
         "Bat": 40.2,
         "Fld": -6.3,
         "Rep": 20.3,
         "Pos_y": 2.1,
         "RAR": 59.5,
         "WAR": 6.4,
         "Dol": "$47.6",
         "Spd": 4.6,
         "wRC+": 150,
         "WPA": 5.17,
         "-WPA": -10.08,
         "+WPA": 15.25,
         "RE24": 48.5,
         "REW": 5.17,
         "pLI": 0.99,
         "phLI": 1.29,
         "PH": 1,
         "WPA/LI": 4.81,
         "Clutch": 0.42,
         "FB% (Pitch)": 0.575,
         "FBv": 91.3,
         "SL%": 0.14300000000000002,
         "SLv": 83.2,
         "CT%": 0.063,
         "CTv": 87.5,
         "CB%": 0.107,
         "CBv": 77.1,
         "CH%": 0.09300000000000001,
         "CHv": 83,
         "SF%": 0.018000000000000002,
         "SFv": 83.8,
         "KN%": "nan",
         "KNv": "nan",
         "XX%": 0.006,
         "PO%": "nan",
         "wFB": 52.7,
         "wSL": -2.1,
         "wCT": 0.7,
         "wCB": -0.1,
         "wCH": 1.3,
         "wSF": -3.1,
         "wKN": "nan",
         "wFB/C": 3.06,
         "wSL/C": -0.49,
         "wCT/C": 0.37,
         "wCB/C": -0.04,
         "wCH/C": 0.46,
         "wSF/C": -5.6,
         "wKN/C": "nan",
         "O-Swing%": 0.218,
         "Z-Swing%": 0.63,
         "Swing%": 0.392,
         "O-Contact%": 0.633,
         "Z-Contact%": 0.877,
         "Contact%": 0.799,
         "Zone%": 0.423,
         "F-Strike%": 0.5720000000000001,
         "SwStr%": 0.078,
         "BsR": 2.2,
         "FA% (sc)": 0.32,
         "FT% (sc)": 0.128,
         "FC% (sc)": 0.057,
         "FS% (sc)": 0.02,
         "FO% (sc)": "nan",
         "SI% (sc)": 0.124,
         "SL% (sc)": 0.154,
         "CU% (sc)": 0.08800000000000001,
         "KC% (sc)": 0.023,
         "EP% (sc)": 0,
         "CH% (sc)": 0.086,
         "SC% (sc)": "nan",
         "KN% (sc)": "nan",
         "UN% (sc)": "nan",
         "vFA (sc)": 91.7,
         "vFT (sc)": 91.1,
         "vFC (sc)": 87.6,
         "vFS (sc)": 83.6,
         "vFO (sc)": "nan",
         "vSI (sc)": 90.3,
         "vSL (sc)": 83.6,
         "vCU (sc)": 76,
         "vKC (sc)": 81.3,
         "vEP (sc)": 59.7,
         "vCH (sc)": 82.8,
         "vSC (sc)": "nan",
         "vKN (sc)": "nan",
         "FA-X (sc)": -1.4,
         "FT-X (sc)": -0.6,
         "FC-X (sc)": 0.7,
         "FS-X (sc)": -6,
         "FO-X (sc)": "nan",
         "SI-X (sc)": -2.6,
         "SL-X (sc)": 0.6,
         "CU-X (sc)": 3.4,
         "KC-X (sc)": 4.5,
         "EP-X (sc)": 10.1,
         "CH-X (sc)": -5.4,
         "SC-X (sc)": "nan",
         "KN-X (sc)": "nan",
         "FA-Z (sc)": 8,
         "FT-Z (sc)": 6,
         "FC-Z (sc)": 5.3,
         "FS-Z (sc)": 2.3,
         "FO-Z (sc)": "nan",
         "SI-Z (sc)": 4.6,
         "SL-Z (sc)": 0.8,
         "CU-Z (sc)": -6.6,
         "KC-Z (sc)": -6.7,
         "EP-Z (sc)": -5.4,
         "CH-Z (sc)": 4,
         "SC-Z (sc)": "nan",
         "KN-Z (sc)": "nan",
         "wFA (sc)": 20.2,
         "wFT (sc)": 14.3,
         "wFC (sc)": 1.3,
         "wFS (sc)": -2.1,
         "wFO (sc)": "nan",
         "wSI (sc)": 14.1,
         "wSL (sc)": -1.6,
         "wCU (sc)": -0.1,
         "wKC (sc)": 0.1,
         "wEP (sc)": 0.5,
         "wCH (sc)": 0.7,
         "wSC (sc)": "nan",
         "wKN (sc)": "nan",
         "wFA/C (sc)": 2.11,
         "wFT/C (sc)": 3.73,
         "wFC/C (sc)": 0.78,
         "wFS/C (sc)": -3.6,
         "wFO/C (sc)": "nan",
         "wSI/C (sc)": 3.78,
         "wSL/C (sc)": -0.34,
         "wCU/C (sc)": -0.05,
         "wKC/C (sc)": 0.15,
         "wEP/C (sc)": 48.89,
         "wCH/C (sc)": 0.29,
         "wSC/C (sc)": "nan",
         "wKN/C (sc)": "nan",
         "O-Swing% (sc)": 0.188,
         "Z-Swing% (sc)": 0.602,
         "Swing% (sc)": 0.392,
         "O-Contact% (sc)": 0.556,
         "Z-Contact% (sc)": 0.8740000000000001,
         "Contact% (sc)": 0.797,
         "Zone% (sc)": 0.494,
         "Pace": 20.9,
         "Def": -4.2,
         "wSB": -1.1,
         "UBR": 1.7,
         "Age Rng": "30 - 30",
         "Off": 42.4,
         "Lg": 1,
         "wGDP": 1.6,
         "Pull%": 0.327,
         "Cent%": 0.36700000000000005,
         "Oppo%": 0.306,
         "Soft%": 0.125,
         "Med%": 0.5710000000000001,
         "Hard%": 0.304,
         "TTO%": 0.374,
         "CH% (pi)": 0.083,
         "CS% (pi)": 0.001,
         "CU% (pi)": 0.10400000000000001,
         "FA% (pi)": 0.316,
         "FC% (pi)": 0.068,
         "FS% (pi)": 0.025,
         "KN% (pi)": "nan",
         "SB% (pi)": "nan",
         "SI% (pi)": 0.254,
         "SL% (pi)": 0.14,
         "XX% (pi)": "nan",
         "vCH (pi)": 83.5,
         "vCS (pi)": 68.1,
         "vCU (pi)": 77.9,
         "vFA (pi)": 92.6,
         "vFC (pi)": 88.3,
         "vFS (pi)": 84.3,
         "vKN (pi)": "nan",
         "vSB (pi)": "nan",
         "vSI (pi)": 91.5,
         "vSL (pi)": 83.7,
         "vXX (pi)": "nan",
         "CH-X (pi)": -6,
         "CS-X (pi)": 8.8,
         "CU-X (pi)": 3.6,
         "FA-X (pi)": -1.5,
         "FC-X (pi)": 0.7,
         "FS-X (pi)": -5.7,
         "KN-X (pi)": "nan",
         "SB-X (pi)": "nan",
         "SI-X (pi)": -2.5,
         "SL-X (pi)": 0,
         "XX-X (pi)": "nan",
         "CH-Z (pi)": 3.2,
         "CS-Z (pi)": -9.8,
         "CU-Z (pi)": -8,
         "FA-Z (pi)": 8,
         "FC-Z (pi)": 4.5,
         "FS-Z (pi)": 1.1,
         "KN-Z (pi)": "nan",
         "SB-Z (pi)": "nan",
         "SI-Z (pi)": 4.5,
         "SL-Z (pi)": -0.4,
         "XX-Z (pi)": "nan",
         "wCH (pi)": 0.4,
         "wCS (pi)": 0,
         "wCU (pi)": 1.1,
         "wFA (pi)": 1.1,
         "wFC (pi)": -0.1,
         "wFS (pi)": 0.4,
         "wKN (pi)": "nan",
         "wSB (pi)": "nan",
         "wSI (pi)": -1,
         "wSL (pi)": 3.2,
         "wXX (pi)": "nan",
         "wCH/C (pi)": 0.18,
         "wCS/C (pi)": 0.25,
         "wCU/C (pi)": 0.37,
         "wFA/C (pi)": 0.12,
         "wFC/C (pi)": -0.04,
         "wFS/C (pi)": 0.6,
         "wKN/C (pi)": "nan",
         "wSB/C (pi)": "nan",
         "wSI/C (pi)": -0.13,
         "wSL/C (pi)": 0.76,
         "wXX/C (pi)": "nan",
         "O-Swing% (pi)": 0.188,
         "Z-Swing% (pi)": 0.604,
         "Swing% (pi)": 0.392,
         "O-Contact% (pi)": 0.5489999999999999,
         "Z-Contact% (pi)": 0.877,
         "Contact% (pi)": 0.797,
         "Zone% (pi)": 0.491,
         "Pace (pi)": "nan",
         "FRM": "nan",
         "AVG+": 110,
         "BB%+": 197,
         "K%+": 98,
         "OBP+": 131,
         "SLG+": 115,
         "ISO+": 124,
         "BABIP+": 113,
         "LD+%": 0.99,
         "GB%+": 110,
         "FB%+": 87,
         "HR/FB%+": 159,
         "Pull%+": 85,
         "Cent%+": 102,
         "Oppo%+": 121,
         "Soft%+": 77,
         "Med%+": 107,
         "Hard%+": 100,
         "EV": "nan",
         "LA": "nan",
         "Barrels": 0,
         "Barrel%": "nan",
         "maxEV": "nan",
         "HardHit": 0,
         "HardHit%": "nan",
         "Events": 0,
         "CStr%": 0.17800000000000002,
         "CSW%": 0.257,
         "xBA": "nan",
         "xSLG": "nan",
         "xwOBA": "nan",
         "_deepnote_index_column": 2
        },
        {
         "Name": "Brian McCann",
         "Pos_x": "C",
         "Age_x": "29.8",
         "Bats": "L",
         "Throws": "R",
         "Prev_Team": "ATL",
         "New_Team": "NYY",
         "Length": "5",
         "Total": "$85,000,000",
         "AAV": "$17,000,000",
         "Contract Year": 2014,
         "Season": 2013,
         "IDfg": 4810,
         "Team": "ATL",
         "Age_y": 29,
         "G": 102,
         "AB": 356,
         "PA": 402,
         "H": 91,
         "1B": 58,
         "2B": 13,
         "3B": 0,
         "HR": 20,
         "R": 43,
         "RBI": 57,
         "BB": 39,
         "IBB": 3,
         "SO": 66,
         "HBP": 5,
         "SF": 2,
         "SH": 0,
         "GDP": 9,
         "SB": 0,
         "CS": 1,
         "AVG": 0.256,
         "GB": 103,
         "FB": 123,
         "LD": 65,
         "IFFB": 12,
         "Pitches": 1631,
         "Balls": 654,
         "Strikes": 977,
         "IFH": 4,
         "BU": 1,
         "BUH": 1,
         "BB%": 0.09699999999999999,
         "K%": 0.16399999999999998,
         "BB/K": 0.59,
         "OBP": 0.336,
         "SLG": 0.461,
         "OPS": 0.796,
         "ISO": 0.205,
         "BABIP": 0.261,
         "GB/FB": 0.0084,
         "LD%": 0.223,
         "GB%": 0.354,
         "FB%": 0.423,
         "IFFB%": 0.098,
         "HR/FB": 0.163,
         "IFH%": 0.039,
         "BUH%": 1,
         "wOBA": 0.347,
         "wRAA": 10.5,
         "wRC": 55,
         "Bat": 10,
         "Fld": 8.3,
         "Rep": 11.5,
         "Pos_y": 6.6,
         "RAR": 32.8,
         "WAR": 3.5,
         "Dol": "$26.2",
         "Spd": 1,
         "wRC+": 122,
         "WPA": 1.37,
         "-WPA": -7.08,
         "+WPA": 8.45,
         "RE24": 15.48,
         "REW": 1.74,
         "pLI": 1.06,
         "phLI": 2.02,
         "PH": 7,
         "WPA/LI": 1.1,
         "Clutch": 0.19,
         "FB% (Pitch)": 0.5489999999999999,
         "FBv": 91.6,
         "SL%": 0.127,
         "SLv": 83.1,
         "CT%": 0.055,
         "CTv": 86.9,
         "CB%": 0.11699999999999999,
         "CBv": 77.5,
         "CH%": 0.129,
         "CHv": 83.9,
         "SF%": 0.015,
         "SFv": 84.3,
         "KN%": 0.006999999999999999,
         "KNv": 74.4,
         "XX%": 0.006999999999999999,
         "PO%": "nan",
         "wFB": 6.6,
         "wSL": 0.2,
         "wCT": -1.4,
         "wCB": 0.5,
         "wCH": 5.1,
         "wSF": -0.3,
         "wKN": -0.3,
         "wFB/C": 0.74,
         "wSL/C": 0.12,
         "wCT/C": -1.56,
         "wCB/C": 0.26,
         "wCH/C": 2.46,
         "wSF/C": -1.11,
         "wKN/C": -2.65,
         "O-Swing%": 0.285,
         "Z-Swing%": 0.604,
         "Swing%": 0.415,
         "O-Contact%": 0.758,
         "Z-Contact%": 0.915,
         "Contact%": 0.851,
         "Zone%": 0.408,
         "F-Strike%": 0.557,
         "SwStr%": 0.061,
         "BsR": -4.1,
         "FA% (sc)": 0.318,
         "FT% (sc)": 0.127,
         "FC% (sc)": 0.055,
         "FS% (sc)": 0.015,
         "FO% (sc)": "nan",
         "SI% (sc)": 0.10400000000000001,
         "SL% (sc)": 0.125,
         "CU% (sc)": 0.10400000000000001,
         "KC% (sc)": 0.025,
         "EP% (sc)": "nan",
         "CH% (sc)": 0.11900000000000001,
         "SC% (sc)": "nan",
         "KN% (sc)": 0.006999999999999999,
         "UN% (sc)": "nan",
         "vFA (sc)": 91.9,
         "vFT (sc)": 91.7,
         "vFC (sc)": 87.5,
         "vFS (sc)": 84.2,
         "vFO (sc)": "nan",
         "vSI (sc)": 90.5,
         "vSL (sc)": 83.3,
         "vCU (sc)": 77.1,
         "vKC (sc)": 79.9,
         "vEP (sc)": "nan",
         "vCH (sc)": 83.6,
         "vSC (sc)": "nan",
         "vKN (sc)": 74.3,
         "FA-X (sc)": -1.8,
         "FT-X (sc)": -4.9,
         "FC-X (sc)": 1.2,
         "FS-X (sc)": -6.3,
         "FO-X (sc)": "nan",
         "SI-X (sc)": -2.6,
         "SL-X (sc)": 0.8,
         "CU-X (sc)": 2.9,
         "KC-X (sc)": 2.5,
         "EP-X (sc)": "nan",
         "CH-X (sc)": -5.7,
         "SC-X (sc)": "nan",
         "KN-X (sc)": -1.4,
         "FA-Z (sc)": 7.1,
         "FT-Z (sc)": 5.2,
         "FC-Z (sc)": 4,
         "FS-Z (sc)": 2.4,
         "FO-Z (sc)": "nan",
         "SI-Z (sc)": 4,
         "SL-Z (sc)": -0.1,
         "CU-Z (sc)": -5.8,
         "KC-Z (sc)": -5.9,
         "EP-Z (sc)": "nan",
         "CH-Z (sc)": 2.4,
         "SC-Z (sc)": "nan",
         "KN-Z (sc)": 1.2,
         "wFA (sc)": -0.1,
         "wFT (sc)": 4.8,
         "wFC (sc)": -2.1,
         "wFS (sc)": 0.6,
         "wFO (sc)": "nan",
         "wSI (sc)": 1.2,
         "wSL (sc)": 2.9,
         "wCU (sc)": -3.4,
         "wKC (sc)": 1.5,
         "wEP (sc)": "nan",
         "wCH (sc)": 4.8,
         "wSC (sc)": "nan",
         "wKN (sc)": -0.3,
         "wFA/C (sc)": -0.02,
         "wFT/C (sc)": 2.34,
         "wFC/C (sc)": -2.35,
         "wFS/C (sc)": 2.22,
         "wFO/C (sc)": "nan",
         "wSI/C (sc)": 0.7,
         "wSL/C (sc)": 1.41,
         "wCU/C (sc)": -1.99,
         "wKC/C (sc)": 3.65,
         "wEP/C (sc)": "nan",
         "wCH/C (sc)": 2.51,
         "wSC/C (sc)": "nan",
         "wKN/C (sc)": -2.65,
         "O-Swing% (sc)": 0.266,
         "Z-Swing% (sc)": 0.584,
         "Swing% (sc)": 0.415,
         "O-Contact% (sc)": 0.76,
         "Z-Contact% (sc)": 0.898,
         "Contact% (sc)": 0.851,
         "Zone% (sc)": 0.46799999999999997,
         "Pace": 21.6,
         "Def": 14.9,
         "wSB": -0.7,
         "UBR": -3.6,
         "Age Rng": "29 - 29",
         "Off": 5.8,
         "Lg": 0.6,
         "wGDP": 0.2,
         "Pull%": 0.486,
         "Cent%": 0.315,
         "Oppo%": 0.19899999999999998,
         "Soft%": 0.127,
         "Med%": 0.524,
         "Hard%": 0.349,
         "TTO%": 0.311,
         "CH% (pi)": 0.109,
         "CS% (pi)": 0.003,
         "CU% (pi)": 0.12300000000000001,
         "FA% (pi)": 0.325,
         "FC% (pi)": 0.073,
         "FS% (pi)": 0.027999999999999997,
         "KN% (pi)": 0.008,
         "SB% (pi)": "nan",
         "SI% (pi)": 0.213,
         "SL% (pi)": 0.11900000000000001,
         "XX% (pi)": "nan",
         "vCH (pi)": 84.5,
         "vCS (pi)": 74.2,
         "vCU (pi)": 78.4,
         "vFA (pi)": 92.9,
         "vFC (pi)": 88.2,
         "vFS (pi)": 84.2,
         "vKN (pi)": 75.8,
         "vSB (pi)": "nan",
         "vSI (pi)": 91.7,
         "vSL (pi)": 83.7,
         "vXX (pi)": "nan",
         "CH-X (pi)": -6.1,
         "CS-X (pi)": 8.8,
         "CU-X (pi)": 3,
         "FA-X (pi)": -1.6,
         "FC-X (pi)": 0.8,
         "FS-X (pi)": -4.8,
         "KN-X (pi)": -2.8,
         "SB-X (pi)": "nan",
         "SI-X (pi)": -4.6,
         "SL-X (pi)": 0.3,
         "XX-X (pi)": "nan",
         "CH-Z (pi)": 2.9,
         "CS-Z (pi)": -9.3,
         "CU-Z (pi)": -6.6,
         "FA-Z (pi)": 7.7,
         "FC-Z (pi)": 4.2,
         "FS-Z (pi)": 1.4,
         "KN-Z (pi)": 0.7,
         "SB-Z (pi)": "nan",
         "SI-Z (pi)": 4.5,
         "SL-Z (pi)": -0.4,
         "XX-Z (pi)": "nan",
         "wCH (pi)": 0.9,
         "wCS (pi)": -0.1,
         "wCU (pi)": 0.2,
         "wFA (pi)": 0.5,
         "wFC (pi)": -0.4,
         "wFS (pi)": 0.2,
         "wKN (pi)": 0,
         "wSB (pi)": "nan",
         "wSI (pi)": 0.9,
         "wSL (pi)": 0.7,
         "wXX (pi)": "nan",
         "wCH/C (pi)": 0.54,
         "wCS/C (pi)": -2.01,
         "wCU/C (pi)": 0.1,
         "wFA/C (pi)": 0.1,
         "wFC/C (pi)": -0.33,
         "wFS/C (pi)": 0.54,
         "wKN/C (pi)": 0.03,
         "wSB/C (pi)": "nan",
         "wSI/C (pi)": 0.26,
         "wSL/C (pi)": 0.38,
         "wXX/C (pi)": "nan",
         "O-Swing% (pi)": 0.25,
         "Z-Swing% (pi)": 0.598,
         "Swing% (pi)": 0.415,
         "O-Contact% (pi)": 0.7509999999999999,
         "Z-Contact% (pi)": 0.898,
         "Contact% (pi)": 0.851,
         "Zone% (pi)": 0.474,
         "Pace (pi)": "nan",
         "FRM": 7.2,
         "AVG+": 99,
         "BB%+": 121,
         "K%+": 87,
         "OBP+": 104,
         "SLG+": 115,
         "ISO+": 143,
         "BABIP+": 87,
         "LD+%": 1.05,
         "GB%+": 79,
         "FB%+": 126,
         "HR/FB%+": 158,
         "Pull%+": 126,
         "Cent%+": 87,
         "Oppo%+": 78,
         "Soft%+": 78,
         "Med%+": 98,
         "Hard%+": 115,
         "EV": "nan",
         "LA": "nan",
         "Barrels": 0,
         "Barrel%": "nan",
         "maxEV": "nan",
         "HardHit": 0,
         "HardHit%": "nan",
         "Events": 0,
         "CStr%": 0.184,
         "CSW%": 0.245,
         "xBA": "nan",
         "xSLG": "nan",
         "xwOBA": "nan",
         "_deepnote_index_column": 3
        },
        {
         "Name": "Curtis Granderson",
         "Pos_x": "LF",
         "Age_x": "32.7",
         "Bats": "L",
         "Throws": "R",
         "Prev_Team": "NYY",
         "New_Team": "NYM",
         "Length": "4",
         "Total": "$60,000,000",
         "AAV": "$15,000,000",
         "Contract Year": 2014,
         "Season": 2013,
         "IDfg": 4747,
         "Team": "NYY",
         "Age_y": 32,
         "G": 61,
         "AB": 214,
         "PA": 245,
         "H": 49,
         "1B": 27,
         "2B": 13,
         "3B": 2,
         "HR": 7,
         "R": 31,
         "RBI": 15,
         "BB": 27,
         "IBB": 1,
         "SO": 69,
         "HBP": 1,
         "SF": 1,
         "SH": 2,
         "GDP": 1,
         "SB": 8,
         "CS": 2,
         "AVG": 0.229,
         "GB": 48,
         "FB": 62,
         "LD": 32,
         "IFFB": 6,
         "Pitches": 978,
         "Balls": 361,
         "Strikes": 617,
         "IFH": 2,
         "BU": 6,
         "BUH": 1,
         "BB%": 0.11,
         "K%": 0.282,
         "BB/K": 0.39,
         "OBP": 0.317,
         "SLG": 0.407,
         "OPS": 0.723,
         "ISO": 0.178,
         "BABIP": 0.302,
         "GB/FB": 0.0077,
         "LD%": 0.225,
         "GB%": 0.33799999999999997,
         "FB%": 0.43700000000000006,
         "IFFB%": 0.09699999999999999,
         "HR/FB": 0.113,
         "IFH%": 0.042,
         "BUH%": 0.16699999999999998,
         "wOBA": 0.319,
         "wRAA": 0.9,
         "wRC": 28,
         "Bat": -0.5,
         "Fld": 3.6,
         "Rep": 7,
         "Pos_y": -2.2,
         "RAR": 11.5,
         "WAR": 1.2,
         "Dol": "$9.2",
         "Spd": 6.4,
         "wRC+": 98,
         "WPA": -0.05,
         "-WPA": -4.12,
         "+WPA": 4.07,
         "RE24": -6.69,
         "REW": -0.67,
         "pLI": 0.94,
         "phLI": 1.54,
         "PH": 5,
         "WPA/LI": 0.22,
         "Clutch": -0.28,
         "FB% (Pitch)": 0.485,
         "FBv": 92.3,
         "SL%": 0.124,
         "SLv": 83.1,
         "CT%": 0.062,
         "CTv": 87.6,
         "CB%": 0.109,
         "CBv": 77.7,
         "CH%": 0.127,
         "CHv": 83.9,
         "SF%": 0.048,
         "SFv": 83.9,
         "KN%": 0.045,
         "KNv": 78.2,
         "XX%": 0.004,
         "PO%": "nan",
         "wFB": 1.9,
         "wSL": -0.8,
         "wCT": -0.1,
         "wCB": 0.4,
         "wCH": -0.2,
         "wSF": 0.3,
         "wKN": -0.5,
         "wFB/C": 0.39,
         "wSL/C": -0.69,
         "wCT/C": -0.18,
         "wCB/C": 0.33,
         "wCH/C": -0.17,
         "wSF/C": 0.53,
         "wKN/C": -1.14,
         "O-Swing%": 0.306,
         "Z-Swing%": 0.637,
         "Swing%": 0.44799999999999995,
         "O-Contact%": 0.532,
         "Z-Contact%": 0.8,
         "Contact%": 0.695,
         "Zone%": 0.42700000000000005,
         "F-Strike%": 0.637,
         "SwStr%": 0.136,
         "BsR": 2.6,
         "FA% (sc)": 0.324,
         "FT% (sc)": 0.113,
         "FC% (sc)": 0.064,
         "FS% (sc)": 0.036000000000000004,
         "FO% (sc)": 0.006,
         "SI% (sc)": 0.053,
         "SL% (sc)": 0.10800000000000001,
         "CU% (sc)": 0.095,
         "KC% (sc)": 0.02,
         "EP% (sc)": 0.001,
         "CH% (sc)": 0.138,
         "SC% (sc)": "nan",
         "KN% (sc)": 0.043,
         "UN% (sc)": "nan",
         "vFA (sc)": 92.2,
         "vFT (sc)": 91.8,
         "vFC (sc)": 87.6,
         "vFS (sc)": 83.8,
         "vFO (sc)": 88.8,
         "vSI (sc)": 92,
         "vSL (sc)": 83.2,
         "vCU (sc)": 77.4,
         "vKC (sc)": 78.6,
         "vEP (sc)": 64.7,
         "vCH (sc)": 83.7,
         "vSC (sc)": "nan",
         "vKN (sc)": 78.4,
         "FA-X (sc)": -0.9,
         "FT-X (sc)": 2.5,
         "FC-X (sc)": 1.6,
         "FS-X (sc)": -4.9,
         "FO-X (sc)": -6.1,
         "SI-X (sc)": -2.1,
         "SL-X (sc)": 0.3,
         "CU-X (sc)": 3.4,
         "KC-X (sc)": 3.8,
         "EP-X (sc)": 0.9,
         "CH-X (sc)": -4.3,
         "SC-X (sc)": "nan",
         "KN-X (sc)": 0.4,
         "FA-Z (sc)": 8.2,
         "FT-Z (sc)": 6.7,
         "FC-Z (sc)": 1.8,
         "FS-Z (sc)": 4.9,
         "FO-Z (sc)": 5.1,
         "SI-Z (sc)": 5,
         "SL-Z (sc)": 0.8,
         "CU-Z (sc)": -6,
         "KC-Z (sc)": -6.5,
         "EP-Z (sc)": 1,
         "CH-Z (sc)": 3.4,
         "SC-Z (sc)": "nan",
         "KN-Z (sc)": 0.6,
         "wFA (sc)": 3.5,
         "wFT (sc)": -1.1,
         "wFC (sc)": -0.8,
         "wFS (sc)": -0.7,
         "wFO (sc)": 0.9,
         "wSI (sc)": -0.1,
         "wSL (sc)": -0.5,
         "wCU (sc)": 1,
         "wKC (sc)": -0.7,
         "wEP (sc)": -0.2,
         "wCH (sc)": -0.1,
         "wSC (sc)": "nan",
         "wKN (sc)": -0.4,
         "wFA/C (sc)": 1.1,
         "wFT/C (sc)": -0.96,
         "wFC/C (sc)": -1.21,
         "wFS/C (sc)": -2.09,
         "wFO/C (sc)": 14.23,
         "wSI/C (sc)": -0.24,
         "wSL/C (sc)": -0.45,
         "wCU/C (sc)": 1.11,
         "wKC/C (sc)": -3.79,
         "wEP/C (sc)": -23.36,
         "wCH/C (sc)": -0.11,
         "wSC/C (sc)": "nan",
         "wKN/C (sc)": -0.85,
         "O-Swing% (sc)": 0.285,
         "Z-Swing% (sc)": 0.617,
         "Swing% (sc)": 0.44799999999999995,
         "O-Contact% (sc)": 0.48200000000000004,
         "Z-Contact% (sc)": 0.797,
         "Contact% (sc)": 0.695,
         "Zone% (sc)": 0.491,
         "Pace": 21,
         "Def": 1.4,
         "wSB": 0.6,
         "UBR": 0.7,
         "Age Rng": "32 - 32",
         "Off": 2.2,
         "Lg": 0.9,
         "wGDP": 1.3,
         "Pull%": 0.439,
         "Cent%": 0.37200000000000005,
         "Oppo%": 0.18899999999999997,
         "Soft%": 0.128,
         "Med%": 0.534,
         "Hard%": 0.33799999999999997,
         "TTO%": 0.42,
         "CH% (pi)": 0.115,
         "CS% (pi)": "nan",
         "CU% (pi)": 0.12,
         "FA% (pi)": 0.321,
         "FC% (pi)": 0.068,
         "FS% (pi)": 0.061,
         "KN% (pi)": 0.045,
         "SB% (pi)": "nan",
         "SI% (pi)": 0.16399999999999998,
         "SL% (pi)": 0.106,
         "XX% (pi)": "nan",
         "vCH (pi)": 84.5,
         "vCS (pi)": "nan",
         "vCU (pi)": 78.2,
         "vFA (pi)": 93.1,
         "vFC (pi)": 87.9,
         "vFS (pi)": 84.9,
         "vKN (pi)": 78.3,
         "vSB (pi)": "nan",
         "vSI (pi)": 92.5,
         "vSL (pi)": 84,
         "vXX (pi)": "nan",
         "CH-X (pi)": -5.3,
         "CS-X (pi)": "nan",
         "CU-X (pi)": 2.8,
         "FA-X (pi)": -1.3,
         "FC-X (pi)": 0.2,
         "FS-X (pi)": -6,
         "KN-X (pi)": 0.9,
         "SB-X (pi)": "nan",
         "SI-X (pi)": -0.3,
         "SL-X (pi)": 0.2,
         "XX-X (pi)": "nan",
         "CH-Z (pi)": 3.5,
         "CS-Z (pi)": "nan",
         "CU-Z (pi)": -6.7,
         "FA-Z (pi)": 8.5,
         "FC-Z (pi)": 3.8,
         "FS-Z (pi)": 2.1,
         "KN-Z (pi)": -0.4,
         "SB-Z (pi)": "nan",
         "SI-Z (pi)": 5.5,
         "SL-Z (pi)": -0.1,
         "XX-Z (pi)": "nan",
         "wCH (pi)": 0.1,
         "wCS (pi)": "nan",
         "wCU (pi)": 0.2,
         "wFA (pi)": -0.6,
         "wFC (pi)": -0.3,
         "wFS (pi)": 0.3,
         "wKN (pi)": -0.2,
         "wSB (pi)": "nan",
         "wSI (pi)": -0.6,
         "wSL (pi)": -0.8,
         "wXX (pi)": "nan",
         "wCH/C (pi)": 0.04,
         "wCS/C (pi)": "nan",
         "wCU/C (pi)": 0.2,
         "wFA/C (pi)": -0.2,
         "wFC/C (pi)": -0.46,
         "wFS/C (pi)": 0.44,
         "wKN/C (pi)": -0.57,
         "wSB/C (pi)": "nan",
         "wSI/C (pi)": -0.36,
         "wSL/C (pi)": -0.79,
         "wXX/C (pi)": "nan",
         "O-Swing% (pi)": 0.28300000000000003,
         "Z-Swing% (pi)": 0.61,
         "Swing% (pi)": 0.44799999999999995,
         "O-Contact% (pi)": 0.478,
         "Z-Contact% (pi)": 0.7929999999999999,
         "Contact% (pi)": 0.695,
         "Zone% (pi)": 0.506,
         "Pace (pi)": "nan",
         "FRM": "nan",
         "AVG+": 89,
         "BB%+": 135,
         "K%+": 143,
         "OBP+": 99,
         "SLG+": 100,
         "ISO+": 119,
         "BABIP+": 101,
         "LD+%": 1.06,
         "GB%+": 78,
         "FB%+": 123,
         "HR/FB%+": 104,
         "Pull%+": 111,
         "Cent%+": 104,
         "Oppo%+": 77,
         "Soft%+": 80,
         "Med%+": 99,
         "Hard%+": 112,
         "EV": "nan",
         "LA": "nan",
         "Barrels": 0,
         "Barrel%": "nan",
         "maxEV": "nan",
         "HardHit": 0,
         "HardHit%": "nan",
         "Events": 0,
         "CStr%": 0.182,
         "CSW%": 0.318,
         "xBA": "nan",
         "xSLG": "nan",
         "xwOBA": "nan",
         "_deepnote_index_column": 4
        },
        {
         "Name": "Jhonny Peralta",
         "Pos_x": "3B",
         "Age_x": "31.4",
         "Bats": "R",
         "Throws": "R",
         "Prev_Team": "DET",
         "New_Team": "STL",
         "Length": "4",
         "Total": "$53,000,000",
         "AAV": "$13,250,000",
         "Contract Year": 2014,
         "Season": 2013,
         "IDfg": 1738,
         "Team": "DET",
         "Age_y": 31,
         "G": 107,
         "AB": 409,
         "PA": 448,
         "H": 124,
         "1B": 83,
         "2B": 30,
         "3B": 0,
         "HR": 11,
         "R": 50,
         "RBI": 55,
         "BB": 35,
         "IBB": 2,
         "SO": 98,
         "HBP": 1,
         "SF": 2,
         "SH": 1,
         "GDP": 9,
         "SB": 3,
         "CS": 3,
         "AVG": 0.303,
         "GB": 122,
         "FB": 112,
         "LD": 79,
         "IFFB": 5,
         "Pitches": 1742,
         "Balls": 642,
         "Strikes": 1100,
         "IFH": 6,
         "BU": 1,
         "BUH": 1,
         "BB%": 0.078,
         "K%": 0.21899999999999997,
         "BB/K": 0.36,
         "OBP": 0.358,
         "SLG": 0.457,
         "OPS": 0.815,
         "ISO": 0.154,
         "BABIP": 0.374,
         "GB/FB": 0.0109,
         "LD%": 0.252,
         "GB%": 0.39,
         "FB%": 0.358,
         "IFFB%": 0.045,
         "HR/FB": 0.098,
         "IFH%": 0.049,
         "BUH%": 1,
         "wOBA": 0.356,
         "wRAA": 14.8,
         "wRC": 64,
         "Bat": 12.4,
         "Fld": 2.6,
         "Rep": 12.8,
         "Pos_y": 4.7,
         "RAR": 33.5,
         "WAR": 3.6,
         "Dol": "$26.7",
         "Spd": 2.2,
         "wRC+": 124,
         "WPA": 1.68,
         "-WPA": -6.7,
         "+WPA": 8.38,
         "RE24": 14.97,
         "REW": 1.55,
         "pLI": 0.93,
         "phLI": 3.39,
         "PH": 1,
         "WPA/LI": 0.94,
         "Clutch": 0.86,
         "FB% (Pitch)": 0.541,
         "FBv": 91.4,
         "SL%": 0.18,
         "SLv": 82.8,
         "CT%": 0.071,
         "CTv": 87,
         "CB%": 0.102,
         "CBv": 78.4,
         "CH%": 0.092,
         "CHv": 82.6,
         "SF%": 0.009000000000000001,
         "SFv": 83.6,
         "KN%": 0.005,
         "KNv": 74.4,
         "XX%": 0.004,
         "PO%": "nan",
         "wFB": 13.9,
         "wSL": -6.5,
         "wCT": 2.2,
         "wCB": 3.6,
         "wCH": 0,
         "wSF": -0.2,
         "wKN": -0.3,
         "wFB/C": 1.49,
         "wSL/C": -2.08,
         "wCT/C": 1.81,
         "wCB/C": 2.04,
         "wCH/C": -0.03,
         "wSF/C": -1.15,
         "wKN/C": -3.99,
         "O-Swing%": 0.273,
         "Z-Swing%": 0.701,
         "Swing%": 0.47700000000000004,
         "O-Contact%": 0.605,
         "Z-Contact%": 0.831,
         "Contact%": 0.763,
         "Zone%": 0.47700000000000004,
         "F-Strike%": 0.6559999999999999,
         "SwStr%": 0.113,
         "BsR": -0.8,
         "FA% (sc)": 0.304,
         "FT% (sc)": 0.129,
         "FC% (sc)": 0.047,
         "FS% (sc)": 0.008,
         "FO% (sc)": 0.001,
         "SI% (sc)": 0.107,
         "SL% (sc)": 0.204,
         "CU% (sc)": 0.081,
         "KC% (sc)": 0.018000000000000002,
         "EP% (sc)": 0.001,
         "CH% (sc)": 0.096,
         "SC% (sc)": 0.001,
         "KN% (sc)": 0.004,
         "UN% (sc)": "nan",
         "vFA (sc)": 91.6,
         "vFT (sc)": 91,
         "vFC (sc)": 87.9,
         "vFS (sc)": 84.1,
         "vFO (sc)": 88,
         "vSI (sc)": 91,
         "vSL (sc)": 83,
         "vCU (sc)": 78,
         "vKC (sc)": 80.5,
         "vEP (sc)": 61.9,
         "vCH (sc)": 82.8,
         "vSC (sc)": 75.9,
         "vKN (sc)": 76.1,
         "FA-X (sc)": -1.4,
         "FT-X (sc)": -2.6,
         "FC-X (sc)": 1.4,
         "FS-X (sc)": -5.7,
         "FO-X (sc)": -6,
         "SI-X (sc)": -1.2,
         "SL-X (sc)": 2,
         "CU-X (sc)": 3.7,
         "KC-X (sc)": 1.9,
         "EP-X (sc)": 5.6,
         "CH-X (sc)": 1.2,
         "SC-X (sc)": 11.3,
         "KN-X (sc)": -0.8,
         "FA-Z (sc)": 7.9,
         "FT-Z (sc)": 4.8,
         "FC-Z (sc)": 3,
         "FS-Z (sc)": 4.2,
         "FO-Z (sc)": 5,
         "SI-Z (sc)": 4.2,
         "SL-Z (sc)": -0.3,
         "CU-Z (sc)": -5.8,
         "KC-Z (sc)": -6,
         "EP-Z (sc)": 7.4,
         "CH-Z (sc)": 4.1,
         "SC-Z (sc)": 0,
         "KN-Z (sc)": 0.6,
         "wFA (sc)": 9.2,
         "wFT (sc)": 2.4,
         "wFC (sc)": 1.5,
         "wFS (sc)": 1.5,
         "wFO (sc)": 0.1,
         "wSI (sc)": 1.4,
         "wSL (sc)": -7.9,
         "wCU (sc)": 4.8,
         "wKC (sc)": -0.5,
         "wEP (sc)": 0,
         "wCH (sc)": 0.4,
         "wSC (sc)": 0.1,
         "wKN (sc)": -0.4,
         "wFA/C (sc)": 1.75,
         "wFT/C (sc)": 1.07,
         "wFC/C (sc)": 1.8,
         "wFS/C (sc)": 10.65,
         "wFO/C (sc)": 8.81,
         "wSI/C (sc)": 0.76,
         "wSL/C (sc)": -2.25,
         "wCU/C (sc)": 3.45,
         "wKC/C (sc)": -1.68,
         "wEP/C (sc)": 2.87,
         "wCH/C (sc)": 0.24,
         "wSC/C (sc)": 2.54,
         "wKN/C (sc)": -5.71,
         "O-Swing% (sc)": 0.22,
         "Z-Swing% (sc)": 0.687,
         "Swing% (sc)": 0.47700000000000004,
         "O-Contact% (sc)": 0.483,
         "Z-Contact% (sc)": 0.8370000000000001,
         "Contact% (sc)": 0.763,
         "Zone% (sc)": 0.55,
         "Pace": 22.3,
         "Def": 7.3,
         "wSB": -1,
         "UBR": -0.4,
         "Age Rng": "31 - 31",
         "Off": 11.6,
         "Lg": 1.7,
         "wGDP": 0.6,
         "Pull%": 0.433,
         "Cent%": 0.325,
         "Oppo%": 0.242,
         "Soft%": 0.131,
         "Med%": 0.522,
         "Hard%": 0.34700000000000003,
         "TTO%": 0.321,
         "CH% (pi)": 0.091,
         "CS% (pi)": "nan",
         "CU% (pi)": 0.105,
         "FA% (pi)": 0.326,
         "FC% (pi)": 0.07,
         "FS% (pi)": 0.008,
         "KN% (pi)": 0.005,
         "SB% (pi)": 0.001,
         "SI% (pi)": 0.21899999999999997,
         "SL% (pi)": 0.17600000000000002,
         "XX% (pi)": "nan",
         "vCH (pi)": 83.5,
         "vCS (pi)": "nan",
         "vCU (pi)": 79,
         "vFA (pi)": 92.7,
         "vFC (pi)": 87.7,
         "vFS (pi)": 84.9,
         "vKN (pi)": 74.6,
         "vSB (pi)": 76.9,
         "vSI (pi)": 91.7,
         "vSL (pi)": 83.8,
         "vXX (pi)": "nan",
         "CH-X (pi)": 2,
         "CS-X (pi)": "nan",
         "CU-X (pi)": 3.5,
         "FA-X (pi)": -0.7,
         "FC-X (pi)": 1.8,
         "FS-X (pi)": -5.5,
         "KN-X (pi)": 1.1,
         "SB-X (pi)": 11.3,
         "SI-X (pi)": -3.3,
         "SL-X (pi)": 2.7,
         "XX-X (pi)": "nan",
         "CH-Z (pi)": 4.1,
         "CS-Z (pi)": "nan",
         "CU-Z (pi)": -6.3,
         "FA-Z (pi)": 8.1,
         "FC-Z (pi)": 3.1,
         "FS-Z (pi)": 2.4,
         "KN-Z (pi)": 0.9,
         "SB-Z (pi)": -1.1,
         "SI-Z (pi)": 4.3,
         "SL-Z (pi)": -0.6,
         "XX-Z (pi)": "nan",
         "wCH (pi)": -0.7,
         "wCS (pi)": "nan",
         "wCU (pi)": 1.2,
         "wFA (pi)": -1.2,
         "wFC (pi)": -0.4,
         "wFS (pi)": 0.1,
         "wKN (pi)": 0,
         "wSB (pi)": 0.1,
         "wSI (pi)": 0.9,
         "wSL (pi)": -1.4,
         "wXX (pi)": "nan",
         "wCH/C (pi)": -0.41,
         "wCS/C (pi)": "nan",
         "wCU/C (pi)": 0.64,
         "wFA/C (pi)": -0.21,
         "wFC/C (pi)": -0.3,
         "wFS/C (pi)": 0.97,
         "wKN/C (pi)": 0.33,
         "wSB/C (pi)": 2.54,
         "wSI/C (pi)": 0.24,
         "wSL/C (pi)": -0.46,
         "wXX/C (pi)": "nan",
         "O-Swing% (pi)": 0.221,
         "Z-Swing% (pi)": 0.688,
         "Swing% (pi)": 0.47700000000000004,
         "O-Contact% (pi)": 0.49700000000000005,
         "Z-Contact% (pi)": 0.833,
         "Contact% (pi)": 0.763,
         "Zone% (pi)": 0.5479999999999999,
         "Pace (pi)": "nan",
         "FRM": "nan",
         "AVG+": 118,
         "BB%+": 96,
         "K%+": 111,
         "OBP+": 112,
         "SLG+": 113,
         "ISO+": 103,
         "BABIP+": 126,
         "LD+%": 1.19,
         "GB%+": 90,
         "FB%+": 101,
         "HR/FB%+": 90,
         "Pull%+": 109,
         "Cent%+": 91,
         "Oppo%+": 99,
         "Soft%+": 81,
         "Med%+": 97,
         "Hard%+": 115,
         "EV": "nan",
         "LA": "nan",
         "Barrels": 0,
         "Barrel%": "nan",
         "maxEV": "nan",
         "HardHit": 0,
         "HardHit%": "nan",
         "Events": 0,
         "CStr%": 0.156,
         "CSW%": 0.26899999999999996,
         "xBA": "nan",
         "xSLG": "nan",
         "xwOBA": "nan",
         "_deepnote_index_column": 5
        },
        {
         "Name": "Carlos Beltran",
         "Pos_x": "DH",
         "Age_x": "36.6",
         "Bats": "S",
         "Throws": "R",
         "Prev_Team": "STL",
         "New_Team": "NYY",
         "Length": "3",
         "Total": "$45,000,000",
         "AAV": "$15,000,000",
         "Contract Year": 2014,
         "Season": 2013,
         "IDfg": 589,
         "Team": "STL",
         "Age_y": 36,
         "G": 145,
         "AB": 554,
         "PA": 600,
         "H": 164,
         "1B": 107,
         "2B": 30,
         "3B": 3,
         "HR": 24,
         "R": 79,
         "RBI": 84,
         "BB": 38,
         "IBB": 1,
         "SO": 90,
         "HBP": 1,
         "SF": 6,
         "SH": 1,
         "GDP": 12,
         "SB": 2,
         "CS": 1,
         "AVG": 0.296,
         "GB": 165,
         "FB": 192,
         "LD": 112,
         "IFFB": 21,
         "Pitches": 2181,
         "Balls": 809,
         "Strikes": 1372,
         "IFH": 9,
         "BU": 2,
         "BUH": 1,
         "BB%": 0.063,
         "K%": 0.15,
         "BB/K": 0.42,
         "OBP": 0.339,
         "SLG": 0.491,
         "OPS": 0.83,
         "ISO": 0.195,
         "BABIP": 0.314,
         "GB/FB": 0.0086,
         "LD%": 0.239,
         "GB%": 0.35200000000000004,
         "FB%": 0.409,
         "IFFB%": 0.109,
         "HR/FB": 0.125,
         "IFH%": 0.055,
         "BUH%": 0.5,
         "wOBA": 0.359,
         "wRAA": 21.2,
         "wRC": 87,
         "Bat": 20.7,
         "Fld": -8.6,
         "Rep": 17.1,
         "Pos_y": -6.2,
         "RAR": 24.9,
         "WAR": 2.7,
         "Dol": "$19.9",
         "Spd": 3.3,
         "wRC+": 131,
         "WPA": 1.2,
         "-WPA": -9.47,
         "+WPA": 10.67,
         "RE24": 27.91,
         "REW": 3.18,
         "pLI": 0.95,
         "phLI": 2.51,
         "PH": 6,
         "WPA/LI": 2.34,
         "Clutch": -1.08,
         "FB% (Pitch)": 0.5479999999999999,
         "FBv": 91.9,
         "SL%": 0.11599999999999999,
         "SLv": 84.2,
         "CT%": 0.047,
         "CTv": 88.2,
         "CB%": 0.141,
         "CBv": 76.9,
         "CH%": 0.11900000000000001,
         "CHv": 83,
         "SF%": 0.028999999999999998,
         "SFv": 83.6,
         "KN%": "nan",
         "KNv": "nan",
         "XX%": 0.002,
         "PO%": "nan",
         "wFB": 16.3,
         "wSL": -1.3,
         "wCT": 3.4,
         "wCB": -1.6,
         "wCH": 3.1,
         "wSF": -1.8,
         "wKN": "nan",
         "wFB/C": 1.36,
         "wSL/C": -0.53,
         "wCT/C": 3.38,
         "wCB/C": -0.51,
         "wCH/C": 1.21,
         "wSF/C": -2.79,
         "wKN/C": "nan",
         "O-Swing%": 0.307,
         "Z-Swing%": 0.6829999999999999,
         "Swing%": 0.466,
         "O-Contact%": 0.674,
         "Z-Contact%": 0.903,
         "Contact%": 0.815,
         "Zone%": 0.42100000000000004,
         "F-Strike%": 0.578,
         "SwStr%": 0.086,
         "BsR": 0.9,
         "FA% (sc)": 0.27,
         "FT% (sc)": 0.152,
         "FC% (sc)": 0.036000000000000004,
         "FS% (sc)": 0.023,
         "FO% (sc)": "nan",
         "SI% (sc)": 0.133,
         "SL% (sc)": 0.126,
         "CU% (sc)": 0.11199999999999999,
         "KC% (sc)": 0.028999999999999998,
         "EP% (sc)": 0,
         "CH% (sc)": 0.11900000000000001,
         "SC% (sc)": "nan",
         "KN% (sc)": "nan",
         "UN% (sc)": "nan",
         "vFA (sc)": 92.3,
         "vFT (sc)": 92.2,
         "vFC (sc)": 87.5,
         "vFS (sc)": 84.1,
         "vFO (sc)": "nan",
         "vSI (sc)": 90.5,
         "vSL (sc)": 84.5,
         "vCU (sc)": 75.9,
         "vKC (sc)": 80.2,
         "vEP (sc)": 69.6,
         "vCH (sc)": 82.7,
         "vSC (sc)": "nan",
         "vKN (sc)": "nan",
         "FA-X (sc)": -1.2,
         "FT-X (sc)": -5,
         "FC-X (sc)": -0.4,
         "FS-X (sc)": -6,
         "FO-X (sc)": "nan",
         "SI-X (sc)": -5.2,
         "SL-X (sc)": 0.6,
         "CU-X (sc)": 3,
         "KC-X (sc)": 3.4,
         "EP-X (sc)": -4.6,
         "CH-X (sc)": -1.7,
         "SC-X (sc)": "nan",
         "KN-X (sc)": "nan",
         "FA-Z (sc)": 8.7,
         "FT-Z (sc)": 5.6,
         "FC-Z (sc)": 5.3,
         "FS-Z (sc)": 2,
         "FO-Z (sc)": "nan",
         "SI-Z (sc)": 4,
         "SL-Z (sc)": 0.2,
         "CU-Z (sc)": -6.9,
         "KC-Z (sc)": -6.5,
         "EP-Z (sc)": -9,
         "CH-Z (sc)": 3.9,
         "SC-Z (sc)": "nan",
         "KN-Z (sc)": "nan",
         "wFA (sc)": 3.4,
         "wFT (sc)": 1.2,
         "wFC (sc)": 1.2,
         "wFS (sc)": -0.7,
         "wFO (sc)": "nan",
         "wSI (sc)": 12.3,
         "wSL (sc)": 0.2,
         "wCU (sc)": 0.2,
         "wKC (sc)": -2.3,
         "wEP (sc)": 0,
         "wCH (sc)": 1.3,
         "wSC (sc)": "nan",
         "wKN (sc)": "nan",
         "wFA/C (sc)": 0.59,
         "wFT/C (sc)": 0.37,
         "wFC/C (sc)": 1.54,
         "wFS/C (sc)": -1.47,
         "wFO/C (sc)": "nan",
         "wSI/C (sc)": 4.24,
         "wSL/C (sc)": 0.06,
         "wCU/C (sc)": 0.09,
         "wKC/C (sc)": -3.7,
         "wEP/C (sc)": -3.81,
         "wCH/C (sc)": 0.52,
         "wSC/C (sc)": "nan",
         "wKN/C (sc)": "nan",
         "O-Swing% (sc)": 0.268,
         "Z-Swing% (sc)": 0.665,
         "Swing% (sc)": 0.465,
         "O-Contact% (sc)": 0.604,
         "Z-Contact% (sc)": 0.9009999999999999,
         "Contact% (sc)": 0.815,
         "Zone% (sc)": 0.49700000000000005,
         "Pace": 21.5,
         "Def": -14.7,
         "wSB": -0.5,
         "UBR": 0.6,
         "Age Rng": "36 - 36",
         "Off": 21.7,
         "Lg": 0.8,
         "wGDP": 0.8,
         "Pull%": 0.47600000000000003,
         "Cent%": 0.33799999999999997,
         "Oppo%": 0.187,
         "Soft%": 0.153,
         "Med%": 0.473,
         "Hard%": 0.374,
         "TTO%": 0.253,
         "CH% (pi)": 0.11199999999999999,
         "CS% (pi)": 0.004,
         "CU% (pi)": 0.141,
         "FA% (pi)": 0.27899999999999997,
         "FC% (pi)": 0.054000000000000006,
         "FS% (pi)": 0.033,
         "KN% (pi)": "nan",
         "SB% (pi)": "nan",
         "SI% (pi)": 0.264,
         "SL% (pi)": 0.113,
         "XX% (pi)": "nan",
         "vCH (pi)": 83.5,
         "vCS (pi)": 74.3,
         "vCU (pi)": 77.5,
         "vFA (pi)": 93.1,
         "vFC (pi)": 88.6,
         "vFS (pi)": 84.1,
         "vKN (pi)": "nan",
         "vSB (pi)": "nan",
         "vSI (pi)": 91.9,
         "vSL (pi)": 84.9,
         "vXX (pi)": "nan",
         "CH-X (pi)": -0.8,
         "CS-X (pi)": 9.2,
         "CU-X (pi)": 3.8,
         "FA-X (pi)": -1.4,
         "FC-X (pi)": 0.1,
         "FS-X (pi)": -5.4,
         "KN-X (pi)": "nan",
         "SB-X (pi)": "nan",
         "SI-X (pi)": -4.3,
         "SL-X (pi)": 1.1,
         "XX-X (pi)": "nan",
         "CH-Z (pi)": 3.4,
         "CS-Z (pi)": -9.3,
         "CU-Z (pi)": -7.3,
         "FA-Z (pi)": 8,
         "FC-Z (pi)": 4.4,
         "FS-Z (pi)": 0.8,
         "KN-Z (pi)": "nan",
         "SB-Z (pi)": "nan",
         "SI-Z (pi)": 4.6,
         "SL-Z (pi)": -0.3,
         "XX-Z (pi)": "nan",
         "wCH (pi)": -0.3,
         "wCS (pi)": 0,
         "wCU (pi)": -0.6,
         "wFA (pi)": -0.2,
         "wFC (pi)": -0.9,
         "wFS (pi)": -0.2,
         "wKN (pi)": "nan",
         "wSB (pi)": "nan",
         "wSI (pi)": 2.6,
         "wSL (pi)": 0.3,
         "wXX (pi)": "nan",
         "wCH/C (pi)": -0.14,
         "wCS/C (pi)": -0.08,
         "wCU/C (pi)": -0.19,
         "wFA/C (pi)": -0.03,
         "wFC/C (pi)": -0.81,
         "wFS/C (pi)": -0.24,
         "wKN/C (pi)": "nan",
         "wSB/C (pi)": "nan",
         "wSI/C (pi)": 0.44,
         "wSL/C (pi)": 0.12,
         "wXX/C (pi)": "nan",
         "O-Swing% (pi)": 0.27699999999999997,
         "Z-Swing% (pi)": 0.655,
         "Swing% (pi)": 0.466,
         "O-Contact% (pi)": 0.616,
         "Z-Contact% (pi)": 0.9,
         "Contact% (pi)": 0.815,
         "Zone% (pi)": 0.499,
         "Pace (pi)": "nan",
         "FRM": "nan",
         "AVG+": 115,
         "BB%+": 79,
         "K%+": 79,
         "OBP+": 105,
         "SLG+": 123,
         "ISO+": 136,
         "BABIP+": 105,
         "LD+%": 1.12,
         "GB%+": 78,
         "FB%+": 122,
         "HR/FB%+": 121,
         "Pull%+": 124,
         "Cent%+": 93,
         "Oppo%+": 74,
         "Soft%+": 95,
         "Med%+": 89,
         "Hard%+": 123,
         "EV": "nan",
         "LA": "nan",
         "Barrels": 0,
         "Barrel%": "nan",
         "maxEV": "nan",
         "HardHit": 0,
         "HardHit%": "nan",
         "Events": 0,
         "CStr%": 0.165,
         "CSW%": 0.25,
         "xBA": "nan",
         "xSLG": "nan",
         "xwOBA": "nan",
         "_deepnote_index_column": 6
        },
        {
         "Name": "Mike Napoli",
         "Pos_x": "1B",
         "Age_x": "32.1",
         "Bats": "R",
         "Throws": "R",
         "Prev_Team": "BOS",
         "New_Team": "BOS",
         "Length": "2",
         "Total": "$32,000,000",
         "AAV": "$16,000,000",
         "Contract Year": 2014,
         "Season": 2013,
         "IDfg": 3057,
         "Team": "BOS",
         "Age_y": 31,
         "G": 139,
         "AB": 498,
         "PA": 578,
         "H": 129,
         "1B": 66,
         "2B": 38,
         "3B": 2,
         "HR": 23,
         "R": 79,
         "RBI": 92,
         "BB": 73,
         "IBB": 3,
         "SO": 187,
         "HBP": 6,
         "SF": 1,
         "SH": 0,
         "GDP": 15,
         "SB": 1,
         "CS": 1,
         "AVG": 0.259,
         "GB": 115,
         "FB": 121,
         "LD": 76,
         "IFFB": 11,
         "Pitches": 2652,
         "Balls": 1050,
         "Strikes": 1602,
         "IFH": 5,
         "BU": 0,
         "BUH": 0,
         "BB%": 0.126,
         "K%": 0.324,
         "BB/K": 0.39,
         "OBP": 0.36,
         "SLG": 0.482,
         "OPS": 0.842,
         "ISO": 0.223,
         "BABIP": 0.367,
         "GB/FB": 0.0095,
         "LD%": 0.244,
         "GB%": 0.369,
         "FB%": 0.38799999999999996,
         "IFFB%": 0.091,
         "HR/FB": 0.19,
         "IFH%": 0.043,
         "BUH%": 0,
         "wOBA": 0.367,
         "wRAA": 24.1,
         "wRC": 87,
         "Bat": 18.7,
         "Fld": 5.3,
         "Rep": 16.5,
         "Pos_y": -10.3,
         "RAR": 31.3,
         "WAR": 3.4,
         "Dol": "$25.0",
         "Spd": 3,
         "wRC+": 128,
         "WPA": 1.1,
         "-WPA": -10.23,
         "+WPA": 11.33,
         "RE24": 13.48,
         "REW": 1.46,
         "pLI": 1.03,
         "phLI": 1.2,
         "PH": 3,
         "WPA/LI": 1.15,
         "Clutch": -0.08,
         "FB% (Pitch)": 0.565,
         "FBv": 92.1,
         "SL%": 0.16399999999999998,
         "SLv": 83.7,
         "CT%": 0.071,
         "CTv": 87.7,
         "CB%": 0.08900000000000001,
         "CBv": 77.4,
         "CH%": 0.099,
         "CHv": 83,
         "SF%": 0.006999999999999999,
         "SFv": 83.9,
         "KN%": 0.005,
         "KNv": 77.2,
         "XX%": 0.005,
         "PO%": "nan",
         "wFB": 14.7,
         "wSL": -1.7,
         "wCT": -1,
         "wCB": 2.3,
         "wCH": -0.1,
         "wSF": 1.1,
         "wKN": -0.1,
         "wFB/C": 0.98,
         "wSL/C": -0.39,
         "wCT/C": -0.53,
         "wCB/C": 0.98,
         "wCH/C": -0.02,
         "wSF/C": 6.15,
         "wKN/C": -0.62,
         "O-Swing%": 0.253,
         "Z-Swing%": 0.619,
         "Swing%": 0.41600000000000004,
         "O-Contact%": 0.6,
         "Z-Contact%": 0.7240000000000001,
         "Contact%": 0.682,
         "Zone%": 0.445,
         "F-Strike%": 0.561,
         "SwStr%": 0.132,
         "BsR": -1.2,
         "FA% (sc)": 0.37,
         "FT% (sc)": 0.095,
         "FC% (sc)": 0.065,
         "FS% (sc)": 0.005,
         "FO% (sc)": "nan",
         "SI% (sc)": 0.092,
         "SL% (sc)": 0.17800000000000002,
         "CU% (sc)": 0.075,
         "KC% (sc)": 0.015,
         "EP% (sc)": 0,
         "CH% (sc)": 0.099,
         "SC% (sc)": "nan",
         "KN% (sc)": 0.005,
         "UN% (sc)": "nan",
         "vFA (sc)": 92.4,
         "vFT (sc)": 91.4,
         "vFC (sc)": 89.3,
         "vFS (sc)": 82.9,
         "vFO (sc)": "nan",
         "vSI (sc)": 91.1,
         "vSL (sc)": 83.8,
         "vCU (sc)": 77.2,
         "vKC (sc)": 78.4,
         "vEP (sc)": 53.1,
         "vCH (sc)": 83,
         "vSC (sc)": "nan",
         "vKN (sc)": 76.7,
         "FA-X (sc)": -1.2,
         "FT-X (sc)": 1.2,
         "FC-X (sc)": 1.8,
         "FS-X (sc)": -2.5,
         "FO-X (sc)": "nan",
         "SI-X (sc)": -0.4,
         "SL-X (sc)": 3.3,
         "CU-X (sc)": 5.1,
         "KC-X (sc)": 3.5,
         "EP-X (sc)": 4.3,
         "CH-X (sc)": 2.7,
         "SC-X (sc)": "nan",
         "KN-X (sc)": -1.3,
         "FA-Z (sc)": 8.9,
         "FT-Z (sc)": 6.6,
         "FC-Z (sc)": 5,
         "FS-Z (sc)": 1.8,
         "FO-Z (sc)": "nan",
         "SI-Z (sc)": 4.8,
         "SL-Z (sc)": 0.7,
         "CU-Z (sc)": -4.7,
         "KC-Z (sc)": -9.1,
         "EP-Z (sc)": -13.2,
         "CH-Z (sc)": 4.9,
         "SC-Z (sc)": "nan",
         "KN-Z (sc)": 2.1,
         "wFA (sc)": 7.9,
         "wFT (sc)": 5.1,
         "wFC (sc)": 2.8,
         "wFS (sc)": 1.8,
         "wFO (sc)": "nan",
         "wSI (sc)": 0.1,
         "wSL (sc)": -3.7,
         "wCU (sc)": 1.9,
         "wKC (sc)": 1.2,
         "wEP (sc)": 0,
         "wCH (sc)": -2,
         "wSC (sc)": "nan",
         "wKN (sc)": 0.7,
         "wFA/C (sc)": 0.81,
         "wFT/C (sc)": 2.04,
         "wFC/C (sc)": 1.65,
         "wFS/C (sc)": 12.64,
         "wFO/C (sc)": "nan",
         "wSI/C (sc)": 0.05,
         "wSL/C (sc)": -0.8,
         "wCU/C (sc)": 0.95,
         "wKC/C (sc)": 3.08,
         "wEP/C (sc)": 3.62,
         "wCH/C (sc)": -0.77,
         "wSC/C (sc)": "nan",
         "wKN/C (sc)": 5.17,
         "O-Swing% (sc)": 0.21600000000000003,
         "Z-Swing% (sc)": 0.586,
         "Swing% (sc)": 0.415,
         "O-Contact% (sc)": 0.5589999999999999,
         "Z-Contact% (sc)": 0.72,
         "Contact% (sc)": 0.6809999999999999,
         "Zone% (sc)": 0.5379999999999999,
         "Pace": 24.6,
         "Def": -4.9,
         "wSB": -0.7,
         "UBR": -0.1,
         "Age Rng": "31 - 31",
         "Off": 17.5,
         "Lg": 2.2,
         "wGDP": -0.4,
         "Pull%": 0.37200000000000005,
         "Cent%": 0.397,
         "Oppo%": 0.231,
         "Soft%": 0.11199999999999999,
         "Med%": 0.474,
         "Hard%": 0.413,
         "TTO%": 0.49,
         "CH% (pi)": 0.08900000000000001,
         "CS% (pi)": 0,
         "CU% (pi)": 0.084,
         "FA% (pi)": 0.377,
         "FC% (pi)": 0.081,
         "FS% (pi)": 0.016,
         "KN% (pi)": 0.005,
         "SB% (pi)": "nan",
         "SI% (pi)": 0.185,
         "SL% (pi)": 0.163,
         "XX% (pi)": "nan",
         "vCH (pi)": 83.4,
         "vCS (pi)": 53.6,
         "vCU (pi)": 77.9,
         "vFA (pi)": 93.2,
         "vFC (pi)": 88.4,
         "vFS (pi)": 85.9,
         "vKN (pi)": 77.3,
         "vSB (pi)": "nan",
         "vSI (pi)": 92.1,
         "vSL (pi)": 84.2,
         "vXX (pi)": "nan",
         "CH-X (pi)": 2.5,
         "CS-X (pi)": 3,
         "CU-X (pi)": 3.3,
         "FA-X (pi)": -1.2,
         "FC-X (pi)": 1.5,
         "FS-X (pi)": -6.3,
         "KN-X (pi)": -0.6,
         "SB-X (pi)": "nan",
         "SI-X (pi)": -1.7,
         "SL-X (pi)": 3.3,
         "XX-X (pi)": "nan",
         "CH-Z (pi)": 3.9,
         "CS-Z (pi)": -16,
         "CU-Z (pi)": -7.1,
         "FA-Z (pi)": 8.3,
         "FC-Z (pi)": 3.6,
         "FS-Z (pi)": 0.8,
         "KN-Z (pi)": 1.3,
         "SB-Z (pi)": "nan",
         "SI-Z (pi)": 4.9,
         "SL-Z (pi)": -0.6,
         "XX-Z (pi)": "nan",
         "wCH (pi)": 0.2,
         "wCS (pi)": 0,
         "wCU (pi)": 2.1,
         "wFA (pi)": -2.4,
         "wFC (pi)": -0.4,
         "wFS (pi)": 0.2,
         "wKN (pi)": 0.1,
         "wSB (pi)": "nan",
         "wSI (pi)": -0.9,
         "wSL (pi)": 0.1,
         "wXX (pi)": "nan",
         "wCH/C (pi)": 0.08,
         "wCS/C (pi)": 3.62,
         "wCU/C (pi)": 0.97,
         "wFA/C (pi)": -0.24,
         "wFC/C (pi)": -0.2,
         "wFS/C (pi)": 0.37,
         "wKN/C (pi)": 0.47,
         "wSB/C (pi)": "nan",
         "wSI/C (pi)": -0.18,
         "wSL/C (pi)": 0.02,
         "wXX/C (pi)": "nan",
         "O-Swing% (pi)": 0.22,
         "Z-Swing% (pi)": 0.583,
         "Swing% (pi)": 0.415,
         "O-Contact% (pi)": 0.5660000000000001,
         "Z-Contact% (pi)": 0.718,
         "Contact% (pi)": 0.6809999999999999,
         "Zone% (pi)": 0.5379999999999999,
         "Pace (pi)": "nan",
         "FRM": "nan",
         "AVG+": 101,
         "BB%+": 155,
         "K%+": 164,
         "OBP+": 112,
         "SLG+": 119,
         "ISO+": 149,
         "BABIP+": 123,
         "LD+%": 1.15,
         "GB%+": 85,
         "FB%+": 109,
         "HR/FB%+": 175,
         "Pull%+": 94,
         "Cent%+": 111,
         "Oppo%+": 94,
         "Soft%+": 70,
         "Med%+": 88,
         "Hard%+": 137,
         "EV": "nan",
         "LA": "nan",
         "Barrels": 0,
         "Barrel%": "nan",
         "maxEV": "nan",
         "HardHit": 0,
         "HardHit%": "nan",
         "Events": 0,
         "CStr%": 0.19,
         "CSW%": 0.322,
         "xBA": "nan",
         "xSLG": "nan",
         "xwOBA": "nan",
         "_deepnote_index_column": 7
        },
        {
         "Name": "Omar Infante",
         "Pos_x": "2B",
         "Age_x": "31.9",
         "Bats": "R",
         "Throws": "R",
         "Prev_Team": "DET",
         "New_Team": "KC",
         "Length": "4",
         "Total": "$30,250,000",
         "AAV": "$7,562,500",
         "Contract Year": 2014,
         "Season": 2013,
         "IDfg": 1609,
         "Team": "DET",
         "Age_y": 31,
         "G": 118,
         "AB": 453,
         "PA": 476,
         "H": 144,
         "1B": 107,
         "2B": 24,
         "3B": 3,
         "HR": 10,
         "R": 54,
         "RBI": 51,
         "BB": 20,
         "IBB": 1,
         "SO": 44,
         "HBP": 0,
         "SF": 3,
         "SH": 0,
         "GDP": 11,
         "SB": 5,
         "CS": 2,
         "AVG": 0.318,
         "GB": 156,
         "FB": 154,
         "LD": 96,
         "IFFB": 15,
         "Pitches": 1572,
         "Balls": 535,
         "Strikes": 1037,
         "IFH": 9,
         "BU": 6,
         "BUH": 4,
         "BB%": 0.042,
         "K%": 0.092,
         "BB/K": 0.45,
         "OBP": 0.345,
         "SLG": 0.45,
         "OPS": 0.795,
         "ISO": 0.132,
         "BABIP": 0.333,
         "GB/FB": 0.0101,
         "LD%": 0.23600000000000002,
         "GB%": 0.384,
         "FB%": 0.379,
         "IFFB%": 0.09699999999999999,
         "HR/FB": 0.065,
         "IFH%": 0.057999999999999996,
         "BUH%": 0.667,
         "wOBA": 0.346,
         "wRAA": 12.1,
         "wRC": 64,
         "Bat": 9.5,
         "Fld": 0.7,
         "Rep": 13.6,
         "Pos_y": 1.8,
         "RAR": 27,
         "WAR": 2.9,
         "Dol": "$21.6",
         "Spd": 3.9,
         "wRC+": 118,
         "WPA": -0.45,
         "-WPA": -8,
         "+WPA": 7.55,
         "RE24": 6.35,
         "REW": 0.63,
         "pLI": 0.97,
         "phLI": 1.38,
         "PH": 1,
         "WPA/LI": 0.69,
         "Clutch": -1.16,
         "FB% (Pitch)": 0.585,
         "FBv": 91.5,
         "SL%": 0.156,
         "SLv": 83.5,
         "CT%": 0.069,
         "CTv": 88,
         "CB%": 0.077,
         "CBv": 77.5,
         "CH%": 0.099,
         "CHv": 82.7,
         "SF%": 0.008,
         "SFv": 84.2,
         "KN%": 0.005,
         "KNv": 75.6,
         "XX%": 0.003,
         "PO%": "nan",
         "wFB": -1.1,
         "wSL": 1.9,
         "wCT": 9.9,
         "wCB": -3.9,
         "wCH": 1,
         "wSF": -1,
         "wKN": 1.6,
         "wFB/C": -0.12,
         "wSL/C": 0.78,
         "wCT/C": 9.21,
         "wCB/C": -3.25,
         "wCH/C": 0.65,
         "wSF/C": -8.23,
         "wKN/C": 19.94,
         "O-Swing%": 0.295,
         "Z-Swing%": 0.616,
         "Swing%": 0.45399999999999996,
         "O-Contact%": 0.695,
         "Z-Contact%": 0.9159999999999999,
         "Contact%": 0.8440000000000001,
         "Zone%": 0.496,
         "F-Strike%": 0.603,
         "SwStr%": 0.071,
         "BsR": -0.4,
         "FA% (sc)": 0.341,
         "FT% (sc)": 0.11199999999999999,
         "FC% (sc)": 0.054000000000000006,
         "FS% (sc)": 0.005,
         "FO% (sc)": 0.001,
         "SI% (sc)": 0.13,
         "SL% (sc)": 0.179,
         "CU% (sc)": 0.06,
         "KC% (sc)": 0.016,
         "EP% (sc)": 0.001,
         "CH% (sc)": 0.096,
         "SC% (sc)": "nan",
         "KN% (sc)": 0.005,
         "UN% (sc)": "nan",
         "vFA (sc)": 91.7,
         "vFT (sc)": 91.1,
         "vFC (sc)": 88.8,
         "vFS (sc)": 83.6,
         "vFO (sc)": 85.9,
         "vSI (sc)": 91.1,
         "vSL (sc)": 83.8,
         "vCU (sc)": 77.4,
         "vKC (sc)": 80.2,
         "vEP (sc)": 63,
         "vCH (sc)": 82.5,
         "vSC (sc)": "nan",
         "vKN (sc)": 76.7,
         "FA-X (sc)": -1.6,
         "FT-X (sc)": -1.5,
         "FC-X (sc)": 1.6,
         "FS-X (sc)": -3.8,
         "FO-X (sc)": -5.5,
         "SI-X (sc)": -1.6,
         "SL-X (sc)": 1.8,
         "CU-X (sc)": 3.6,
         "KC-X (sc)": 2,
         "EP-X (sc)": 2.3,
         "CH-X (sc)": 3.8,
         "SC-X (sc)": "nan",
         "KN-X (sc)": -2,
         "FA-Z (sc)": 7.5,
         "FT-Z (sc)": 5.4,
         "FC-Z (sc)": 3.6,
         "FS-Z (sc)": 4,
         "FO-Z (sc)": 4.7,
         "SI-Z (sc)": 5.4,
         "SL-Z (sc)": 0.3,
         "CU-Z (sc)": -5.5,
         "KC-Z (sc)": -6.9,
         "EP-Z (sc)": 1,
         "CH-Z (sc)": 3.8,
         "SC-Z (sc)": "nan",
         "KN-Z (sc)": 1.6,
         "wFA (sc)": -2,
         "wFT (sc)": 3,
         "wFC (sc)": 5.9,
         "wFS (sc)": -0.8,
         "wFO (sc)": -0.1,
         "wSI (sc)": -2.1,
         "wSL (sc)": 4.7,
         "wCU (sc)": -3.5,
         "wKC (sc)": 0.8,
         "wEP (sc)": 0.6,
         "wCH (sc)": 1,
         "wSC (sc)": "nan",
         "wKN (sc)": 0.9,
         "wFA/C (sc)": -0.37,
         "wFT/C (sc)": 1.73,
         "wFC/C (sc)": 7.01,
         "wFS/C (sc)": -10.22,
         "wFO/C (sc)": -2.67,
         "wSI/C (sc)": -1.05,
         "wSL/C (sc)": 1.67,
         "wCU/C (sc)": -3.73,
         "wKC/C (sc)": 3.17,
         "wEP/C (sc)": 30.4,
         "wCH/C (sc)": 0.68,
         "wSC/C (sc)": "nan",
         "wKN/C (sc)": 11.27,
         "O-Swing% (sc)": 0.251,
         "Z-Swing% (sc)": 0.606,
         "Swing% (sc)": 0.45399999999999996,
         "O-Contact% (sc)": 0.633,
         "Z-Contact% (sc)": 0.9109999999999999,
         "Contact% (sc)": 0.845,
         "Zone% (sc)": 0.5710000000000001,
         "Pace": 22.3,
         "Def": 2.5,
         "wSB": -0.2,
         "UBR": -0.7,
         "Age Rng": "31 - 31",
         "Off": 9.1,
         "Lg": 1.8,
         "wGDP": 0.5,
         "Pull%": 0.466,
         "Cent%": 0.369,
         "Oppo%": 0.165,
         "Soft%": 0.136,
         "Med%": 0.595,
         "Hard%": 0.26899999999999996,
         "TTO%": 0.155,
         "CH% (pi)": 0.09699999999999999,
         "CS% (pi)": 0.001,
         "CU% (pi)": 0.078,
         "FA% (pi)": 0.337,
         "FC% (pi)": 0.066,
         "FS% (pi)": 0.01,
         "KN% (pi)": 0.006,
         "SB% (pi)": "nan",
         "SI% (pi)": 0.248,
         "SL% (pi)": 0.157,
         "XX% (pi)": "nan",
         "vCH (pi)": 83.6,
         "vCS (pi)": 65.3,
         "vCU (pi)": 78.7,
         "vFA (pi)": 92.8,
         "vFC (pi)": 88.7,
         "vFS (pi)": 85.2,
         "vKN (pi)": 75.5,
         "vSB (pi)": "nan",
         "vSI (pi)": 91.8,
         "vSL (pi)": 84.4,
         "vXX (pi)": "nan",
         "CH-X (pi)": 3.9,
         "CS-X (pi)": -1.2,
         "CU-X (pi)": 3.4,
         "FA-X (pi)": -1,
         "FC-X (pi)": 1.8,
         "FS-X (pi)": -5.8,
         "KN-X (pi)": -0.5,
         "SB-X (pi)": "nan",
         "SI-X (pi)": -1.9,
         "SL-X (pi)": 2.5,
         "XX-X (pi)": "nan",
         "CH-Z (pi)": 3.6,
         "CS-Z (pi)": -6.1,
         "CU-Z (pi)": -6.3,
         "FA-Z (pi)": 8.1,
         "FC-Z (pi)": 4.5,
         "FS-Z (pi)": 2.4,
         "KN-Z (pi)": 1.2,
         "SB-Z (pi)": "nan",
         "SI-Z (pi)": 4.9,
         "SL-Z (pi)": -0.7,
         "XX-Z (pi)": "nan",
         "wCH (pi)": 0.1,
         "wCS (pi)": 0,
         "wCU (pi)": -0.4,
         "wFA (pi)": -2.1,
         "wFC (pi)": 0,
         "wFS (pi)": -0.2,
         "wKN (pi)": -0.1,
         "wSB (pi)": "nan",
         "wSI (pi)": -0.8,
         "wSL (pi)": 0,
         "wXX (pi)": "nan",
         "wCH/C (pi)": 0.04,
         "wCS/C (pi)": 1.44,
         "wCU/C (pi)": -0.33,
         "wFA/C (pi)": -0.39,
         "wFC/C (pi)": -0.01,
         "wFS/C (pi)": -1.59,
         "wKN/C (pi)": -1.54,
         "wSB/C (pi)": "nan",
         "wSI/C (pi)": -0.2,
         "wSL/C (pi)": -0.01,
         "wXX/C (pi)": "nan",
         "O-Swing% (pi)": 0.247,
         "Z-Swing% (pi)": 0.608,
         "Swing% (pi)": 0.45399999999999996,
         "O-Contact% (pi)": 0.63,
         "Z-Contact% (pi)": 0.91,
         "Contact% (pi)": 0.845,
         "Zone% (pi)": 0.573,
         "Pace (pi)": "nan",
         "FRM": "nan",
         "AVG+": 124,
         "BB%+": 52,
         "K%+": 47,
         "OBP+": 107,
         "SLG+": 111,
         "ISO+": 89,
         "BABIP+": 112,
         "LD+%": 1.11,
         "GB%+": 89,
         "FB%+": 107,
         "HR/FB%+": 60,
         "Pull%+": 117,
         "Cent%+": 103,
         "Oppo%+": 67,
         "Soft%+": 84,
         "Med%+": 111,
         "Hard%+": 89,
         "EV": "nan",
         "LA": "nan",
         "Barrels": 0,
         "Barrel%": "nan",
         "maxEV": "nan",
         "HardHit": 0,
         "HardHit%": "nan",
         "Events": 0,
         "CStr%": 0.203,
         "CSW%": 0.27399999999999997,
         "xBA": "nan",
         "xSLG": "nan",
         "xwOBA": "nan",
         "_deepnote_index_column": 8
        },
        {
         "Name": "Carlos Ruiz",
         "Pos_x": "C",
         "Age_x": "34.8",
         "Bats": "R",
         "Throws": "R",
         "Prev_Team": "PHI",
         "New_Team": "PHI",
         "Length": "3",
         "Total": "$26,000,000",
         "AAV": "$8,666,667",
         "Contract Year": 2014,
         "Season": 2013,
         "IDfg": 2579,
         "Team": "PHI",
         "Age_y": 34,
         "G": 92,
         "AB": 310,
         "PA": 341,
         "H": 83,
         "1B": 62,
         "2B": 16,
         "3B": 0,
         "HR": 5,
         "R": 30,
         "RBI": 37,
         "BB": 18,
         "IBB": 3,
         "SO": 39,
         "HBP": 7,
         "SF": 2,
         "SH": 4,
         "GDP": 11,
         "SB": 1,
         "CS": 0,
         "AVG": 0.268,
         "GB": 127,
         "FB": 91,
         "LD": 53,
         "IFFB": 8,
         "Pitches": 1270,
         "Balls": 473,
         "Strikes": 797,
         "IFH": 8,
         "BU": 6,
         "BUH": 1,
         "BB%": 0.053,
         "K%": 0.114,
         "BB/K": 0.46,
         "OBP": 0.32,
         "SLG": 0.368,
         "OPS": 0.688,
         "ISO": 0.1,
         "BABIP": 0.291,
         "GB/FB": 0.013999999999999999,
         "LD%": 0.196,
         "GB%": 0.469,
         "FB%": 0.336,
         "IFFB%": 0.08800000000000001,
         "HR/FB": 0.055,
         "IFH%": 0.063,
         "BUH%": 0.16699999999999998,
         "wOBA": 0.303,
         "wRAA": -2.8,
         "wRC": 35,
         "Bat": -3.9,
         "Fld": -10.4,
         "Rep": 9.7,
         "Pos_y": 6.4,
         "RAR": 2.4,
         "WAR": 0.3,
         "Dol": "$1.9",
         "Spd": 2.1,
         "wRC+": 90,
         "WPA": 0.41,
         "-WPA": -5.87,
         "+WPA": 6.28,
         "RE24": 0.99,
         "REW": 0.09,
         "pLI": 1.02,
         "phLI": 2.59,
         "PH": 6,
         "WPA/LI": 0.21,
         "Clutch": 0.19,
         "FB% (Pitch)": 0.555,
         "FBv": 91.8,
         "SL%": 0.16899999999999998,
         "SLv": 83,
         "CT%": 0.079,
         "CTv": 87.4,
         "CB%": 0.1,
         "CBv": 77.1,
         "CH%": 0.087,
         "CHv": 82.3,
         "SF%": 0.01,
         "SFv": 83.8,
         "KN%": "nan",
         "KNv": "nan",
         "XX%": 0.009000000000000001,
         "PO%": "nan",
         "wFB": -0.1,
         "wSL": -6.9,
         "wCT": 2.7,
         "wCB": -0.7,
         "wCH": 0.2,
         "wSF": 1.2,
         "wKN": "nan",
         "wFB/C": -0.02,
         "wSL/C": -3.22,
         "wCT/C": 2.68,
         "wCB/C": -0.52,
         "wCH/C": 0.15,
         "wSF/C": 10.04,
         "wKN/C": "nan",
         "O-Swing%": 0.257,
         "Z-Swing%": 0.667,
         "Swing%": 0.45,
         "O-Contact%": 0.784,
         "Z-Contact%": 0.9420000000000001,
         "Contact%": 0.894,
         "Zone%": 0.47100000000000003,
         "F-Strike%": 0.595,
         "SwStr%": 0.047,
         "BsR": 0.1,
         "FA% (sc)": 0.34299999999999997,
         "FT% (sc)": 0.109,
         "FC% (sc)": 0.077,
         "FS% (sc)": 0.013999999999999999,
         "FO% (sc)": "nan",
         "SI% (sc)": 0.09300000000000001,
         "SL% (sc)": 0.17800000000000002,
         "CU% (sc)": 0.09,
         "KC% (sc)": 0.016,
         "EP% (sc)": "nan",
         "CH% (sc)": 0.081,
         "SC% (sc)": "nan",
         "KN% (sc)": "nan",
         "UN% (sc)": "nan",
         "vFA (sc)": 92.2,
         "vFT (sc)": 91.4,
         "vFC (sc)": 87.4,
         "vFS (sc)": 84.1,
         "vFO (sc)": "nan",
         "vSI (sc)": 90.8,
         "vSL (sc)": 83.5,
         "vCU (sc)": 76.9,
         "vKC (sc)": 80.4,
         "vEP (sc)": "nan",
         "vCH (sc)": 82,
         "vSC (sc)": "nan",
         "vKN (sc)": "nan",
         "FA-X (sc)": -2.2,
         "FT-X (sc)": -5,
         "FC-X (sc)": 0.3,
         "FS-X (sc)": -4.2,
         "FO-X (sc)": "nan",
         "SI-X (sc)": -4.4,
         "SL-X (sc)": 1.4,
         "CU-X (sc)": 2.3,
         "KC-X (sc)": 1.4,
         "EP-X (sc)": "nan",
         "CH-X (sc)": -0.9,
         "SC-X (sc)": "nan",
         "KN-X (sc)": "nan",
         "FA-Z (sc)": 8.3,
         "FT-Z (sc)": 6.7,
         "FC-Z (sc)": 4.2,
         "FS-Z (sc)": 0.2,
         "FO-Z (sc)": "nan",
         "SI-Z (sc)": 3.6,
         "SL-Z (sc)": 0.6,
         "CU-Z (sc)": -6.1,
         "KC-Z (sc)": -9.6,
         "EP-Z (sc)": "nan",
         "CH-Z (sc)": 3.3,
         "SC-Z (sc)": "nan",
         "KN-Z (sc)": "nan",
         "wFA (sc)": -2.5,
         "wFT (sc)": -1.7,
         "wFC (sc)": -0.4,
         "wFS (sc)": 1.3,
         "wFO (sc)": "nan",
         "wSI (sc)": 4.2,
         "wSL (sc)": -3.8,
         "wCU (sc)": -1.1,
         "wKC (sc)": -0.2,
         "wEP (sc)": "nan",
         "wCH (sc)": -0.1,
         "wSC (sc)": "nan",
         "wKN (sc)": "nan",
         "wFA/C (sc)": -0.57,
         "wFT/C (sc)": -1.28,
         "wFC/C (sc)": -0.43,
         "wFS/C (sc)": 7.47,
         "wFO/C (sc)": "nan",
         "wSI/C (sc)": 3.56,
         "wSL/C (sc)": -1.68,
         "wCU/C (sc)": -0.94,
         "wKC/C (sc)": -0.8,
         "wEP/C (sc)": "nan",
         "wCH/C (sc)": -0.06,
         "wSC/C (sc)": "nan",
         "wKN/C (sc)": "nan",
         "O-Swing% (sc)": 0.217,
         "Z-Swing% (sc)": 0.632,
         "Swing% (sc)": 0.45,
         "O-Contact% (sc)": 0.725,
         "Z-Contact% (sc)": 0.94,
         "Contact% (sc)": 0.894,
         "Zone% (sc)": 0.562,
         "Pace": 21.6,
         "Def": -4,
         "wSB": -0.1,
         "UBR": 1.3,
         "Age Rng": "34 - 34",
         "Off": -3.8,
         "Lg": 0.5,
         "wGDP": -1.1,
         "Pull%": 0.41200000000000003,
         "Cent%": 0.354,
         "Oppo%": 0.235,
         "Soft%": 0.13699999999999998,
         "Med%": 0.545,
         "Hard%": 0.318,
         "TTO%": 0.182,
         "CH% (pi)": 0.07400000000000001,
         "CS% (pi)": 0.002,
         "CU% (pi)": 0.09300000000000001,
         "FA% (pi)": 0.359,
         "FC% (pi)": 0.09,
         "FS% (pi)": 0.016,
         "KN% (pi)": "nan",
         "SB% (pi)": "nan",
         "SI% (pi)": 0.18100000000000002,
         "SL% (pi)": 0.185,
         "XX% (pi)": "nan",
         "vCH (pi)": 82.7,
         "vCS (pi)": 75,
         "vCU (pi)": 78,
         "vFA (pi)": 93.2,
         "vFC (pi)": 88.7,
         "vFS (pi)": 85,
         "vKN (pi)": "nan",
         "vSB (pi)": "nan",
         "vSI (pi)": 91.9,
         "vSL (pi)": 83.8,
         "vXX (pi)": "nan",
         "CH-X (pi)": 0,
         "CS-X (pi)": 8,
         "CU-X (pi)": 3,
         "FA-X (pi)": -1.9,
         "FC-X (pi)": 1.3,
         "FS-X (pi)": -3,
         "KN-X (pi)": "nan",
         "SB-X (pi)": "nan",
         "SI-X (pi)": -3.3,
         "SL-X (pi)": 2.6,
         "XX-X (pi)": "nan",
         "CH-Z (pi)": 3.9,
         "CS-Z (pi)": -10.1,
         "CU-Z (pi)": -7.9,
         "FA-Z (pi)": 8,
         "FC-Z (pi)": 4.2,
         "FS-Z (pi)": 1.6,
         "KN-Z (pi)": "nan",
         "SB-Z (pi)": "nan",
         "SI-Z (pi)": 4.3,
         "SL-Z (pi)": -0.6,
         "XX-Z (pi)": "nan",
         "wCH (pi)": 0.2,
         "wCS (pi)": 0.1,
         "wCU (pi)": 0.7,
         "wFA (pi)": 0,
         "wFC (pi)": -0.5,
         "wFS (pi)": 0.3,
         "wKN (pi)": "nan",
         "wSB (pi)": "nan",
         "wSI (pi)": -0.2,
         "wSL (pi)": -0.6,
         "wXX (pi)": "nan",
         "wCH/C (pi)": 0.27,
         "wCS/C (pi)": 1.92,
         "wCU/C (pi)": 0.62,
         "wFA/C (pi)": -0.01,
         "wFC/C (pi)": -0.43,
         "wFS/C (pi)": 1.41,
         "wKN/C (pi)": "nan",
         "wSB/C (pi)": "nan",
         "wSI/C (pi)": -0.1,
         "wSL/C (pi)": -0.28,
         "wXX/C (pi)": "nan",
         "O-Swing% (pi)": 0.218,
         "Z-Swing% (pi)": 0.63,
         "Swing% (pi)": 0.45,
         "O-Contact% (pi)": 0.725,
         "Z-Contact% (pi)": 0.94,
         "Contact% (pi)": 0.894,
         "Zone% (pi)": 0.563,
         "Pace (pi)": "nan",
         "FRM": -10.2,
         "AVG+": 104,
         "BB%+": 66,
         "K%+": 60,
         "OBP+": 99,
         "SLG+": 92,
         "ISO+": 70,
         "BABIP+": 97,
         "LD+%": 0.92,
         "GB%+": 104,
         "FB%+": 100,
         "HR/FB%+": 53,
         "Pull%+": 107,
         "Cent%+": 98,
         "Oppo%+": 93,
         "Soft%+": 85,
         "Med%+": 102,
         "Hard%+": 104,
         "EV": "nan",
         "LA": "nan",
         "Barrels": 0,
         "Barrel%": "nan",
         "maxEV": "nan",
         "HardHit": 0,
         "HardHit%": "nan",
         "Events": 0,
         "CStr%": 0.17600000000000002,
         "CSW%": 0.22399999999999998,
         "xBA": "nan",
         "xSLG": "nan",
         "xwOBA": "nan",
         "_deepnote_index_column": 9
        }
       ]
      },
      "text/plain": "                  Name Pos_x Age_x Bats Throws Prev_Team New_Team Length  \\\n0        Robinson Cano    2B  31.1    L      R       NYY      SEA     10   \n1      Jacoby Ellsbury    CF  30.2    L      L       BOS      NYY      7   \n2        Shin-Soo Choo    DH  31.4    L      L       CIN      TEX      7   \n3         Brian McCann     C  29.8    L      R       ATL      NYY      5   \n4    Curtis Granderson    LF  32.7    L      R       NYY      NYM      4   \n..                 ...   ...   ...  ...    ...       ...      ...    ...   \n481       Chris Heisey    LF  31.8    R      R       WSH      WSH      1   \n482       Adam Rosales    2B  33.7    R      R        SD      OAK      1   \n483     Alexi Amarista    SS  27.7    L      R        SD      COL      1   \n484       Derek Norris     C  28.1    R      R       WSH       TB      1   \n485     Danny Espinosa    SS  30.2    S      R       LAA      SEA      1   \n\n            Total          AAV  ...  Barrel%  maxEV  HardHit HardHit%  Events  \\\n0    $240,000,000  $24,000,000  ...      NaN    NaN      0.0      NaN       0   \n1    $153,000,000  $21,857,143  ...      NaN    NaN      0.0      NaN       0   \n2    $130,000,000  $18,571,429  ...      NaN    NaN      0.0      NaN       0   \n3     $85,000,000  $17,000,000  ...      NaN    NaN      0.0      NaN       0   \n4     $60,000,000  $15,000,000  ...      NaN    NaN      0.0      NaN       0   \n..            ...          ...  ...      ...    ...      ...      ...     ...   \n481    $1,400,000   $1,400,000  ...    0.083  110.3     26.0    0.271      96   \n482    $1,250,000   $1,250,000  ...    0.108  109.7     51.0    0.392     130   \n483    $1,250,000   $1,250,000  ...    0.009  103.5     28.0    0.241     116   \n484    $1,200,000   $1,200,000  ...    0.047  109.0     91.0    0.326     279   \n485      $535,000     $535,000  ...    0.082  112.2    118.0    0.334     353   \n\n     CStr%   CSW%  xBA  xSLG  xwOBA  \n0    0.142  0.206  NaN   NaN    NaN  \n1    0.180  0.233  NaN   NaN    NaN  \n2    0.178  0.257  NaN   NaN    NaN  \n3    0.184  0.245  NaN   NaN    NaN  \n4    0.182  0.318  NaN   NaN    NaN  \n..     ...    ...  ...   ...    ...  \n481  0.209  0.314  NaN   NaN    NaN  \n482  0.177  0.324  NaN   NaN    NaN  \n483  0.197  0.268  NaN   NaN    NaN  \n484  0.183  0.294  NaN   NaN    NaN  \n485  0.135  0.284  NaN   NaN    NaN  \n\n[486 rows x 329 columns]",
      "text/html": "<div>\n<style scoped>\n    .dataframe tbody tr th:only-of-type {\n        vertical-align: middle;\n    }\n\n    .dataframe tbody tr th {\n        vertical-align: top;\n    }\n\n    .dataframe thead th {\n        text-align: right;\n    }\n</style>\n<table border=\"1\" class=\"dataframe\">\n  <thead>\n    <tr style=\"text-align: right;\">\n      <th></th>\n      <th>Name</th>\n      <th>Pos_x</th>\n      <th>Age_x</th>\n      <th>Bats</th>\n      <th>Throws</th>\n      <th>Prev_Team</th>\n      <th>New_Team</th>\n      <th>Length</th>\n      <th>Total</th>\n      <th>AAV</th>\n      <th>...</th>\n      <th>Barrel%</th>\n      <th>maxEV</th>\n      <th>HardHit</th>\n      <th>HardHit%</th>\n      <th>Events</th>\n      <th>CStr%</th>\n      <th>CSW%</th>\n      <th>xBA</th>\n      <th>xSLG</th>\n      <th>xwOBA</th>\n    </tr>\n  </thead>\n  <tbody>\n    <tr>\n      <th>0</th>\n      <td>Robinson Cano</td>\n      <td>2B</td>\n      <td>31.1</td>\n      <td>L</td>\n      <td>R</td>\n      <td>NYY</td>\n      <td>SEA</td>\n      <td>10</td>\n      <td>$240,000,000</td>\n      <td>$24,000,000</td>\n      <td>...</td>\n      <td>NaN</td>\n      <td>NaN</td>\n      <td>0.0</td>\n      <td>NaN</td>\n      <td>0</td>\n      <td>0.142</td>\n      <td>0.206</td>\n      <td>NaN</td>\n      <td>NaN</td>\n      <td>NaN</td>\n    </tr>\n    <tr>\n      <th>1</th>\n      <td>Jacoby Ellsbury</td>\n      <td>CF</td>\n      <td>30.2</td>\n      <td>L</td>\n      <td>L</td>\n      <td>BOS</td>\n      <td>NYY</td>\n      <td>7</td>\n      <td>$153,000,000</td>\n      <td>$21,857,143</td>\n      <td>...</td>\n      <td>NaN</td>\n      <td>NaN</td>\n      <td>0.0</td>\n      <td>NaN</td>\n      <td>0</td>\n      <td>0.180</td>\n      <td>0.233</td>\n      <td>NaN</td>\n      <td>NaN</td>\n      <td>NaN</td>\n    </tr>\n    <tr>\n      <th>2</th>\n      <td>Shin-Soo Choo</td>\n      <td>DH</td>\n      <td>31.4</td>\n      <td>L</td>\n      <td>L</td>\n      <td>CIN</td>\n      <td>TEX</td>\n      <td>7</td>\n      <td>$130,000,000</td>\n      <td>$18,571,429</td>\n      <td>...</td>\n      <td>NaN</td>\n      <td>NaN</td>\n      <td>0.0</td>\n      <td>NaN</td>\n      <td>0</td>\n      <td>0.178</td>\n      <td>0.257</td>\n      <td>NaN</td>\n      <td>NaN</td>\n      <td>NaN</td>\n    </tr>\n    <tr>\n      <th>3</th>\n      <td>Brian McCann</td>\n      <td>C</td>\n      <td>29.8</td>\n      <td>L</td>\n      <td>R</td>\n      <td>ATL</td>\n      <td>NYY</td>\n      <td>5</td>\n      <td>$85,000,000</td>\n      <td>$17,000,000</td>\n      <td>...</td>\n      <td>NaN</td>\n      <td>NaN</td>\n      <td>0.0</td>\n      <td>NaN</td>\n      <td>0</td>\n      <td>0.184</td>\n      <td>0.245</td>\n      <td>NaN</td>\n      <td>NaN</td>\n      <td>NaN</td>\n    </tr>\n    <tr>\n      <th>4</th>\n      <td>Curtis Granderson</td>\n      <td>LF</td>\n      <td>32.7</td>\n      <td>L</td>\n      <td>R</td>\n      <td>NYY</td>\n      <td>NYM</td>\n      <td>4</td>\n      <td>$60,000,000</td>\n      <td>$15,000,000</td>\n      <td>...</td>\n      <td>NaN</td>\n      <td>NaN</td>\n      <td>0.0</td>\n      <td>NaN</td>\n      <td>0</td>\n      <td>0.182</td>\n      <td>0.318</td>\n      <td>NaN</td>\n      <td>NaN</td>\n      <td>NaN</td>\n    </tr>\n    <tr>\n      <th>...</th>\n      <td>...</td>\n      <td>...</td>\n      <td>...</td>\n      <td>...</td>\n      <td>...</td>\n      <td>...</td>\n      <td>...</td>\n      <td>...</td>\n      <td>...</td>\n      <td>...</td>\n      <td>...</td>\n      <td>...</td>\n      <td>...</td>\n      <td>...</td>\n      <td>...</td>\n      <td>...</td>\n      <td>...</td>\n      <td>...</td>\n      <td>...</td>\n      <td>...</td>\n      <td>...</td>\n    </tr>\n    <tr>\n      <th>481</th>\n      <td>Chris Heisey</td>\n      <td>LF</td>\n      <td>31.8</td>\n      <td>R</td>\n      <td>R</td>\n      <td>WSH</td>\n      <td>WSH</td>\n      <td>1</td>\n      <td>$1,400,000</td>\n      <td>$1,400,000</td>\n      <td>...</td>\n      <td>0.083</td>\n      <td>110.3</td>\n      <td>26.0</td>\n      <td>0.271</td>\n      <td>96</td>\n      <td>0.209</td>\n      <td>0.314</td>\n      <td>NaN</td>\n      <td>NaN</td>\n      <td>NaN</td>\n    </tr>\n    <tr>\n      <th>482</th>\n      <td>Adam Rosales</td>\n      <td>2B</td>\n      <td>33.7</td>\n      <td>R</td>\n      <td>R</td>\n      <td>SD</td>\n      <td>OAK</td>\n      <td>1</td>\n      <td>$1,250,000</td>\n      <td>$1,250,000</td>\n      <td>...</td>\n      <td>0.108</td>\n      <td>109.7</td>\n      <td>51.0</td>\n      <td>0.392</td>\n      <td>130</td>\n      <td>0.177</td>\n      <td>0.324</td>\n      <td>NaN</td>\n      <td>NaN</td>\n      <td>NaN</td>\n    </tr>\n    <tr>\n      <th>483</th>\n      <td>Alexi Amarista</td>\n      <td>SS</td>\n      <td>27.7</td>\n      <td>L</td>\n      <td>R</td>\n      <td>SD</td>\n      <td>COL</td>\n      <td>1</td>\n      <td>$1,250,000</td>\n      <td>$1,250,000</td>\n      <td>...</td>\n      <td>0.009</td>\n      <td>103.5</td>\n      <td>28.0</td>\n      <td>0.241</td>\n      <td>116</td>\n      <td>0.197</td>\n      <td>0.268</td>\n      <td>NaN</td>\n      <td>NaN</td>\n      <td>NaN</td>\n    </tr>\n    <tr>\n      <th>484</th>\n      <td>Derek Norris</td>\n      <td>C</td>\n      <td>28.1</td>\n      <td>R</td>\n      <td>R</td>\n      <td>WSH</td>\n      <td>TB</td>\n      <td>1</td>\n      <td>$1,200,000</td>\n      <td>$1,200,000</td>\n      <td>...</td>\n      <td>0.047</td>\n      <td>109.0</td>\n      <td>91.0</td>\n      <td>0.326</td>\n      <td>279</td>\n      <td>0.183</td>\n      <td>0.294</td>\n      <td>NaN</td>\n      <td>NaN</td>\n      <td>NaN</td>\n    </tr>\n    <tr>\n      <th>485</th>\n      <td>Danny Espinosa</td>\n      <td>SS</td>\n      <td>30.2</td>\n      <td>S</td>\n      <td>R</td>\n      <td>LAA</td>\n      <td>SEA</td>\n      <td>1</td>\n      <td>$535,000</td>\n      <td>$535,000</td>\n      <td>...</td>\n      <td>0.082</td>\n      <td>112.2</td>\n      <td>118.0</td>\n      <td>0.334</td>\n      <td>353</td>\n      <td>0.135</td>\n      <td>0.284</td>\n      <td>NaN</td>\n      <td>NaN</td>\n      <td>NaN</td>\n    </tr>\n  </tbody>\n</table>\n<p>486 rows × 329 columns</p>\n</div>"
     },
     "metadata": {}
    }
   ]
  },
  {
   "cell_type": "code",
   "metadata": {
    "tags": [],
    "cell_id": "00006-38c78e67-4b5c-4667-9508-233dfb9f3656",
    "deepnote_to_be_reexecuted": false,
    "source_hash": "107ba449",
    "execution_start": 1641856688193,
    "execution_millis": 2525302090,
    "deepnote_cell_type": "code"
   },
   "source": "# Cleaning salary data\ntotal_fa[\"AAV\"] = [float(x.replace(\",\",\"\").replace(\"$\", \"\")) for x in total_fa[\"AAV\"]]",
   "execution_count": null,
   "outputs": []
  },
  {
   "cell_type": "code",
   "metadata": {
    "tags": [],
    "cell_id": "00007-ecef4857-b836-4abe-b682-2d13b2da176c",
    "deepnote_to_be_reexecuted": false,
    "source_hash": "223cc0c7",
    "execution_start": 1641856688203,
    "execution_millis": 2525302090,
    "deepnote_output_heights": [
     232.25
    ],
    "deepnote_cell_type": "code"
   },
   "source": "total_fa[\"AAV\"]",
   "execution_count": null,
   "outputs": [
    {
     "output_type": "execute_result",
     "execution_count": 6,
     "data": {
      "text/plain": "0      24000000.0\n1      21857143.0\n2      18571429.0\n3      17000000.0\n4      15000000.0\n          ...    \n481     1400000.0\n482     1250000.0\n483     1250000.0\n484     1200000.0\n485      535000.0\nName: AAV, Length: 486, dtype: float64"
     },
     "metadata": {}
    }
   ]
  },
  {
   "cell_type": "markdown",
   "source": "# Initial Linear Regression\n\nOur first step was to develop a preliminary regression model based entirely upon the statistic of\nwins above replacement, or WAR, to set a baseline for our players' worth. In baseball, WAR is\nfundamentally the most important statistic for evaluating a player’s worth by determining how\nmany wins he is worth to the team more than a replacement player, which in the case of the\nMLB, is a minor league talent or a readily available free agent. The calculation for WAR takes\ninto account many different player efficiency metrics to provide a comprehensive value that\nindicates how many additional wins a team would have with this player in the lineup. We will\nuse WAR as our baseline statistic because winning is definitively the most effective way to\ndetermine team success from a financial standpoint. Winning teams engage fans to a greater\nextent, sell more tickets and merchandise, receive more viewership on large networks, and get to\nplay in playoffs games and contend for a championship. Of course, there are other factors in\ndetermining a team’s relative earnings like market size and history, but from a general manager’s\nperspective alone, building a winning team is the best way to ensure revenue",
   "metadata": {
    "tags": [],
    "cell_id": "00005-332619b1-0bec-4c23-9c50-61cfa964461c",
    "deepnote_cell_type": "markdown"
   }
  },
  {
   "cell_type": "code",
   "metadata": {
    "tags": [],
    "cell_id": "00012-56e28618-2275-4407-bb29-290b03fd7834",
    "deepnote_to_be_reexecuted": false,
    "source_hash": "e7e2368b",
    "execution_start": 1641856688249,
    "execution_millis": 2525302085,
    "deepnote_cell_type": "code"
   },
   "source": "datatotal = total_fa[[\"WAR\", \"Season\"]].values\ntargettotal = total_fa[\"AAV\"].values\n\nlinear_modeltotal = LinearRegression()\nlinear_modeltotal.fit(X = datatotal, y = targettotal)\n\ntotal_fa[\"predicted_AAV\"] = abs(linear_modeltotal.predict(datatotal))\n\nr2 = r2_score(total_fa[\"AAV\"].values, total_fa[\"predicted_AAV\"].values)\nmse = mean_squared_error(total_fa[\"AAV\"].values, total_fa[\"predicted_AAV\"].values)\n\nprint(\"r2 value: \", r2)\nprint(\"mse: \", mse)",
   "execution_count": null,
   "outputs": [
    {
     "name": "stdout",
     "text": "r2 value:  0.5913674154259216\nmse:  12760052180573.506\n",
     "output_type": "stream",
     "data": {}
    }
   ]
  },
  {
   "cell_type": "markdown",
   "source": "### Visualizing the correlation of our data",
   "metadata": {
    "tags": [],
    "cell_id": "00010-201c62fe-4e4e-47a8-b4b9-d2410919e3d9",
    "deepnote_cell_type": "markdown"
   }
  },
  {
   "cell_type": "code",
   "metadata": {
    "tags": [],
    "cell_id": "00007-33c48694-8ada-4bba-8c3b-31e2d10ae10d",
    "deepnote_to_be_reexecuted": false,
    "source_hash": "2d2da544",
    "execution_start": 1641856688250,
    "execution_millis": 848,
    "deepnote_output_heights": [
     359
    ],
    "deepnote_cell_type": "code"
   },
   "source": "import matplotlib.pyplot as plt\n\ng = sns.relplot(data=total_fa, x=\"WAR\", y=\"AAV\", ci=None)\ng.set(ylim=(0, 3e7))\nplt.title(\"WAR vs. AAV\")\nplt.savefig('first_model.png')",
   "execution_count": null,
   "outputs": [
    {
     "data": {
      "text/plain": "<Figure size 360x360 with 1 Axes>",
      "image/png": "[encoded data removed]"
     },
     "metadata": {
      "needs_background": "light",
      "image/png": {
       "width": 352,
       "height": 357
      }
     },
     "output_type": "display_data"
    }
   ]
  },
  {
   "cell_type": "markdown",
   "source": "# Hypothesis Tests and Visualizations\n\nIn addition to WAR, we wanted to see which stats cause players to be paid more than their on field value. For example, although home runs are very valuable in baseball, they also bring in a lot of revenue because fans love watching home runs. Therefore, we predicted that players who are overvalued (actual salary received is greater than the predicted salary from our WAR model) would tend to hit more home runs than players that are undervalued. We created hypothesis tests and visualizations to analyze relationships like this one for a few stats or characteristics of players to decide what other stats we should use in order to improve our model.",
   "metadata": {
    "tags": [],
    "cell_id": "00008-68f05b4d-dd12-460c-879a-a9ebf3c9b43e",
    "deepnote_cell_type": "markdown"
   }
  },
  {
   "cell_type": "code",
   "metadata": {
    "tags": [],
    "cell_id": "00012-60232e43-f052-4009-a44a-8bba00bc9537",
    "deepnote_to_be_reexecuted": false,
    "source_hash": "591e1b5",
    "execution_start": 1641856689133,
    "execution_millis": 532,
    "deepnote_output_heights": [
     370
    ],
    "deepnote_cell_type": "code"
   },
   "source": "# Grouping by data that had too low of a prediction vs two high of a prediction\n\ntotal_fa[\"overvalued\"] = total_fa[\"predicted_AAV\"]<total_fa[\"AAV\"]\n\n#actualsalary_greater = total_fa[total_fa[\"predicted_AAV\"]<total_fa[\"AAV\"]]\n#actualsalary_less = total_fa[total_fa[\"predicted_AAV\"]>total_fa[\"AAV\"]]\nsns.catplot(x=\"overvalued\", y=\"HR\", data = total_fa, color=\"salmon\", kind=\"box\")\nplt.title(\"Home Runs vs. Value\")\nplt.savefig(\"hrvsvalue.png\", bbox_inches=\"tight\")",
   "execution_count": null,
   "outputs": [
    {
     "data": {
      "text/plain": "<Figure size 360x360 with 1 Axes>",
      "image/png": "[encoded data removed]"
     },
     "metadata": {
      "needs_background": "light",
      "image/png": {
       "width": 352,
       "height": 368
      }
     },
     "output_type": "display_data"
    }
   ]
  },
  {
   "cell_type": "code",
   "metadata": {
    "tags": [],
    "cell_id": "00013-fbb5a731-a7fc-49a9-86d5-0430ffc5a512",
    "deepnote_to_be_reexecuted": false,
    "source_hash": "63aec8bb",
    "execution_start": 1641856689681,
    "execution_millis": 779,
    "deepnote_output_heights": [
     359
    ],
    "deepnote_cell_type": "code"
   },
   "source": "total_fa[\"prediction_difference\"] = total_fa[\"AAV\"] - total_fa[\"predicted_AAV\"]\ntotal_fa[\"age_range\"] = [\"27-\" if x <= 27 else \"28-30\" if x <= 30 else \"31-33\" if x <= 33 else \"34+\" for x in total_fa[\"Age_y\"]]\n\nsns.catplot(x=\"age_range\", y=\"prediction_difference\", data = total_fa, color=\"salmon\", kind=\"box\", order= [\"27-\", \"28-30\", \"31-33\", \"34+\"])\ntotal_fa[\"prediction_difference\"] = total_fa[\"AAV\"] - total_fa[\"predicted_AAV\"]\nplt.title(\"Age vs. Predicted Value Difference\")\nplt.savefig(\"value2.png\", bbox_inches=\"tight\")",
   "execution_count": null,
   "outputs": [
    {
     "data": {
      "text/plain": "<Figure size 360x360 with 1 Axes>",
      "image/png": "[encoded data removed]"
     },
     "metadata": {
      "needs_background": "light",
      "image/png": {
       "width": 352,
       "height": 357
      }
     },
     "output_type": "display_data"
    }
   ]
  },
  {
   "cell_type": "code",
   "metadata": {
    "tags": [],
    "cell_id": "00011-82733b9a-411f-4d3f-90ef-c1204b881af1",
    "deepnote_to_be_reexecuted": false,
    "source_hash": "95a4fb2c",
    "execution_start": 1641856690284,
    "execution_millis": 1450,
    "deepnote_output_heights": [
     354,
     404
    ],
    "deepnote_cell_type": "code"
   },
   "source": "grouped_posdict = {\n    \"RF\" : \"OF\",\n    \"CF\" : \"OF\",\n    \"LF\" : \"OF\",\n    \"1B\" : \"Corner Infield\",\n    \"3B\" : \"Corner Infield\",\n    \"2B\" : \"Middle Infield\",\n    \"SS\" : \"Middle Infield\",\n    \"C\" : \"C\",\n    \"OF\" : \"OF\",\n    \"DH\" : \"DH\"\n}\ntotal_fa[\"grouped_pos\"] = total_fa['Pos_x'].apply(lambda x: grouped_posdict[x])\nsns.catplot(x=\"Pos_x\", y=\"prediction_difference\", data = total_fa, color=\"salmon\", kind=\"box\")\nsns.catplot(x=\"grouped_pos\", y=\"prediction_difference\", data = total_fa, color=\"salmon\", kind=\"box\")\nplt.xticks(rotation=45)\nplt.title(\"Position vs. Predicted Value Difference\")\nplt.savefig(\"value3.png\", bbox_inches=\"tight\")",
   "execution_count": null,
   "outputs": [
    {
     "data": {
      "text/plain": "<Figure size 360x360 with 1 Axes>",
      "image/png": "[encoded data removed]"
     },
     "metadata": {
      "needs_background": "light",
      "image/png": {
       "width": 352,
       "height": 352
      }
     },
     "output_type": "display_data"
    },
    {
     "data": {
      "text/plain": "<Figure size 360x360 with 1 Axes>",
      "image/png": "[encoded data removed]"
     },
     "metadata": {
      "needs_background": "light",
      "image/png": {
       "width": 349,
       "height": 402
      }
     },
     "output_type": "display_data"
    }
   ]
  },
  {
   "cell_type": "code",
   "metadata": {
    "tags": [],
    "cell_id": "00010-111e74c5-2577-444b-a7cc-a90836a4d2b6",
    "deepnote_to_be_reexecuted": false,
    "source_hash": "ee7d9fec",
    "execution_start": 1641856691748,
    "execution_millis": 489,
    "deepnote_output_heights": [
     359
    ],
    "deepnote_cell_type": "code"
   },
   "source": "hittingside_fa = total_fa[(total_fa['Bats']=='L') | (total_fa['Bats']=='R')]\n\nsns.catplot(x=\"Bats\", y=\"prediction_difference\", data = hittingside_fa, color=\"salmon\", kind=\"box\")\nplt.title(\"Handedness vs. Predicted Value Difference\")\nplt.savefig(\"value4.png\", bbox_inches=\"tight\")",
   "execution_count": null,
   "outputs": [
    {
     "data": {
      "text/plain": "<Figure size 360x360 with 1 Axes>",
      "image/png": "[encoded data removed]"
     },
     "metadata": {
      "needs_background": "light",
      "image/png": {
       "width": 352,
       "height": 357
      }
     },
     "output_type": "display_data"
    }
   ]
  },
  {
   "cell_type": "markdown",
   "source": "### Hypothesis Tests for our Visualizations",
   "metadata": {
    "tags": [],
    "cell_id": "00017-09aad092-e746-4c16-8984-ec756bf2d550",
    "deepnote_cell_type": "markdown"
   }
  },
  {
   "cell_type": "code",
   "metadata": {
    "tags": [],
    "cell_id": "00014-4cc67a88-062b-4f41-9ff9-59701490fabc",
    "deepnote_to_be_reexecuted": false,
    "source_hash": "ac42f9a6",
    "execution_start": 1641856692251,
    "execution_millis": 9,
    "deepnote_cell_type": "code"
   },
   "source": "overvaluedHR = total_fa[total_fa['overvalued']==True][\"HR\"]\nundervaluedHR = total_fa[total_fa['overvalued']==False][\"HR\"]\nhrsig = stats.ttest_ind(overvaluedHR,undervaluedHR)\n\nprint(hrsig[1])",
   "execution_count": null,
   "outputs": [
    {
     "name": "stdout",
     "text": "1.06119603637964e-06\n",
     "output_type": "stream",
     "data": {}
    }
   ]
  },
  {
   "cell_type": "code",
   "metadata": {
    "tags": [],
    "cell_id": "00012-d7b0c587-9004-4e1f-895f-00239c089920",
    "deepnote_to_be_reexecuted": false,
    "source_hash": "9311f47b",
    "execution_start": 1641856692262,
    "execution_millis": 13,
    "deepnote_cell_type": "code"
   },
   "source": "batsLeft = total_fa[total_fa['Bats']==\"L\"][\"prediction_difference\"]\nbatsRight = total_fa[total_fa['Bats']==\"R\"][\"prediction_difference\"]\nbatssig = stats.ttest_ind(batsLeft,batsRight)\n\nprint(batssig[1])",
   "execution_count": null,
   "outputs": [
    {
     "name": "stdout",
     "text": "0.37561406186183977\n",
     "output_type": "stream",
     "data": {}
    }
   ]
  },
  {
   "cell_type": "code",
   "metadata": {
    "tags": [],
    "cell_id": "00014-a0416a53-a03f-4f22-9153-56bfd81fca4a",
    "deepnote_to_be_reexecuted": false,
    "source_hash": "450cfd98",
    "execution_start": 1641856692287,
    "execution_millis": 0,
    "deepnote_cell_type": "code"
   },
   "source": "overvaluedAge = total_fa[total_fa['overvalued']==True][\"Age_y\"]\nundervaluedAge = total_fa[total_fa['overvalued']==False][\"Age_y\"]\nagesig = stats.ttest_ind(overvaluedAge,undervaluedAge)\n\nprint(agesig[1])\n\nprint(overvaluedAge.mean())\nprint(undervaluedAge.mean())",
   "execution_count": null,
   "outputs": [
    {
     "name": "stdout",
     "text": "0.004311832788069054\n31.00526315789474\n31.81756756756757\n",
     "output_type": "stream",
     "data": {}
    }
   ]
  },
  {
   "cell_type": "code",
   "metadata": {
    "tags": [],
    "cell_id": "00019-3366ce88-a311-495b-8005-883876c5e186",
    "deepnote_to_be_reexecuted": false,
    "source_hash": "29d24877",
    "execution_start": 1641856692337,
    "execution_millis": 13,
    "deepnote_cell_type": "code"
   },
   "source": "overvaluedRBI = total_fa[total_fa['overvalued']==True][\"RBI\"]\nundervaluedRBI = total_fa[total_fa['overvalued']==False][\"RBI\"]\nrbisig = stats.ttest_ind(overvaluedRBI,undervaluedRBI)\n\nprint(rbisig[1])",
   "execution_count": null,
   "outputs": [
    {
     "name": "stdout",
     "text": "1.1611658969271791e-08\n",
     "output_type": "stream",
     "data": {}
    }
   ]
  },
  {
   "cell_type": "markdown",
   "source": "# Final Prediction Model\n\nUsing our hypothesis tests and visualizations above, we decided to use home runs, RBIs, age, and position in addition to WAR to improve out model. These stats all had a significant difference in overvalued and undervalued players. Therefore, below we create a second linear regression with an improved r^2 value.",
   "metadata": {
    "tags": [],
    "cell_id": "00014-988cca90-2797-4a80-aafd-f6662fe7b226",
    "deepnote_cell_type": "markdown"
   }
  },
  {
   "cell_type": "code",
   "metadata": {
    "tags": [],
    "cell_id": "00014-c5b84a33-fd93-486b-af49-ce956c0ef25d",
    "deepnote_to_be_reexecuted": false,
    "source_hash": "8eab0ac2",
    "execution_start": 1641856692339,
    "execution_millis": 12,
    "deepnote_cell_type": "code"
   },
   "source": "from sklearn.preprocessing import OneHotEncoder\n\nOHE = OneHotEncoder().fit_transform(total_fa[[\"grouped_pos\"]]).toarray()\ndatafinal = total_fa[[\"WAR\", \"HR\", \"RBI\", \"Age_y\"]].values\ndatafinal = np.concatenate((datafinal,OHE),axis=1)\n\ntargetfinal = total_fa[\"AAV\"].values\n\nlinear_modelfinal = LinearRegression()\nlinear_modelfinal.fit(X = datafinal, y = targetfinal)\n\ntotal_fa[\"predicted_AAV\"] = abs(linear_modelfinal.predict(datafinal))\n\nr2final = r2_score(total_fa[\"AAV\"].values, total_fa[\"predicted_AAV\"].values)\nmsefinal = mean_squared_error(total_fa[\"AAV\"].values, total_fa[\"predicted_AAV\"].values)\n\nprint(\"r2 value: \", r2final)\nprint(\"mse: \", msefinal)",
   "execution_count": null,
   "outputs": [
    {
     "name": "stdout",
     "text": "r2 value:  0.6641524003617575\nmse:  10487252015330.793\n",
     "output_type": "stream",
     "data": {}
    }
   ]
  },
  {
   "cell_type": "markdown",
   "source": "### Grouping data by if over/undervalued",
   "metadata": {
    "tags": [],
    "cell_id": "00024-51255b4b-048b-47fa-a6ac-b7755fa9514b",
    "deepnote_cell_type": "markdown"
   }
  },
  {
   "cell_type": "code",
   "metadata": {
    "tags": [],
    "cell_id": "00023-e72d66be-a021-4166-b674-e429ad5bc01e",
    "deepnote_to_be_reexecuted": false,
    "source_hash": "b2039afc",
    "execution_start": 1641856780805,
    "execution_millis": 1,
    "deepnote_output_heights": [
     230
    ],
    "deepnote_cell_type": "code"
   },
   "source": "conditions = [abs((total_fa[\"predicted_AAV\"]-total_fa[\"AAV\"])/total_fa[\"AAV\"])<=.3,\ntotal_fa[\"predicted_AAV\"]<total_fa[\"AAV\"],\ntotal_fa[\"predicted_AAV\"]>total_fa[\"AAV\"]]\n\nchoices = [\"Properly Valued\", \"Overvalued\", \"Undervalued\"]\ntotal_fa[\"value\"] = np.select(conditions, choices, default=\"Undervalued\")",
   "execution_count": null,
   "outputs": []
  },
  {
   "cell_type": "markdown",
   "source": "### Final Model to Predict General Whether a player is overvalued, properly valued, or undervalued\n\nBecause there is a great deal of variation in professional baseball contracts due to outside factors like ticket sales, jersey sales, et cetera, we decided to have our model generally predict if a player would be overvalued, undervalued, or properly valued (within 30% of the actual salary) based on our WAR model. ",
   "metadata": {
    "tags": [],
    "cell_id": "00026-fb47c86c-a8ae-4900-ba09-61479d3ba287",
    "deepnote_cell_type": "markdown"
   }
  },
  {
   "cell_type": "code",
   "metadata": {
    "tags": [],
    "cell_id": "00022-81a84d4a-fc2e-460b-bd07-fb7665ddc423",
    "deepnote_to_be_reexecuted": false,
    "source_hash": "34d12bc",
    "execution_start": 1641856782219,
    "execution_millis": 1216,
    "deepnote_cell_type": "code"
   },
   "source": "from sklearn.model_selection import cross_validate\nfrom sklearn.model_selection import GridSearchCV\nfrom sklearn.neighbors import KNeighborsClassifier\nfrom sklearn.model_selection import train_test_split\n\nOHE = OneHotEncoder().fit_transform(total_fa[[\"grouped_pos\"]]).toarray()\ndata = total_fa[[\"HR\", \"RBI\", \"Age_y\", \"WAR\"]]\ndata = np.concatenate((data,OHE),axis=1)\n\ntarget = total_fa[\"value\"]\ntrain_data, test_data, train_target, test_target = train_test_split(data, target, test_size=0.3, random_state=210)\n\nkn_search = GridSearchCV(estimator=KNeighborsClassifier(), param_grid={\"n_neighbors\": range(1,30)})\nkn_search.fit(train_data, train_target)\nn = kn_search.best_params_[\"n_neighbors\"]\nscore = kn_search.score(test_data, test_target)\n\nmsescore = mean_squared_error(total_fa[\"AAV\"].values, total_fa[\"predicted_AAV\"].values)\nprint(\"Nearest Neighbors\", n)\nprint(\"Accuracy Score: \", score)",
   "execution_count": null,
   "outputs": [
    {
     "name": "stdout",
     "text": "Nearest Neighbors 25\nAccuracy Score:  0.5205479452054794\n",
     "output_type": "stream",
     "data": {}
    }
   ]
  },
  {
   "cell_type": "code",
   "metadata": {
    "tags": [],
    "cell_id": "00024-3518c358-d4b0-4c2e-8cc1-4945c5caffff",
    "deepnote_to_be_reexecuted": false,
    "source_hash": "1e61b666",
    "execution_start": 1641856796682,
    "execution_millis": 349,
    "deepnote_output_heights": [
     null,
     264
    ],
    "deepnote_cell_type": "code"
   },
   "source": "plot_confusion_matrix(kn_search, test_data, test_target)\n\nplt.grid(False)",
   "execution_count": null,
   "outputs": [
    {
     "name": "stderr",
     "text": "/shared-libs/python3.7/py/lib/python3.7/site-packages/sklearn/utils/deprecation.py:87: FutureWarning: Function plot_confusion_matrix is deprecated; Function `plot_confusion_matrix` is deprecated in 1.0 and will be removed in 1.2. Use one of the class methods: ConfusionMatrixDisplay.from_predictions or ConfusionMatrixDisplay.from_estimator.\n  warnings.warn(msg, category=FutureWarning)\n",
     "output_type": "stream",
     "data": {}
    },
    {
     "data": {
      "text/plain": "<Figure size 432x288 with 2 Axes>",
      "image/png": "[encoded data removed]"
     },
     "metadata": {
      "needs_background": "light",
      "image/png": {
       "width": 378,
       "height": 262
      }
     },
     "output_type": "display_data"
    }
   ]
  },
  {
   "cell_type": "markdown",
   "source": "## Short Final Analysis\n\nAlthough not perfect with a 52% accuracy score, our model performs much better than random guessing which would only receive an accuracy score of 33%. Therefore, we were able to achieve some success from our analysis and work, but there are clearly many other factors that influence a players payment in addition to their batting statistics. In order to improve our model, we could analyze fielding statistics along with information on how they affect the revenue of a franchise. We believe that these factors would allow us to greatly improve our model.",
   "metadata": {
    "tags": [],
    "cell_id": "00031-72ff851c-31c8-4595-a8d0-f4cd0c309094",
    "deepnote_cell_type": "markdown"
   }
  },
  {
   "cell_type": "code",
   "metadata": {
    "tags": [],
    "cell_id": "00031-8fbbbd18-3afc-4132-8bf2-2d3e083a5463",
    "deepnote_cell_type": "code"
   },
   "source": "",
   "execution_count": null,
   "outputs": []
  },
  {
   "cell_type": "markdown",
   "source": "<a style='text-decoration:none;line-height:16px;display:flex;color:#5B5B62;padding:10px;justify-content:end;' href='https://deepnote.com?utm_source=created-in-deepnote-cell&projectId=cad5b7ea-502f-42d1-8761-40c4dfdd22eb' target=\"_blank\">\n<img alt='Created in deepnote.com' style='display:inline;max-height:16px;margin:0px;margin-right:7.5px;' src='data:image/svg+xml;base64,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' > </img>\nCreated in <span style='font-weight:600;margin-left:4px;'>Deepnote</span></a>",
   "metadata": {
    "tags": [],
    "created_in_deepnote_cell": true,
    "deepnote_cell_type": "markdown"
   }
  }
 ],
 "nbformat": 4,
 "nbformat_minor": 2,
 "metadata": {
  "orig_nbformat": 2,
  "deepnote": {
   "is_reactive": false
  },
  "deepnote_notebook_id": "5087fddc-e264-41e1-b420-dea0cd44176e",
  "deepnote_execution_queue": []
 }
}